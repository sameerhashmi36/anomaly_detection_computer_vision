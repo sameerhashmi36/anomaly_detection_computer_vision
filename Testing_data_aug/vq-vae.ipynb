{
 "cells": [
  {
   "cell_type": "code",
   "execution_count": 1,
   "metadata": {},
   "outputs": [],
   "source": [
    "import torch\n",
    "import torch.nn as nn\n",
    "import torch.nn.functional as F\n",
    "import torch.optim as optim\n",
    "from torchvision import datasets, transforms\n",
    "from torch.utils.data import DataLoader, Dataset\n",
    "import numpy as np\n",
    "from tqdm import tqdm\n",
    "import matplotlib.pyplot as plt\n",
    "import random\n",
    "from PIL import Image\n",
    "\n",
    "device = torch.device('cuda')"
   ]
  },
  {
   "cell_type": "code",
   "execution_count": 2,
   "metadata": {},
   "outputs": [],
   "source": [
    "class CIFAR100CustomDataset(Dataset):\n",
    "    def __init__(self, root, train=True, transform=None):\n",
    "        # Load the CIFAR-100 dataset\n",
    "        self.data = datasets.CIFAR100(root=root, train=train, download=True)\n",
    "        self.transform = transform\n",
    "\n",
    "    def __len__(self):\n",
    "        # Return the total number of samples in the dataset\n",
    "        return len(self.data)\n",
    "\n",
    "    def __getitem__(self, idx):\n",
    "        # Get an image and its label\n",
    "        img, label = self.data[idx]\n",
    "\n",
    "        # Apply the transformations if provided\n",
    "        if self.transform:\n",
    "            img = self.transform(img)\n",
    "\n",
    "        return img, label"
   ]
  },
  {
   "cell_type": "code",
   "execution_count": 3,
   "metadata": {},
   "outputs": [],
   "source": [
    "transform = transforms.Compose([\n",
    "    # transforms.Resize((64, 64)),  # Resize to 64x64 for VQ-VAE input\n",
    "    transforms.ToTensor(),          # Convert to tensor\n",
    "    transforms.Normalize((0.5, 0.5, 0.5), (0.5, 0.5, 0.5))  # Normalize\n",
    "])"
   ]
  },
  {
   "cell_type": "code",
   "execution_count": 4,
   "metadata": {},
   "outputs": [
    {
     "name": "stdout",
     "output_type": "stream",
     "text": [
      "Files already downloaded and verified\n",
      "Files already downloaded and verified\n"
     ]
    }
   ],
   "source": [
    "train_dataset = CIFAR100CustomDataset(root='./data', train=True, transform=transform)\n",
    "test_dataset = CIFAR100CustomDataset(root='./data', train=False, transform=transform)"
   ]
  },
  {
   "cell_type": "code",
   "execution_count": 5,
   "metadata": {},
   "outputs": [],
   "source": [
    "train_loader = torch.utils.data.DataLoader(train_dataset, batch_size=64, shuffle=True)\n",
    "val_loader = torch.utils.data.DataLoader(test_dataset, batch_size=64, shuffle=False)"
   ]
  },
  {
   "cell_type": "code",
   "execution_count": 6,
   "metadata": {},
   "outputs": [],
   "source": [
    "data_iter = iter(train_loader)\n",
    "images, labels = next(data_iter)"
   ]
  },
  {
   "cell_type": "code",
   "execution_count": 7,
   "metadata": {},
   "outputs": [
    {
     "data": {
      "image/png": "[encoded data removed]",
      "text/plain": [
       "<Figure size 640x480 with 1 Axes>"
      ]
     },
     "metadata": {},
     "output_type": "display_data"
    }
   ],
   "source": [
    "def show_single_image(image, label):\n",
    "    plt.imshow(image.permute(1, 2, 0) * 0.5 + 0.5)  # Unnormalize and permute to HWC\n",
    "    plt.title(label)\n",
    "    plt.axis('off')\n",
    "    plt.show()\n",
    "\n",
    "show_single_image(images[10], labels[10])"
   ]
  },
  {
   "cell_type": "code",
   "execution_count": 8,
   "metadata": {},
   "outputs": [],
   "source": [
    "# class VQVAE(nn.Module):\n",
    "#     def __init__(self, num_embeddings, embedding_dim):\n",
    "#         super(VQVAE, self).__init__()\n",
    "        \n",
    "#         # Encoder\n",
    "#         self.encoder = nn.Sequential(\n",
    "#             nn.Conv2d(3, 64, kernel_size=4, stride=2, padding=1),  # [64, 64, 32, 32]\n",
    "#             nn.ReLU(),\n",
    "#             nn.Conv2d(64, 128, kernel_size=4, stride=2, padding=1),  # [64, 128, 16, 16]\n",
    "#             nn.ReLU(),\n",
    "#             nn.Conv2d(128, 256, kernel_size=4, stride=2, padding=1),  # [64, 256, 8, 8]\n",
    "#             nn.ReLU(),\n",
    "#             nn.Conv2d(256, embedding_dim, kernel_size=1)  # Final Layer: [batch_size, embedding_dim, 8, 8]\n",
    "#         )\n",
    "        \n",
    "#         self.embeddings = nn.Embedding(num_embeddings, embedding_dim)\n",
    "        \n",
    "#          # Decoder\n",
    "#         self.decoder = nn.Sequential(\n",
    "#             nn.ConvTranspose2d(embedding_dim, 256, kernel_size=4, stride=2, padding=1),  # [64, 256, 16, 16]\n",
    "#             nn.ReLU(),\n",
    "#             nn.ConvTranspose2d(256, 128, kernel_size=4, stride=2, padding=1),  # [64, 128, 32, 32]\n",
    "#             nn.ReLU(),\n",
    "#             nn.ConvTranspose2d(128, 64, kernel_size=4, stride=2, padding=1),  # [64, 64, 64, 64]\n",
    "#             nn.ReLU(),\n",
    "#             nn.ConvTranspose2d(64, 3, kernel_size=1)  # Output Layer: [batch_size, 3, 64, 64]\n",
    "#         )\n",
    "\n",
    "#     def forward(self, x):\n",
    "#         # Encoder output\n",
    "#         z_e = self.encoder(x)  # Shape: [batch_size, embedding_dim, 8, 8]\n",
    "#         print(f'z_e shape: {z_e.shape}')\n",
    "\n",
    "#         # Flatten the encoder output\n",
    "#         z_e_flattened = z_e.view(z_e.size(0), z_e.size(1), -1)  # Shape: [batch_size, embedding_dim, 64]\n",
    "#         print(f'z_e_flattened shape: {z_e_flattened.shape}')\n",
    "\n",
    "#         # Quantization\n",
    "#         distances = (z_e_flattened.unsqueeze(2) - self.embeddings.weight.unsqueeze(0)).pow(2).sum(1)\n",
    "#         encoding_indices = torch.argmin(distances, dim=2)\n",
    "\n",
    "#         z_q = self.embeddings(encoding_indices)  # Shape: [batch_size, height * width, embedding_dim]\n",
    "#         z_q = z_q.permute(0, 2, 1).view(z_e.size(0), z_e.size(1), z_e.size(2)*z_e.size(2), z_e.size(3))  # Shape: [batch_size, embedding_dim, 8, 8]\n",
    "#         print(f'z_q shape after reshaping: {z_q.shape}')\n",
    "\n",
    "#         # Decoder\n",
    "#         reconstructed = self.decoder(z_q)  # Shape: [batch_size, 3, 64, 64]\n",
    "#         print(f'reconstructed shape: {reconstructed.shape}')\n",
    "\n",
    "#         return z_e, z_q, reconstructed"
   ]
  },
  {
   "cell_type": "code",
   "execution_count": 8,
   "metadata": {},
   "outputs": [],
   "source": [
    "class Decoder(nn.Module):\n",
    "    def __init__(self):\n",
    "        super(Decoder, self).__init__()\n",
    "        self.decoder_layers = nn.Sequential(\n",
    "            nn.ConvTranspose2d(64, 32, kernel_size=4, stride=2, padding=1),  # Upsample from 8x8 to 16x16\n",
    "            nn.ReLU(),\n",
    "            nn.ConvTranspose2d(32, 16, kernel_size=4, stride=2, padding=1),  # Upsample from 16x16 to 32x32\n",
    "            nn.ReLU(),\n",
    "            nn.ConvTranspose2d(16, 3, kernel_size=4, stride=2, padding=1),   # Upsample from 32x32 to 64x64\n",
    "            nn.Sigmoid()  # Output in range [0, 1] for images\n",
    "        )\n",
    "\n",
    "    def forward(self, z_q):\n",
    "        # Reshape z_q to match the input size expected by the decoder\n",
    "        # z_q will be of shape [batch_size, 64, 64] before reshaping\n",
    "        z_q = z_q.view(z_q.size(0), 64, 8, 8)  # Reshape back to 8x8 before feeding to the decoder\n",
    "        \n",
    "        # Pass through decoder layers\n",
    "        reconstructed = self.decoder_layers(z_q)\n",
    "        return reconstructed\n",
    "\n",
    "\n",
    "class VQVAE(nn.Module):\n",
    "    def __init__(self, num_embeddings=512, embedding_dim=64):\n",
    "        super(VQVAE, self).__init__()\n",
    "        \n",
    "        # Encoder\n",
    "        self.encoder = nn.Sequential(\n",
    "            nn.Conv2d(3, 32, kernel_size=4, stride=2, padding=1),  # Output: [32, 32, 32]\n",
    "            nn.ReLU(),\n",
    "            nn.Conv2d(32, 64, kernel_size=4, stride=2, padding=1),  # Output: [64, 16, 16]\n",
    "            nn.ReLU(),\n",
    "            nn.Conv2d(64, 64, kernel_size=4, stride=2, padding=1)   # Output: [64, 8, 8]\n",
    "        )\n",
    "\n",
    "        # Embeddings\n",
    "        self.embeddings = nn.Embedding(num_embeddings, embedding_dim)\n",
    "        self.embedding_dim = embedding_dim\n",
    "        self.num_embeddings = num_embeddings\n",
    "        \n",
    "        # Decoder using the Decoder class\n",
    "        self.decoder = Decoder()\n",
    "\n",
    "    def forward(self, x):\n",
    "        # Encoder output\n",
    "        z_e = self.encoder(x)  # Shape: [batch_size, 64, 8, 8]\n",
    "        print(f'z_e shape: {z_e.shape}')\n",
    "        \n",
    "        # Flatten the encoder output\n",
    "        z_e_flattened = z_e.view(z_e.size(0), z_e.size(1), -1)  # Shape: [batch_size, 64, 64]\n",
    "        print(f'z_e_flattened shape: {z_e_flattened.shape}')\n",
    "\n",
    "        # Reshape embeddings to compare with z_e_flattened for distances calculation\n",
    "        # z_e_flattened: [batch_size, embedding_dim, height*width] -> [batch_size, embedding_dim, flattened size]\n",
    "        # embeddings.weight: [num_embeddings, embedding_dim] -> [1, num_embeddings, embedding_dim]\n",
    "        z_e_flattened = z_e_flattened.permute(0, 2, 1)  # Shape: [batch_size, 64, embedding_dim]\n",
    "        \n",
    "        distances = (z_e_flattened.unsqueeze(2) - self.embeddings.weight.unsqueeze(0)).pow(2).sum(3)  # Shape: [batch_size, 64, num_embeddings]\n",
    "        encoding_indices = torch.argmin(distances, dim=2)  # Find closest embedding\n",
    "        print(f'distances shape: {distances.shape}')\n",
    "        print(f'encoding_indices shape: {encoding_indices.shape}')\n",
    "\n",
    "        # Retrieve the quantized latent vectors (z_q) from the embeddings\n",
    "        z_q = self.embeddings(encoding_indices)\n",
    "        print(f'z_q shape: {z_q.shape}')  # Shape: [batch_size, height * width, embedding_dim]\n",
    "\n",
    "        # Reshape to match encoder dimensions for decoder\n",
    "        z_q = z_q.permute(0, 2, 1)  # Shape: [batch_size, 64, 512]\n",
    "        z_q = z_q.view(z_e.size(0), z_e.size(1), z_e.size(2), z_e.size(3))  # Reshaped for decoder input\n",
    "        \n",
    "        print(f'z_q shape after reshaping: {z_q.shape}')  # Output: [batch_size, 64, 8, 8]\n",
    "\n",
    "        # Decoder\n",
    "        reconstructed = self.decoder(z_q)  # Should match input image size\n",
    "        print(f'reconstructed shape: {reconstructed.shape}')  # Output: [batch_size, 3, 64, 64]\n",
    "\n",
    "        return z_e, z_q, reconstructed  # Return encoded, quantized, and reconstructed representations"
   ]
  },
  {
   "cell_type": "code",
   "execution_count": 9,
   "metadata": {},
   "outputs": [],
   "source": [
    "model = VQVAE(num_embeddings=512, embedding_dim=64)\n",
    "optimizer = optim.Adam(model.parameters(), lr=0.0001)"
   ]
  },
  {
   "cell_type": "code",
   "execution_count": 10,
   "metadata": {},
   "outputs": [
    {
     "data": {
      "text/plain": [
       "VQVAE(\n",
       "  (encoder): Sequential(\n",
       "    (0): Conv2d(3, 32, kernel_size=(4, 4), stride=(2, 2), padding=(1, 1))\n",
       "    (1): ReLU()\n",
       "    (2): Conv2d(32, 64, kernel_size=(4, 4), stride=(2, 2), padding=(1, 1))\n",
       "    (3): ReLU()\n",
       "    (4): Conv2d(64, 64, kernel_size=(4, 4), stride=(2, 2), padding=(1, 1))\n",
       "  )\n",
       "  (embeddings): Embedding(512, 64)\n",
       "  (decoder): Decoder(\n",
       "    (decoder_layers): Sequential(\n",
       "      (0): ConvTranspose2d(64, 32, kernel_size=(4, 4), stride=(2, 2), padding=(1, 1))\n",
       "      (1): ReLU()\n",
       "      (2): ConvTranspose2d(32, 16, kernel_size=(4, 4), stride=(2, 2), padding=(1, 1))\n",
       "      (3): ReLU()\n",
       "      (4): ConvTranspose2d(16, 3, kernel_size=(4, 4), stride=(2, 2), padding=(1, 1))\n",
       "      (5): Sigmoid()\n",
       "    )\n",
       "  )\n",
       ")"
      ]
     },
     "execution_count": 10,
     "metadata": {},
     "output_type": "execute_result"
    }
   ],
   "source": [
    "model.to(device)"
   ]
  },
  {
   "cell_type": "code",
   "execution_count": 11,
   "metadata": {},
   "outputs": [
    {
     "name": "stderr",
     "output_type": "stream",
     "text": [
      "Epoch 1/50 (VQ-VAE):   0%|          | 0/782 [00:00<?, ?it/s]"
     ]
    },
    {
     "name": "stdout",
     "output_type": "stream",
     "text": [
      "z_e shape: torch.Size([64, 64, 4, 4])\n",
      "z_e_flattened shape: torch.Size([64, 64, 16])\n",
      "distances shape: torch.Size([64, 16, 512])\n",
      "encoding_indices shape: torch.Size([64, 16])\n"
     ]
    },
    {
     "name": "stderr",
     "output_type": "stream",
     "text": [
      "Epoch 1/50 (VQ-VAE):   0%|          | 0/782 [00:01<?, ?it/s]"
     ]
    },
    {
     "name": "stdout",
     "output_type": "stream",
     "text": [
      "z_q shape: torch.Size([64, 16, 64])\n",
      "z_q shape after reshaping: torch.Size([64, 64, 4, 4])\n"
     ]
    },
    {
     "name": "stderr",
     "output_type": "stream",
     "text": [
      "\n"
     ]
    },
    {
     "ename": "RuntimeError",
     "evalue": "shape '[64, 64, 8, 8]' is invalid for input of size 65536",
     "output_type": "error",
     "traceback": [
      "\u001b[0;31m---------------------------------------------------------------------------\u001b[0m",
      "\u001b[0;31mRuntimeError\u001b[0m                              Traceback (most recent call last)",
      "Cell \u001b[0;32mIn[11], line 19\u001b[0m\n\u001b[1;32m     16\u001b[0m images, labels \u001b[38;5;241m=\u001b[39m images\u001b[38;5;241m.\u001b[39mto(device), labels\u001b[38;5;241m.\u001b[39mto(device)\n\u001b[1;32m     18\u001b[0m \u001b[38;5;66;03m# Forward pass\u001b[39;00m\n\u001b[0;32m---> 19\u001b[0m z_e, z_q, reconstructed \u001b[38;5;241m=\u001b[39m \u001b[43mmodel\u001b[49m\u001b[43m(\u001b[49m\u001b[43mimages\u001b[49m\u001b[43m)\u001b[49m  \u001b[38;5;66;03m# Get encoded, quantized, and reconstructed outputs\u001b[39;00m\n\u001b[1;32m     21\u001b[0m \u001b[38;5;66;03m# Calculate loss\u001b[39;00m\n\u001b[1;32m     22\u001b[0m \u001b[38;5;66;03m# 1. Reconstruction loss (MSE loss between input images and reconstructed images)\u001b[39;00m\n\u001b[1;32m     23\u001b[0m reconstruction_loss \u001b[38;5;241m=\u001b[39m F\u001b[38;5;241m.\u001b[39mmse_loss(reconstructed, images) \n",
      "File \u001b[0;32m~/miniconda3/envs/test/lib/python3.10/site-packages/torch/nn/modules/module.py:1518\u001b[0m, in \u001b[0;36mModule._wrapped_call_impl\u001b[0;34m(self, *args, **kwargs)\u001b[0m\n\u001b[1;32m   1516\u001b[0m     \u001b[38;5;28;01mreturn\u001b[39;00m \u001b[38;5;28mself\u001b[39m\u001b[38;5;241m.\u001b[39m_compiled_call_impl(\u001b[38;5;241m*\u001b[39margs, \u001b[38;5;241m*\u001b[39m\u001b[38;5;241m*\u001b[39mkwargs)  \u001b[38;5;66;03m# type: ignore[misc]\u001b[39;00m\n\u001b[1;32m   1517\u001b[0m \u001b[38;5;28;01melse\u001b[39;00m:\n\u001b[0;32m-> 1518\u001b[0m     \u001b[38;5;28;01mreturn\u001b[39;00m \u001b[38;5;28;43mself\u001b[39;49m\u001b[38;5;241;43m.\u001b[39;49m\u001b[43m_call_impl\u001b[49m\u001b[43m(\u001b[49m\u001b[38;5;241;43m*\u001b[39;49m\u001b[43margs\u001b[49m\u001b[43m,\u001b[49m\u001b[43m \u001b[49m\u001b[38;5;241;43m*\u001b[39;49m\u001b[38;5;241;43m*\u001b[39;49m\u001b[43mkwargs\u001b[49m\u001b[43m)\u001b[49m\n",
      "File \u001b[0;32m~/miniconda3/envs/test/lib/python3.10/site-packages/torch/nn/modules/module.py:1527\u001b[0m, in \u001b[0;36mModule._call_impl\u001b[0;34m(self, *args, **kwargs)\u001b[0m\n\u001b[1;32m   1522\u001b[0m \u001b[38;5;66;03m# If we don't have any hooks, we want to skip the rest of the logic in\u001b[39;00m\n\u001b[1;32m   1523\u001b[0m \u001b[38;5;66;03m# this function, and just call forward.\u001b[39;00m\n\u001b[1;32m   1524\u001b[0m \u001b[38;5;28;01mif\u001b[39;00m \u001b[38;5;129;01mnot\u001b[39;00m (\u001b[38;5;28mself\u001b[39m\u001b[38;5;241m.\u001b[39m_backward_hooks \u001b[38;5;129;01mor\u001b[39;00m \u001b[38;5;28mself\u001b[39m\u001b[38;5;241m.\u001b[39m_backward_pre_hooks \u001b[38;5;129;01mor\u001b[39;00m \u001b[38;5;28mself\u001b[39m\u001b[38;5;241m.\u001b[39m_forward_hooks \u001b[38;5;129;01mor\u001b[39;00m \u001b[38;5;28mself\u001b[39m\u001b[38;5;241m.\u001b[39m_forward_pre_hooks\n\u001b[1;32m   1525\u001b[0m         \u001b[38;5;129;01mor\u001b[39;00m _global_backward_pre_hooks \u001b[38;5;129;01mor\u001b[39;00m _global_backward_hooks\n\u001b[1;32m   1526\u001b[0m         \u001b[38;5;129;01mor\u001b[39;00m _global_forward_hooks \u001b[38;5;129;01mor\u001b[39;00m _global_forward_pre_hooks):\n\u001b[0;32m-> 1527\u001b[0m     \u001b[38;5;28;01mreturn\u001b[39;00m \u001b[43mforward_call\u001b[49m\u001b[43m(\u001b[49m\u001b[38;5;241;43m*\u001b[39;49m\u001b[43margs\u001b[49m\u001b[43m,\u001b[49m\u001b[43m \u001b[49m\u001b[38;5;241;43m*\u001b[39;49m\u001b[38;5;241;43m*\u001b[39;49m\u001b[43mkwargs\u001b[49m\u001b[43m)\u001b[49m\n\u001b[1;32m   1529\u001b[0m \u001b[38;5;28;01mtry\u001b[39;00m:\n\u001b[1;32m   1530\u001b[0m     result \u001b[38;5;241m=\u001b[39m \u001b[38;5;28;01mNone\u001b[39;00m\n",
      "Cell \u001b[0;32mIn[8], line 74\u001b[0m, in \u001b[0;36mVQVAE.forward\u001b[0;34m(self, x)\u001b[0m\n\u001b[1;32m     71\u001b[0m \u001b[38;5;28mprint\u001b[39m(\u001b[38;5;124mf\u001b[39m\u001b[38;5;124m'\u001b[39m\u001b[38;5;124mz_q shape after reshaping: \u001b[39m\u001b[38;5;132;01m{\u001b[39;00mz_q\u001b[38;5;241m.\u001b[39mshape\u001b[38;5;132;01m}\u001b[39;00m\u001b[38;5;124m'\u001b[39m)  \u001b[38;5;66;03m# Output: [batch_size, 64, 8, 8]\u001b[39;00m\n\u001b[1;32m     73\u001b[0m \u001b[38;5;66;03m# Decoder\u001b[39;00m\n\u001b[0;32m---> 74\u001b[0m reconstructed \u001b[38;5;241m=\u001b[39m \u001b[38;5;28;43mself\u001b[39;49m\u001b[38;5;241;43m.\u001b[39;49m\u001b[43mdecoder\u001b[49m\u001b[43m(\u001b[49m\u001b[43mz_q\u001b[49m\u001b[43m)\u001b[49m  \u001b[38;5;66;03m# Should match input image size\u001b[39;00m\n\u001b[1;32m     75\u001b[0m \u001b[38;5;28mprint\u001b[39m(\u001b[38;5;124mf\u001b[39m\u001b[38;5;124m'\u001b[39m\u001b[38;5;124mreconstructed shape: \u001b[39m\u001b[38;5;132;01m{\u001b[39;00mreconstructed\u001b[38;5;241m.\u001b[39mshape\u001b[38;5;132;01m}\u001b[39;00m\u001b[38;5;124m'\u001b[39m)  \u001b[38;5;66;03m# Output: [batch_size, 3, 64, 64]\u001b[39;00m\n\u001b[1;32m     77\u001b[0m \u001b[38;5;28;01mreturn\u001b[39;00m z_e, z_q, reconstructed\n",
      "File \u001b[0;32m~/miniconda3/envs/test/lib/python3.10/site-packages/torch/nn/modules/module.py:1518\u001b[0m, in \u001b[0;36mModule._wrapped_call_impl\u001b[0;34m(self, *args, **kwargs)\u001b[0m\n\u001b[1;32m   1516\u001b[0m     \u001b[38;5;28;01mreturn\u001b[39;00m \u001b[38;5;28mself\u001b[39m\u001b[38;5;241m.\u001b[39m_compiled_call_impl(\u001b[38;5;241m*\u001b[39margs, \u001b[38;5;241m*\u001b[39m\u001b[38;5;241m*\u001b[39mkwargs)  \u001b[38;5;66;03m# type: ignore[misc]\u001b[39;00m\n\u001b[1;32m   1517\u001b[0m \u001b[38;5;28;01melse\u001b[39;00m:\n\u001b[0;32m-> 1518\u001b[0m     \u001b[38;5;28;01mreturn\u001b[39;00m \u001b[38;5;28;43mself\u001b[39;49m\u001b[38;5;241;43m.\u001b[39;49m\u001b[43m_call_impl\u001b[49m\u001b[43m(\u001b[49m\u001b[38;5;241;43m*\u001b[39;49m\u001b[43margs\u001b[49m\u001b[43m,\u001b[49m\u001b[43m \u001b[49m\u001b[38;5;241;43m*\u001b[39;49m\u001b[38;5;241;43m*\u001b[39;49m\u001b[43mkwargs\u001b[49m\u001b[43m)\u001b[49m\n",
      "File \u001b[0;32m~/miniconda3/envs/test/lib/python3.10/site-packages/torch/nn/modules/module.py:1527\u001b[0m, in \u001b[0;36mModule._call_impl\u001b[0;34m(self, *args, **kwargs)\u001b[0m\n\u001b[1;32m   1522\u001b[0m \u001b[38;5;66;03m# If we don't have any hooks, we want to skip the rest of the logic in\u001b[39;00m\n\u001b[1;32m   1523\u001b[0m \u001b[38;5;66;03m# this function, and just call forward.\u001b[39;00m\n\u001b[1;32m   1524\u001b[0m \u001b[38;5;28;01mif\u001b[39;00m \u001b[38;5;129;01mnot\u001b[39;00m (\u001b[38;5;28mself\u001b[39m\u001b[38;5;241m.\u001b[39m_backward_hooks \u001b[38;5;129;01mor\u001b[39;00m \u001b[38;5;28mself\u001b[39m\u001b[38;5;241m.\u001b[39m_backward_pre_hooks \u001b[38;5;129;01mor\u001b[39;00m \u001b[38;5;28mself\u001b[39m\u001b[38;5;241m.\u001b[39m_forward_hooks \u001b[38;5;129;01mor\u001b[39;00m \u001b[38;5;28mself\u001b[39m\u001b[38;5;241m.\u001b[39m_forward_pre_hooks\n\u001b[1;32m   1525\u001b[0m         \u001b[38;5;129;01mor\u001b[39;00m _global_backward_pre_hooks \u001b[38;5;129;01mor\u001b[39;00m _global_backward_hooks\n\u001b[1;32m   1526\u001b[0m         \u001b[38;5;129;01mor\u001b[39;00m _global_forward_hooks \u001b[38;5;129;01mor\u001b[39;00m _global_forward_pre_hooks):\n\u001b[0;32m-> 1527\u001b[0m     \u001b[38;5;28;01mreturn\u001b[39;00m \u001b[43mforward_call\u001b[49m\u001b[43m(\u001b[49m\u001b[38;5;241;43m*\u001b[39;49m\u001b[43margs\u001b[49m\u001b[43m,\u001b[49m\u001b[43m \u001b[49m\u001b[38;5;241;43m*\u001b[39;49m\u001b[38;5;241;43m*\u001b[39;49m\u001b[43mkwargs\u001b[49m\u001b[43m)\u001b[49m\n\u001b[1;32m   1529\u001b[0m \u001b[38;5;28;01mtry\u001b[39;00m:\n\u001b[1;32m   1530\u001b[0m     result \u001b[38;5;241m=\u001b[39m \u001b[38;5;28;01mNone\u001b[39;00m\n",
      "Cell \u001b[0;32mIn[8], line 16\u001b[0m, in \u001b[0;36mDecoder.forward\u001b[0;34m(self, z_q)\u001b[0m\n\u001b[1;32m     13\u001b[0m \u001b[38;5;28;01mdef\u001b[39;00m \u001b[38;5;21mforward\u001b[39m(\u001b[38;5;28mself\u001b[39m, z_q):\n\u001b[1;32m     14\u001b[0m     \u001b[38;5;66;03m# Reshape z_q to match the input size expected by the decoder\u001b[39;00m\n\u001b[1;32m     15\u001b[0m     \u001b[38;5;66;03m# z_q will be of shape [batch_size, 64, 64] before reshaping\u001b[39;00m\n\u001b[0;32m---> 16\u001b[0m     z_q \u001b[38;5;241m=\u001b[39m \u001b[43mz_q\u001b[49m\u001b[38;5;241;43m.\u001b[39;49m\u001b[43mview\u001b[49m\u001b[43m(\u001b[49m\u001b[43mz_q\u001b[49m\u001b[38;5;241;43m.\u001b[39;49m\u001b[43msize\u001b[49m\u001b[43m(\u001b[49m\u001b[38;5;241;43m0\u001b[39;49m\u001b[43m)\u001b[49m\u001b[43m,\u001b[49m\u001b[43m \u001b[49m\u001b[38;5;241;43m64\u001b[39;49m\u001b[43m,\u001b[49m\u001b[43m \u001b[49m\u001b[38;5;241;43m8\u001b[39;49m\u001b[43m,\u001b[49m\u001b[43m \u001b[49m\u001b[38;5;241;43m8\u001b[39;49m\u001b[43m)\u001b[49m  \u001b[38;5;66;03m# Reshape back to 8x8 before feeding to the decoder\u001b[39;00m\n\u001b[1;32m     18\u001b[0m     \u001b[38;5;66;03m# Pass through decoder layers\u001b[39;00m\n\u001b[1;32m     19\u001b[0m     reconstructed \u001b[38;5;241m=\u001b[39m \u001b[38;5;28mself\u001b[39m\u001b[38;5;241m.\u001b[39mdecoder_layers(z_q)\n",
      "\u001b[0;31mRuntimeError\u001b[0m: shape '[64, 64, 8, 8]' is invalid for input of size 65536"
     ]
    }
   ],
   "source": [
    "# List to store loss values for plotting\n",
    "loss_values = []\n",
    "val_loss_values = []\n",
    "\n",
    "# Variable initialization to store the best validation loss\n",
    "best_val_loss = float('inf')\n",
    "\n",
    "for epoch in range(50):\n",
    "    model.train()  # Model in training mode\n",
    "    total_loss = 0\n",
    "    \n",
    "    # TQDM progress bar\n",
    "    progress_bar = tqdm(train_loader, desc=f\"Epoch {epoch+1}/50 (VQ-VAE)\")\n",
    "    \n",
    "    for images, labels in progress_bar:\n",
    "        images, labels = images.to(device), labels.to(device)\n",
    "        \n",
    "        # Forward pass\n",
    "        z_e, z_q, reconstructed = model(images)  # Get encoded, quantized, and reconstructed outputs\n",
    "        \n",
    "        # Calculate loss\n",
    "        # 1. Reconstruction loss (MSE loss between input images and reconstructed images)\n",
    "        reconstruction_loss = F.mse_loss(reconstructed, images) \n",
    "        \n",
    "        # 2. Commitment loss (VQ loss)\n",
    "        commitment_loss = F.mse_loss(z_e.detach(), z_q) + F.mse_loss(z_e, z_q.detach())\n",
    "\n",
    "        # Total loss\n",
    "        loss = reconstruction_loss + commitment_loss\n",
    "        \n",
    "        # Backward pass and optimize\n",
    "        optimizer.zero_grad()\n",
    "        loss.backward()\n",
    "        optimizer.step()\n",
    "        \n",
    "        total_loss += loss.item()\n",
    "        \n",
    "        # Update TQDM progress bar with the current loss\n",
    "        progress_bar.set_postfix(loss=loss.item())\n",
    "    \n",
    "    # Calculate the average loss for this epoch\n",
    "    avg_loss = total_loss / len(train_loader)\n",
    "    loss_values.append(avg_loss)\n",
    "    \n",
    "    # Print the average loss for the current epoch\n",
    "    print(f\"Epoch [{epoch+1}/50], Avg Loss: {avg_loss:.4f}\")\n",
    "    \n",
    "    # --- Validation loop ---\n",
    "    model.eval()  # Set the model to evaluation mode\n",
    "    total_val_loss = 0\n",
    "    \n",
    "    with torch.no_grad():  # Disable gradient calculations during validation\n",
    "        for val_images, val_labels in val_loader:\n",
    "            val_images, val_labels = val_images.to(device), val_labels.to(device)\n",
    "            \n",
    "            # Forward pass\n",
    "            val_z_e, val_z_q, val_reconstructed = model(val_images)\n",
    "            \n",
    "            # Calculate validation loss\n",
    "            val_reconstruction_loss = F.mse_loss(val_reconstructed, val_images) \n",
    "            val_commitment_loss = F.mse_loss(val_z_e.detach(), val_z_q) + F.mse_loss(val_z_e, val_z_q.detach())\n",
    "            val_loss = val_reconstruction_loss + val_commitment_loss\n",
    "            \n",
    "            total_val_loss += val_loss.item()\n",
    "    \n",
    "    # Calculate the average validation loss for this epoch\n",
    "    avg_val_loss = total_val_loss / len(val_loader)\n",
    "    val_loss_values.append(avg_val_loss)\n",
    "\n",
    "    # Print the average validation loss for the current epoch\n",
    "    print(f\"Epoch [{epoch+1}/50], Avg Validation Loss: {avg_val_loss:.4f}\")\n",
    "    \n",
    "    # --- Model selection based on validation loss ---\n",
    "    if avg_val_loss < best_val_loss and (epoch+1) % 5 == 0:\n",
    "        best_val_loss = avg_val_loss\n",
    "        print(f\"Validation loss improved. Saving the best model at epoch {epoch+1}.\")\n",
    "        torch.save(model.state_dict(), f'model_vqvae_cifar100/best_model_epoch_{epoch+1}.pth')\n"
   ]
  },
  {
   "cell_type": "markdown",
   "metadata": {},
   "source": []
  },
  {
   "cell_type": "code",
   "execution_count": null,
   "metadata": {},
   "outputs": [],
   "source": []
  },
  {
   "cell_type": "code",
   "execution_count": null,
   "metadata": {},
   "outputs": [],
   "source": []
  }
 ],
 "metadata": {
  "kernelspec": {
   "display_name": "test",
   "language": "python",
   "name": "python3"
  },
  "language_info": {
   "codemirror_mode": {
    "name": "ipython",
    "version": 3
   },
   "file_extension": ".py",
   "mimetype": "text/x-python",
   "name": "python",
   "nbconvert_exporter": "python",
   "pygments_lexer": "ipython3",
   "version": "3.10.13"
  }
 },
 "nbformat": 4,
 "nbformat_minor": 2
}
