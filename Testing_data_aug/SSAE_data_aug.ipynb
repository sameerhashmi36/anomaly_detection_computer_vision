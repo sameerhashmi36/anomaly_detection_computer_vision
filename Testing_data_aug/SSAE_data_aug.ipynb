{
 "cells": [
  {
   "cell_type": "code",
   "execution_count": 1,
   "metadata": {},
   "outputs": [],
   "source": [
    "import torch\n",
    "import torch.nn as nn\n",
    "import torch.nn.functional as F\n",
    "import torch.optim as optim\n",
    "from torchvision import datasets, transforms\n",
    "from torch.utils.data import DataLoader, Dataset\n",
    "import numpy as np\n",
    "from tqdm import tqdm\n",
    "import matplotlib.pyplot as plt\n",
    "import random\n",
    "from PIL import Image\n",
    "\n",
    "device = torch.device('cuda')"
   ]
  },
  {
   "cell_type": "markdown",
   "metadata": {},
   "source": [
    "Random Erasing"
   ]
  },
  {
   "cell_type": "code",
   "execution_count": 2,
   "metadata": {},
   "outputs": [],
   "source": [
    "import random\n",
    "\n",
    "def random_erasing(image, probability=0.5, sl=0.02, sh=0.33, r1=0.3):\n",
    "    \"\"\"\n",
    "    Randomly erases a rectangular region of the image.\n",
    "    \n",
    "    Args:\n",
    "        image (PIL Image or Tensor): The input image.\n",
    "        probability (float): Probability of applying random erasing.\n",
    "        sl (float): Minimum proportion of erased area against the original area.\n",
    "        sh (float): Maximum proportion of erased area against the original area.\n",
    "        r1 (float): Aspect ratio of the erased area.\n",
    "        \n",
    "    Returns:\n",
    "        The modified image with a random erasure applied.\n",
    "    \"\"\"\n",
    "    if random.random() > probability:\n",
    "        return image  # Do nothing if not applying random erasing\n",
    "\n",
    "    # Get dimensions\n",
    "    h, w = image.size if isinstance(image, Image.Image) else image.shape[1:3]\n",
    "    area = h * w\n",
    "\n",
    "    # Calculate the target area of the erasure\n",
    "    target_area = random.uniform(sl, sh) * area\n",
    "    aspect_ratio = random.uniform(r1, 1/r1)\n",
    "\n",
    "    # Calculate the height and width of the rectangle\n",
    "    h_eraser = int(round((target_area * aspect_ratio) ** 0.5))\n",
    "    w_eraser = int(round((target_area / aspect_ratio) ** 0.5))\n",
    "\n",
    "    # Ensure the rectangle fits within the image\n",
    "    if h_eraser > h or w_eraser > w:\n",
    "        return image\n",
    "\n",
    "    # Randomly choose the top left corner of the rectangle\n",
    "    x = random.randint(0, w - w_eraser)\n",
    "    y = random.randint(0, h - h_eraser)\n",
    "\n",
    "    # Create a random erasing mask\n",
    "    if isinstance(image, Image.Image):\n",
    "        # Convert image to numpy array for erasing\n",
    "        image = np.array(image)\n",
    "    else:\n",
    "        image = image.numpy()  # If tensor, convert to numpy\n",
    "\n",
    "    image[y:y + h_eraser, x:x + w_eraser, :] = np.random.randint(0, 256, (h_eraser, w_eraser, 3), dtype=np.uint8)\n",
    "\n",
    "    return image\n"
   ]
  },
  {
   "cell_type": "markdown",
   "metadata": {},
   "source": [
    "Custom dataset class to label T-shirts (class 0) as normal, other classes as abnormal"
   ]
  },
  {
   "cell_type": "code",
   "execution_count": 3,
   "metadata": {},
   "outputs": [],
   "source": [
    "class FashionMNISTCustom(Dataset):\n",
    "    def __init__(self, root='./data', train=True, transform=None, normal_class=0):\n",
    "        \"\"\"\n",
    "            Custom FashionMNIST dataset with normal and abnormal labels.\n",
    "            Normal class will be labeled as 0, all other classes as 1.\n",
    "        \"\"\"\n",
    "        self.dataset = datasets.FashionMNIST(root=root, train=train, download=True)\n",
    "        self.normal_class = normal_class  # Set the normal class (e.g., T-shirts)\n",
    "        self.transform = transform\n",
    "\n",
    "    def __len__(self):\n",
    "        return len(self.dataset)\n",
    "\n",
    "    def __getitem__(self, idx):\n",
    "        img, label = self.dataset[idx]\n",
    "        # Label normal (T-shirt) as 0, abnormal (other) as 1\n",
    "        label = 0 if label == self.normal_class else 1\n",
    "        if self.transform:\n",
    "            img = self.transform(img)\n",
    "        return img, label"
   ]
  },
  {
   "cell_type": "code",
   "execution_count": 4,
   "metadata": {},
   "outputs": [],
   "source": [
    "class Cifar100Custom(Dataset):\n",
    "    def __init__(self, root='./data', train=True, transform=None, normal_class=0):\n",
    "        \"\"\"\n",
    "            Custom Cifar100 dataset with normal and abnormal labels.\n",
    "            Normal class will be labeled as 0, all other classes as 1.\n",
    "            Parameters:\n",
    "            - root: Path to the dataset.\n",
    "            - train: Boolean indicating whether to load the training set (default is True).\n",
    "            - transform: Transformations to be applied to the images (default is None).\n",
    "            - normal_class: Class index to be labeled as normal (default is 0).\n",
    "            - apply_erasing: Boolean indicating whether to apply random erasing (default is False).\n",
    "        \"\"\"\n",
    "        self.dataset = datasets.CIFAR100(root=root, train=train, download=True)\n",
    "        self.normal_class = normal_class  # Set the normal class (e.g., apple)\n",
    "        self.transform = transform\n",
    "\n",
    "    def __len__(self):\n",
    "        return len(self.dataset)\n",
    "\n",
    "    def __getitem__(self, idx):\n",
    "        img, label = self.dataset[idx]\n",
    "        # Label normal (apple) as 0, abnormal (other) as 1\n",
    "        label = 0 if label == self.normal_class else 1\n",
    "\n",
    "        img = random_erasing(img)  # Apply random erasing\n",
    "\n",
    "        if self.transform:\n",
    "            img = self.transform(img)\n",
    "        return img, label"
   ]
  },
  {
   "cell_type": "markdown",
   "metadata": {},
   "source": [
    "SSAE Model Definition"
   ]
  },
  {
   "cell_type": "code",
   "execution_count": 5,
   "metadata": {},
   "outputs": [],
   "source": [
    "class SSAE(nn.Module):\n",
    "    def __init__(self):\n",
    "        super(SSAE, self).__init__()\n",
    "        # Encoder network: compresses image to 64 dimensions\n",
    "        self.encoder = nn.Sequential(\n",
    "            nn.Linear(32*32*3, 256),  # Input layer (32*32 image size)\n",
    "            nn.ReLU(),\n",
    "            nn.Linear(256, 128),\n",
    "            nn.ReLU(),\n",
    "            nn.Linear(128, 64)\n",
    "        )\n",
    "        # Decoder network: reconstructs the image from 64 dimensions\n",
    "        self.decoder = nn.Sequential(\n",
    "            nn.Linear(64, 128),\n",
    "            nn.ReLU(),\n",
    "            nn.Linear(128, 256),\n",
    "            nn.ReLU(),\n",
    "            nn.Linear(256, 32*32*3),\n",
    "            nn.Sigmoid()  # Sigmoid to ensure pixel values are between 0 and 1\n",
    "        )\n",
    "\n",
    "    def forward(self, x):\n",
    "        # flatten the input image\n",
    "        x = x.view(x.size(0), -1) # (BS, ch, w, h) -> (BS, ch*w*h)\n",
    "        # Forward pass through encoder and decoder\n",
    "        x = self.encoder(x)\n",
    "        x = self.decoder(x)\n",
    "\n",
    "        # reshape the image again to (BS, ch, w, h)\n",
    "        x = x.view(x.size(0), 3, 32, 32)\n",
    "\n",
    "        return x\n",
    "    \n",
    "    def semi_supervised_loss(self, inputs, outputs, labels, margin=0.2):\n",
    "\n",
    "        # Flatten the inputs and outputs for loss calculation\n",
    "        inputs = inputs.view(inputs.size(0), -1)\n",
    "        outputs = outputs.view(outputs.size(0), -1)\n",
    "\n",
    "        # Standard reconstruction loss (Mean Squared Error)\n",
    "        reconstruction_loss = F.mse_loss(outputs, inputs, reduction='none').mean(dim=1)\n",
    "\n",
    "        # Separate normal and abnormal samples\n",
    "        abnormal = labels > 0  # True for abnormal samples\n",
    "\n",
    "        # Calculate additional abnormal loss\n",
    "        abnormal_loss = reconstruction_loss[abnormal].mean() if abnormal.any() else torch.tensor(0.0)\n",
    "\n",
    "        # Combine normal reconstruction loss and abnormal loss\n",
    "        return reconstruction_loss.mean() + abnormal_loss"
   ]
  },
  {
   "cell_type": "markdown",
   "metadata": {},
   "source": [
    "Data preparation"
   ]
  },
  {
   "cell_type": "code",
   "execution_count": 6,
   "metadata": {},
   "outputs": [
    {
     "name": "stdout",
     "output_type": "stream",
     "text": [
      "Files already downloaded and verified\n",
      "Files already downloaded and verified\n"
     ]
    }
   ],
   "source": [
    "transform = transforms.Compose([transforms.ToTensor(),\n",
    "                                # Normalization according to CIFAR-100 mean and std\n",
    "                                transforms.Normalize((0.5071, 0.4867, 0.4408), (0.2675, 0.2565, 0.2761))])\n",
    "train_dataset = Cifar100Custom(train=True, transform=transform, normal_class=0)  # apple as normal\n",
    "train_loader = DataLoader(train_dataset, batch_size=64, shuffle=True)\n",
    "val_dataset = Cifar100Custom(train=False, transform=transform, normal_class=0)\n",
    "val_loader = DataLoader(val_dataset, batch_size=64, shuffle=False)"
   ]
  },
  {
   "cell_type": "markdown",
   "metadata": {},
   "source": [
    "View samples from the dataset with labels (Normal: 0, Abnormal: 1)"
   ]
  },
  {
   "cell_type": "code",
   "execution_count": 7,
   "metadata": {},
   "outputs": [],
   "source": [
    "def show_samples(dataset, num_samples=5):\n",
    "    fig, axes = plt.subplots(1, num_samples, figsize=(15, 3))\n",
    "\n",
    "    for i in range(num_samples):\n",
    "        img, label = dataset[i]  # Get image and label\n",
    "        \n",
    "        # Convert tensor to numpy array for displaying\n",
    "        if isinstance(img, torch.Tensor):\n",
    "            # img = img.numpy().squeeze()  # Convert to numpy and squeeze to remove extra dimensions\n",
    "\n",
    "             img = img.permute(1, 2, 0).numpy()  # Convert to (H, W, C) format\n",
    "\n",
    "        axes[i].imshow(img, cmap='gray')  # Display the image\n",
    "        axes[i].set_title(f\"Label: {'Normal' if label == 0 else 'Abnormal'}\")\n",
    "        axes[i].axis('off')\n",
    "    \n",
    "    plt.show()"
   ]
  },
  {
   "cell_type": "code",
   "execution_count": 8,
   "metadata": {},
   "outputs": [
    {
     "name": "stdout",
     "output_type": "stream",
     "text": [
      "Files already downloaded and verified\n",
      "Total number of samples in the dataset: 50000\n"
     ]
    },
    {
     "data": {
      "image/png": "[encoded data removed]",
      "text/plain": [
       "<Figure size 1500x300 with 5 Axes>"
      ]
     },
     "metadata": {},
     "output_type": "display_data"
    }
   ],
   "source": [
    "# Dataset with T-shirts (class 0) as normal and others as abnormal\n",
    "train_dataset = Cifar100Custom(train=True, transform=transforms.ToTensor(), normal_class=0)\n",
    "\n",
    "# Check the length of the dataset\n",
    "print(f\"Total number of samples in the dataset: {len(train_dataset)}\")\n",
    "\n",
    "# Show a few samples with their labels\n",
    "show_samples(train_dataset, num_samples=5)"
   ]
  },
  {
   "cell_type": "code",
   "execution_count": 9,
   "metadata": {},
   "outputs": [],
   "source": [
    "# def visualize_random_erasing(dataset, num_samples=5):\n",
    "#     fig, axes = plt.subplots(2, num_samples, figsize=(15, 6))\n",
    "    \n",
    "#     for i in range(num_samples):\n",
    "#         img, label = dataset[i]\n",
    "        \n",
    "#         # Convert to numpy for visualization (CHW to HWC)\n",
    "#         img = img.permute(1, 2, 0).numpy()\n",
    "        \n",
    "#         # Show original image\n",
    "#         axes[0, i].imshow((img * 255).astype(np.uint8))  # Denormalize\n",
    "#         axes[0, i].set_title(f\"Original: {label}\")\n",
    "#         axes[0, i].axis('off')\n",
    "\n",
    "#         # Apply random erasing\n",
    "#         erased_img = random_erasing(img.copy())\n",
    "        \n",
    "#         # Show image with random erasing\n",
    "#         axes[1, i].imshow(erased_img.astype(np.uint8))\n",
    "#         axes[1, i].set_title(\"With Random Erasing\")\n",
    "#         axes[1, i].axis('off')\n",
    "\n",
    "#     plt.show()\n",
    "\n",
    "# # Visualize 5 random samples from the dataset\n",
    "# visualize_random_erasing(train_dataset, num_samples=5)"
   ]
  },
  {
   "cell_type": "code",
   "execution_count": 10,
   "metadata": {},
   "outputs": [],
   "source": [
    "model = SSAE()\n",
    "optimizer = optim.Adam(model.parameters(), lr=0.0001)"
   ]
  },
  {
   "cell_type": "code",
   "execution_count": 11,
   "metadata": {},
   "outputs": [],
   "source": [
    "device = torch.device('cuda')"
   ]
  },
  {
   "cell_type": "code",
   "execution_count": 12,
   "metadata": {},
   "outputs": [
    {
     "data": {
      "text/plain": [
       "SSAE(\n",
       "  (encoder): Sequential(\n",
       "    (0): Linear(in_features=3072, out_features=256, bias=True)\n",
       "    (1): ReLU()\n",
       "    (2): Linear(in_features=256, out_features=128, bias=True)\n",
       "    (3): ReLU()\n",
       "    (4): Linear(in_features=128, out_features=64, bias=True)\n",
       "  )\n",
       "  (decoder): Sequential(\n",
       "    (0): Linear(in_features=64, out_features=128, bias=True)\n",
       "    (1): ReLU()\n",
       "    (2): Linear(in_features=128, out_features=256, bias=True)\n",
       "    (3): ReLU()\n",
       "    (4): Linear(in_features=256, out_features=3072, bias=True)\n",
       "    (5): Sigmoid()\n",
       "  )\n",
       ")"
      ]
     },
     "execution_count": 12,
     "metadata": {},
     "output_type": "execute_result"
    }
   ],
   "source": [
    "model.to(device)"
   ]
  },
  {
   "cell_type": "markdown",
   "metadata": {},
   "source": [
    "Training loop"
   ]
  },
  {
   "cell_type": "code",
   "execution_count": 13,
   "metadata": {},
   "outputs": [
    {
     "name": "stderr",
     "output_type": "stream",
     "text": [
      "Epoch 1/10 (SSAE): 100%|██████████| 782/782 [00:20<00:00, 37.59it/s, loss=1.61]\n"
     ]
    },
    {
     "name": "stdout",
     "output_type": "stream",
     "text": [
      "Epoch [1/10], Avg Loss: 1.6486\n",
      "Epoch [1/10], Avg Validation Loss: 1.5298\n"
     ]
    },
    {
     "name": "stderr",
     "output_type": "stream",
     "text": [
      "Epoch 2/10 (SSAE): 100%|██████████| 782/782 [00:20<00:00, 39.10it/s, loss=1.5] \n"
     ]
    },
    {
     "name": "stdout",
     "output_type": "stream",
     "text": [
      "Epoch [2/10], Avg Loss: 1.4819\n",
      "Epoch [2/10], Avg Validation Loss: 1.4662\n"
     ]
    },
    {
     "name": "stderr",
     "output_type": "stream",
     "text": [
      "Epoch 3/10 (SSAE): 100%|██████████| 782/782 [00:20<00:00, 37.45it/s, loss=1.41]\n"
     ]
    },
    {
     "name": "stdout",
     "output_type": "stream",
     "text": [
      "Epoch [3/10], Avg Loss: 1.4475\n",
      "Epoch [3/10], Avg Validation Loss: 1.4481\n"
     ]
    },
    {
     "name": "stderr",
     "output_type": "stream",
     "text": [
      "Epoch 4/10 (SSAE): 100%|██████████| 782/782 [00:34<00:00, 22.65it/s, loss=1.42]\n"
     ]
    },
    {
     "name": "stdout",
     "output_type": "stream",
     "text": [
      "Epoch [4/10], Avg Loss: 1.4239\n",
      "Epoch [4/10], Avg Validation Loss: 1.4237\n"
     ]
    },
    {
     "name": "stderr",
     "output_type": "stream",
     "text": [
      "Epoch 5/10 (SSAE): 100%|██████████| 782/782 [00:54<00:00, 14.47it/s, loss=1.45]\n"
     ]
    },
    {
     "name": "stdout",
     "output_type": "stream",
     "text": [
      "Epoch [5/10], Avg Loss: 1.4087\n",
      "Epoch [5/10], Avg Validation Loss: 1.4078\n",
      "Validation loss improved. Saving the best model at epoch 5.\n"
     ]
    },
    {
     "name": "stderr",
     "output_type": "stream",
     "text": [
      "Epoch 6/10 (SSAE): 100%|██████████| 782/782 [00:57<00:00, 13.59it/s, loss=1.25]\n"
     ]
    },
    {
     "name": "stdout",
     "output_type": "stream",
     "text": [
      "Epoch [6/10], Avg Loss: 1.3979\n",
      "Epoch [6/10], Avg Validation Loss: 1.4014\n"
     ]
    },
    {
     "name": "stderr",
     "output_type": "stream",
     "text": [
      "Epoch 7/10 (SSAE): 100%|██████████| 782/782 [01:06<00:00, 11.75it/s, loss=1.04]\n"
     ]
    },
    {
     "name": "stdout",
     "output_type": "stream",
     "text": [
      "Epoch [7/10], Avg Loss: 1.3904\n",
      "Epoch [7/10], Avg Validation Loss: 1.3969\n"
     ]
    },
    {
     "name": "stderr",
     "output_type": "stream",
     "text": [
      "Epoch 8/10 (SSAE): 100%|██████████| 782/782 [01:07<00:00, 11.67it/s, loss=1.4] \n"
     ]
    },
    {
     "name": "stdout",
     "output_type": "stream",
     "text": [
      "Epoch [8/10], Avg Loss: 1.3827\n",
      "Epoch [8/10], Avg Validation Loss: 1.3873\n"
     ]
    },
    {
     "name": "stderr",
     "output_type": "stream",
     "text": [
      "Epoch 9/10 (SSAE): 100%|██████████| 782/782 [01:07<00:00, 11.59it/s, loss=1.54]\n"
     ]
    },
    {
     "name": "stdout",
     "output_type": "stream",
     "text": [
      "Epoch [9/10], Avg Loss: 1.3744\n",
      "Epoch [9/10], Avg Validation Loss: 1.3802\n"
     ]
    },
    {
     "name": "stderr",
     "output_type": "stream",
     "text": [
      "Epoch 10/10 (SSAE): 100%|██████████| 782/782 [01:07<00:00, 11.65it/s, loss=1.53]\n"
     ]
    },
    {
     "name": "stdout",
     "output_type": "stream",
     "text": [
      "Epoch [10/10], Avg Loss: 1.3685\n",
      "Epoch [10/10], Avg Validation Loss: 1.3686\n",
      "Validation loss improved. Saving the best model at epoch 10.\n"
     ]
    },
    {
     "name": "stderr",
     "output_type": "stream",
     "text": [
      "Epoch 11/10 (SSAE): 100%|██████████| 782/782 [00:46<00:00, 16.74it/s, loss=1.49]\n"
     ]
    },
    {
     "name": "stdout",
     "output_type": "stream",
     "text": [
      "Epoch [11/10], Avg Loss: 1.3614\n",
      "Epoch [11/10], Avg Validation Loss: 1.3681\n"
     ]
    },
    {
     "name": "stderr",
     "output_type": "stream",
     "text": [
      "Epoch 12/10 (SSAE): 100%|██████████| 782/782 [00:38<00:00, 20.16it/s, loss=1.64]\n"
     ]
    },
    {
     "name": "stdout",
     "output_type": "stream",
     "text": [
      "Epoch [12/10], Avg Loss: 1.3560\n",
      "Epoch [12/10], Avg Validation Loss: 1.3622\n"
     ]
    },
    {
     "name": "stderr",
     "output_type": "stream",
     "text": [
      "Epoch 13/10 (SSAE): 100%|██████████| 782/782 [00:55<00:00, 14.03it/s, loss=1.22]\n"
     ]
    },
    {
     "name": "stdout",
     "output_type": "stream",
     "text": [
      "Epoch [13/10], Avg Loss: 1.3517\n",
      "Epoch [13/10], Avg Validation Loss: 1.3572\n"
     ]
    },
    {
     "name": "stderr",
     "output_type": "stream",
     "text": [
      "Epoch 14/10 (SSAE): 100%|██████████| 782/782 [00:52<00:00, 14.98it/s, loss=1.57]\n"
     ]
    },
    {
     "name": "stdout",
     "output_type": "stream",
     "text": [
      "Epoch [14/10], Avg Loss: 1.3501\n",
      "Epoch [14/10], Avg Validation Loss: 1.3544\n"
     ]
    },
    {
     "name": "stderr",
     "output_type": "stream",
     "text": [
      "Epoch 15/10 (SSAE): 100%|██████████| 782/782 [00:53<00:00, 14.54it/s, loss=1.16]\n"
     ]
    },
    {
     "name": "stdout",
     "output_type": "stream",
     "text": [
      "Epoch [15/10], Avg Loss: 1.3445\n",
      "Epoch [15/10], Avg Validation Loss: 1.3497\n",
      "Validation loss improved. Saving the best model at epoch 15.\n"
     ]
    },
    {
     "name": "stderr",
     "output_type": "stream",
     "text": [
      "Epoch 16/10 (SSAE): 100%|██████████| 782/782 [00:51<00:00, 15.13it/s, loss=1.47]\n"
     ]
    },
    {
     "name": "stdout",
     "output_type": "stream",
     "text": [
      "Epoch [16/10], Avg Loss: 1.3425\n",
      "Epoch [16/10], Avg Validation Loss: 1.3495\n"
     ]
    },
    {
     "name": "stderr",
     "output_type": "stream",
     "text": [
      "Epoch 17/10 (SSAE): 100%|██████████| 782/782 [00:49<00:00, 15.91it/s, loss=1.29]\n"
     ]
    },
    {
     "name": "stdout",
     "output_type": "stream",
     "text": [
      "Epoch [17/10], Avg Loss: 1.3403\n",
      "Epoch [17/10], Avg Validation Loss: 1.3454\n"
     ]
    },
    {
     "name": "stderr",
     "output_type": "stream",
     "text": [
      "Epoch 18/10 (SSAE): 100%|██████████| 782/782 [00:55<00:00, 14.19it/s, loss=1.54]\n"
     ]
    },
    {
     "name": "stdout",
     "output_type": "stream",
     "text": [
      "Epoch [18/10], Avg Loss: 1.3363\n",
      "Epoch [18/10], Avg Validation Loss: 1.3425\n"
     ]
    },
    {
     "name": "stderr",
     "output_type": "stream",
     "text": [
      "Epoch 19/10 (SSAE): 100%|██████████| 782/782 [00:52<00:00, 14.80it/s, loss=1.46]\n"
     ]
    },
    {
     "name": "stdout",
     "output_type": "stream",
     "text": [
      "Epoch [19/10], Avg Loss: 1.3349\n",
      "Epoch [19/10], Avg Validation Loss: 1.3424\n"
     ]
    },
    {
     "name": "stderr",
     "output_type": "stream",
     "text": [
      "Epoch 20/10 (SSAE): 100%|██████████| 782/782 [00:51<00:00, 15.11it/s, loss=1.22]\n"
     ]
    },
    {
     "name": "stdout",
     "output_type": "stream",
     "text": [
      "Epoch [20/10], Avg Loss: 1.3333\n",
      "Epoch [20/10], Avg Validation Loss: 1.3360\n",
      "Validation loss improved. Saving the best model at epoch 20.\n"
     ]
    },
    {
     "name": "stderr",
     "output_type": "stream",
     "text": [
      "Epoch 21/10 (SSAE): 100%|██████████| 782/782 [00:51<00:00, 15.06it/s, loss=1.26]\n"
     ]
    },
    {
     "name": "stdout",
     "output_type": "stream",
     "text": [
      "Epoch [21/10], Avg Loss: 1.3293\n",
      "Epoch [21/10], Avg Validation Loss: 1.3375\n"
     ]
    },
    {
     "name": "stderr",
     "output_type": "stream",
     "text": [
      "Epoch 22/10 (SSAE): 100%|██████████| 782/782 [00:51<00:00, 15.09it/s, loss=1.22]\n"
     ]
    },
    {
     "name": "stdout",
     "output_type": "stream",
     "text": [
      "Epoch [22/10], Avg Loss: 1.3280\n",
      "Epoch [22/10], Avg Validation Loss: 1.3337\n"
     ]
    },
    {
     "name": "stderr",
     "output_type": "stream",
     "text": [
      "Epoch 23/10 (SSAE): 100%|██████████| 782/782 [00:52<00:00, 14.95it/s, loss=1.29]\n"
     ]
    },
    {
     "name": "stdout",
     "output_type": "stream",
     "text": [
      "Epoch [23/10], Avg Loss: 1.3248\n",
      "Epoch [23/10], Avg Validation Loss: 1.3334\n"
     ]
    },
    {
     "name": "stderr",
     "output_type": "stream",
     "text": [
      "Epoch 24/10 (SSAE): 100%|██████████| 782/782 [00:52<00:00, 14.88it/s, loss=1.16]\n"
     ]
    },
    {
     "name": "stdout",
     "output_type": "stream",
     "text": [
      "Epoch [24/10], Avg Loss: 1.3236\n",
      "Epoch [24/10], Avg Validation Loss: 1.3330\n"
     ]
    },
    {
     "name": "stderr",
     "output_type": "stream",
     "text": [
      "Epoch 25/10 (SSAE): 100%|██████████| 782/782 [00:59<00:00, 13.16it/s, loss=1.42]\n"
     ]
    },
    {
     "name": "stdout",
     "output_type": "stream",
     "text": [
      "Epoch [25/10], Avg Loss: 1.3227\n",
      "Epoch [25/10], Avg Validation Loss: 1.3280\n",
      "Validation loss improved. Saving the best model at epoch 25.\n"
     ]
    },
    {
     "name": "stderr",
     "output_type": "stream",
     "text": [
      "Epoch 26/10 (SSAE): 100%|██████████| 782/782 [00:51<00:00, 15.11it/s, loss=0.934]\n"
     ]
    },
    {
     "name": "stdout",
     "output_type": "stream",
     "text": [
      "Epoch [26/10], Avg Loss: 1.3186\n",
      "Epoch [26/10], Avg Validation Loss: 1.3250\n"
     ]
    },
    {
     "name": "stderr",
     "output_type": "stream",
     "text": [
      "Epoch 27/10 (SSAE): 100%|██████████| 782/782 [00:47<00:00, 16.33it/s, loss=1.43]\n"
     ]
    },
    {
     "name": "stdout",
     "output_type": "stream",
     "text": [
      "Epoch [27/10], Avg Loss: 1.3165\n",
      "Epoch [27/10], Avg Validation Loss: 1.3217\n"
     ]
    },
    {
     "name": "stderr",
     "output_type": "stream",
     "text": [
      "Epoch 28/10 (SSAE): 100%|██████████| 782/782 [00:48<00:00, 16.05it/s, loss=0.998]\n"
     ]
    },
    {
     "name": "stdout",
     "output_type": "stream",
     "text": [
      "Epoch [28/10], Avg Loss: 1.3159\n",
      "Epoch [28/10], Avg Validation Loss: 1.3211\n"
     ]
    },
    {
     "name": "stderr",
     "output_type": "stream",
     "text": [
      "Epoch 29/10 (SSAE): 100%|██████████| 782/782 [00:49<00:00, 15.74it/s, loss=1.5] \n"
     ]
    },
    {
     "name": "stdout",
     "output_type": "stream",
     "text": [
      "Epoch [29/10], Avg Loss: 1.3168\n",
      "Epoch [29/10], Avg Validation Loss: 1.3218\n"
     ]
    },
    {
     "name": "stderr",
     "output_type": "stream",
     "text": [
      "Epoch 30/10 (SSAE): 100%|██████████| 782/782 [00:49<00:00, 15.84it/s, loss=1.48]\n"
     ]
    },
    {
     "name": "stdout",
     "output_type": "stream",
     "text": [
      "Epoch [30/10], Avg Loss: 1.3150\n",
      "Epoch [30/10], Avg Validation Loss: 1.3210\n",
      "Validation loss improved. Saving the best model at epoch 30.\n"
     ]
    },
    {
     "name": "stderr",
     "output_type": "stream",
     "text": [
      "Epoch 31/10 (SSAE): 100%|██████████| 782/782 [00:48<00:00, 16.02it/s, loss=1.51]\n"
     ]
    },
    {
     "name": "stdout",
     "output_type": "stream",
     "text": [
      "Epoch [31/10], Avg Loss: 1.3136\n",
      "Epoch [31/10], Avg Validation Loss: 1.3174\n"
     ]
    },
    {
     "name": "stderr",
     "output_type": "stream",
     "text": [
      "Epoch 32/10 (SSAE): 100%|██████████| 782/782 [00:48<00:00, 15.96it/s, loss=1.45]\n"
     ]
    },
    {
     "name": "stdout",
     "output_type": "stream",
     "text": [
      "Epoch [32/10], Avg Loss: 1.3125\n",
      "Epoch [32/10], Avg Validation Loss: 1.3211\n"
     ]
    },
    {
     "name": "stderr",
     "output_type": "stream",
     "text": [
      "Epoch 33/10 (SSAE): 100%|██████████| 782/782 [00:50<00:00, 15.63it/s, loss=1.19]\n"
     ]
    },
    {
     "name": "stdout",
     "output_type": "stream",
     "text": [
      "Epoch [33/10], Avg Loss: 1.3113\n",
      "Epoch [33/10], Avg Validation Loss: 1.3167\n"
     ]
    },
    {
     "name": "stderr",
     "output_type": "stream",
     "text": [
      "Epoch 34/10 (SSAE): 100%|██████████| 782/782 [00:47<00:00, 16.32it/s, loss=1.39]\n"
     ]
    },
    {
     "name": "stdout",
     "output_type": "stream",
     "text": [
      "Epoch [34/10], Avg Loss: 1.3097\n",
      "Epoch [34/10], Avg Validation Loss: 1.3147\n"
     ]
    },
    {
     "name": "stderr",
     "output_type": "stream",
     "text": [
      "Epoch 35/10 (SSAE): 100%|██████████| 782/782 [00:46<00:00, 16.85it/s, loss=1.07]\n"
     ]
    },
    {
     "name": "stdout",
     "output_type": "stream",
     "text": [
      "Epoch [35/10], Avg Loss: 1.3099\n",
      "Epoch [35/10], Avg Validation Loss: 1.3132\n",
      "Validation loss improved. Saving the best model at epoch 35.\n"
     ]
    },
    {
     "name": "stderr",
     "output_type": "stream",
     "text": [
      "Epoch 36/10 (SSAE): 100%|██████████| 782/782 [00:47<00:00, 16.33it/s, loss=1.27]\n"
     ]
    },
    {
     "name": "stdout",
     "output_type": "stream",
     "text": [
      "Epoch [36/10], Avg Loss: 1.3074\n",
      "Epoch [36/10], Avg Validation Loss: 1.3177\n"
     ]
    },
    {
     "name": "stderr",
     "output_type": "stream",
     "text": [
      "Epoch 37/10 (SSAE): 100%|██████████| 782/782 [00:41<00:00, 18.72it/s, loss=1.21]\n"
     ]
    },
    {
     "name": "stdout",
     "output_type": "stream",
     "text": [
      "Epoch [37/10], Avg Loss: 1.3066\n",
      "Epoch [37/10], Avg Validation Loss: 1.3151\n"
     ]
    },
    {
     "name": "stderr",
     "output_type": "stream",
     "text": [
      "Epoch 38/10 (SSAE): 100%|██████████| 782/782 [00:28<00:00, 27.34it/s, loss=1.2] \n"
     ]
    },
    {
     "name": "stdout",
     "output_type": "stream",
     "text": [
      "Epoch [38/10], Avg Loss: 1.3054\n",
      "Epoch [38/10], Avg Validation Loss: 1.3103\n"
     ]
    },
    {
     "name": "stderr",
     "output_type": "stream",
     "text": [
      "Epoch 39/10 (SSAE): 100%|██████████| 782/782 [00:23<00:00, 33.17it/s, loss=1.03]\n"
     ]
    },
    {
     "name": "stdout",
     "output_type": "stream",
     "text": [
      "Epoch [39/10], Avg Loss: 1.3040\n",
      "Epoch [39/10], Avg Validation Loss: 1.3148\n"
     ]
    },
    {
     "name": "stderr",
     "output_type": "stream",
     "text": [
      "Epoch 40/10 (SSAE): 100%|██████████| 782/782 [00:22<00:00, 34.15it/s, loss=1.05]\n"
     ]
    },
    {
     "name": "stdout",
     "output_type": "stream",
     "text": [
      "Epoch [40/10], Avg Loss: 1.3028\n",
      "Epoch [40/10], Avg Validation Loss: 1.3097\n",
      "Validation loss improved. Saving the best model at epoch 40.\n"
     ]
    },
    {
     "name": "stderr",
     "output_type": "stream",
     "text": [
      "Epoch 41/10 (SSAE): 100%|██████████| 782/782 [00:21<00:00, 36.97it/s, loss=1.16]\n"
     ]
    },
    {
     "name": "stdout",
     "output_type": "stream",
     "text": [
      "Epoch [41/10], Avg Loss: 1.3022\n",
      "Epoch [41/10], Avg Validation Loss: 1.3080\n"
     ]
    },
    {
     "name": "stderr",
     "output_type": "stream",
     "text": [
      "Epoch 42/10 (SSAE): 100%|██████████| 782/782 [00:24<00:00, 32.47it/s, loss=1.09] \n"
     ]
    },
    {
     "name": "stdout",
     "output_type": "stream",
     "text": [
      "Epoch [42/10], Avg Loss: 1.3008\n",
      "Epoch [42/10], Avg Validation Loss: 1.3069\n"
     ]
    },
    {
     "name": "stderr",
     "output_type": "stream",
     "text": [
      "Epoch 43/10 (SSAE): 100%|██████████| 782/782 [00:26<00:00, 29.34it/s, loss=1.06]\n"
     ]
    },
    {
     "name": "stdout",
     "output_type": "stream",
     "text": [
      "Epoch [43/10], Avg Loss: 1.3000\n",
      "Epoch [43/10], Avg Validation Loss: 1.3083\n"
     ]
    },
    {
     "name": "stderr",
     "output_type": "stream",
     "text": [
      "Epoch 44/10 (SSAE): 100%|██████████| 782/782 [00:22<00:00, 34.71it/s, loss=1.46] \n"
     ]
    },
    {
     "name": "stdout",
     "output_type": "stream",
     "text": [
      "Epoch [44/10], Avg Loss: 1.3004\n",
      "Epoch [44/10], Avg Validation Loss: 1.3030\n"
     ]
    },
    {
     "name": "stderr",
     "output_type": "stream",
     "text": [
      "Epoch 45/10 (SSAE): 100%|██████████| 782/782 [00:21<00:00, 35.65it/s, loss=1.07]\n"
     ]
    },
    {
     "name": "stdout",
     "output_type": "stream",
     "text": [
      "Epoch [45/10], Avg Loss: 1.2976\n",
      "Epoch [45/10], Avg Validation Loss: 1.3058\n",
      "Validation loss improved. Saving the best model at epoch 45.\n"
     ]
    },
    {
     "name": "stderr",
     "output_type": "stream",
     "text": [
      "Epoch 46/10 (SSAE): 100%|██████████| 782/782 [00:29<00:00, 26.60it/s, loss=1.11]\n"
     ]
    },
    {
     "name": "stdout",
     "output_type": "stream",
     "text": [
      "Epoch [46/10], Avg Loss: 1.2985\n",
      "Epoch [46/10], Avg Validation Loss: 1.3030\n"
     ]
    },
    {
     "name": "stderr",
     "output_type": "stream",
     "text": [
      "Epoch 47/10 (SSAE): 100%|██████████| 782/782 [00:57<00:00, 13.52it/s, loss=1.42]\n"
     ]
    },
    {
     "name": "stdout",
     "output_type": "stream",
     "text": [
      "Epoch [47/10], Avg Loss: 1.2979\n",
      "Epoch [47/10], Avg Validation Loss: 1.3028\n"
     ]
    },
    {
     "name": "stderr",
     "output_type": "stream",
     "text": [
      "Epoch 48/10 (SSAE): 100%|██████████| 782/782 [00:55<00:00, 14.15it/s, loss=1.82]\n"
     ]
    },
    {
     "name": "stdout",
     "output_type": "stream",
     "text": [
      "Epoch [48/10], Avg Loss: 1.2965\n",
      "Epoch [48/10], Avg Validation Loss: 1.3030\n"
     ]
    },
    {
     "name": "stderr",
     "output_type": "stream",
     "text": [
      "Epoch 49/10 (SSAE): 100%|██████████| 782/782 [00:52<00:00, 15.03it/s, loss=1.16]\n"
     ]
    },
    {
     "name": "stdout",
     "output_type": "stream",
     "text": [
      "Epoch [49/10], Avg Loss: 1.2955\n",
      "Epoch [49/10], Avg Validation Loss: 1.3015\n"
     ]
    },
    {
     "name": "stderr",
     "output_type": "stream",
     "text": [
      "Epoch 50/10 (SSAE): 100%|██████████| 782/782 [00:47<00:00, 16.40it/s, loss=1.39]\n"
     ]
    },
    {
     "name": "stdout",
     "output_type": "stream",
     "text": [
      "Epoch [50/10], Avg Loss: 1.2946\n",
      "Epoch [50/10], Avg Validation Loss: 1.3009\n",
      "Validation loss improved. Saving the best model at epoch 50.\n"
     ]
    },
    {
     "name": "stderr",
     "output_type": "stream",
     "text": [
      "Epoch 51/10 (SSAE): 100%|██████████| 782/782 [00:46<00:00, 16.69it/s, loss=1.07]\n"
     ]
    },
    {
     "name": "stdout",
     "output_type": "stream",
     "text": [
      "Epoch [51/10], Avg Loss: 1.2928\n",
      "Epoch [51/10], Avg Validation Loss: 1.2998\n"
     ]
    },
    {
     "name": "stderr",
     "output_type": "stream",
     "text": [
      "Epoch 52/10 (SSAE): 100%|██████████| 782/782 [00:46<00:00, 16.98it/s, loss=1.15]\n"
     ]
    },
    {
     "name": "stdout",
     "output_type": "stream",
     "text": [
      "Epoch [52/10], Avg Loss: 1.2927\n",
      "Epoch [52/10], Avg Validation Loss: 1.2963\n"
     ]
    },
    {
     "name": "stderr",
     "output_type": "stream",
     "text": [
      "Epoch 53/10 (SSAE): 100%|██████████| 782/782 [00:48<00:00, 16.25it/s, loss=1.21]\n"
     ]
    },
    {
     "name": "stdout",
     "output_type": "stream",
     "text": [
      "Epoch [53/10], Avg Loss: 1.2916\n",
      "Epoch [53/10], Avg Validation Loss: 1.3010\n"
     ]
    },
    {
     "name": "stderr",
     "output_type": "stream",
     "text": [
      "Epoch 54/10 (SSAE): 100%|██████████| 782/782 [00:46<00:00, 16.64it/s, loss=1.25]\n"
     ]
    },
    {
     "name": "stdout",
     "output_type": "stream",
     "text": [
      "Epoch [54/10], Avg Loss: 1.2924\n",
      "Epoch [54/10], Avg Validation Loss: 1.3009\n"
     ]
    },
    {
     "name": "stderr",
     "output_type": "stream",
     "text": [
      "Epoch 55/10 (SSAE): 100%|██████████| 782/782 [00:48<00:00, 16.08it/s, loss=1.51]\n"
     ]
    },
    {
     "name": "stdout",
     "output_type": "stream",
     "text": [
      "Epoch [55/10], Avg Loss: 1.2911\n",
      "Epoch [55/10], Avg Validation Loss: 1.2976\n",
      "Validation loss improved. Saving the best model at epoch 55.\n"
     ]
    },
    {
     "name": "stderr",
     "output_type": "stream",
     "text": [
      "Epoch 56/10 (SSAE): 100%|██████████| 782/782 [00:49<00:00, 15.94it/s, loss=1.46]\n"
     ]
    },
    {
     "name": "stdout",
     "output_type": "stream",
     "text": [
      "Epoch [56/10], Avg Loss: 1.2905\n",
      "Epoch [56/10], Avg Validation Loss: 1.2947\n"
     ]
    },
    {
     "name": "stderr",
     "output_type": "stream",
     "text": [
      "Epoch 57/10 (SSAE): 100%|██████████| 782/782 [00:47<00:00, 16.37it/s, loss=1.45]\n"
     ]
    },
    {
     "name": "stdout",
     "output_type": "stream",
     "text": [
      "Epoch [57/10], Avg Loss: 1.2896\n",
      "Epoch [57/10], Avg Validation Loss: 1.2936\n"
     ]
    },
    {
     "name": "stderr",
     "output_type": "stream",
     "text": [
      "Epoch 58/10 (SSAE): 100%|██████████| 782/782 [00:47<00:00, 16.45it/s, loss=1.18]\n"
     ]
    },
    {
     "name": "stdout",
     "output_type": "stream",
     "text": [
      "Epoch [58/10], Avg Loss: 1.2900\n",
      "Epoch [58/10], Avg Validation Loss: 1.2972\n"
     ]
    },
    {
     "name": "stderr",
     "output_type": "stream",
     "text": [
      "Epoch 59/10 (SSAE): 100%|██████████| 782/782 [00:49<00:00, 15.72it/s, loss=1.45]\n"
     ]
    },
    {
     "name": "stdout",
     "output_type": "stream",
     "text": [
      "Epoch [59/10], Avg Loss: 1.2883\n",
      "Epoch [59/10], Avg Validation Loss: 1.2950\n"
     ]
    },
    {
     "name": "stderr",
     "output_type": "stream",
     "text": [
      "Epoch 60/10 (SSAE): 100%|██████████| 782/782 [00:47<00:00, 16.40it/s, loss=1.23] \n"
     ]
    },
    {
     "name": "stdout",
     "output_type": "stream",
     "text": [
      "Epoch [60/10], Avg Loss: 1.2879\n",
      "Epoch [60/10], Avg Validation Loss: 1.2940\n",
      "Validation loss improved. Saving the best model at epoch 60.\n"
     ]
    },
    {
     "name": "stderr",
     "output_type": "stream",
     "text": [
      "Epoch 61/10 (SSAE): 100%|██████████| 782/782 [00:47<00:00, 16.31it/s, loss=1.17]\n"
     ]
    },
    {
     "name": "stdout",
     "output_type": "stream",
     "text": [
      "Epoch [61/10], Avg Loss: 1.2878\n",
      "Epoch [61/10], Avg Validation Loss: 1.2919\n"
     ]
    },
    {
     "name": "stderr",
     "output_type": "stream",
     "text": [
      "Epoch 62/10 (SSAE): 100%|██████████| 782/782 [00:51<00:00, 15.13it/s, loss=1.31] \n"
     ]
    },
    {
     "name": "stdout",
     "output_type": "stream",
     "text": [
      "Epoch [62/10], Avg Loss: 1.2876\n",
      "Epoch [62/10], Avg Validation Loss: 1.2934\n"
     ]
    },
    {
     "name": "stderr",
     "output_type": "stream",
     "text": [
      "Epoch 63/10 (SSAE): 100%|██████████| 782/782 [00:49<00:00, 15.95it/s, loss=1.36]\n"
     ]
    },
    {
     "name": "stdout",
     "output_type": "stream",
     "text": [
      "Epoch [63/10], Avg Loss: 1.2863\n",
      "Epoch [63/10], Avg Validation Loss: 1.2900\n"
     ]
    },
    {
     "name": "stderr",
     "output_type": "stream",
     "text": [
      "Epoch 64/10 (SSAE): 100%|██████████| 782/782 [00:50<00:00, 15.58it/s, loss=1.21]\n"
     ]
    },
    {
     "name": "stdout",
     "output_type": "stream",
     "text": [
      "Epoch [64/10], Avg Loss: 1.2859\n",
      "Epoch [64/10], Avg Validation Loss: 1.2884\n"
     ]
    },
    {
     "name": "stderr",
     "output_type": "stream",
     "text": [
      "Epoch 65/10 (SSAE): 100%|██████████| 782/782 [00:48<00:00, 16.12it/s, loss=1.39]\n"
     ]
    },
    {
     "name": "stdout",
     "output_type": "stream",
     "text": [
      "Epoch [65/10], Avg Loss: 1.2863\n",
      "Epoch [65/10], Avg Validation Loss: 1.2898\n",
      "Validation loss improved. Saving the best model at epoch 65.\n"
     ]
    },
    {
     "name": "stderr",
     "output_type": "stream",
     "text": [
      "Epoch 66/10 (SSAE): 100%|██████████| 782/782 [00:38<00:00, 20.30it/s, loss=1.61]\n"
     ]
    },
    {
     "name": "stdout",
     "output_type": "stream",
     "text": [
      "Epoch [66/10], Avg Loss: 1.2858\n",
      "Epoch [66/10], Avg Validation Loss: 1.2907\n"
     ]
    },
    {
     "name": "stderr",
     "output_type": "stream",
     "text": [
      "Epoch 67/10 (SSAE): 100%|██████████| 782/782 [00:21<00:00, 36.18it/s, loss=1.22]\n"
     ]
    },
    {
     "name": "stdout",
     "output_type": "stream",
     "text": [
      "Epoch [67/10], Avg Loss: 1.2858\n",
      "Epoch [67/10], Avg Validation Loss: 1.2911\n"
     ]
    },
    {
     "name": "stderr",
     "output_type": "stream",
     "text": [
      "Epoch 68/10 (SSAE): 100%|██████████| 782/782 [00:21<00:00, 36.77it/s, loss=1.15]\n"
     ]
    },
    {
     "name": "stdout",
     "output_type": "stream",
     "text": [
      "Epoch [68/10], Avg Loss: 1.2870\n",
      "Epoch [68/10], Avg Validation Loss: 1.2928\n"
     ]
    },
    {
     "name": "stderr",
     "output_type": "stream",
     "text": [
      "Epoch 69/10 (SSAE): 100%|██████████| 782/782 [00:21<00:00, 36.12it/s, loss=1.22] \n"
     ]
    },
    {
     "name": "stdout",
     "output_type": "stream",
     "text": [
      "Epoch [69/10], Avg Loss: 1.2832\n",
      "Epoch [69/10], Avg Validation Loss: 1.2856\n"
     ]
    },
    {
     "name": "stderr",
     "output_type": "stream",
     "text": [
      "Epoch 70/10 (SSAE): 100%|██████████| 782/782 [00:22<00:00, 34.02it/s, loss=1.32]\n"
     ]
    },
    {
     "name": "stdout",
     "output_type": "stream",
     "text": [
      "Epoch [70/10], Avg Loss: 1.2844\n",
      "Epoch [70/10], Avg Validation Loss: 1.2914\n"
     ]
    },
    {
     "name": "stderr",
     "output_type": "stream",
     "text": [
      "Epoch 71/10 (SSAE): 100%|██████████| 782/782 [00:22<00:00, 35.20it/s, loss=1.22]\n"
     ]
    },
    {
     "name": "stdout",
     "output_type": "stream",
     "text": [
      "Epoch [71/10], Avg Loss: 1.2847\n",
      "Epoch [71/10], Avg Validation Loss: 1.2913\n"
     ]
    },
    {
     "name": "stderr",
     "output_type": "stream",
     "text": [
      "Epoch 72/10 (SSAE): 100%|██████████| 782/782 [00:21<00:00, 37.08it/s, loss=1.28]\n"
     ]
    },
    {
     "name": "stdout",
     "output_type": "stream",
     "text": [
      "Epoch [72/10], Avg Loss: 1.2824\n",
      "Epoch [72/10], Avg Validation Loss: 1.2886\n"
     ]
    },
    {
     "name": "stderr",
     "output_type": "stream",
     "text": [
      "Epoch 73/10 (SSAE): 100%|██████████| 782/782 [00:21<00:00, 36.71it/s, loss=1.17]\n"
     ]
    },
    {
     "name": "stdout",
     "output_type": "stream",
     "text": [
      "Epoch [73/10], Avg Loss: 1.2815\n",
      "Epoch [73/10], Avg Validation Loss: 1.2843\n"
     ]
    },
    {
     "name": "stderr",
     "output_type": "stream",
     "text": [
      "Epoch 74/10 (SSAE): 100%|██████████| 782/782 [00:21<00:00, 36.42it/s, loss=1.14] \n"
     ]
    },
    {
     "name": "stdout",
     "output_type": "stream",
     "text": [
      "Epoch [74/10], Avg Loss: 1.2816\n",
      "Epoch [74/10], Avg Validation Loss: 1.2899\n"
     ]
    },
    {
     "name": "stderr",
     "output_type": "stream",
     "text": [
      "Epoch 75/10 (SSAE): 100%|██████████| 782/782 [00:19<00:00, 40.99it/s, loss=1.21]\n"
     ]
    },
    {
     "name": "stdout",
     "output_type": "stream",
     "text": [
      "Epoch [75/10], Avg Loss: 1.2820\n",
      "Epoch [75/10], Avg Validation Loss: 1.2921\n"
     ]
    },
    {
     "name": "stderr",
     "output_type": "stream",
     "text": [
      "Epoch 76/10 (SSAE): 100%|██████████| 782/782 [00:20<00:00, 38.74it/s, loss=1.45]\n"
     ]
    },
    {
     "name": "stdout",
     "output_type": "stream",
     "text": [
      "Epoch [76/10], Avg Loss: 1.2813\n",
      "Epoch [76/10], Avg Validation Loss: 1.2876\n"
     ]
    },
    {
     "name": "stderr",
     "output_type": "stream",
     "text": [
      "Epoch 77/10 (SSAE): 100%|██████████| 782/782 [00:36<00:00, 21.42it/s, loss=1.29]\n"
     ]
    },
    {
     "name": "stdout",
     "output_type": "stream",
     "text": [
      "Epoch [77/10], Avg Loss: 1.2807\n",
      "Epoch [77/10], Avg Validation Loss: 1.2874\n"
     ]
    },
    {
     "name": "stderr",
     "output_type": "stream",
     "text": [
      "Epoch 78/10 (SSAE): 100%|██████████| 782/782 [00:29<00:00, 26.41it/s, loss=1.38]\n"
     ]
    },
    {
     "name": "stdout",
     "output_type": "stream",
     "text": [
      "Epoch [78/10], Avg Loss: 1.2810\n",
      "Epoch [78/10], Avg Validation Loss: 1.2866\n"
     ]
    },
    {
     "name": "stderr",
     "output_type": "stream",
     "text": [
      "Epoch 79/10 (SSAE): 100%|██████████| 782/782 [00:23<00:00, 32.98it/s, loss=1.19]\n"
     ]
    },
    {
     "name": "stdout",
     "output_type": "stream",
     "text": [
      "Epoch [79/10], Avg Loss: 1.2790\n",
      "Epoch [79/10], Avg Validation Loss: 1.2889\n"
     ]
    },
    {
     "name": "stderr",
     "output_type": "stream",
     "text": [
      "Epoch 80/10 (SSAE): 100%|██████████| 782/782 [00:20<00:00, 37.28it/s, loss=1.19]\n"
     ]
    },
    {
     "name": "stdout",
     "output_type": "stream",
     "text": [
      "Epoch [80/10], Avg Loss: 1.2792\n",
      "Epoch [80/10], Avg Validation Loss: 1.2849\n",
      "Validation loss improved. Saving the best model at epoch 80.\n"
     ]
    },
    {
     "name": "stderr",
     "output_type": "stream",
     "text": [
      "Epoch 81/10 (SSAE): 100%|██████████| 782/782 [00:21<00:00, 36.63it/s, loss=1.45]\n"
     ]
    },
    {
     "name": "stdout",
     "output_type": "stream",
     "text": [
      "Epoch [81/10], Avg Loss: 1.2806\n",
      "Epoch [81/10], Avg Validation Loss: 1.2859\n"
     ]
    },
    {
     "name": "stderr",
     "output_type": "stream",
     "text": [
      "Epoch 82/10 (SSAE): 100%|██████████| 782/782 [00:22<00:00, 34.43it/s, loss=1.2] \n"
     ]
    },
    {
     "name": "stdout",
     "output_type": "stream",
     "text": [
      "Epoch [82/10], Avg Loss: 1.2793\n",
      "Epoch [82/10], Avg Validation Loss: 1.2876\n"
     ]
    },
    {
     "name": "stderr",
     "output_type": "stream",
     "text": [
      "Epoch 83/10 (SSAE): 100%|██████████| 782/782 [00:21<00:00, 36.51it/s, loss=1.11] \n"
     ]
    },
    {
     "name": "stdout",
     "output_type": "stream",
     "text": [
      "Epoch [83/10], Avg Loss: 1.2784\n",
      "Epoch [83/10], Avg Validation Loss: 1.2827\n"
     ]
    },
    {
     "name": "stderr",
     "output_type": "stream",
     "text": [
      "Epoch 84/10 (SSAE): 100%|██████████| 782/782 [00:20<00:00, 37.70it/s, loss=1.37]\n"
     ]
    },
    {
     "name": "stdout",
     "output_type": "stream",
     "text": [
      "Epoch [84/10], Avg Loss: 1.2789\n",
      "Epoch [84/10], Avg Validation Loss: 1.2862\n"
     ]
    },
    {
     "name": "stderr",
     "output_type": "stream",
     "text": [
      "Epoch 85/10 (SSAE): 100%|██████████| 782/782 [00:19<00:00, 40.17it/s, loss=0.933]\n"
     ]
    },
    {
     "name": "stdout",
     "output_type": "stream",
     "text": [
      "Epoch [85/10], Avg Loss: 1.2774\n",
      "Epoch [85/10], Avg Validation Loss: 1.2834\n",
      "Validation loss improved. Saving the best model at epoch 85.\n"
     ]
    },
    {
     "name": "stderr",
     "output_type": "stream",
     "text": [
      "Epoch 86/10 (SSAE): 100%|██████████| 782/782 [00:20<00:00, 38.94it/s, loss=1.49]\n"
     ]
    },
    {
     "name": "stdout",
     "output_type": "stream",
     "text": [
      "Epoch [86/10], Avg Loss: 1.2782\n",
      "Epoch [86/10], Avg Validation Loss: 1.2857\n"
     ]
    },
    {
     "name": "stderr",
     "output_type": "stream",
     "text": [
      "Epoch 87/10 (SSAE): 100%|██████████| 782/782 [00:19<00:00, 40.47it/s, loss=1.09]\n"
     ]
    },
    {
     "name": "stdout",
     "output_type": "stream",
     "text": [
      "Epoch [87/10], Avg Loss: 1.2776\n",
      "Epoch [87/10], Avg Validation Loss: 1.2840\n"
     ]
    },
    {
     "name": "stderr",
     "output_type": "stream",
     "text": [
      "Epoch 88/10 (SSAE): 100%|██████████| 782/782 [00:21<00:00, 36.75it/s, loss=1.6] \n"
     ]
    },
    {
     "name": "stdout",
     "output_type": "stream",
     "text": [
      "Epoch [88/10], Avg Loss: 1.2781\n",
      "Epoch [88/10], Avg Validation Loss: 1.2815\n"
     ]
    },
    {
     "name": "stderr",
     "output_type": "stream",
     "text": [
      "Epoch 89/10 (SSAE): 100%|██████████| 782/782 [00:22<00:00, 34.10it/s, loss=1.16]\n"
     ]
    },
    {
     "name": "stdout",
     "output_type": "stream",
     "text": [
      "Epoch [89/10], Avg Loss: 1.2780\n",
      "Epoch [89/10], Avg Validation Loss: 1.2844\n"
     ]
    },
    {
     "name": "stderr",
     "output_type": "stream",
     "text": [
      "Epoch 90/10 (SSAE): 100%|██████████| 782/782 [00:19<00:00, 40.72it/s, loss=1.24]\n"
     ]
    },
    {
     "name": "stdout",
     "output_type": "stream",
     "text": [
      "Epoch [90/10], Avg Loss: 1.2772\n",
      "Epoch [90/10], Avg Validation Loss: 1.2853\n"
     ]
    },
    {
     "name": "stderr",
     "output_type": "stream",
     "text": [
      "Epoch 91/10 (SSAE): 100%|██████████| 782/782 [00:18<00:00, 41.58it/s, loss=1.35]\n"
     ]
    },
    {
     "name": "stdout",
     "output_type": "stream",
     "text": [
      "Epoch [91/10], Avg Loss: 1.2765\n",
      "Epoch [91/10], Avg Validation Loss: 1.2866\n"
     ]
    },
    {
     "name": "stderr",
     "output_type": "stream",
     "text": [
      "Epoch 92/10 (SSAE): 100%|██████████| 782/782 [00:22<00:00, 34.93it/s, loss=1.09]\n"
     ]
    },
    {
     "name": "stdout",
     "output_type": "stream",
     "text": [
      "Epoch [92/10], Avg Loss: 1.2761\n",
      "Epoch [92/10], Avg Validation Loss: 1.2877\n"
     ]
    },
    {
     "name": "stderr",
     "output_type": "stream",
     "text": [
      "Epoch 93/10 (SSAE): 100%|██████████| 782/782 [00:21<00:00, 37.04it/s, loss=1.11]\n"
     ]
    },
    {
     "name": "stdout",
     "output_type": "stream",
     "text": [
      "Epoch [93/10], Avg Loss: 1.2755\n",
      "Epoch [93/10], Avg Validation Loss: 1.2847\n"
     ]
    },
    {
     "name": "stderr",
     "output_type": "stream",
     "text": [
      "Epoch 94/10 (SSAE): 100%|██████████| 782/782 [00:21<00:00, 37.07it/s, loss=1.08]\n"
     ]
    },
    {
     "name": "stdout",
     "output_type": "stream",
     "text": [
      "Epoch [94/10], Avg Loss: 1.2757\n",
      "Epoch [94/10], Avg Validation Loss: 1.2813\n"
     ]
    },
    {
     "name": "stderr",
     "output_type": "stream",
     "text": [
      "Epoch 95/10 (SSAE): 100%|██████████| 782/782 [00:21<00:00, 36.40it/s, loss=1.16]\n"
     ]
    },
    {
     "name": "stdout",
     "output_type": "stream",
     "text": [
      "Epoch [95/10], Avg Loss: 1.2765\n",
      "Epoch [95/10], Avg Validation Loss: 1.2836\n"
     ]
    },
    {
     "name": "stderr",
     "output_type": "stream",
     "text": [
      "Epoch 96/10 (SSAE): 100%|██████████| 782/782 [00:21<00:00, 36.38it/s, loss=1.04]\n"
     ]
    },
    {
     "name": "stdout",
     "output_type": "stream",
     "text": [
      "Epoch [96/10], Avg Loss: 1.2754\n",
      "Epoch [96/10], Avg Validation Loss: 1.2801\n"
     ]
    },
    {
     "name": "stderr",
     "output_type": "stream",
     "text": [
      "Epoch 97/10 (SSAE): 100%|██████████| 782/782 [00:19<00:00, 40.71it/s, loss=1.03]\n"
     ]
    },
    {
     "name": "stdout",
     "output_type": "stream",
     "text": [
      "Epoch [97/10], Avg Loss: 1.2760\n",
      "Epoch [97/10], Avg Validation Loss: 1.2828\n"
     ]
    },
    {
     "name": "stderr",
     "output_type": "stream",
     "text": [
      "Epoch 98/10 (SSAE): 100%|██████████| 782/782 [00:19<00:00, 39.60it/s, loss=1.21]\n"
     ]
    },
    {
     "name": "stdout",
     "output_type": "stream",
     "text": [
      "Epoch [98/10], Avg Loss: 1.2748\n",
      "Epoch [98/10], Avg Validation Loss: 1.2819\n"
     ]
    },
    {
     "name": "stderr",
     "output_type": "stream",
     "text": [
      "Epoch 99/10 (SSAE): 100%|██████████| 782/782 [00:21<00:00, 35.96it/s, loss=1.21]\n"
     ]
    },
    {
     "name": "stdout",
     "output_type": "stream",
     "text": [
      "Epoch [99/10], Avg Loss: 1.2749\n",
      "Epoch [99/10], Avg Validation Loss: 1.2830\n"
     ]
    },
    {
     "name": "stderr",
     "output_type": "stream",
     "text": [
      "Epoch 100/10 (SSAE): 100%|██████████| 782/782 [00:22<00:00, 34.47it/s, loss=1.33] \n"
     ]
    },
    {
     "name": "stdout",
     "output_type": "stream",
     "text": [
      "Epoch [100/10], Avg Loss: 1.2734\n",
      "Epoch [100/10], Avg Validation Loss: 1.2823\n",
      "Validation loss improved. Saving the best model at epoch 100.\n"
     ]
    }
   ],
   "source": [
    "# List to store loss values for plotting\n",
    "loss_values = []\n",
    "val_loss_values = []\n",
    "\n",
    "# variable initialization to store the best validation loss\n",
    "best_val_loss = float('inf')\n",
    "\n",
    "for epoch in range(100):\n",
    "    model.train()  # model in training mode\n",
    "    total_loss = 0\n",
    "    \n",
    "    # tqdm progress bar\n",
    "    progress_bar = tqdm(train_loader, desc=f\"Epoch {epoch+1}/10 (SSAE)\")\n",
    "    \n",
    "    for images, labels in progress_bar:\n",
    "        images, labels = images.to(device), labels.to(device)\n",
    "        # Flatten the images for the autoencoder\n",
    "        images = images.view(-1, 3*32*32)\n",
    "        \n",
    "        # Forward pass\n",
    "        outputs = model(images)\n",
    "        \n",
    "        # Calculate loss\n",
    "        loss = model.semi_supervised_loss(images, outputs, labels)\n",
    "        \n",
    "        # Backward pass and optimize\n",
    "        optimizer.zero_grad()\n",
    "        loss.backward()\n",
    "        optimizer.step()\n",
    "        \n",
    "        total_loss += loss.item()\n",
    "        \n",
    "        # Update tqdm progress bar with the current loss\n",
    "        progress_bar.set_postfix(loss=loss.item())\n",
    "    \n",
    "    # Calculate the average loss for this epoch\n",
    "    avg_loss = total_loss / len(train_loader)\n",
    "    loss_values.append(avg_loss)\n",
    "    \n",
    "    # Print the average loss for the current epoch\n",
    "    print(f\"Epoch [{epoch+1}/10], Avg Loss: {avg_loss:.4f}\")\n",
    "    \n",
    "    \n",
    "    # --- Validation loop ---\n",
    "    model.eval()  # Set the model to evaluation mode\n",
    "    total_val_loss = 0\n",
    "    \n",
    "    with torch.no_grad():  # Disable gradient calculations during validation\n",
    "        for val_images, val_labels in val_loader:\n",
    "\n",
    "            val_images, val_labels = val_images.to(device), val_labels.to(device)\n",
    "            \n",
    "            # Flatten the validation images\n",
    "            val_images = val_images.view(-1, 3*32*32)\n",
    "            \n",
    "            # Forward pass\n",
    "            val_outputs = model(val_images)\n",
    "            \n",
    "            # Calculate validation loss\n",
    "            val_loss = model.semi_supervised_loss(val_images, val_outputs, val_labels)\n",
    "            total_val_loss += val_loss.item()\n",
    "    \n",
    "    # Calculate the average validation loss for this epoch\n",
    "    avg_val_loss = total_val_loss / len(val_loader)\n",
    "    val_loss_values.append(avg_val_loss)\n",
    "\n",
    "    # Print the average validation loss for the current epoch\n",
    "    print(f\"Epoch [{epoch+1}/10], Avg Validation Loss: {avg_val_loss:.4f}\")\n",
    "    \n",
    "    # --- Model selection based on validation loss ---\n",
    "    if avg_val_loss < best_val_loss and (epoch+1) % 5 == 0 :\n",
    "        best_val_loss = avg_val_loss\n",
    "        print(f\"Validation loss improved. Saving the best model at epoch {epoch+1}.\")\n",
    "        torch.save(model.state_dict(), f'model_ssae_cifar100/best_model_epoch_{epoch+1}.pth')\n",
    "    \n",
    "    # Save the model after each epoch\n",
    "    # torch.save(model.state_dict(), f'model_ssae_cifar100/ssae_cifar_epoch_{epoch+1}.pth')\n"
   ]
  },
  {
   "cell_type": "code",
   "execution_count": 14,
   "metadata": {},
   "outputs": [
    {
     "data": {
      "image/png": "[encoded data removed]",
      "text/plain": [
       "<Figure size 640x480 with 1 Axes>"
      ]
     },
     "metadata": {},
     "output_type": "display_data"
    }
   ],
   "source": [
    "# Plot both training and validation losses\n",
    "plt.plot(loss_values, label=\"Training Loss\")\n",
    "plt.plot(val_loss_values, label=\"Validation Loss\")\n",
    "plt.xlabel('Epochs')\n",
    "plt.ylabel('Loss')\n",
    "plt.title('Training and Validation Loss over Time')\n",
    "plt.legend()\n",
    "plt.show()"
   ]
  },
  {
   "cell_type": "markdown",
   "metadata": {},
   "source": [
    "Checking Model's Performance and Visualizing Reconstruction"
   ]
  },
  {
   "cell_type": "code",
   "execution_count": 57,
   "metadata": {},
   "outputs": [],
   "source": [
    "def visualize_reconstruction(model, dataset, num_samples=10, device='cuda'):\n",
    "    # model.eval()  # Set the model to evaluation mode\n",
    "    model.load_state_dict(torch.load('model_ssae_cifar100/best_model_epoch_100.pth'))\n",
    "    model.eval()\n",
    "\n",
    "    model.to(device)\n",
    "    \n",
    "    fig, axes = plt.subplots(2, num_samples, figsize=(20, 5))\n",
    "    \n",
    "    for i in range(num_samples):\n",
    "        # Get a sample from the dataset\n",
    "        img, label = dataset[i]\n",
    "        # img, label = img.to(device), label.to(device)\n",
    "        img = img.view(1, -1).to(device)  # Flatten image\n",
    "        \n",
    "        # Forward pass to get the reconstruction\n",
    "        with torch.no_grad():\n",
    "            img = img.to(device)\n",
    "            reconstructed_img = model(img)\n",
    "\n",
    "        # Reshape images back to 28x28 for visualization\n",
    "        # img = img.view(28, 28)\n",
    "        # reconstructed_img = reconstructed_img.view(28, 28)\n",
    "        \n",
    "        # Reshape images back to 32x32 with 3 channels for visualization\n",
    "        img = img.view(3, 32, 32).permute(1, 2, 0).cpu().numpy()  # Convert from (C, H, W) to (H, W, C) format\n",
    "        reconstructed_img = reconstructed_img.view(3, 32, 32).permute(1, 2, 0).cpu().numpy()  # Reshape and permute back\n",
    "\n",
    "        \n",
    "        # Plot original image\n",
    "        axes[0, i].imshow(img, cmap='gray')\n",
    "        axes[0, i].set_title(f\"Original: {'Normal' if label == 0 else 'Abnormal'}\")\n",
    "        axes[0, i].axis('off')\n",
    "        \n",
    "        # Plot reconstructed image\n",
    "        axes[1, i].imshow(reconstructed_img, cmap='gray')\n",
    "        axes[1, i].set_title(\"Reconstructed\")\n",
    "        axes[1, i].axis('off')\n",
    "    \n",
    "    plt.show()"
   ]
  },
  {
   "cell_type": "code",
   "execution_count": 58,
   "metadata": {},
   "outputs": [
    {
     "data": {
      "image/png": "[encoded data removed]",
      "text/plain": [
       "<Figure size 2000x500 with 20 Axes>"
      ]
     },
     "metadata": {},
     "output_type": "display_data"
    }
   ],
   "source": [
    "visualize_reconstruction(model, train_dataset, device=device)"
   ]
  },
  {
   "cell_type": "code",
   "execution_count": null,
   "metadata": {},
   "outputs": [],
   "source": []
  }
 ],
 "metadata": {
  "kernelspec": {
   "display_name": "test",
   "language": "python",
   "name": "python3"
  },
  "language_info": {
   "codemirror_mode": {
    "name": "ipython",
    "version": 3
   },
   "file_extension": ".py",
   "mimetype": "text/x-python",
   "name": "python",
   "nbconvert_exporter": "python",
   "pygments_lexer": "ipython3",
   "version": "3.10.13"
  }
 },
 "nbformat": 4,
 "nbformat_minor": 2
}
