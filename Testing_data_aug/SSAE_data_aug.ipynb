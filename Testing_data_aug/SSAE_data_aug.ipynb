{
 "cells": [
  {
   "cell_type": "code",
   "execution_count": 1,
   "metadata": {},
   "outputs": [],
   "source": [
    "import torch\n",
    "import torch.nn as nn\n",
    "import torch.nn.functional as F\n",
    "import torch.optim as optim\n",
    "from torchvision import datasets, transforms\n",
    "from torch.utils.data import DataLoader, Dataset\n",
    "import numpy as np\n",
    "from tqdm import tqdm\n",
    "import matplotlib.pyplot as plt\n",
    "import random\n",
    "from PIL import Image\n",
    "\n",
    "device = torch.device('cuda')"
   ]
  },
  {
   "cell_type": "markdown",
   "metadata": {},
   "source": [
    "Random Erasing"
   ]
  },
  {
   "cell_type": "code",
   "execution_count": 2,
   "metadata": {},
   "outputs": [],
   "source": [
    "import random\n",
    "\n",
    "def random_erasing(image, probability=0.5, sl=0.02, sh=0.33, r1=0.3):\n",
    "    \"\"\"\n",
    "    Randomly erases a rectangular region of the image.\n",
    "    \n",
    "    Args:\n",
    "        image (PIL Image or Tensor): The input image.\n",
    "        probability (float): Probability of applying random erasing.\n",
    "        sl (float): Minimum proportion of erased area against the original area.\n",
    "        sh (float): Maximum proportion of erased area against the original area.\n",
    "        r1 (float): Aspect ratio of the erased area.\n",
    "        \n",
    "    Returns:\n",
    "        The modified image with a random erasure applied.\n",
    "    \"\"\"\n",
    "    if random.random() > probability:\n",
    "        return image  # Do nothing if not applying random erasing\n",
    "\n",
    "    # Get dimensions\n",
    "    h, w = image.size if isinstance(image, Image.Image) else image.shape[1:3]\n",
    "    area = h * w\n",
    "\n",
    "    # Calculate the target area of the erasure\n",
    "    target_area = random.uniform(sl, sh) * area\n",
    "    aspect_ratio = random.uniform(r1, 1/r1)\n",
    "\n",
    "    # Calculate the height and width of the rectangle\n",
    "    h_eraser = int(round((target_area * aspect_ratio) ** 0.5))\n",
    "    w_eraser = int(round((target_area / aspect_ratio) ** 0.5))\n",
    "\n",
    "    # Ensure the rectangle fits within the image\n",
    "    if h_eraser > h or w_eraser > w:\n",
    "        return image\n",
    "\n",
    "    # Randomly choose the top left corner of the rectangle\n",
    "    x = random.randint(0, w - w_eraser)\n",
    "    y = random.randint(0, h - h_eraser)\n",
    "\n",
    "    # Create a random erasing mask\n",
    "    if isinstance(image, Image.Image):\n",
    "        # Convert image to numpy array for erasing\n",
    "        image = np.array(image)\n",
    "    else:\n",
    "        image = image.numpy()  # If tensor, convert to numpy\n",
    "\n",
    "    image[y:y + h_eraser, x:x + w_eraser, :] = np.random.randint(0, 256, (h_eraser, w_eraser, 3), dtype=np.uint8)\n",
    "\n",
    "    return image\n"
   ]
  },
  {
   "cell_type": "markdown",
   "metadata": {},
   "source": [
    "Custom dataset class to label T-shirts (class 0) as normal, other classes as abnormal"
   ]
  },
  {
   "cell_type": "code",
   "execution_count": 3,
   "metadata": {},
   "outputs": [],
   "source": [
    "class FashionMNISTCustom(Dataset):\n",
    "    def __init__(self, root='./data', train=True, transform=None, normal_class=0):\n",
    "        \"\"\"\n",
    "            Custom FashionMNIST dataset with normal and abnormal labels.\n",
    "            Normal class will be labeled as 0, all other classes as 1.\n",
    "        \"\"\"\n",
    "        self.dataset = datasets.FashionMNIST(root=root, train=train, download=True)\n",
    "        self.normal_class = normal_class  # Set the normal class (e.g., T-shirts)\n",
    "        self.transform = transform\n",
    "\n",
    "    def __len__(self):\n",
    "        return len(self.dataset)\n",
    "\n",
    "    def __getitem__(self, idx):\n",
    "        img, label = self.dataset[idx]\n",
    "        # Label normal (T-shirt) as 0, abnormal (other) as 1\n",
    "        label = 0 if label == self.normal_class else 1\n",
    "        if self.transform:\n",
    "            img = self.transform(img)\n",
    "        return img, label"
   ]
  },
  {
   "cell_type": "code",
   "execution_count": 4,
   "metadata": {},
   "outputs": [],
   "source": [
    "class Cifar100Custom(Dataset):\n",
    "    def __init__(self, root='./data', train=True, transform=None, normal_class=0):\n",
    "        \"\"\"\n",
    "            Custom Cifar100 dataset with normal and abnormal labels.\n",
    "            Normal class will be labeled as 0, all other classes as 1.\n",
    "            Parameters:\n",
    "            - root: Path to the dataset.\n",
    "            - train: Boolean indicating whether to load the training set (default is True).\n",
    "            - transform: Transformations to be applied to the images (default is None).\n",
    "            - normal_class: Class index to be labeled as normal (default is 0).\n",
    "            - apply_erasing: Boolean indicating whether to apply random erasing (default is False).\n",
    "        \"\"\"\n",
    "        self.dataset = datasets.CIFAR100(root=root, train=train, download=True)\n",
    "        self.normal_class = normal_class  # Set the normal class (e.g., apple)\n",
    "        self.transform = transform\n",
    "\n",
    "    def __len__(self):\n",
    "        return len(self.dataset)\n",
    "\n",
    "    def __getitem__(self, idx):\n",
    "        img, label = self.dataset[idx]\n",
    "        # Label normal (apple) as 0, abnormal (other) as 1\n",
    "        label = 0 if label == self.normal_class else 1\n",
    "\n",
    "        img = random_erasing(img)  # Apply random erasing\n",
    "\n",
    "        if self.transform:\n",
    "            img = self.transform(img)\n",
    "        return img, label"
   ]
  },
  {
   "cell_type": "markdown",
   "metadata": {},
   "source": [
    "SSAE Model Definition"
   ]
  },
  {
   "cell_type": "code",
   "execution_count": 5,
   "metadata": {},
   "outputs": [],
   "source": [
    "class SSAE(nn.Module):\n",
    "    def __init__(self):\n",
    "        super(SSAE, self).__init__()\n",
    "        # Encoder network: compresses image to 64 dimensions\n",
    "        self.encoder = nn.Sequential(\n",
    "            nn.Linear(32*32*3, 256),  # Input layer (32*32 image size)\n",
    "            nn.ReLU(),\n",
    "            nn.Linear(256, 128),\n",
    "            nn.ReLU(),\n",
    "            nn.Linear(128, 64)\n",
    "        )\n",
    "        # Decoder network: reconstructs the image from 64 dimensions\n",
    "        self.decoder = nn.Sequential(\n",
    "            nn.Linear(64, 128),\n",
    "            nn.ReLU(),\n",
    "            nn.Linear(128, 256),\n",
    "            nn.ReLU(),\n",
    "            nn.Linear(256, 32*32*3),\n",
    "            nn.Sigmoid()  # Sigmoid to ensure pixel values are between 0 and 1\n",
    "        )\n",
    "\n",
    "    def forward(self, x):\n",
    "        # flatten the input image\n",
    "        x = x.view(x.size(0), -1) # (BS, ch, w, h) -> (BS, ch*w*h)\n",
    "        # Forward pass through encoder and decoder\n",
    "        x = self.encoder(x)\n",
    "        x = self.decoder(x)\n",
    "\n",
    "        # reshape the image again to (BS, ch, w, h)\n",
    "        x = x.view(x.size(0), 3, 32, 32)\n",
    "\n",
    "        return x\n",
    "    \n",
    "    def semi_supervised_loss(self, inputs, outputs, labels, margin=0.2):\n",
    "\n",
    "        # Flatten the inputs and outputs for loss calculation\n",
    "        inputs = inputs.view(inputs.size(0), -1)\n",
    "        outputs = outputs.view(outputs.size(0), -1)\n",
    "\n",
    "        # Standard reconstruction loss (Mean Squared Error)\n",
    "        reconstruction_loss = F.mse_loss(outputs, inputs, reduction='none').mean(dim=1)\n",
    "\n",
    "        # Separate normal and abnormal samples\n",
    "        abnormal = labels > 0  # True for abnormal samples\n",
    "\n",
    "        # Calculate additional abnormal loss\n",
    "        abnormal_loss = reconstruction_loss[abnormal].mean() if abnormal.any() else torch.tensor(0.0)\n",
    "\n",
    "        # Combine normal reconstruction loss and abnormal loss\n",
    "        return reconstruction_loss.mean() + abnormal_loss"
   ]
  },
  {
   "cell_type": "markdown",
   "metadata": {},
   "source": [
    "Data preparation"
   ]
  },
  {
   "cell_type": "code",
   "execution_count": 6,
   "metadata": {},
   "outputs": [
    {
     "name": "stdout",
     "output_type": "stream",
     "text": [
      "Files already downloaded and verified\n",
      "Files already downloaded and verified\n"
     ]
    }
   ],
   "source": [
    "transform = transforms.Compose([transforms.ToTensor(),\n",
    "                                # Normalization according to CIFAR-100 mean and std\n",
    "                                transforms.Normalize((0.5071, 0.4867, 0.4408), (0.2675, 0.2565, 0.2761))])\n",
    "train_dataset = Cifar100Custom(train=True, transform=transform, normal_class=0)  # apple as normal\n",
    "train_loader = DataLoader(train_dataset, batch_size=64, shuffle=True)\n",
    "val_dataset = Cifar100Custom(train=False, transform=transform, normal_class=0)\n",
    "val_loader = DataLoader(val_dataset, batch_size=64, shuffle=False)"
   ]
  },
  {
   "cell_type": "markdown",
   "metadata": {},
   "source": [
    "View samples from the dataset with labels (Normal: 0, Abnormal: 1)"
   ]
  },
  {
   "cell_type": "code",
   "execution_count": 7,
   "metadata": {},
   "outputs": [],
   "source": [
    "def show_samples(dataset, num_samples=5):\n",
    "    fig, axes = plt.subplots(1, num_samples, figsize=(15, 3))\n",
    "\n",
    "    for i in range(num_samples):\n",
    "        img, label = dataset[i]  # Get image and label\n",
    "        \n",
    "        # Convert tensor to numpy array for displaying\n",
    "        if isinstance(img, torch.Tensor):\n",
    "            # img = img.numpy().squeeze()  # Convert to numpy and squeeze to remove extra dimensions\n",
    "\n",
    "             img = img.permute(1, 2, 0).numpy()  # Convert to (H, W, C) format\n",
    "\n",
    "        axes[i].imshow(img, cmap='gray')  # Display the image\n",
    "        axes[i].set_title(f\"Label: {'Normal' if label == 0 else 'Abnormal'}\")\n",
    "        axes[i].axis('off')\n",
    "    \n",
    "    plt.show()"
   ]
  },
  {
   "cell_type": "code",
   "execution_count": 8,
   "metadata": {},
   "outputs": [
    {
     "name": "stdout",
     "output_type": "stream",
     "text": [
      "Files already downloaded and verified\n",
      "Total number of samples in the dataset: 50000\n"
     ]
    },
    {
     "data": {
      "image/png": "[encoded data removed]",
      "text/plain": [
       "<Figure size 1500x300 with 5 Axes>"
      ]
     },
     "metadata": {},
     "output_type": "display_data"
    }
   ],
   "source": [
    "# Dataset with T-shirts (class 0) as normal and others as abnormal\n",
    "train_dataset = Cifar100Custom(train=True, transform=transforms.ToTensor(), normal_class=0)\n",
    "\n",
    "# Check the length of the dataset\n",
    "print(f\"Total number of samples in the dataset: {len(train_dataset)}\")\n",
    "\n",
    "# Show a few samples with their labels\n",
    "show_samples(train_dataset, num_samples=5)"
   ]
  },
  {
   "cell_type": "code",
   "execution_count": 9,
   "metadata": {},
   "outputs": [],
   "source": [
    "# def visualize_random_erasing(dataset, num_samples=5):\n",
    "#     fig, axes = plt.subplots(2, num_samples, figsize=(15, 6))\n",
    "    \n",
    "#     for i in range(num_samples):\n",
    "#         img, label = dataset[i]\n",
    "        \n",
    "#         # Convert to numpy for visualization (CHW to HWC)\n",
    "#         img = img.permute(1, 2, 0).numpy()\n",
    "        \n",
    "#         # Show original image\n",
    "#         axes[0, i].imshow((img * 255).astype(np.uint8))  # Denormalize\n",
    "#         axes[0, i].set_title(f\"Original: {label}\")\n",
    "#         axes[0, i].axis('off')\n",
    "\n",
    "#         # Apply random erasing\n",
    "#         erased_img = random_erasing(img.copy())\n",
    "        \n",
    "#         # Show image with random erasing\n",
    "#         axes[1, i].imshow(erased_img.astype(np.uint8))\n",
    "#         axes[1, i].set_title(\"With Random Erasing\")\n",
    "#         axes[1, i].axis('off')\n",
    "\n",
    "#     plt.show()\n",
    "\n",
    "# # Visualize 5 random samples from the dataset\n",
    "# visualize_random_erasing(train_dataset, num_samples=5)"
   ]
  },
  {
   "cell_type": "code",
   "execution_count": 10,
   "metadata": {},
   "outputs": [],
   "source": [
    "model = SSAE()\n",
    "optimizer = optim.Adam(model.parameters(), lr=0.0001)"
   ]
  },
  {
   "cell_type": "code",
   "execution_count": 11,
   "metadata": {},
   "outputs": [],
   "source": [
    "device = torch.device('cuda')"
   ]
  },
  {
   "cell_type": "code",
   "execution_count": 12,
   "metadata": {},
   "outputs": [
    {
     "data": {
      "text/plain": [
       "SSAE(\n",
       "  (encoder): Sequential(\n",
       "    (0): Linear(in_features=3072, out_features=256, bias=True)\n",
       "    (1): ReLU()\n",
       "    (2): Linear(in_features=256, out_features=128, bias=True)\n",
       "    (3): ReLU()\n",
       "    (4): Linear(in_features=128, out_features=64, bias=True)\n",
       "  )\n",
       "  (decoder): Sequential(\n",
       "    (0): Linear(in_features=64, out_features=128, bias=True)\n",
       "    (1): ReLU()\n",
       "    (2): Linear(in_features=128, out_features=256, bias=True)\n",
       "    (3): ReLU()\n",
       "    (4): Linear(in_features=256, out_features=3072, bias=True)\n",
       "    (5): Sigmoid()\n",
       "  )\n",
       ")"
      ]
     },
     "execution_count": 12,
     "metadata": {},
     "output_type": "execute_result"
    }
   ],
   "source": [
    "model.to(device)"
   ]
  },
  {
   "cell_type": "markdown",
   "metadata": {},
   "source": [
    "Training loop"
   ]
  },
  {
   "cell_type": "code",
   "execution_count": 13,
   "metadata": {},
   "outputs": [
    {
     "name": "stderr",
     "output_type": "stream",
     "text": [
      "Epoch 1/350 (SSAE): 100%|██████████| 782/782 [00:39<00:00, 19.90it/s, loss=1.73]\n"
     ]
    },
    {
     "name": "stdout",
     "output_type": "stream",
     "text": [
      "Epoch [1/10], Avg Loss: 1.6461\n",
      "Epoch [1/10], Avg Validation Loss: 1.5222\n"
     ]
    },
    {
     "name": "stderr",
     "output_type": "stream",
     "text": [
      "Epoch 2/350 (SSAE): 100%|██████████| 782/782 [00:28<00:00, 27.26it/s, loss=1.33]\n"
     ]
    },
    {
     "name": "stdout",
     "output_type": "stream",
     "text": [
      "Epoch [2/10], Avg Loss: 1.4765\n",
      "Epoch [2/10], Avg Validation Loss: 1.4650\n"
     ]
    },
    {
     "name": "stderr",
     "output_type": "stream",
     "text": [
      "Epoch 3/350 (SSAE): 100%|██████████| 782/782 [00:25<00:00, 30.87it/s, loss=1.06]\n"
     ]
    },
    {
     "name": "stdout",
     "output_type": "stream",
     "text": [
      "Epoch [3/10], Avg Loss: 1.4503\n",
      "Epoch [3/10], Avg Validation Loss: 1.4537\n"
     ]
    },
    {
     "name": "stderr",
     "output_type": "stream",
     "text": [
      "Epoch 4/350 (SSAE): 100%|██████████| 782/782 [00:31<00:00, 24.61it/s, loss=1.4] \n"
     ]
    },
    {
     "name": "stdout",
     "output_type": "stream",
     "text": [
      "Epoch [4/10], Avg Loss: 1.4359\n",
      "Epoch [4/10], Avg Validation Loss: 1.4348\n"
     ]
    },
    {
     "name": "stderr",
     "output_type": "stream",
     "text": [
      "Epoch 5/350 (SSAE): 100%|██████████| 782/782 [00:34<00:00, 22.74it/s, loss=1.5] \n"
     ]
    },
    {
     "name": "stdout",
     "output_type": "stream",
     "text": [
      "Epoch [5/10], Avg Loss: 1.4163\n",
      "Epoch [5/10], Avg Validation Loss: 1.4173\n",
      "Validation loss improved. Saving the best model at epoch 5.\n"
     ]
    },
    {
     "name": "stderr",
     "output_type": "stream",
     "text": [
      "Epoch 6/350 (SSAE): 100%|██████████| 782/782 [00:32<00:00, 24.30it/s, loss=1.4] \n"
     ]
    },
    {
     "name": "stdout",
     "output_type": "stream",
     "text": [
      "Epoch [6/10], Avg Loss: 1.4038\n",
      "Epoch [6/10], Avg Validation Loss: 1.4066\n"
     ]
    },
    {
     "name": "stderr",
     "output_type": "stream",
     "text": [
      "Epoch 7/350 (SSAE): 100%|██████████| 782/782 [00:34<00:00, 22.79it/s, loss=1.51]\n"
     ]
    },
    {
     "name": "stdout",
     "output_type": "stream",
     "text": [
      "Epoch [7/10], Avg Loss: 1.3949\n",
      "Epoch [7/10], Avg Validation Loss: 1.3959\n"
     ]
    },
    {
     "name": "stderr",
     "output_type": "stream",
     "text": [
      "Epoch 8/350 (SSAE): 100%|██████████| 782/782 [00:32<00:00, 24.42it/s, loss=1.46]\n"
     ]
    },
    {
     "name": "stdout",
     "output_type": "stream",
     "text": [
      "Epoch [8/10], Avg Loss: 1.3849\n",
      "Epoch [8/10], Avg Validation Loss: 1.3901\n"
     ]
    },
    {
     "name": "stderr",
     "output_type": "stream",
     "text": [
      "Epoch 9/350 (SSAE): 100%|██████████| 782/782 [00:32<00:00, 24.28it/s, loss=1.25]\n"
     ]
    },
    {
     "name": "stdout",
     "output_type": "stream",
     "text": [
      "Epoch [9/10], Avg Loss: 1.3761\n",
      "Epoch [9/10], Avg Validation Loss: 1.3764\n"
     ]
    },
    {
     "name": "stderr",
     "output_type": "stream",
     "text": [
      "Epoch 10/350 (SSAE): 100%|██████████| 782/782 [00:31<00:00, 24.55it/s, loss=1.28]\n"
     ]
    },
    {
     "name": "stdout",
     "output_type": "stream",
     "text": [
      "Epoch [10/10], Avg Loss: 1.3684\n",
      "Epoch [10/10], Avg Validation Loss: 1.3719\n",
      "Validation loss improved. Saving the best model at epoch 10.\n"
     ]
    },
    {
     "name": "stderr",
     "output_type": "stream",
     "text": [
      "Epoch 11/350 (SSAE): 100%|██████████| 782/782 [00:33<00:00, 23.46it/s, loss=1.27]\n"
     ]
    },
    {
     "name": "stdout",
     "output_type": "stream",
     "text": [
      "Epoch [11/10], Avg Loss: 1.3604\n",
      "Epoch [11/10], Avg Validation Loss: 1.3679\n"
     ]
    },
    {
     "name": "stderr",
     "output_type": "stream",
     "text": [
      "Epoch 12/350 (SSAE): 100%|██████████| 782/782 [00:31<00:00, 24.84it/s, loss=1.11]\n"
     ]
    },
    {
     "name": "stdout",
     "output_type": "stream",
     "text": [
      "Epoch [12/10], Avg Loss: 1.3556\n",
      "Epoch [12/10], Avg Validation Loss: 1.3628\n"
     ]
    },
    {
     "name": "stderr",
     "output_type": "stream",
     "text": [
      "Epoch 13/350 (SSAE): 100%|██████████| 782/782 [00:31<00:00, 24.49it/s, loss=1.45]\n"
     ]
    },
    {
     "name": "stdout",
     "output_type": "stream",
     "text": [
      "Epoch [13/10], Avg Loss: 1.3516\n",
      "Epoch [13/10], Avg Validation Loss: 1.3562\n"
     ]
    },
    {
     "name": "stderr",
     "output_type": "stream",
     "text": [
      "Epoch 14/350 (SSAE): 100%|██████████| 782/782 [00:28<00:00, 27.08it/s, loss=1.26]\n"
     ]
    },
    {
     "name": "stdout",
     "output_type": "stream",
     "text": [
      "Epoch [14/10], Avg Loss: 1.3483\n",
      "Epoch [14/10], Avg Validation Loss: 1.3549\n"
     ]
    },
    {
     "name": "stderr",
     "output_type": "stream",
     "text": [
      "Epoch 15/350 (SSAE): 100%|██████████| 782/782 [00:33<00:00, 23.11it/s, loss=1.46]\n"
     ]
    },
    {
     "name": "stdout",
     "output_type": "stream",
     "text": [
      "Epoch [15/10], Avg Loss: 1.3438\n",
      "Epoch [15/10], Avg Validation Loss: 1.3516\n",
      "Validation loss improved. Saving the best model at epoch 15.\n"
     ]
    },
    {
     "name": "stderr",
     "output_type": "stream",
     "text": [
      "Epoch 16/350 (SSAE): 100%|██████████| 782/782 [00:30<00:00, 25.69it/s, loss=1.37]\n"
     ]
    },
    {
     "name": "stdout",
     "output_type": "stream",
     "text": [
      "Epoch [16/10], Avg Loss: 1.3404\n",
      "Epoch [16/10], Avg Validation Loss: 1.3457\n"
     ]
    },
    {
     "name": "stderr",
     "output_type": "stream",
     "text": [
      "Epoch 17/350 (SSAE): 100%|██████████| 782/782 [00:30<00:00, 25.27it/s, loss=1.7] \n"
     ]
    },
    {
     "name": "stdout",
     "output_type": "stream",
     "text": [
      "Epoch [17/10], Avg Loss: 1.3391\n",
      "Epoch [17/10], Avg Validation Loss: 1.3433\n"
     ]
    },
    {
     "name": "stderr",
     "output_type": "stream",
     "text": [
      "Epoch 18/350 (SSAE): 100%|██████████| 782/782 [00:31<00:00, 25.20it/s, loss=1.39]\n"
     ]
    },
    {
     "name": "stdout",
     "output_type": "stream",
     "text": [
      "Epoch [18/10], Avg Loss: 1.3361\n",
      "Epoch [18/10], Avg Validation Loss: 1.3419\n"
     ]
    },
    {
     "name": "stderr",
     "output_type": "stream",
     "text": [
      "Epoch 19/350 (SSAE): 100%|██████████| 782/782 [00:33<00:00, 23.40it/s, loss=1.33]\n"
     ]
    },
    {
     "name": "stdout",
     "output_type": "stream",
     "text": [
      "Epoch [19/10], Avg Loss: 1.3345\n",
      "Epoch [19/10], Avg Validation Loss: 1.3368\n"
     ]
    },
    {
     "name": "stderr",
     "output_type": "stream",
     "text": [
      "Epoch 20/350 (SSAE): 100%|██████████| 782/782 [00:30<00:00, 25.94it/s, loss=1.39]\n"
     ]
    },
    {
     "name": "stdout",
     "output_type": "stream",
     "text": [
      "Epoch [20/10], Avg Loss: 1.3318\n",
      "Epoch [20/10], Avg Validation Loss: 1.3380\n",
      "Validation loss improved. Saving the best model at epoch 20.\n"
     ]
    },
    {
     "name": "stderr",
     "output_type": "stream",
     "text": [
      "Epoch 21/350 (SSAE): 100%|██████████| 782/782 [00:29<00:00, 26.24it/s, loss=1.75]\n"
     ]
    },
    {
     "name": "stdout",
     "output_type": "stream",
     "text": [
      "Epoch [21/10], Avg Loss: 1.3297\n",
      "Epoch [21/10], Avg Validation Loss: 1.3339\n"
     ]
    },
    {
     "name": "stderr",
     "output_type": "stream",
     "text": [
      "Epoch 22/350 (SSAE): 100%|██████████| 782/782 [00:33<00:00, 23.59it/s, loss=1.16]\n"
     ]
    },
    {
     "name": "stdout",
     "output_type": "stream",
     "text": [
      "Epoch [22/10], Avg Loss: 1.3274\n",
      "Epoch [22/10], Avg Validation Loss: 1.3337\n"
     ]
    },
    {
     "name": "stderr",
     "output_type": "stream",
     "text": [
      "Epoch 23/350 (SSAE): 100%|██████████| 782/782 [00:31<00:00, 25.14it/s, loss=1.56]\n"
     ]
    },
    {
     "name": "stdout",
     "output_type": "stream",
     "text": [
      "Epoch [23/10], Avg Loss: 1.3256\n",
      "Epoch [23/10], Avg Validation Loss: 1.3321\n"
     ]
    },
    {
     "name": "stderr",
     "output_type": "stream",
     "text": [
      "Epoch 24/350 (SSAE): 100%|██████████| 782/782 [00:31<00:00, 24.47it/s, loss=1.26]\n"
     ]
    },
    {
     "name": "stdout",
     "output_type": "stream",
     "text": [
      "Epoch [24/10], Avg Loss: 1.3231\n",
      "Epoch [24/10], Avg Validation Loss: 1.3338\n"
     ]
    },
    {
     "name": "stderr",
     "output_type": "stream",
     "text": [
      "Epoch 25/350 (SSAE): 100%|██████████| 782/782 [00:29<00:00, 26.67it/s, loss=1.01]\n"
     ]
    },
    {
     "name": "stdout",
     "output_type": "stream",
     "text": [
      "Epoch [25/10], Avg Loss: 1.3212\n",
      "Epoch [25/10], Avg Validation Loss: 1.3276\n",
      "Validation loss improved. Saving the best model at epoch 25.\n"
     ]
    },
    {
     "name": "stderr",
     "output_type": "stream",
     "text": [
      "Epoch 26/350 (SSAE): 100%|██████████| 782/782 [00:33<00:00, 23.05it/s, loss=1.26]\n"
     ]
    },
    {
     "name": "stdout",
     "output_type": "stream",
     "text": [
      "Epoch [26/10], Avg Loss: 1.3220\n",
      "Epoch [26/10], Avg Validation Loss: 1.3290\n"
     ]
    },
    {
     "name": "stderr",
     "output_type": "stream",
     "text": [
      "Epoch 27/350 (SSAE): 100%|██████████| 782/782 [00:31<00:00, 24.92it/s, loss=1.17]\n"
     ]
    },
    {
     "name": "stdout",
     "output_type": "stream",
     "text": [
      "Epoch [27/10], Avg Loss: 1.3205\n",
      "Epoch [27/10], Avg Validation Loss: 1.3234\n"
     ]
    },
    {
     "name": "stderr",
     "output_type": "stream",
     "text": [
      "Epoch 28/350 (SSAE): 100%|██████████| 782/782 [00:31<00:00, 24.61it/s, loss=1.17]\n"
     ]
    },
    {
     "name": "stdout",
     "output_type": "stream",
     "text": [
      "Epoch [28/10], Avg Loss: 1.3167\n",
      "Epoch [28/10], Avg Validation Loss: 1.3216\n"
     ]
    },
    {
     "name": "stderr",
     "output_type": "stream",
     "text": [
      "Epoch 29/350 (SSAE): 100%|██████████| 782/782 [00:33<00:00, 23.24it/s, loss=1.32]\n"
     ]
    },
    {
     "name": "stdout",
     "output_type": "stream",
     "text": [
      "Epoch [29/10], Avg Loss: 1.3175\n",
      "Epoch [29/10], Avg Validation Loss: 1.3212\n"
     ]
    },
    {
     "name": "stderr",
     "output_type": "stream",
     "text": [
      "Epoch 30/350 (SSAE): 100%|██████████| 782/782 [00:32<00:00, 24.17it/s, loss=1.16]\n"
     ]
    },
    {
     "name": "stdout",
     "output_type": "stream",
     "text": [
      "Epoch [30/10], Avg Loss: 1.3134\n",
      "Epoch [30/10], Avg Validation Loss: 1.3204\n",
      "Validation loss improved. Saving the best model at epoch 30.\n"
     ]
    },
    {
     "name": "stderr",
     "output_type": "stream",
     "text": [
      "Epoch 31/350 (SSAE): 100%|██████████| 782/782 [00:28<00:00, 27.83it/s, loss=1.15]\n"
     ]
    },
    {
     "name": "stdout",
     "output_type": "stream",
     "text": [
      "Epoch [31/10], Avg Loss: 1.3117\n",
      "Epoch [31/10], Avg Validation Loss: 1.3214\n"
     ]
    },
    {
     "name": "stderr",
     "output_type": "stream",
     "text": [
      "Epoch 32/350 (SSAE): 100%|██████████| 782/782 [00:28<00:00, 27.88it/s, loss=1.02]\n"
     ]
    },
    {
     "name": "stdout",
     "output_type": "stream",
     "text": [
      "Epoch [32/10], Avg Loss: 1.3110\n",
      "Epoch [32/10], Avg Validation Loss: 1.3163\n"
     ]
    },
    {
     "name": "stderr",
     "output_type": "stream",
     "text": [
      "Epoch 33/350 (SSAE): 100%|██████████| 782/782 [00:27<00:00, 28.24it/s, loss=1.19]\n"
     ]
    },
    {
     "name": "stdout",
     "output_type": "stream",
     "text": [
      "Epoch [33/10], Avg Loss: 1.3083\n",
      "Epoch [33/10], Avg Validation Loss: 1.3184\n"
     ]
    },
    {
     "name": "stderr",
     "output_type": "stream",
     "text": [
      "Epoch 34/350 (SSAE): 100%|██████████| 782/782 [00:27<00:00, 27.96it/s, loss=1.57]\n"
     ]
    },
    {
     "name": "stdout",
     "output_type": "stream",
     "text": [
      "Epoch [34/10], Avg Loss: 1.3086\n",
      "Epoch [34/10], Avg Validation Loss: 1.3142\n"
     ]
    },
    {
     "name": "stderr",
     "output_type": "stream",
     "text": [
      "Epoch 35/350 (SSAE): 100%|██████████| 782/782 [00:28<00:00, 27.07it/s, loss=1.25]\n"
     ]
    },
    {
     "name": "stdout",
     "output_type": "stream",
     "text": [
      "Epoch [35/10], Avg Loss: 1.3072\n",
      "Epoch [35/10], Avg Validation Loss: 1.3153\n",
      "Validation loss improved. Saving the best model at epoch 35.\n"
     ]
    },
    {
     "name": "stderr",
     "output_type": "stream",
     "text": [
      "Epoch 36/350 (SSAE): 100%|██████████| 782/782 [00:33<00:00, 23.14it/s, loss=1.06] \n"
     ]
    },
    {
     "name": "stdout",
     "output_type": "stream",
     "text": [
      "Epoch [36/10], Avg Loss: 1.3064\n",
      "Epoch [36/10], Avg Validation Loss: 1.3121\n"
     ]
    },
    {
     "name": "stderr",
     "output_type": "stream",
     "text": [
      "Epoch 37/350 (SSAE): 100%|██████████| 782/782 [00:34<00:00, 22.51it/s, loss=1.2] \n"
     ]
    },
    {
     "name": "stdout",
     "output_type": "stream",
     "text": [
      "Epoch [37/10], Avg Loss: 1.3056\n",
      "Epoch [37/10], Avg Validation Loss: 1.3125\n"
     ]
    },
    {
     "name": "stderr",
     "output_type": "stream",
     "text": [
      "Epoch 38/350 (SSAE): 100%|██████████| 782/782 [00:33<00:00, 23.33it/s, loss=1.11]\n"
     ]
    },
    {
     "name": "stdout",
     "output_type": "stream",
     "text": [
      "Epoch [38/10], Avg Loss: 1.3050\n",
      "Epoch [38/10], Avg Validation Loss: 1.3157\n"
     ]
    },
    {
     "name": "stderr",
     "output_type": "stream",
     "text": [
      "Epoch 39/350 (SSAE): 100%|██████████| 782/782 [00:29<00:00, 26.57it/s, loss=1.41]\n"
     ]
    },
    {
     "name": "stdout",
     "output_type": "stream",
     "text": [
      "Epoch [39/10], Avg Loss: 1.3046\n",
      "Epoch [39/10], Avg Validation Loss: 1.3101\n"
     ]
    },
    {
     "name": "stderr",
     "output_type": "stream",
     "text": [
      "Epoch 40/350 (SSAE): 100%|██████████| 782/782 [00:31<00:00, 25.19it/s, loss=1.33]\n"
     ]
    },
    {
     "name": "stdout",
     "output_type": "stream",
     "text": [
      "Epoch [40/10], Avg Loss: 1.3024\n",
      "Epoch [40/10], Avg Validation Loss: 1.3091\n",
      "Validation loss improved. Saving the best model at epoch 40.\n"
     ]
    },
    {
     "name": "stderr",
     "output_type": "stream",
     "text": [
      "Epoch 41/350 (SSAE): 100%|██████████| 782/782 [00:31<00:00, 24.98it/s, loss=1.08] \n"
     ]
    },
    {
     "name": "stdout",
     "output_type": "stream",
     "text": [
      "Epoch [41/10], Avg Loss: 1.3001\n",
      "Epoch [41/10], Avg Validation Loss: 1.3075\n"
     ]
    },
    {
     "name": "stderr",
     "output_type": "stream",
     "text": [
      "Epoch 42/350 (SSAE): 100%|██████████| 782/782 [00:27<00:00, 28.10it/s, loss=1.34]\n"
     ]
    },
    {
     "name": "stdout",
     "output_type": "stream",
     "text": [
      "Epoch [42/10], Avg Loss: 1.2993\n",
      "Epoch [42/10], Avg Validation Loss: 1.3067\n"
     ]
    },
    {
     "name": "stderr",
     "output_type": "stream",
     "text": [
      "Epoch 43/350 (SSAE): 100%|██████████| 782/782 [00:33<00:00, 23.04it/s, loss=1.37]\n"
     ]
    },
    {
     "name": "stdout",
     "output_type": "stream",
     "text": [
      "Epoch [43/10], Avg Loss: 1.3008\n",
      "Epoch [43/10], Avg Validation Loss: 1.3066\n"
     ]
    },
    {
     "name": "stderr",
     "output_type": "stream",
     "text": [
      "Epoch 44/350 (SSAE): 100%|██████████| 782/782 [00:33<00:00, 23.25it/s, loss=0.998]\n"
     ]
    },
    {
     "name": "stdout",
     "output_type": "stream",
     "text": [
      "Epoch [44/10], Avg Loss: 1.2991\n",
      "Epoch [44/10], Avg Validation Loss: 1.3067\n"
     ]
    },
    {
     "name": "stderr",
     "output_type": "stream",
     "text": [
      "Epoch 45/350 (SSAE): 100%|██████████| 782/782 [00:31<00:00, 25.14it/s, loss=1.16]\n"
     ]
    },
    {
     "name": "stdout",
     "output_type": "stream",
     "text": [
      "Epoch [45/10], Avg Loss: 1.2983\n",
      "Epoch [45/10], Avg Validation Loss: 1.3046\n",
      "Validation loss improved. Saving the best model at epoch 45.\n"
     ]
    },
    {
     "name": "stderr",
     "output_type": "stream",
     "text": [
      "Epoch 46/350 (SSAE): 100%|██████████| 782/782 [00:32<00:00, 24.35it/s, loss=1.34]\n"
     ]
    },
    {
     "name": "stdout",
     "output_type": "stream",
     "text": [
      "Epoch [46/10], Avg Loss: 1.2970\n",
      "Epoch [46/10], Avg Validation Loss: 1.3016\n"
     ]
    },
    {
     "name": "stderr",
     "output_type": "stream",
     "text": [
      "Epoch 47/350 (SSAE): 100%|██████████| 782/782 [00:32<00:00, 23.75it/s, loss=1.22]\n"
     ]
    },
    {
     "name": "stdout",
     "output_type": "stream",
     "text": [
      "Epoch [47/10], Avg Loss: 1.2979\n",
      "Epoch [47/10], Avg Validation Loss: 1.3049\n"
     ]
    },
    {
     "name": "stderr",
     "output_type": "stream",
     "text": [
      "Epoch 48/350 (SSAE): 100%|██████████| 782/782 [00:27<00:00, 28.29it/s, loss=1.56]\n"
     ]
    },
    {
     "name": "stdout",
     "output_type": "stream",
     "text": [
      "Epoch [48/10], Avg Loss: 1.2960\n",
      "Epoch [48/10], Avg Validation Loss: 1.3014\n"
     ]
    },
    {
     "name": "stderr",
     "output_type": "stream",
     "text": [
      "Epoch 49/350 (SSAE): 100%|██████████| 782/782 [00:31<00:00, 24.46it/s, loss=1.44]\n"
     ]
    },
    {
     "name": "stdout",
     "output_type": "stream",
     "text": [
      "Epoch [49/10], Avg Loss: 1.2958\n",
      "Epoch [49/10], Avg Validation Loss: 1.3015\n"
     ]
    },
    {
     "name": "stderr",
     "output_type": "stream",
     "text": [
      "Epoch 50/350 (SSAE): 100%|██████████| 782/782 [00:34<00:00, 22.92it/s, loss=1.27]\n"
     ]
    },
    {
     "name": "stdout",
     "output_type": "stream",
     "text": [
      "Epoch [50/10], Avg Loss: 1.2947\n",
      "Epoch [50/10], Avg Validation Loss: 1.2989\n",
      "Validation loss improved. Saving the best model at epoch 50.\n"
     ]
    },
    {
     "name": "stderr",
     "output_type": "stream",
     "text": [
      "Epoch 51/350 (SSAE): 100%|██████████| 782/782 [00:31<00:00, 24.56it/s, loss=1.26]\n"
     ]
    },
    {
     "name": "stdout",
     "output_type": "stream",
     "text": [
      "Epoch [51/10], Avg Loss: 1.2922\n",
      "Epoch [51/10], Avg Validation Loss: 1.2988\n"
     ]
    },
    {
     "name": "stderr",
     "output_type": "stream",
     "text": [
      "Epoch 52/350 (SSAE): 100%|██████████| 782/782 [00:31<00:00, 24.59it/s, loss=1.19]\n"
     ]
    },
    {
     "name": "stdout",
     "output_type": "stream",
     "text": [
      "Epoch [52/10], Avg Loss: 1.2936\n",
      "Epoch [52/10], Avg Validation Loss: 1.2986\n"
     ]
    },
    {
     "name": "stderr",
     "output_type": "stream",
     "text": [
      "Epoch 53/350 (SSAE): 100%|██████████| 782/782 [00:33<00:00, 23.68it/s, loss=1.06] \n"
     ]
    },
    {
     "name": "stdout",
     "output_type": "stream",
     "text": [
      "Epoch [53/10], Avg Loss: 1.2920\n",
      "Epoch [53/10], Avg Validation Loss: 1.2981\n"
     ]
    },
    {
     "name": "stderr",
     "output_type": "stream",
     "text": [
      "Epoch 54/350 (SSAE): 100%|██████████| 782/782 [00:27<00:00, 28.56it/s, loss=1.24]\n"
     ]
    },
    {
     "name": "stdout",
     "output_type": "stream",
     "text": [
      "Epoch [54/10], Avg Loss: 1.2919\n",
      "Epoch [54/10], Avg Validation Loss: 1.2993\n"
     ]
    },
    {
     "name": "stderr",
     "output_type": "stream",
     "text": [
      "Epoch 55/350 (SSAE): 100%|██████████| 782/782 [00:31<00:00, 24.80it/s, loss=1.47]\n"
     ]
    },
    {
     "name": "stdout",
     "output_type": "stream",
     "text": [
      "Epoch [55/10], Avg Loss: 1.2910\n",
      "Epoch [55/10], Avg Validation Loss: 1.2976\n",
      "Validation loss improved. Saving the best model at epoch 55.\n"
     ]
    },
    {
     "name": "stderr",
     "output_type": "stream",
     "text": [
      "Epoch 56/350 (SSAE): 100%|██████████| 782/782 [00:34<00:00, 22.53it/s, loss=1.18]\n"
     ]
    },
    {
     "name": "stdout",
     "output_type": "stream",
     "text": [
      "Epoch [56/10], Avg Loss: 1.2908\n",
      "Epoch [56/10], Avg Validation Loss: 1.2968\n"
     ]
    },
    {
     "name": "stderr",
     "output_type": "stream",
     "text": [
      "Epoch 57/350 (SSAE): 100%|██████████| 782/782 [00:30<00:00, 25.42it/s, loss=1.31]\n"
     ]
    },
    {
     "name": "stdout",
     "output_type": "stream",
     "text": [
      "Epoch [57/10], Avg Loss: 1.2899\n",
      "Epoch [57/10], Avg Validation Loss: 1.2971\n"
     ]
    },
    {
     "name": "stderr",
     "output_type": "stream",
     "text": [
      "Epoch 58/350 (SSAE): 100%|██████████| 782/782 [00:32<00:00, 23.80it/s, loss=1.26]\n"
     ]
    },
    {
     "name": "stdout",
     "output_type": "stream",
     "text": [
      "Epoch [58/10], Avg Loss: 1.2895\n",
      "Epoch [58/10], Avg Validation Loss: 1.2950\n"
     ]
    },
    {
     "name": "stderr",
     "output_type": "stream",
     "text": [
      "Epoch 59/350 (SSAE): 100%|██████████| 782/782 [00:33<00:00, 23.53it/s, loss=1.23]\n"
     ]
    },
    {
     "name": "stdout",
     "output_type": "stream",
     "text": [
      "Epoch [59/10], Avg Loss: 1.2897\n",
      "Epoch [59/10], Avg Validation Loss: 1.2961\n"
     ]
    },
    {
     "name": "stderr",
     "output_type": "stream",
     "text": [
      "Epoch 60/350 (SSAE): 100%|██████████| 782/782 [00:27<00:00, 27.95it/s, loss=1.27]\n"
     ]
    },
    {
     "name": "stdout",
     "output_type": "stream",
     "text": [
      "Epoch [60/10], Avg Loss: 1.2896\n",
      "Epoch [60/10], Avg Validation Loss: 1.2953\n",
      "Validation loss improved. Saving the best model at epoch 60.\n"
     ]
    },
    {
     "name": "stderr",
     "output_type": "stream",
     "text": [
      "Epoch 61/350 (SSAE): 100%|██████████| 782/782 [00:33<00:00, 23.58it/s, loss=1.12]\n"
     ]
    },
    {
     "name": "stdout",
     "output_type": "stream",
     "text": [
      "Epoch [61/10], Avg Loss: 1.2877\n",
      "Epoch [61/10], Avg Validation Loss: 1.2923\n"
     ]
    },
    {
     "name": "stderr",
     "output_type": "stream",
     "text": [
      "Epoch 62/350 (SSAE): 100%|██████████| 782/782 [00:34<00:00, 22.64it/s, loss=1.18]\n"
     ]
    },
    {
     "name": "stdout",
     "output_type": "stream",
     "text": [
      "Epoch [62/10], Avg Loss: 1.2882\n",
      "Epoch [62/10], Avg Validation Loss: 1.2940\n"
     ]
    },
    {
     "name": "stderr",
     "output_type": "stream",
     "text": [
      "Epoch 63/350 (SSAE): 100%|██████████| 782/782 [00:29<00:00, 26.07it/s, loss=1.37]\n"
     ]
    },
    {
     "name": "stdout",
     "output_type": "stream",
     "text": [
      "Epoch [63/10], Avg Loss: 1.2870\n",
      "Epoch [63/10], Avg Validation Loss: 1.2944\n"
     ]
    },
    {
     "name": "stderr",
     "output_type": "stream",
     "text": [
      "Epoch 64/350 (SSAE): 100%|██████████| 782/782 [00:31<00:00, 25.12it/s, loss=1.15]\n"
     ]
    },
    {
     "name": "stdout",
     "output_type": "stream",
     "text": [
      "Epoch [64/10], Avg Loss: 1.2871\n",
      "Epoch [64/10], Avg Validation Loss: 1.2936\n"
     ]
    },
    {
     "name": "stderr",
     "output_type": "stream",
     "text": [
      "Epoch 65/350 (SSAE): 100%|██████████| 782/782 [00:32<00:00, 24.20it/s, loss=1.31]\n"
     ]
    },
    {
     "name": "stdout",
     "output_type": "stream",
     "text": [
      "Epoch [65/10], Avg Loss: 1.2858\n",
      "Epoch [65/10], Avg Validation Loss: 1.2919\n",
      "Validation loss improved. Saving the best model at epoch 65.\n"
     ]
    },
    {
     "name": "stderr",
     "output_type": "stream",
     "text": [
      "Epoch 66/350 (SSAE): 100%|██████████| 782/782 [00:27<00:00, 28.50it/s, loss=1.01] \n"
     ]
    },
    {
     "name": "stdout",
     "output_type": "stream",
     "text": [
      "Epoch [66/10], Avg Loss: 1.2862\n",
      "Epoch [66/10], Avg Validation Loss: 1.2940\n"
     ]
    },
    {
     "name": "stderr",
     "output_type": "stream",
     "text": [
      "Epoch 67/350 (SSAE): 100%|██████████| 782/782 [00:34<00:00, 22.57it/s, loss=1.08]\n"
     ]
    },
    {
     "name": "stdout",
     "output_type": "stream",
     "text": [
      "Epoch [67/10], Avg Loss: 1.2840\n",
      "Epoch [67/10], Avg Validation Loss: 1.2930\n"
     ]
    },
    {
     "name": "stderr",
     "output_type": "stream",
     "text": [
      "Epoch 68/350 (SSAE): 100%|██████████| 782/782 [00:34<00:00, 22.87it/s, loss=1.82]\n"
     ]
    },
    {
     "name": "stdout",
     "output_type": "stream",
     "text": [
      "Epoch [68/10], Avg Loss: 1.2855\n",
      "Epoch [68/10], Avg Validation Loss: 1.2914\n"
     ]
    },
    {
     "name": "stderr",
     "output_type": "stream",
     "text": [
      "Epoch 69/350 (SSAE): 100%|██████████| 782/782 [00:29<00:00, 26.18it/s, loss=1.23]\n"
     ]
    },
    {
     "name": "stdout",
     "output_type": "stream",
     "text": [
      "Epoch [69/10], Avg Loss: 1.2833\n",
      "Epoch [69/10], Avg Validation Loss: 1.2917\n"
     ]
    },
    {
     "name": "stderr",
     "output_type": "stream",
     "text": [
      "Epoch 70/350 (SSAE): 100%|██████████| 782/782 [00:31<00:00, 25.14it/s, loss=1.23]\n"
     ]
    },
    {
     "name": "stdout",
     "output_type": "stream",
     "text": [
      "Epoch [70/10], Avg Loss: 1.2854\n",
      "Epoch [70/10], Avg Validation Loss: 1.2925\n"
     ]
    },
    {
     "name": "stderr",
     "output_type": "stream",
     "text": [
      "Epoch 71/350 (SSAE): 100%|██████████| 782/782 [00:34<00:00, 22.66it/s, loss=1.16]\n"
     ]
    },
    {
     "name": "stdout",
     "output_type": "stream",
     "text": [
      "Epoch [71/10], Avg Loss: 1.2830\n",
      "Epoch [71/10], Avg Validation Loss: 1.2906\n"
     ]
    },
    {
     "name": "stderr",
     "output_type": "stream",
     "text": [
      "Epoch 72/350 (SSAE): 100%|██████████| 782/782 [00:34<00:00, 22.86it/s, loss=1.06]\n"
     ]
    },
    {
     "name": "stdout",
     "output_type": "stream",
     "text": [
      "Epoch [72/10], Avg Loss: 1.2838\n",
      "Epoch [72/10], Avg Validation Loss: 1.2899\n"
     ]
    },
    {
     "name": "stderr",
     "output_type": "stream",
     "text": [
      "Epoch 73/350 (SSAE): 100%|██████████| 782/782 [00:34<00:00, 22.69it/s, loss=1.1] \n"
     ]
    },
    {
     "name": "stdout",
     "output_type": "stream",
     "text": [
      "Epoch [73/10], Avg Loss: 1.2811\n",
      "Epoch [73/10], Avg Validation Loss: 1.2905\n"
     ]
    },
    {
     "name": "stderr",
     "output_type": "stream",
     "text": [
      "Epoch 74/350 (SSAE): 100%|██████████| 782/782 [00:29<00:00, 26.86it/s, loss=1.07] \n"
     ]
    },
    {
     "name": "stdout",
     "output_type": "stream",
     "text": [
      "Epoch [74/10], Avg Loss: 1.2815\n",
      "Epoch [74/10], Avg Validation Loss: 1.2894\n"
     ]
    },
    {
     "name": "stderr",
     "output_type": "stream",
     "text": [
      "Epoch 75/350 (SSAE): 100%|██████████| 782/782 [00:27<00:00, 28.24it/s, loss=1.37]\n"
     ]
    },
    {
     "name": "stdout",
     "output_type": "stream",
     "text": [
      "Epoch [75/10], Avg Loss: 1.2817\n",
      "Epoch [75/10], Avg Validation Loss: 1.2880\n",
      "Validation loss improved. Saving the best model at epoch 75.\n"
     ]
    },
    {
     "name": "stderr",
     "output_type": "stream",
     "text": [
      "Epoch 76/350 (SSAE): 100%|██████████| 782/782 [00:27<00:00, 28.33it/s, loss=0.893]\n"
     ]
    },
    {
     "name": "stdout",
     "output_type": "stream",
     "text": [
      "Epoch [76/10], Avg Loss: 1.2807\n",
      "Epoch [76/10], Avg Validation Loss: 1.2895\n"
     ]
    },
    {
     "name": "stderr",
     "output_type": "stream",
     "text": [
      "Epoch 77/350 (SSAE): 100%|██████████| 782/782 [00:28<00:00, 27.83it/s, loss=1.72] \n"
     ]
    },
    {
     "name": "stdout",
     "output_type": "stream",
     "text": [
      "Epoch [77/10], Avg Loss: 1.2810\n",
      "Epoch [77/10], Avg Validation Loss: 1.2898\n"
     ]
    },
    {
     "name": "stderr",
     "output_type": "stream",
     "text": [
      "Epoch 78/350 (SSAE): 100%|██████████| 782/782 [00:34<00:00, 22.72it/s, loss=1.3] \n"
     ]
    },
    {
     "name": "stdout",
     "output_type": "stream",
     "text": [
      "Epoch [78/10], Avg Loss: 1.2823\n",
      "Epoch [78/10], Avg Validation Loss: 1.2889\n"
     ]
    },
    {
     "name": "stderr",
     "output_type": "stream",
     "text": [
      "Epoch 79/350 (SSAE): 100%|██████████| 782/782 [00:34<00:00, 22.57it/s, loss=1.21]\n"
     ]
    },
    {
     "name": "stdout",
     "output_type": "stream",
     "text": [
      "Epoch [79/10], Avg Loss: 1.2822\n",
      "Epoch [79/10], Avg Validation Loss: 1.2870\n"
     ]
    },
    {
     "name": "stderr",
     "output_type": "stream",
     "text": [
      "Epoch 80/350 (SSAE): 100%|██████████| 782/782 [00:35<00:00, 22.33it/s, loss=1.15]\n"
     ]
    },
    {
     "name": "stdout",
     "output_type": "stream",
     "text": [
      "Epoch [80/10], Avg Loss: 1.2788\n",
      "Epoch [80/10], Avg Validation Loss: 1.2857\n",
      "Validation loss improved. Saving the best model at epoch 80.\n"
     ]
    },
    {
     "name": "stderr",
     "output_type": "stream",
     "text": [
      "Epoch 81/350 (SSAE): 100%|██████████| 782/782 [00:34<00:00, 22.43it/s, loss=1.17]\n"
     ]
    },
    {
     "name": "stdout",
     "output_type": "stream",
     "text": [
      "Epoch [81/10], Avg Loss: 1.2802\n",
      "Epoch [81/10], Avg Validation Loss: 1.2843\n"
     ]
    },
    {
     "name": "stderr",
     "output_type": "stream",
     "text": [
      "Epoch 82/350 (SSAE): 100%|██████████| 782/782 [00:30<00:00, 25.30it/s, loss=1.59] \n"
     ]
    },
    {
     "name": "stdout",
     "output_type": "stream",
     "text": [
      "Epoch [82/10], Avg Loss: 1.2804\n",
      "Epoch [82/10], Avg Validation Loss: 1.2857\n"
     ]
    },
    {
     "name": "stderr",
     "output_type": "stream",
     "text": [
      "Epoch 83/350 (SSAE): 100%|██████████| 782/782 [00:30<00:00, 25.82it/s, loss=1.29]\n"
     ]
    },
    {
     "name": "stdout",
     "output_type": "stream",
     "text": [
      "Epoch [83/10], Avg Loss: 1.2801\n",
      "Epoch [83/10], Avg Validation Loss: 1.2866\n"
     ]
    },
    {
     "name": "stderr",
     "output_type": "stream",
     "text": [
      "Epoch 84/350 (SSAE): 100%|██████████| 782/782 [00:32<00:00, 24.06it/s, loss=1.2] \n"
     ]
    },
    {
     "name": "stdout",
     "output_type": "stream",
     "text": [
      "Epoch [84/10], Avg Loss: 1.2792\n",
      "Epoch [84/10], Avg Validation Loss: 1.2847\n"
     ]
    },
    {
     "name": "stderr",
     "output_type": "stream",
     "text": [
      "Epoch 85/350 (SSAE): 100%|██████████| 782/782 [00:32<00:00, 23.77it/s, loss=1.09] \n"
     ]
    },
    {
     "name": "stdout",
     "output_type": "stream",
     "text": [
      "Epoch [85/10], Avg Loss: 1.2780\n",
      "Epoch [85/10], Avg Validation Loss: 1.2852\n",
      "Validation loss improved. Saving the best model at epoch 85.\n"
     ]
    },
    {
     "name": "stderr",
     "output_type": "stream",
     "text": [
      "Epoch 86/350 (SSAE): 100%|██████████| 782/782 [00:30<00:00, 25.24it/s, loss=1.43]\n"
     ]
    },
    {
     "name": "stdout",
     "output_type": "stream",
     "text": [
      "Epoch [86/10], Avg Loss: 1.2790\n",
      "Epoch [86/10], Avg Validation Loss: 1.2848\n"
     ]
    },
    {
     "name": "stderr",
     "output_type": "stream",
     "text": [
      "Epoch 87/350 (SSAE): 100%|██████████| 782/782 [00:27<00:00, 27.95it/s, loss=1.28]\n"
     ]
    },
    {
     "name": "stdout",
     "output_type": "stream",
     "text": [
      "Epoch [87/10], Avg Loss: 1.2780\n",
      "Epoch [87/10], Avg Validation Loss: 1.2850\n"
     ]
    },
    {
     "name": "stderr",
     "output_type": "stream",
     "text": [
      "Epoch 88/350 (SSAE): 100%|██████████| 782/782 [00:31<00:00, 24.94it/s, loss=1.49]\n"
     ]
    },
    {
     "name": "stdout",
     "output_type": "stream",
     "text": [
      "Epoch [88/10], Avg Loss: 1.2778\n",
      "Epoch [88/10], Avg Validation Loss: 1.2855\n"
     ]
    },
    {
     "name": "stderr",
     "output_type": "stream",
     "text": [
      "Epoch 89/350 (SSAE): 100%|██████████| 782/782 [00:34<00:00, 22.51it/s, loss=1.35] \n"
     ]
    },
    {
     "name": "stdout",
     "output_type": "stream",
     "text": [
      "Epoch [89/10], Avg Loss: 1.2782\n",
      "Epoch [89/10], Avg Validation Loss: 1.2854\n"
     ]
    },
    {
     "name": "stderr",
     "output_type": "stream",
     "text": [
      "Epoch 90/350 (SSAE): 100%|██████████| 782/782 [00:34<00:00, 22.50it/s, loss=1.21]\n"
     ]
    },
    {
     "name": "stdout",
     "output_type": "stream",
     "text": [
      "Epoch [90/10], Avg Loss: 1.2774\n",
      "Epoch [90/10], Avg Validation Loss: 1.2872\n"
     ]
    },
    {
     "name": "stderr",
     "output_type": "stream",
     "text": [
      "Epoch 91/350 (SSAE): 100%|██████████| 782/782 [00:31<00:00, 24.60it/s, loss=1.29] \n"
     ]
    },
    {
     "name": "stdout",
     "output_type": "stream",
     "text": [
      "Epoch [91/10], Avg Loss: 1.2748\n",
      "Epoch [91/10], Avg Validation Loss: 1.2872\n"
     ]
    },
    {
     "name": "stderr",
     "output_type": "stream",
     "text": [
      "Epoch 92/350 (SSAE): 100%|██████████| 782/782 [00:32<00:00, 23.74it/s, loss=1.69]\n"
     ]
    },
    {
     "name": "stdout",
     "output_type": "stream",
     "text": [
      "Epoch [92/10], Avg Loss: 1.2773\n",
      "Epoch [92/10], Avg Validation Loss: 1.2819\n"
     ]
    },
    {
     "name": "stderr",
     "output_type": "stream",
     "text": [
      "Epoch 93/350 (SSAE): 100%|██████████| 782/782 [00:30<00:00, 25.58it/s, loss=1.21] \n"
     ]
    },
    {
     "name": "stdout",
     "output_type": "stream",
     "text": [
      "Epoch [93/10], Avg Loss: 1.2763\n",
      "Epoch [93/10], Avg Validation Loss: 1.2827\n"
     ]
    },
    {
     "name": "stderr",
     "output_type": "stream",
     "text": [
      "Epoch 94/350 (SSAE): 100%|██████████| 782/782 [00:32<00:00, 24.28it/s, loss=1.46] \n"
     ]
    },
    {
     "name": "stdout",
     "output_type": "stream",
     "text": [
      "Epoch [94/10], Avg Loss: 1.2750\n",
      "Epoch [94/10], Avg Validation Loss: 1.2839\n"
     ]
    },
    {
     "name": "stderr",
     "output_type": "stream",
     "text": [
      "Epoch 95/350 (SSAE): 100%|██████████| 782/782 [00:27<00:00, 28.14it/s, loss=1.35]\n"
     ]
    },
    {
     "name": "stdout",
     "output_type": "stream",
     "text": [
      "Epoch [95/10], Avg Loss: 1.2757\n",
      "Epoch [95/10], Avg Validation Loss: 1.2821\n",
      "Validation loss improved. Saving the best model at epoch 95.\n"
     ]
    },
    {
     "name": "stderr",
     "output_type": "stream",
     "text": [
      "Epoch 96/350 (SSAE): 100%|██████████| 782/782 [00:32<00:00, 24.08it/s, loss=1.31]\n"
     ]
    },
    {
     "name": "stdout",
     "output_type": "stream",
     "text": [
      "Epoch [96/10], Avg Loss: 1.2749\n",
      "Epoch [96/10], Avg Validation Loss: 1.2849\n"
     ]
    },
    {
     "name": "stderr",
     "output_type": "stream",
     "text": [
      "Epoch 97/350 (SSAE): 100%|██████████| 782/782 [00:34<00:00, 22.93it/s, loss=1.56]\n"
     ]
    },
    {
     "name": "stdout",
     "output_type": "stream",
     "text": [
      "Epoch [97/10], Avg Loss: 1.2758\n",
      "Epoch [97/10], Avg Validation Loss: 1.2801\n"
     ]
    },
    {
     "name": "stderr",
     "output_type": "stream",
     "text": [
      "Epoch 98/350 (SSAE): 100%|██████████| 782/782 [00:35<00:00, 22.08it/s, loss=1.34]\n"
     ]
    },
    {
     "name": "stdout",
     "output_type": "stream",
     "text": [
      "Epoch [98/10], Avg Loss: 1.2737\n",
      "Epoch [98/10], Avg Validation Loss: 1.2834\n"
     ]
    },
    {
     "name": "stderr",
     "output_type": "stream",
     "text": [
      "Epoch 99/350 (SSAE): 100%|██████████| 782/782 [00:27<00:00, 28.06it/s, loss=1.28]\n"
     ]
    },
    {
     "name": "stdout",
     "output_type": "stream",
     "text": [
      "Epoch [99/10], Avg Loss: 1.2746\n",
      "Epoch [99/10], Avg Validation Loss: 1.2785\n"
     ]
    },
    {
     "name": "stderr",
     "output_type": "stream",
     "text": [
      "Epoch 100/350 (SSAE): 100%|██████████| 782/782 [00:32<00:00, 24.40it/s, loss=0.961]\n"
     ]
    },
    {
     "name": "stdout",
     "output_type": "stream",
     "text": [
      "Epoch [100/10], Avg Loss: 1.2740\n",
      "Epoch [100/10], Avg Validation Loss: 1.2826\n"
     ]
    },
    {
     "name": "stderr",
     "output_type": "stream",
     "text": [
      "Epoch 101/350 (SSAE): 100%|██████████| 782/782 [00:33<00:00, 23.38it/s, loss=1.09] \n"
     ]
    },
    {
     "name": "stdout",
     "output_type": "stream",
     "text": [
      "Epoch [101/10], Avg Loss: 1.2750\n",
      "Epoch [101/10], Avg Validation Loss: 1.2815\n"
     ]
    },
    {
     "name": "stderr",
     "output_type": "stream",
     "text": [
      "Epoch 102/350 (SSAE): 100%|██████████| 782/782 [00:28<00:00, 27.84it/s, loss=1.18]\n"
     ]
    },
    {
     "name": "stdout",
     "output_type": "stream",
     "text": [
      "Epoch [102/10], Avg Loss: 1.2742\n",
      "Epoch [102/10], Avg Validation Loss: 1.2805\n"
     ]
    },
    {
     "name": "stderr",
     "output_type": "stream",
     "text": [
      "Epoch 103/350 (SSAE): 100%|██████████| 782/782 [00:29<00:00, 26.74it/s, loss=1.21]\n"
     ]
    },
    {
     "name": "stdout",
     "output_type": "stream",
     "text": [
      "Epoch [103/10], Avg Loss: 1.2732\n",
      "Epoch [103/10], Avg Validation Loss: 1.2815\n"
     ]
    },
    {
     "name": "stderr",
     "output_type": "stream",
     "text": [
      "Epoch 104/350 (SSAE): 100%|██████████| 782/782 [00:33<00:00, 23.32it/s, loss=1.47]\n"
     ]
    },
    {
     "name": "stdout",
     "output_type": "stream",
     "text": [
      "Epoch [104/10], Avg Loss: 1.2751\n",
      "Epoch [104/10], Avg Validation Loss: 1.2822\n"
     ]
    },
    {
     "name": "stderr",
     "output_type": "stream",
     "text": [
      "Epoch 105/350 (SSAE): 100%|██████████| 782/782 [00:34<00:00, 22.35it/s, loss=1.67]\n"
     ]
    },
    {
     "name": "stdout",
     "output_type": "stream",
     "text": [
      "Epoch [105/10], Avg Loss: 1.2757\n",
      "Epoch [105/10], Avg Validation Loss: 1.2777\n",
      "Validation loss improved. Saving the best model at epoch 105.\n"
     ]
    },
    {
     "name": "stderr",
     "output_type": "stream",
     "text": [
      "Epoch 106/350 (SSAE): 100%|██████████| 782/782 [00:29<00:00, 26.70it/s, loss=1.55]\n"
     ]
    },
    {
     "name": "stdout",
     "output_type": "stream",
     "text": [
      "Epoch [106/10], Avg Loss: 1.2736\n",
      "Epoch [106/10], Avg Validation Loss: 1.2807\n"
     ]
    },
    {
     "name": "stderr",
     "output_type": "stream",
     "text": [
      "Epoch 107/350 (SSAE): 100%|██████████| 782/782 [00:32<00:00, 24.06it/s, loss=1.29] \n"
     ]
    },
    {
     "name": "stdout",
     "output_type": "stream",
     "text": [
      "Epoch [107/10], Avg Loss: 1.2730\n",
      "Epoch [107/10], Avg Validation Loss: 1.2788\n"
     ]
    },
    {
     "name": "stderr",
     "output_type": "stream",
     "text": [
      "Epoch 108/350 (SSAE): 100%|██████████| 782/782 [00:34<00:00, 22.90it/s, loss=1.64]\n"
     ]
    },
    {
     "name": "stdout",
     "output_type": "stream",
     "text": [
      "Epoch [108/10], Avg Loss: 1.2747\n",
      "Epoch [108/10], Avg Validation Loss: 1.2800\n"
     ]
    },
    {
     "name": "stderr",
     "output_type": "stream",
     "text": [
      "Epoch 109/350 (SSAE): 100%|██████████| 782/782 [00:27<00:00, 28.36it/s, loss=1.11] \n"
     ]
    },
    {
     "name": "stdout",
     "output_type": "stream",
     "text": [
      "Epoch [109/10], Avg Loss: 1.2727\n",
      "Epoch [109/10], Avg Validation Loss: 1.2790\n"
     ]
    },
    {
     "name": "stderr",
     "output_type": "stream",
     "text": [
      "Epoch 110/350 (SSAE): 100%|██████████| 782/782 [00:30<00:00, 25.31it/s, loss=1.37]\n"
     ]
    },
    {
     "name": "stdout",
     "output_type": "stream",
     "text": [
      "Epoch [110/10], Avg Loss: 1.2734\n",
      "Epoch [110/10], Avg Validation Loss: 1.2764\n",
      "Validation loss improved. Saving the best model at epoch 110.\n"
     ]
    },
    {
     "name": "stderr",
     "output_type": "stream",
     "text": [
      "Epoch 111/350 (SSAE): 100%|██████████| 782/782 [00:33<00:00, 23.10it/s, loss=1.19]\n"
     ]
    },
    {
     "name": "stdout",
     "output_type": "stream",
     "text": [
      "Epoch [111/10], Avg Loss: 1.2716\n",
      "Epoch [111/10], Avg Validation Loss: 1.2812\n"
     ]
    },
    {
     "name": "stderr",
     "output_type": "stream",
     "text": [
      "Epoch 112/350 (SSAE): 100%|██████████| 782/782 [00:34<00:00, 22.66it/s, loss=0.943]\n"
     ]
    },
    {
     "name": "stdout",
     "output_type": "stream",
     "text": [
      "Epoch [112/10], Avg Loss: 1.2722\n",
      "Epoch [112/10], Avg Validation Loss: 1.2785\n"
     ]
    },
    {
     "name": "stderr",
     "output_type": "stream",
     "text": [
      "Epoch 113/350 (SSAE): 100%|██████████| 782/782 [00:29<00:00, 26.86it/s, loss=0.995]\n"
     ]
    },
    {
     "name": "stdout",
     "output_type": "stream",
     "text": [
      "Epoch [113/10], Avg Loss: 1.2712\n",
      "Epoch [113/10], Avg Validation Loss: 1.2793\n"
     ]
    },
    {
     "name": "stderr",
     "output_type": "stream",
     "text": [
      "Epoch 114/350 (SSAE): 100%|██████████| 782/782 [00:30<00:00, 25.85it/s, loss=1.21]\n"
     ]
    },
    {
     "name": "stdout",
     "output_type": "stream",
     "text": [
      "Epoch [114/10], Avg Loss: 1.2720\n",
      "Epoch [114/10], Avg Validation Loss: 1.2779\n"
     ]
    },
    {
     "name": "stderr",
     "output_type": "stream",
     "text": [
      "Epoch 115/350 (SSAE): 100%|██████████| 782/782 [00:33<00:00, 23.31it/s, loss=1.27]\n"
     ]
    },
    {
     "name": "stdout",
     "output_type": "stream",
     "text": [
      "Epoch [115/10], Avg Loss: 1.2712\n",
      "Epoch [115/10], Avg Validation Loss: 1.2781\n"
     ]
    },
    {
     "name": "stderr",
     "output_type": "stream",
     "text": [
      "Epoch 116/350 (SSAE): 100%|██████████| 782/782 [00:28<00:00, 27.83it/s, loss=1.2] \n"
     ]
    },
    {
     "name": "stdout",
     "output_type": "stream",
     "text": [
      "Epoch [116/10], Avg Loss: 1.2717\n",
      "Epoch [116/10], Avg Validation Loss: 1.2781\n"
     ]
    },
    {
     "name": "stderr",
     "output_type": "stream",
     "text": [
      "Epoch 117/350 (SSAE): 100%|██████████| 782/782 [00:32<00:00, 24.24it/s, loss=1.29]\n"
     ]
    },
    {
     "name": "stdout",
     "output_type": "stream",
     "text": [
      "Epoch [117/10], Avg Loss: 1.2705\n",
      "Epoch [117/10], Avg Validation Loss: 1.2785\n"
     ]
    },
    {
     "name": "stderr",
     "output_type": "stream",
     "text": [
      "Epoch 118/350 (SSAE): 100%|██████████| 782/782 [00:34<00:00, 22.77it/s, loss=1.17] \n"
     ]
    },
    {
     "name": "stdout",
     "output_type": "stream",
     "text": [
      "Epoch [118/10], Avg Loss: 1.2709\n",
      "Epoch [118/10], Avg Validation Loss: 1.2790\n"
     ]
    },
    {
     "name": "stderr",
     "output_type": "stream",
     "text": [
      "Epoch 119/350 (SSAE): 100%|██████████| 782/782 [00:33<00:00, 23.29it/s, loss=1.05]\n"
     ]
    },
    {
     "name": "stdout",
     "output_type": "stream",
     "text": [
      "Epoch [119/10], Avg Loss: 1.2708\n",
      "Epoch [119/10], Avg Validation Loss: 1.2758\n"
     ]
    },
    {
     "name": "stderr",
     "output_type": "stream",
     "text": [
      "Epoch 120/350 (SSAE): 100%|██████████| 782/782 [00:30<00:00, 25.79it/s, loss=1.22]\n"
     ]
    },
    {
     "name": "stdout",
     "output_type": "stream",
     "text": [
      "Epoch [120/10], Avg Loss: 1.2709\n",
      "Epoch [120/10], Avg Validation Loss: 1.2801\n"
     ]
    },
    {
     "name": "stderr",
     "output_type": "stream",
     "text": [
      "Epoch 121/350 (SSAE): 100%|██████████| 782/782 [00:31<00:00, 25.09it/s, loss=1.11]\n"
     ]
    },
    {
     "name": "stdout",
     "output_type": "stream",
     "text": [
      "Epoch [121/10], Avg Loss: 1.2701\n",
      "Epoch [121/10], Avg Validation Loss: 1.2812\n"
     ]
    },
    {
     "name": "stderr",
     "output_type": "stream",
     "text": [
      "Epoch 122/350 (SSAE): 100%|██████████| 782/782 [00:30<00:00, 25.77it/s, loss=1.05]\n"
     ]
    },
    {
     "name": "stdout",
     "output_type": "stream",
     "text": [
      "Epoch [122/10], Avg Loss: 1.2698\n",
      "Epoch [122/10], Avg Validation Loss: 1.2735\n"
     ]
    },
    {
     "name": "stderr",
     "output_type": "stream",
     "text": [
      "Epoch 123/350 (SSAE): 100%|██████████| 782/782 [00:27<00:00, 28.05it/s, loss=1.54]\n"
     ]
    },
    {
     "name": "stdout",
     "output_type": "stream",
     "text": [
      "Epoch [123/10], Avg Loss: 1.2715\n",
      "Epoch [123/10], Avg Validation Loss: 1.2764\n"
     ]
    },
    {
     "name": "stderr",
     "output_type": "stream",
     "text": [
      "Epoch 124/350 (SSAE): 100%|██████████| 782/782 [00:35<00:00, 22.29it/s, loss=1.21]\n"
     ]
    },
    {
     "name": "stdout",
     "output_type": "stream",
     "text": [
      "Epoch [124/10], Avg Loss: 1.2691\n",
      "Epoch [124/10], Avg Validation Loss: 1.2744\n"
     ]
    },
    {
     "name": "stderr",
     "output_type": "stream",
     "text": [
      "Epoch 125/350 (SSAE): 100%|██████████| 782/782 [00:33<00:00, 23.21it/s, loss=1.19]\n"
     ]
    },
    {
     "name": "stdout",
     "output_type": "stream",
     "text": [
      "Epoch [125/10], Avg Loss: 1.2685\n",
      "Epoch [125/10], Avg Validation Loss: 1.2745\n",
      "Validation loss improved. Saving the best model at epoch 125.\n"
     ]
    },
    {
     "name": "stderr",
     "output_type": "stream",
     "text": [
      "Epoch 126/350 (SSAE): 100%|██████████| 782/782 [00:30<00:00, 25.56it/s, loss=1.82]\n"
     ]
    },
    {
     "name": "stdout",
     "output_type": "stream",
     "text": [
      "Epoch [126/10], Avg Loss: 1.2701\n",
      "Epoch [126/10], Avg Validation Loss: 1.2770\n"
     ]
    },
    {
     "name": "stderr",
     "output_type": "stream",
     "text": [
      "Epoch 127/350 (SSAE): 100%|██████████| 782/782 [00:31<00:00, 24.79it/s, loss=1.35]\n"
     ]
    },
    {
     "name": "stdout",
     "output_type": "stream",
     "text": [
      "Epoch [127/10], Avg Loss: 1.2697\n",
      "Epoch [127/10], Avg Validation Loss: 1.2780\n"
     ]
    },
    {
     "name": "stderr",
     "output_type": "stream",
     "text": [
      "Epoch 128/350 (SSAE): 100%|██████████| 782/782 [00:32<00:00, 24.02it/s, loss=1.42]\n"
     ]
    },
    {
     "name": "stdout",
     "output_type": "stream",
     "text": [
      "Epoch [128/10], Avg Loss: 1.2698\n",
      "Epoch [128/10], Avg Validation Loss: 1.2778\n"
     ]
    },
    {
     "name": "stderr",
     "output_type": "stream",
     "text": [
      "Epoch 129/350 (SSAE): 100%|██████████| 782/782 [00:29<00:00, 26.59it/s, loss=1.26]\n"
     ]
    },
    {
     "name": "stdout",
     "output_type": "stream",
     "text": [
      "Epoch [129/10], Avg Loss: 1.2694\n",
      "Epoch [129/10], Avg Validation Loss: 1.2741\n"
     ]
    },
    {
     "name": "stderr",
     "output_type": "stream",
     "text": [
      "Epoch 130/350 (SSAE): 100%|██████████| 782/782 [00:34<00:00, 22.97it/s, loss=1.35] \n"
     ]
    },
    {
     "name": "stdout",
     "output_type": "stream",
     "text": [
      "Epoch [130/10], Avg Loss: 1.2691\n",
      "Epoch [130/10], Avg Validation Loss: 1.2774\n"
     ]
    },
    {
     "name": "stderr",
     "output_type": "stream",
     "text": [
      "Epoch 131/350 (SSAE): 100%|██████████| 782/782 [00:28<00:00, 27.13it/s, loss=1.23]\n"
     ]
    },
    {
     "name": "stdout",
     "output_type": "stream",
     "text": [
      "Epoch [131/10], Avg Loss: 1.2687\n",
      "Epoch [131/10], Avg Validation Loss: 1.2755\n"
     ]
    },
    {
     "name": "stderr",
     "output_type": "stream",
     "text": [
      "Epoch 132/350 (SSAE): 100%|██████████| 782/782 [00:31<00:00, 25.16it/s, loss=1.21]\n"
     ]
    },
    {
     "name": "stdout",
     "output_type": "stream",
     "text": [
      "Epoch [132/10], Avg Loss: 1.2694\n",
      "Epoch [132/10], Avg Validation Loss: 1.2788\n"
     ]
    },
    {
     "name": "stderr",
     "output_type": "stream",
     "text": [
      "Epoch 133/350 (SSAE): 100%|██████████| 782/782 [00:31<00:00, 24.47it/s, loss=1.35]\n"
     ]
    },
    {
     "name": "stdout",
     "output_type": "stream",
     "text": [
      "Epoch [133/10], Avg Loss: 1.2685\n",
      "Epoch [133/10], Avg Validation Loss: 1.2761\n"
     ]
    },
    {
     "name": "stderr",
     "output_type": "stream",
     "text": [
      "Epoch 134/350 (SSAE): 100%|██████████| 782/782 [00:33<00:00, 23.39it/s, loss=1.4] \n"
     ]
    },
    {
     "name": "stdout",
     "output_type": "stream",
     "text": [
      "Epoch [134/10], Avg Loss: 1.2679\n",
      "Epoch [134/10], Avg Validation Loss: 1.2741\n"
     ]
    },
    {
     "name": "stderr",
     "output_type": "stream",
     "text": [
      "Epoch 135/350 (SSAE): 100%|██████████| 782/782 [00:30<00:00, 25.71it/s, loss=1.46]\n"
     ]
    },
    {
     "name": "stdout",
     "output_type": "stream",
     "text": [
      "Epoch [135/10], Avg Loss: 1.2675\n",
      "Epoch [135/10], Avg Validation Loss: 1.2758\n"
     ]
    },
    {
     "name": "stderr",
     "output_type": "stream",
     "text": [
      "Epoch 136/350 (SSAE): 100%|██████████| 782/782 [00:31<00:00, 24.74it/s, loss=1.34]\n"
     ]
    },
    {
     "name": "stdout",
     "output_type": "stream",
     "text": [
      "Epoch [136/10], Avg Loss: 1.2680\n",
      "Epoch [136/10], Avg Validation Loss: 1.2761\n"
     ]
    },
    {
     "name": "stderr",
     "output_type": "stream",
     "text": [
      "Epoch 137/350 (SSAE): 100%|██████████| 782/782 [00:30<00:00, 25.23it/s, loss=1.25]\n"
     ]
    },
    {
     "name": "stdout",
     "output_type": "stream",
     "text": [
      "Epoch [137/10], Avg Loss: 1.2664\n",
      "Epoch [137/10], Avg Validation Loss: 1.2713\n"
     ]
    },
    {
     "name": "stderr",
     "output_type": "stream",
     "text": [
      "Epoch 138/350 (SSAE): 100%|██████████| 782/782 [00:34<00:00, 22.67it/s, loss=1.5] \n"
     ]
    },
    {
     "name": "stdout",
     "output_type": "stream",
     "text": [
      "Epoch [138/10], Avg Loss: 1.2677\n",
      "Epoch [138/10], Avg Validation Loss: 1.2745\n"
     ]
    },
    {
     "name": "stderr",
     "output_type": "stream",
     "text": [
      "Epoch 139/350 (SSAE): 100%|██████████| 782/782 [00:30<00:00, 25.28it/s, loss=1.2] \n"
     ]
    },
    {
     "name": "stdout",
     "output_type": "stream",
     "text": [
      "Epoch [139/10], Avg Loss: 1.2664\n",
      "Epoch [139/10], Avg Validation Loss: 1.2748\n"
     ]
    },
    {
     "name": "stderr",
     "output_type": "stream",
     "text": [
      "Epoch 140/350 (SSAE): 100%|██████████| 782/782 [00:31<00:00, 24.87it/s, loss=1.27]\n"
     ]
    },
    {
     "name": "stdout",
     "output_type": "stream",
     "text": [
      "Epoch [140/10], Avg Loss: 1.2679\n",
      "Epoch [140/10], Avg Validation Loss: 1.2768\n"
     ]
    },
    {
     "name": "stderr",
     "output_type": "stream",
     "text": [
      "Epoch 141/350 (SSAE): 100%|██████████| 782/782 [00:28<00:00, 27.55it/s, loss=1.1] \n"
     ]
    },
    {
     "name": "stdout",
     "output_type": "stream",
     "text": [
      "Epoch [141/10], Avg Loss: 1.2675\n",
      "Epoch [141/10], Avg Validation Loss: 1.2782\n"
     ]
    },
    {
     "name": "stderr",
     "output_type": "stream",
     "text": [
      "Epoch 142/350 (SSAE): 100%|██████████| 782/782 [00:32<00:00, 23.70it/s, loss=1.39]\n"
     ]
    },
    {
     "name": "stdout",
     "output_type": "stream",
     "text": [
      "Epoch [142/10], Avg Loss: 1.2680\n",
      "Epoch [142/10], Avg Validation Loss: 1.2743\n"
     ]
    },
    {
     "name": "stderr",
     "output_type": "stream",
     "text": [
      "Epoch 143/350 (SSAE): 100%|██████████| 782/782 [00:32<00:00, 23.96it/s, loss=1.53]\n"
     ]
    },
    {
     "name": "stdout",
     "output_type": "stream",
     "text": [
      "Epoch [143/10], Avg Loss: 1.2677\n",
      "Epoch [143/10], Avg Validation Loss: 1.2720\n"
     ]
    },
    {
     "name": "stderr",
     "output_type": "stream",
     "text": [
      "Epoch 144/350 (SSAE): 100%|██████████| 782/782 [00:30<00:00, 25.95it/s, loss=1.43]\n"
     ]
    },
    {
     "name": "stdout",
     "output_type": "stream",
     "text": [
      "Epoch [144/10], Avg Loss: 1.2656\n",
      "Epoch [144/10], Avg Validation Loss: 1.2706\n"
     ]
    },
    {
     "name": "stderr",
     "output_type": "stream",
     "text": [
      "Epoch 145/350 (SSAE): 100%|██████████| 782/782 [00:31<00:00, 24.83it/s, loss=1.41]\n"
     ]
    },
    {
     "name": "stdout",
     "output_type": "stream",
     "text": [
      "Epoch [145/10], Avg Loss: 1.2663\n",
      "Epoch [145/10], Avg Validation Loss: 1.2777\n"
     ]
    },
    {
     "name": "stderr",
     "output_type": "stream",
     "text": [
      "Epoch 146/350 (SSAE): 100%|██████████| 782/782 [00:29<00:00, 26.49it/s, loss=1.1] \n"
     ]
    },
    {
     "name": "stdout",
     "output_type": "stream",
     "text": [
      "Epoch [146/10], Avg Loss: 1.2675\n",
      "Epoch [146/10], Avg Validation Loss: 1.2723\n"
     ]
    },
    {
     "name": "stderr",
     "output_type": "stream",
     "text": [
      "Epoch 147/350 (SSAE): 100%|██████████| 782/782 [00:34<00:00, 22.56it/s, loss=1.16]\n"
     ]
    },
    {
     "name": "stdout",
     "output_type": "stream",
     "text": [
      "Epoch [147/10], Avg Loss: 1.2658\n",
      "Epoch [147/10], Avg Validation Loss: 1.2716\n"
     ]
    },
    {
     "name": "stderr",
     "output_type": "stream",
     "text": [
      "Epoch 148/350 (SSAE): 100%|██████████| 782/782 [00:30<00:00, 25.93it/s, loss=1.29]\n"
     ]
    },
    {
     "name": "stdout",
     "output_type": "stream",
     "text": [
      "Epoch [148/10], Avg Loss: 1.2667\n",
      "Epoch [148/10], Avg Validation Loss: 1.2718\n"
     ]
    },
    {
     "name": "stderr",
     "output_type": "stream",
     "text": [
      "Epoch 149/350 (SSAE): 100%|██████████| 782/782 [00:32<00:00, 23.90it/s, loss=1.28]\n"
     ]
    },
    {
     "name": "stdout",
     "output_type": "stream",
     "text": [
      "Epoch [149/10], Avg Loss: 1.2661\n",
      "Epoch [149/10], Avg Validation Loss: 1.2759\n"
     ]
    },
    {
     "name": "stderr",
     "output_type": "stream",
     "text": [
      "Epoch 150/350 (SSAE): 100%|██████████| 782/782 [00:30<00:00, 25.68it/s, loss=0.981]\n"
     ]
    },
    {
     "name": "stdout",
     "output_type": "stream",
     "text": [
      "Epoch [150/10], Avg Loss: 1.2663\n",
      "Epoch [150/10], Avg Validation Loss: 1.2744\n",
      "Validation loss improved. Saving the best model at epoch 150.\n"
     ]
    },
    {
     "name": "stderr",
     "output_type": "stream",
     "text": [
      "Epoch 151/350 (SSAE): 100%|██████████| 782/782 [00:30<00:00, 25.86it/s, loss=1.29]\n"
     ]
    },
    {
     "name": "stdout",
     "output_type": "stream",
     "text": [
      "Epoch [151/10], Avg Loss: 1.2653\n",
      "Epoch [151/10], Avg Validation Loss: 1.2722\n"
     ]
    },
    {
     "name": "stderr",
     "output_type": "stream",
     "text": [
      "Epoch 152/350 (SSAE): 100%|██████████| 782/782 [00:34<00:00, 22.72it/s, loss=1.14]\n"
     ]
    },
    {
     "name": "stdout",
     "output_type": "stream",
     "text": [
      "Epoch [152/10], Avg Loss: 1.2657\n",
      "Epoch [152/10], Avg Validation Loss: 1.2720\n"
     ]
    },
    {
     "name": "stderr",
     "output_type": "stream",
     "text": [
      "Epoch 153/350 (SSAE): 100%|██████████| 782/782 [00:30<00:00, 25.31it/s, loss=1.15]\n"
     ]
    },
    {
     "name": "stdout",
     "output_type": "stream",
     "text": [
      "Epoch [153/10], Avg Loss: 1.2653\n",
      "Epoch [153/10], Avg Validation Loss: 1.2718\n"
     ]
    },
    {
     "name": "stderr",
     "output_type": "stream",
     "text": [
      "Epoch 154/350 (SSAE): 100%|██████████| 782/782 [00:30<00:00, 25.57it/s, loss=1.05]\n"
     ]
    },
    {
     "name": "stdout",
     "output_type": "stream",
     "text": [
      "Epoch [154/10], Avg Loss: 1.2646\n",
      "Epoch [154/10], Avg Validation Loss: 1.2732\n"
     ]
    },
    {
     "name": "stderr",
     "output_type": "stream",
     "text": [
      "Epoch 155/350 (SSAE): 100%|██████████| 782/782 [00:31<00:00, 24.50it/s, loss=1.34]\n"
     ]
    },
    {
     "name": "stdout",
     "output_type": "stream",
     "text": [
      "Epoch [155/10], Avg Loss: 1.2665\n",
      "Epoch [155/10], Avg Validation Loss: 1.2700\n",
      "Validation loss improved. Saving the best model at epoch 155.\n"
     ]
    },
    {
     "name": "stderr",
     "output_type": "stream",
     "text": [
      "Epoch 156/350 (SSAE): 100%|██████████| 782/782 [00:29<00:00, 26.79it/s, loss=1.58] \n"
     ]
    },
    {
     "name": "stdout",
     "output_type": "stream",
     "text": [
      "Epoch [156/10], Avg Loss: 1.2655\n",
      "Epoch [156/10], Avg Validation Loss: 1.2718\n"
     ]
    },
    {
     "name": "stderr",
     "output_type": "stream",
     "text": [
      "Epoch 157/350 (SSAE): 100%|██████████| 782/782 [00:34<00:00, 22.57it/s, loss=1.58] \n"
     ]
    },
    {
     "name": "stdout",
     "output_type": "stream",
     "text": [
      "Epoch [157/10], Avg Loss: 1.2645\n",
      "Epoch [157/10], Avg Validation Loss: 1.2737\n"
     ]
    },
    {
     "name": "stderr",
     "output_type": "stream",
     "text": [
      "Epoch 158/350 (SSAE): 100%|██████████| 782/782 [00:32<00:00, 24.34it/s, loss=1.35]\n"
     ]
    },
    {
     "name": "stdout",
     "output_type": "stream",
     "text": [
      "Epoch [158/10], Avg Loss: 1.2648\n",
      "Epoch [158/10], Avg Validation Loss: 1.2724\n"
     ]
    },
    {
     "name": "stderr",
     "output_type": "stream",
     "text": [
      "Epoch 159/350 (SSAE): 100%|██████████| 782/782 [00:31<00:00, 24.69it/s, loss=1.11]\n"
     ]
    },
    {
     "name": "stdout",
     "output_type": "stream",
     "text": [
      "Epoch [159/10], Avg Loss: 1.2633\n",
      "Epoch [159/10], Avg Validation Loss: 1.2727\n"
     ]
    },
    {
     "name": "stderr",
     "output_type": "stream",
     "text": [
      "Epoch 160/350 (SSAE): 100%|██████████| 782/782 [00:32<00:00, 23.92it/s, loss=1.43] \n"
     ]
    },
    {
     "name": "stdout",
     "output_type": "stream",
     "text": [
      "Epoch [160/10], Avg Loss: 1.2622\n",
      "Epoch [160/10], Avg Validation Loss: 1.2690\n",
      "Validation loss improved. Saving the best model at epoch 160.\n"
     ]
    },
    {
     "name": "stderr",
     "output_type": "stream",
     "text": [
      "Epoch 161/350 (SSAE): 100%|██████████| 782/782 [00:28<00:00, 27.79it/s, loss=1.14]\n"
     ]
    },
    {
     "name": "stdout",
     "output_type": "stream",
     "text": [
      "Epoch [161/10], Avg Loss: 1.2629\n",
      "Epoch [161/10], Avg Validation Loss: 1.2727\n"
     ]
    },
    {
     "name": "stderr",
     "output_type": "stream",
     "text": [
      "Epoch 162/350 (SSAE): 100%|██████████| 782/782 [00:34<00:00, 22.86it/s, loss=1.08]\n"
     ]
    },
    {
     "name": "stdout",
     "output_type": "stream",
     "text": [
      "Epoch [162/10], Avg Loss: 1.2627\n",
      "Epoch [162/10], Avg Validation Loss: 1.2679\n"
     ]
    },
    {
     "name": "stderr",
     "output_type": "stream",
     "text": [
      "Epoch 163/350 (SSAE): 100%|██████████| 782/782 [00:34<00:00, 22.34it/s, loss=1.33]\n"
     ]
    },
    {
     "name": "stdout",
     "output_type": "stream",
     "text": [
      "Epoch [163/10], Avg Loss: 1.2631\n",
      "Epoch [163/10], Avg Validation Loss: 1.2697\n"
     ]
    },
    {
     "name": "stderr",
     "output_type": "stream",
     "text": [
      "Epoch 164/350 (SSAE): 100%|██████████| 782/782 [00:30<00:00, 25.54it/s, loss=0.939]\n"
     ]
    },
    {
     "name": "stdout",
     "output_type": "stream",
     "text": [
      "Epoch [164/10], Avg Loss: 1.2632\n",
      "Epoch [164/10], Avg Validation Loss: 1.2693\n"
     ]
    },
    {
     "name": "stderr",
     "output_type": "stream",
     "text": [
      "Epoch 165/350 (SSAE): 100%|██████████| 782/782 [00:33<00:00, 23.65it/s, loss=1.63]\n"
     ]
    },
    {
     "name": "stdout",
     "output_type": "stream",
     "text": [
      "Epoch [165/10], Avg Loss: 1.2644\n",
      "Epoch [165/10], Avg Validation Loss: 1.2677\n",
      "Validation loss improved. Saving the best model at epoch 165.\n"
     ]
    },
    {
     "name": "stderr",
     "output_type": "stream",
     "text": [
      "Epoch 166/350 (SSAE): 100%|██████████| 782/782 [00:26<00:00, 29.12it/s, loss=1.37] \n"
     ]
    },
    {
     "name": "stdout",
     "output_type": "stream",
     "text": [
      "Epoch [166/10], Avg Loss: 1.2630\n",
      "Epoch [166/10], Avg Validation Loss: 1.2686\n"
     ]
    },
    {
     "name": "stderr",
     "output_type": "stream",
     "text": [
      "Epoch 167/350 (SSAE): 100%|██████████| 782/782 [00:32<00:00, 24.21it/s, loss=0.982]\n"
     ]
    },
    {
     "name": "stdout",
     "output_type": "stream",
     "text": [
      "Epoch [167/10], Avg Loss: 1.2624\n",
      "Epoch [167/10], Avg Validation Loss: 1.2718\n"
     ]
    },
    {
     "name": "stderr",
     "output_type": "stream",
     "text": [
      "Epoch 168/350 (SSAE): 100%|██████████| 782/782 [00:34<00:00, 22.62it/s, loss=1.56] \n"
     ]
    },
    {
     "name": "stdout",
     "output_type": "stream",
     "text": [
      "Epoch [168/10], Avg Loss: 1.2642\n",
      "Epoch [168/10], Avg Validation Loss: 1.2699\n"
     ]
    },
    {
     "name": "stderr",
     "output_type": "stream",
     "text": [
      "Epoch 169/350 (SSAE): 100%|██████████| 782/782 [00:29<00:00, 26.45it/s, loss=1.53]\n"
     ]
    },
    {
     "name": "stdout",
     "output_type": "stream",
     "text": [
      "Epoch [169/10], Avg Loss: 1.2626\n",
      "Epoch [169/10], Avg Validation Loss: 1.2694\n"
     ]
    },
    {
     "name": "stderr",
     "output_type": "stream",
     "text": [
      "Epoch 170/350 (SSAE): 100%|██████████| 782/782 [00:31<00:00, 24.94it/s, loss=1.55] \n"
     ]
    },
    {
     "name": "stdout",
     "output_type": "stream",
     "text": [
      "Epoch [170/10], Avg Loss: 1.2626\n",
      "Epoch [170/10], Avg Validation Loss: 1.2713\n"
     ]
    },
    {
     "name": "stderr",
     "output_type": "stream",
     "text": [
      "Epoch 171/350 (SSAE): 100%|██████████| 782/782 [00:31<00:00, 24.91it/s, loss=1.58]\n"
     ]
    },
    {
     "name": "stdout",
     "output_type": "stream",
     "text": [
      "Epoch [171/10], Avg Loss: 1.2628\n",
      "Epoch [171/10], Avg Validation Loss: 1.2705\n"
     ]
    },
    {
     "name": "stderr",
     "output_type": "stream",
     "text": [
      "Epoch 172/350 (SSAE): 100%|██████████| 782/782 [00:28<00:00, 27.49it/s, loss=1.42]\n"
     ]
    },
    {
     "name": "stdout",
     "output_type": "stream",
     "text": [
      "Epoch [172/10], Avg Loss: 1.2627\n",
      "Epoch [172/10], Avg Validation Loss: 1.2707\n"
     ]
    },
    {
     "name": "stderr",
     "output_type": "stream",
     "text": [
      "Epoch 173/350 (SSAE): 100%|██████████| 782/782 [00:32<00:00, 23.74it/s, loss=1.32]\n"
     ]
    },
    {
     "name": "stdout",
     "output_type": "stream",
     "text": [
      "Epoch [173/10], Avg Loss: 1.2621\n",
      "Epoch [173/10], Avg Validation Loss: 1.2673\n"
     ]
    },
    {
     "name": "stderr",
     "output_type": "stream",
     "text": [
      "Epoch 174/350 (SSAE): 100%|██████████| 782/782 [00:34<00:00, 22.49it/s, loss=1.25]\n"
     ]
    },
    {
     "name": "stdout",
     "output_type": "stream",
     "text": [
      "Epoch [174/10], Avg Loss: 1.2621\n",
      "Epoch [174/10], Avg Validation Loss: 1.2707\n"
     ]
    },
    {
     "name": "stderr",
     "output_type": "stream",
     "text": [
      "Epoch 175/350 (SSAE): 100%|██████████| 782/782 [00:31<00:00, 25.15it/s, loss=1.34] \n"
     ]
    },
    {
     "name": "stdout",
     "output_type": "stream",
     "text": [
      "Epoch [175/10], Avg Loss: 1.2634\n",
      "Epoch [175/10], Avg Validation Loss: 1.2688\n"
     ]
    },
    {
     "name": "stderr",
     "output_type": "stream",
     "text": [
      "Epoch 176/350 (SSAE): 100%|██████████| 782/782 [00:32<00:00, 23.77it/s, loss=1.39] \n"
     ]
    },
    {
     "name": "stdout",
     "output_type": "stream",
     "text": [
      "Epoch [176/10], Avg Loss: 1.2625\n",
      "Epoch [176/10], Avg Validation Loss: 1.2687\n"
     ]
    },
    {
     "name": "stderr",
     "output_type": "stream",
     "text": [
      "Epoch 177/350 (SSAE): 100%|██████████| 782/782 [00:27<00:00, 28.65it/s, loss=1.42]\n"
     ]
    },
    {
     "name": "stdout",
     "output_type": "stream",
     "text": [
      "Epoch [177/10], Avg Loss: 1.2623\n",
      "Epoch [177/10], Avg Validation Loss: 1.2685\n"
     ]
    },
    {
     "name": "stderr",
     "output_type": "stream",
     "text": [
      "Epoch 178/350 (SSAE): 100%|██████████| 782/782 [00:31<00:00, 24.47it/s, loss=1.17] \n"
     ]
    },
    {
     "name": "stdout",
     "output_type": "stream",
     "text": [
      "Epoch [178/10], Avg Loss: 1.2625\n",
      "Epoch [178/10], Avg Validation Loss: 1.2709\n"
     ]
    },
    {
     "name": "stderr",
     "output_type": "stream",
     "text": [
      "Epoch 179/350 (SSAE): 100%|██████████| 782/782 [00:35<00:00, 22.21it/s, loss=1.26]\n"
     ]
    },
    {
     "name": "stdout",
     "output_type": "stream",
     "text": [
      "Epoch [179/10], Avg Loss: 1.2636\n",
      "Epoch [179/10], Avg Validation Loss: 1.2679\n"
     ]
    },
    {
     "name": "stderr",
     "output_type": "stream",
     "text": [
      "Epoch 180/350 (SSAE): 100%|██████████| 782/782 [00:29<00:00, 26.50it/s, loss=1.32] \n"
     ]
    },
    {
     "name": "stdout",
     "output_type": "stream",
     "text": [
      "Epoch [180/10], Avg Loss: 1.2628\n",
      "Epoch [180/10], Avg Validation Loss: 1.2695\n"
     ]
    },
    {
     "name": "stderr",
     "output_type": "stream",
     "text": [
      "Epoch 181/350 (SSAE): 100%|██████████| 782/782 [00:31<00:00, 24.55it/s, loss=1.5] \n"
     ]
    },
    {
     "name": "stdout",
     "output_type": "stream",
     "text": [
      "Epoch [181/10], Avg Loss: 1.2638\n",
      "Epoch [181/10], Avg Validation Loss: 1.2705\n"
     ]
    },
    {
     "name": "stderr",
     "output_type": "stream",
     "text": [
      "Epoch 182/350 (SSAE): 100%|██████████| 782/782 [00:32<00:00, 24.27it/s, loss=1.18] \n"
     ]
    },
    {
     "name": "stdout",
     "output_type": "stream",
     "text": [
      "Epoch [182/10], Avg Loss: 1.2618\n",
      "Epoch [182/10], Avg Validation Loss: 1.2698\n"
     ]
    },
    {
     "name": "stderr",
     "output_type": "stream",
     "text": [
      "Epoch 183/350 (SSAE): 100%|██████████| 782/782 [00:27<00:00, 28.11it/s, loss=0.936]\n"
     ]
    },
    {
     "name": "stdout",
     "output_type": "stream",
     "text": [
      "Epoch [183/10], Avg Loss: 1.2611\n",
      "Epoch [183/10], Avg Validation Loss: 1.2685\n"
     ]
    },
    {
     "name": "stderr",
     "output_type": "stream",
     "text": [
      "Epoch 184/350 (SSAE): 100%|██████████| 782/782 [00:33<00:00, 23.01it/s, loss=1.26]\n"
     ]
    },
    {
     "name": "stdout",
     "output_type": "stream",
     "text": [
      "Epoch [184/10], Avg Loss: 1.2619\n",
      "Epoch [184/10], Avg Validation Loss: 1.2682\n"
     ]
    },
    {
     "name": "stderr",
     "output_type": "stream",
     "text": [
      "Epoch 185/350 (SSAE): 100%|██████████| 782/782 [00:35<00:00, 21.87it/s, loss=1.01] \n"
     ]
    },
    {
     "name": "stdout",
     "output_type": "stream",
     "text": [
      "Epoch [185/10], Avg Loss: 1.2620\n",
      "Epoch [185/10], Avg Validation Loss: 1.2705\n"
     ]
    },
    {
     "name": "stderr",
     "output_type": "stream",
     "text": [
      "Epoch 186/350 (SSAE): 100%|██████████| 782/782 [00:28<00:00, 27.20it/s, loss=1.4] \n"
     ]
    },
    {
     "name": "stdout",
     "output_type": "stream",
     "text": [
      "Epoch [186/10], Avg Loss: 1.2632\n",
      "Epoch [186/10], Avg Validation Loss: 1.2718\n"
     ]
    },
    {
     "name": "stderr",
     "output_type": "stream",
     "text": [
      "Epoch 187/350 (SSAE): 100%|██████████| 782/782 [00:35<00:00, 22.12it/s, loss=1.15] \n"
     ]
    },
    {
     "name": "stdout",
     "output_type": "stream",
     "text": [
      "Epoch [187/10], Avg Loss: 1.2604\n",
      "Epoch [187/10], Avg Validation Loss: 1.2674\n"
     ]
    },
    {
     "name": "stderr",
     "output_type": "stream",
     "text": [
      "Epoch 188/350 (SSAE): 100%|██████████| 782/782 [00:30<00:00, 26.06it/s, loss=1.15] \n"
     ]
    },
    {
     "name": "stdout",
     "output_type": "stream",
     "text": [
      "Epoch [188/10], Avg Loss: 1.2622\n",
      "Epoch [188/10], Avg Validation Loss: 1.2671\n"
     ]
    },
    {
     "name": "stderr",
     "output_type": "stream",
     "text": [
      "Epoch 189/350 (SSAE): 100%|██████████| 782/782 [00:31<00:00, 25.17it/s, loss=1.59] \n"
     ]
    },
    {
     "name": "stdout",
     "output_type": "stream",
     "text": [
      "Epoch [189/10], Avg Loss: 1.2618\n",
      "Epoch [189/10], Avg Validation Loss: 1.2713\n"
     ]
    },
    {
     "name": "stderr",
     "output_type": "stream",
     "text": [
      "Epoch 190/350 (SSAE): 100%|██████████| 782/782 [00:30<00:00, 25.31it/s, loss=1.14]\n"
     ]
    },
    {
     "name": "stdout",
     "output_type": "stream",
     "text": [
      "Epoch [190/10], Avg Loss: 1.2612\n",
      "Epoch [190/10], Avg Validation Loss: 1.2707\n"
     ]
    },
    {
     "name": "stderr",
     "output_type": "stream",
     "text": [
      "Epoch 191/350 (SSAE): 100%|██████████| 782/782 [00:31<00:00, 24.65it/s, loss=1.23] \n"
     ]
    },
    {
     "name": "stdout",
     "output_type": "stream",
     "text": [
      "Epoch [191/10], Avg Loss: 1.2622\n",
      "Epoch [191/10], Avg Validation Loss: 1.2705\n"
     ]
    },
    {
     "name": "stderr",
     "output_type": "stream",
     "text": [
      "Epoch 192/350 (SSAE): 100%|██████████| 782/782 [00:32<00:00, 24.19it/s, loss=1.46]\n"
     ]
    },
    {
     "name": "stdout",
     "output_type": "stream",
     "text": [
      "Epoch [192/10], Avg Loss: 1.2619\n",
      "Epoch [192/10], Avg Validation Loss: 1.2693\n"
     ]
    },
    {
     "name": "stderr",
     "output_type": "stream",
     "text": [
      "Epoch 193/350 (SSAE): 100%|██████████| 782/782 [00:35<00:00, 22.33it/s, loss=1.37] \n"
     ]
    },
    {
     "name": "stdout",
     "output_type": "stream",
     "text": [
      "Epoch [193/10], Avg Loss: 1.2616\n",
      "Epoch [193/10], Avg Validation Loss: 1.2698\n"
     ]
    },
    {
     "name": "stderr",
     "output_type": "stream",
     "text": [
      "Epoch 194/350 (SSAE): 100%|██████████| 782/782 [00:35<00:00, 22.12it/s, loss=1.28]\n"
     ]
    },
    {
     "name": "stdout",
     "output_type": "stream",
     "text": [
      "Epoch [194/10], Avg Loss: 1.2618\n",
      "Epoch [194/10], Avg Validation Loss: 1.2655\n"
     ]
    },
    {
     "name": "stderr",
     "output_type": "stream",
     "text": [
      "Epoch 195/350 (SSAE): 100%|██████████| 782/782 [00:35<00:00, 22.09it/s, loss=1.17]\n"
     ]
    },
    {
     "name": "stdout",
     "output_type": "stream",
     "text": [
      "Epoch [195/10], Avg Loss: 1.2620\n",
      "Epoch [195/10], Avg Validation Loss: 1.2685\n"
     ]
    },
    {
     "name": "stderr",
     "output_type": "stream",
     "text": [
      "Epoch 196/350 (SSAE): 100%|██████████| 782/782 [00:32<00:00, 24.43it/s, loss=1.66] \n"
     ]
    },
    {
     "name": "stdout",
     "output_type": "stream",
     "text": [
      "Epoch [196/10], Avg Loss: 1.2631\n",
      "Epoch [196/10], Avg Validation Loss: 1.2692\n"
     ]
    },
    {
     "name": "stderr",
     "output_type": "stream",
     "text": [
      "Epoch 197/350 (SSAE): 100%|██████████| 782/782 [00:27<00:00, 28.34it/s, loss=1.29]\n"
     ]
    },
    {
     "name": "stdout",
     "output_type": "stream",
     "text": [
      "Epoch [197/10], Avg Loss: 1.2628\n",
      "Epoch [197/10], Avg Validation Loss: 1.2639\n"
     ]
    },
    {
     "name": "stderr",
     "output_type": "stream",
     "text": [
      "Epoch 198/350 (SSAE): 100%|██████████| 782/782 [00:27<00:00, 28.58it/s, loss=1.02] \n"
     ]
    },
    {
     "name": "stdout",
     "output_type": "stream",
     "text": [
      "Epoch [198/10], Avg Loss: 1.2614\n",
      "Epoch [198/10], Avg Validation Loss: 1.2681\n"
     ]
    },
    {
     "name": "stderr",
     "output_type": "stream",
     "text": [
      "Epoch 199/350 (SSAE): 100%|██████████| 782/782 [00:28<00:00, 27.90it/s, loss=1.42] \n"
     ]
    },
    {
     "name": "stdout",
     "output_type": "stream",
     "text": [
      "Epoch [199/10], Avg Loss: 1.2616\n",
      "Epoch [199/10], Avg Validation Loss: 1.2656\n"
     ]
    },
    {
     "name": "stderr",
     "output_type": "stream",
     "text": [
      "Epoch 200/350 (SSAE): 100%|██████████| 782/782 [00:27<00:00, 28.31it/s, loss=1.37]\n"
     ]
    },
    {
     "name": "stdout",
     "output_type": "stream",
     "text": [
      "Epoch [200/10], Avg Loss: 1.2605\n",
      "Epoch [200/10], Avg Validation Loss: 1.2652\n",
      "Validation loss improved. Saving the best model at epoch 200.\n"
     ]
    },
    {
     "name": "stderr",
     "output_type": "stream",
     "text": [
      "Epoch 201/350 (SSAE): 100%|██████████| 782/782 [00:27<00:00, 28.30it/s, loss=1.25]\n"
     ]
    },
    {
     "name": "stdout",
     "output_type": "stream",
     "text": [
      "Epoch [201/10], Avg Loss: 1.2616\n",
      "Epoch [201/10], Avg Validation Loss: 1.2656\n"
     ]
    },
    {
     "name": "stderr",
     "output_type": "stream",
     "text": [
      "Epoch 202/350 (SSAE): 100%|██████████| 782/782 [00:27<00:00, 28.36it/s, loss=1.06]\n"
     ]
    },
    {
     "name": "stdout",
     "output_type": "stream",
     "text": [
      "Epoch [202/10], Avg Loss: 1.2604\n",
      "Epoch [202/10], Avg Validation Loss: 1.2693\n"
     ]
    },
    {
     "name": "stderr",
     "output_type": "stream",
     "text": [
      "Epoch 203/350 (SSAE): 100%|██████████| 782/782 [00:27<00:00, 28.30it/s, loss=1.09]\n"
     ]
    },
    {
     "name": "stdout",
     "output_type": "stream",
     "text": [
      "Epoch [203/10], Avg Loss: 1.2596\n",
      "Epoch [203/10], Avg Validation Loss: 1.2702\n"
     ]
    },
    {
     "name": "stderr",
     "output_type": "stream",
     "text": [
      "Epoch 204/350 (SSAE): 100%|██████████| 782/782 [00:27<00:00, 28.84it/s, loss=1.29]\n"
     ]
    },
    {
     "name": "stdout",
     "output_type": "stream",
     "text": [
      "Epoch [204/10], Avg Loss: 1.2602\n",
      "Epoch [204/10], Avg Validation Loss: 1.2676\n"
     ]
    },
    {
     "name": "stderr",
     "output_type": "stream",
     "text": [
      "Epoch 205/350 (SSAE): 100%|██████████| 782/782 [00:27<00:00, 28.43it/s, loss=1.3] \n"
     ]
    },
    {
     "name": "stdout",
     "output_type": "stream",
     "text": [
      "Epoch [205/10], Avg Loss: 1.2626\n",
      "Epoch [205/10], Avg Validation Loss: 1.2701\n"
     ]
    },
    {
     "name": "stderr",
     "output_type": "stream",
     "text": [
      "Epoch 206/350 (SSAE): 100%|██████████| 782/782 [00:27<00:00, 28.54it/s, loss=0.805]\n"
     ]
    },
    {
     "name": "stdout",
     "output_type": "stream",
     "text": [
      "Epoch [206/10], Avg Loss: 1.2611\n",
      "Epoch [206/10], Avg Validation Loss: 1.2667\n"
     ]
    },
    {
     "name": "stderr",
     "output_type": "stream",
     "text": [
      "Epoch 207/350 (SSAE): 100%|██████████| 782/782 [00:27<00:00, 28.63it/s, loss=1.15] \n"
     ]
    },
    {
     "name": "stdout",
     "output_type": "stream",
     "text": [
      "Epoch [207/10], Avg Loss: 1.2604\n",
      "Epoch [207/10], Avg Validation Loss: 1.2656\n"
     ]
    },
    {
     "name": "stderr",
     "output_type": "stream",
     "text": [
      "Epoch 208/350 (SSAE): 100%|██████████| 782/782 [00:31<00:00, 25.09it/s, loss=0.989]\n"
     ]
    },
    {
     "name": "stdout",
     "output_type": "stream",
     "text": [
      "Epoch [208/10], Avg Loss: 1.2600\n",
      "Epoch [208/10], Avg Validation Loss: 1.2663\n"
     ]
    },
    {
     "name": "stderr",
     "output_type": "stream",
     "text": [
      "Epoch 209/350 (SSAE): 100%|██████████| 782/782 [00:34<00:00, 22.89it/s, loss=1.09]\n"
     ]
    },
    {
     "name": "stdout",
     "output_type": "stream",
     "text": [
      "Epoch [209/10], Avg Loss: 1.2593\n",
      "Epoch [209/10], Avg Validation Loss: 1.2681\n"
     ]
    },
    {
     "name": "stderr",
     "output_type": "stream",
     "text": [
      "Epoch 210/350 (SSAE): 100%|██████████| 782/782 [00:35<00:00, 21.81it/s, loss=1.32]\n"
     ]
    },
    {
     "name": "stdout",
     "output_type": "stream",
     "text": [
      "Epoch [210/10], Avg Loss: 1.2595\n",
      "Epoch [210/10], Avg Validation Loss: 1.2664\n"
     ]
    },
    {
     "name": "stderr",
     "output_type": "stream",
     "text": [
      "Epoch 211/350 (SSAE): 100%|██████████| 782/782 [00:33<00:00, 23.41it/s, loss=1.39]\n"
     ]
    },
    {
     "name": "stdout",
     "output_type": "stream",
     "text": [
      "Epoch [211/10], Avg Loss: 1.2586\n",
      "Epoch [211/10], Avg Validation Loss: 1.2644\n"
     ]
    },
    {
     "name": "stderr",
     "output_type": "stream",
     "text": [
      "Epoch 212/350 (SSAE): 100%|██████████| 782/782 [00:35<00:00, 22.03it/s, loss=1.3] \n"
     ]
    },
    {
     "name": "stdout",
     "output_type": "stream",
     "text": [
      "Epoch [212/10], Avg Loss: 1.2595\n",
      "Epoch [212/10], Avg Validation Loss: 1.2662\n"
     ]
    },
    {
     "name": "stderr",
     "output_type": "stream",
     "text": [
      "Epoch 213/350 (SSAE): 100%|██████████| 782/782 [00:35<00:00, 22.20it/s, loss=1.39]\n"
     ]
    },
    {
     "name": "stdout",
     "output_type": "stream",
     "text": [
      "Epoch [213/10], Avg Loss: 1.2593\n",
      "Epoch [213/10], Avg Validation Loss: 1.2643\n"
     ]
    },
    {
     "name": "stderr",
     "output_type": "stream",
     "text": [
      "Epoch 214/350 (SSAE): 100%|██████████| 782/782 [00:32<00:00, 23.71it/s, loss=1.36] \n"
     ]
    },
    {
     "name": "stdout",
     "output_type": "stream",
     "text": [
      "Epoch [214/10], Avg Loss: 1.2601\n",
      "Epoch [214/10], Avg Validation Loss: 1.2689\n"
     ]
    },
    {
     "name": "stderr",
     "output_type": "stream",
     "text": [
      "Epoch 215/350 (SSAE): 100%|██████████| 782/782 [00:27<00:00, 28.11it/s, loss=1.33] \n"
     ]
    },
    {
     "name": "stdout",
     "output_type": "stream",
     "text": [
      "Epoch [215/10], Avg Loss: 1.2590\n",
      "Epoch [215/10], Avg Validation Loss: 1.2678\n"
     ]
    },
    {
     "name": "stderr",
     "output_type": "stream",
     "text": [
      "Epoch 216/350 (SSAE): 100%|██████████| 782/782 [00:33<00:00, 23.16it/s, loss=1.4] \n"
     ]
    },
    {
     "name": "stdout",
     "output_type": "stream",
     "text": [
      "Epoch [216/10], Avg Loss: 1.2596\n",
      "Epoch [216/10], Avg Validation Loss: 1.2663\n"
     ]
    },
    {
     "name": "stderr",
     "output_type": "stream",
     "text": [
      "Epoch 217/350 (SSAE): 100%|██████████| 782/782 [00:29<00:00, 26.13it/s, loss=0.999]\n"
     ]
    },
    {
     "name": "stdout",
     "output_type": "stream",
     "text": [
      "Epoch [217/10], Avg Loss: 1.2593\n",
      "Epoch [217/10], Avg Validation Loss: 1.2673\n"
     ]
    },
    {
     "name": "stderr",
     "output_type": "stream",
     "text": [
      "Epoch 218/350 (SSAE): 100%|██████████| 782/782 [00:34<00:00, 22.96it/s, loss=1.45]\n"
     ]
    },
    {
     "name": "stdout",
     "output_type": "stream",
     "text": [
      "Epoch [218/10], Avg Loss: 1.2608\n",
      "Epoch [218/10], Avg Validation Loss: 1.2653\n"
     ]
    },
    {
     "name": "stderr",
     "output_type": "stream",
     "text": [
      "Epoch 219/350 (SSAE): 100%|██████████| 782/782 [00:32<00:00, 24.39it/s, loss=1.13]\n"
     ]
    },
    {
     "name": "stdout",
     "output_type": "stream",
     "text": [
      "Epoch [219/10], Avg Loss: 1.2599\n",
      "Epoch [219/10], Avg Validation Loss: 1.2664\n"
     ]
    },
    {
     "name": "stderr",
     "output_type": "stream",
     "text": [
      "Epoch 220/350 (SSAE): 100%|██████████| 782/782 [00:27<00:00, 28.21it/s, loss=1.03] \n"
     ]
    },
    {
     "name": "stdout",
     "output_type": "stream",
     "text": [
      "Epoch [220/10], Avg Loss: 1.2583\n",
      "Epoch [220/10], Avg Validation Loss: 1.2665\n"
     ]
    },
    {
     "name": "stderr",
     "output_type": "stream",
     "text": [
      "Epoch 221/350 (SSAE): 100%|██████████| 782/782 [00:26<00:00, 29.62it/s, loss=1.06]\n"
     ]
    },
    {
     "name": "stdout",
     "output_type": "stream",
     "text": [
      "Epoch [221/10], Avg Loss: 1.2589\n",
      "Epoch [221/10], Avg Validation Loss: 1.2648\n"
     ]
    },
    {
     "name": "stderr",
     "output_type": "stream",
     "text": [
      "Epoch 222/350 (SSAE): 100%|██████████| 782/782 [00:33<00:00, 23.26it/s, loss=1.21] \n"
     ]
    },
    {
     "name": "stdout",
     "output_type": "stream",
     "text": [
      "Epoch [222/10], Avg Loss: 1.2593\n",
      "Epoch [222/10], Avg Validation Loss: 1.2680\n"
     ]
    },
    {
     "name": "stderr",
     "output_type": "stream",
     "text": [
      "Epoch 223/350 (SSAE): 100%|██████████| 782/782 [00:34<00:00, 22.83it/s, loss=1.27]\n"
     ]
    },
    {
     "name": "stdout",
     "output_type": "stream",
     "text": [
      "Epoch [223/10], Avg Loss: 1.2588\n",
      "Epoch [223/10], Avg Validation Loss: 1.2669\n"
     ]
    },
    {
     "name": "stderr",
     "output_type": "stream",
     "text": [
      "Epoch 224/350 (SSAE): 100%|██████████| 782/782 [00:35<00:00, 22.01it/s, loss=1.49]\n"
     ]
    },
    {
     "name": "stdout",
     "output_type": "stream",
     "text": [
      "Epoch [224/10], Avg Loss: 1.2592\n",
      "Epoch [224/10], Avg Validation Loss: 1.2646\n"
     ]
    },
    {
     "name": "stderr",
     "output_type": "stream",
     "text": [
      "Epoch 225/350 (SSAE): 100%|██████████| 782/782 [00:33<00:00, 23.14it/s, loss=1.08] \n"
     ]
    },
    {
     "name": "stdout",
     "output_type": "stream",
     "text": [
      "Epoch [225/10], Avg Loss: 1.2578\n",
      "Epoch [225/10], Avg Validation Loss: 1.2639\n",
      "Validation loss improved. Saving the best model at epoch 225.\n"
     ]
    },
    {
     "name": "stderr",
     "output_type": "stream",
     "text": [
      "Epoch 226/350 (SSAE): 100%|██████████| 782/782 [00:28<00:00, 27.19it/s, loss=1.09]\n"
     ]
    },
    {
     "name": "stdout",
     "output_type": "stream",
     "text": [
      "Epoch [226/10], Avg Loss: 1.2593\n",
      "Epoch [226/10], Avg Validation Loss: 1.2681\n"
     ]
    },
    {
     "name": "stderr",
     "output_type": "stream",
     "text": [
      "Epoch 227/350 (SSAE): 100%|██████████| 782/782 [00:32<00:00, 24.02it/s, loss=1.39]\n"
     ]
    },
    {
     "name": "stdout",
     "output_type": "stream",
     "text": [
      "Epoch [227/10], Avg Loss: 1.2608\n",
      "Epoch [227/10], Avg Validation Loss: 1.2644\n"
     ]
    },
    {
     "name": "stderr",
     "output_type": "stream",
     "text": [
      "Epoch 228/350 (SSAE): 100%|██████████| 782/782 [00:32<00:00, 24.06it/s, loss=1.47]\n"
     ]
    },
    {
     "name": "stdout",
     "output_type": "stream",
     "text": [
      "Epoch [228/10], Avg Loss: 1.2591\n",
      "Epoch [228/10], Avg Validation Loss: 1.2621\n"
     ]
    },
    {
     "name": "stderr",
     "output_type": "stream",
     "text": [
      "Epoch 229/350 (SSAE): 100%|██████████| 782/782 [00:31<00:00, 25.12it/s, loss=1.15]\n"
     ]
    },
    {
     "name": "stdout",
     "output_type": "stream",
     "text": [
      "Epoch [229/10], Avg Loss: 1.2592\n",
      "Epoch [229/10], Avg Validation Loss: 1.2671\n"
     ]
    },
    {
     "name": "stderr",
     "output_type": "stream",
     "text": [
      "Epoch 230/350 (SSAE): 100%|██████████| 782/782 [00:27<00:00, 28.88it/s, loss=1.54] \n"
     ]
    },
    {
     "name": "stdout",
     "output_type": "stream",
     "text": [
      "Epoch [230/10], Avg Loss: 1.2592\n",
      "Epoch [230/10], Avg Validation Loss: 1.2644\n"
     ]
    },
    {
     "name": "stderr",
     "output_type": "stream",
     "text": [
      "Epoch 231/350 (SSAE): 100%|██████████| 782/782 [00:29<00:00, 26.86it/s, loss=1.2] \n"
     ]
    },
    {
     "name": "stdout",
     "output_type": "stream",
     "text": [
      "Epoch [231/10], Avg Loss: 1.2587\n",
      "Epoch [231/10], Avg Validation Loss: 1.2694\n"
     ]
    },
    {
     "name": "stderr",
     "output_type": "stream",
     "text": [
      "Epoch 232/350 (SSAE): 100%|██████████| 782/782 [00:35<00:00, 21.97it/s, loss=1.43]\n"
     ]
    },
    {
     "name": "stdout",
     "output_type": "stream",
     "text": [
      "Epoch [232/10], Avg Loss: 1.2574\n",
      "Epoch [232/10], Avg Validation Loss: 1.2640\n"
     ]
    },
    {
     "name": "stderr",
     "output_type": "stream",
     "text": [
      "Epoch 233/350 (SSAE): 100%|██████████| 782/782 [00:34<00:00, 22.66it/s, loss=1.08] \n"
     ]
    },
    {
     "name": "stdout",
     "output_type": "stream",
     "text": [
      "Epoch [233/10], Avg Loss: 1.2585\n",
      "Epoch [233/10], Avg Validation Loss: 1.2654\n"
     ]
    },
    {
     "name": "stderr",
     "output_type": "stream",
     "text": [
      "Epoch 234/350 (SSAE): 100%|██████████| 782/782 [00:34<00:00, 22.41it/s, loss=1.11]\n"
     ]
    },
    {
     "name": "stdout",
     "output_type": "stream",
     "text": [
      "Epoch [234/10], Avg Loss: 1.2585\n",
      "Epoch [234/10], Avg Validation Loss: 1.2626\n"
     ]
    },
    {
     "name": "stderr",
     "output_type": "stream",
     "text": [
      "Epoch 235/350 (SSAE): 100%|██████████| 782/782 [00:27<00:00, 28.57it/s, loss=1.34] \n"
     ]
    },
    {
     "name": "stdout",
     "output_type": "stream",
     "text": [
      "Epoch [235/10], Avg Loss: 1.2574\n",
      "Epoch [235/10], Avg Validation Loss: 1.2661\n"
     ]
    },
    {
     "name": "stderr",
     "output_type": "stream",
     "text": [
      "Epoch 236/350 (SSAE): 100%|██████████| 782/782 [00:32<00:00, 24.17it/s, loss=1.08] \n"
     ]
    },
    {
     "name": "stdout",
     "output_type": "stream",
     "text": [
      "Epoch [236/10], Avg Loss: 1.2570\n",
      "Epoch [236/10], Avg Validation Loss: 1.2649\n"
     ]
    },
    {
     "name": "stderr",
     "output_type": "stream",
     "text": [
      "Epoch 237/350 (SSAE): 100%|██████████| 782/782 [00:32<00:00, 23.73it/s, loss=1.33]\n"
     ]
    },
    {
     "name": "stdout",
     "output_type": "stream",
     "text": [
      "Epoch [237/10], Avg Loss: 1.2581\n",
      "Epoch [237/10], Avg Validation Loss: 1.2664\n"
     ]
    },
    {
     "name": "stderr",
     "output_type": "stream",
     "text": [
      "Epoch 238/350 (SSAE): 100%|██████████| 782/782 [00:29<00:00, 26.57it/s, loss=1.23]\n"
     ]
    },
    {
     "name": "stdout",
     "output_type": "stream",
     "text": [
      "Epoch [238/10], Avg Loss: 1.2585\n",
      "Epoch [238/10], Avg Validation Loss: 1.2656\n"
     ]
    },
    {
     "name": "stderr",
     "output_type": "stream",
     "text": [
      "Epoch 239/350 (SSAE): 100%|██████████| 782/782 [00:27<00:00, 28.80it/s, loss=1.11]\n"
     ]
    },
    {
     "name": "stdout",
     "output_type": "stream",
     "text": [
      "Epoch [239/10], Avg Loss: 1.2579\n",
      "Epoch [239/10], Avg Validation Loss: 1.2679\n"
     ]
    },
    {
     "name": "stderr",
     "output_type": "stream",
     "text": [
      "Epoch 240/350 (SSAE): 100%|██████████| 782/782 [00:32<00:00, 23.93it/s, loss=1.13]\n"
     ]
    },
    {
     "name": "stdout",
     "output_type": "stream",
     "text": [
      "Epoch [240/10], Avg Loss: 1.2586\n",
      "Epoch [240/10], Avg Validation Loss: 1.2645\n"
     ]
    },
    {
     "name": "stderr",
     "output_type": "stream",
     "text": [
      "Epoch 241/350 (SSAE): 100%|██████████| 782/782 [00:34<00:00, 22.39it/s, loss=1.28]\n"
     ]
    },
    {
     "name": "stdout",
     "output_type": "stream",
     "text": [
      "Epoch [241/10], Avg Loss: 1.2577\n",
      "Epoch [241/10], Avg Validation Loss: 1.2658\n"
     ]
    },
    {
     "name": "stderr",
     "output_type": "stream",
     "text": [
      "Epoch 242/350 (SSAE): 100%|██████████| 782/782 [00:34<00:00, 22.40it/s, loss=1.14]\n"
     ]
    },
    {
     "name": "stdout",
     "output_type": "stream",
     "text": [
      "Epoch [242/10], Avg Loss: 1.2580\n",
      "Epoch [242/10], Avg Validation Loss: 1.2659\n"
     ]
    },
    {
     "name": "stderr",
     "output_type": "stream",
     "text": [
      "Epoch 243/350 (SSAE): 100%|██████████| 782/782 [00:28<00:00, 27.04it/s, loss=1.11]\n"
     ]
    },
    {
     "name": "stdout",
     "output_type": "stream",
     "text": [
      "Epoch [243/10], Avg Loss: 1.2573\n",
      "Epoch [243/10], Avg Validation Loss: 1.2665\n"
     ]
    },
    {
     "name": "stderr",
     "output_type": "stream",
     "text": [
      "Epoch 244/350 (SSAE): 100%|██████████| 782/782 [00:33<00:00, 23.39it/s, loss=1.11]\n"
     ]
    },
    {
     "name": "stdout",
     "output_type": "stream",
     "text": [
      "Epoch [244/10], Avg Loss: 1.2589\n",
      "Epoch [244/10], Avg Validation Loss: 1.2649\n"
     ]
    },
    {
     "name": "stderr",
     "output_type": "stream",
     "text": [
      "Epoch 245/350 (SSAE): 100%|██████████| 782/782 [00:27<00:00, 28.34it/s, loss=1.18]\n"
     ]
    },
    {
     "name": "stdout",
     "output_type": "stream",
     "text": [
      "Epoch [245/10], Avg Loss: 1.2579\n",
      "Epoch [245/10], Avg Validation Loss: 1.2651\n"
     ]
    },
    {
     "name": "stderr",
     "output_type": "stream",
     "text": [
      "Epoch 246/350 (SSAE): 100%|██████████| 782/782 [00:34<00:00, 22.83it/s, loss=1.43]\n"
     ]
    },
    {
     "name": "stdout",
     "output_type": "stream",
     "text": [
      "Epoch [246/10], Avg Loss: 1.2582\n",
      "Epoch [246/10], Avg Validation Loss: 1.2666\n"
     ]
    },
    {
     "name": "stderr",
     "output_type": "stream",
     "text": [
      "Epoch 247/350 (SSAE): 100%|██████████| 782/782 [00:31<00:00, 24.51it/s, loss=1.26]\n"
     ]
    },
    {
     "name": "stdout",
     "output_type": "stream",
     "text": [
      "Epoch [247/10], Avg Loss: 1.2571\n",
      "Epoch [247/10], Avg Validation Loss: 1.2657\n"
     ]
    },
    {
     "name": "stderr",
     "output_type": "stream",
     "text": [
      "Epoch 248/350 (SSAE): 100%|██████████| 782/782 [00:26<00:00, 29.84it/s, loss=1.23]\n"
     ]
    },
    {
     "name": "stdout",
     "output_type": "stream",
     "text": [
      "Epoch [248/10], Avg Loss: 1.2579\n",
      "Epoch [248/10], Avg Validation Loss: 1.2655\n"
     ]
    },
    {
     "name": "stderr",
     "output_type": "stream",
     "text": [
      "Epoch 249/350 (SSAE): 100%|██████████| 782/782 [00:27<00:00, 28.71it/s, loss=1.22]\n"
     ]
    },
    {
     "name": "stdout",
     "output_type": "stream",
     "text": [
      "Epoch [249/10], Avg Loss: 1.2584\n",
      "Epoch [249/10], Avg Validation Loss: 1.2634\n"
     ]
    },
    {
     "name": "stderr",
     "output_type": "stream",
     "text": [
      "Epoch 250/350 (SSAE): 100%|██████████| 782/782 [00:31<00:00, 24.98it/s, loss=1.49]\n"
     ]
    },
    {
     "name": "stdout",
     "output_type": "stream",
     "text": [
      "Epoch [250/10], Avg Loss: 1.2583\n",
      "Epoch [250/10], Avg Validation Loss: 1.2655\n"
     ]
    },
    {
     "name": "stderr",
     "output_type": "stream",
     "text": [
      "Epoch 251/350 (SSAE): 100%|██████████| 782/782 [00:30<00:00, 25.76it/s, loss=1.28]\n"
     ]
    },
    {
     "name": "stdout",
     "output_type": "stream",
     "text": [
      "Epoch [251/10], Avg Loss: 1.2581\n",
      "Epoch [251/10], Avg Validation Loss: 1.2678\n"
     ]
    },
    {
     "name": "stderr",
     "output_type": "stream",
     "text": [
      "Epoch 252/350 (SSAE): 100%|██████████| 782/782 [00:31<00:00, 25.20it/s, loss=1.25]\n"
     ]
    },
    {
     "name": "stdout",
     "output_type": "stream",
     "text": [
      "Epoch [252/10], Avg Loss: 1.2579\n",
      "Epoch [252/10], Avg Validation Loss: 1.2631\n"
     ]
    },
    {
     "name": "stderr",
     "output_type": "stream",
     "text": [
      "Epoch 253/350 (SSAE): 100%|██████████| 782/782 [00:29<00:00, 26.51it/s, loss=0.978]\n"
     ]
    },
    {
     "name": "stdout",
     "output_type": "stream",
     "text": [
      "Epoch [253/10], Avg Loss: 1.2593\n",
      "Epoch [253/10], Avg Validation Loss: 1.2632\n"
     ]
    },
    {
     "name": "stderr",
     "output_type": "stream",
     "text": [
      "Epoch 254/350 (SSAE): 100%|██████████| 782/782 [00:28<00:00, 27.02it/s, loss=1.51]\n"
     ]
    },
    {
     "name": "stdout",
     "output_type": "stream",
     "text": [
      "Epoch [254/10], Avg Loss: 1.2578\n",
      "Epoch [254/10], Avg Validation Loss: 1.2610\n"
     ]
    },
    {
     "name": "stderr",
     "output_type": "stream",
     "text": [
      "Epoch 255/350 (SSAE): 100%|██████████| 782/782 [00:26<00:00, 29.37it/s, loss=1.29]\n"
     ]
    },
    {
     "name": "stdout",
     "output_type": "stream",
     "text": [
      "Epoch [255/10], Avg Loss: 1.2573\n",
      "Epoch [255/10], Avg Validation Loss: 1.2641\n"
     ]
    },
    {
     "name": "stderr",
     "output_type": "stream",
     "text": [
      "Epoch 256/350 (SSAE): 100%|██████████| 782/782 [00:28<00:00, 27.03it/s, loss=1.11]\n"
     ]
    },
    {
     "name": "stdout",
     "output_type": "stream",
     "text": [
      "Epoch [256/10], Avg Loss: 1.2587\n",
      "Epoch [256/10], Avg Validation Loss: 1.2651\n"
     ]
    },
    {
     "name": "stderr",
     "output_type": "stream",
     "text": [
      "Epoch 257/350 (SSAE): 100%|██████████| 782/782 [00:27<00:00, 28.83it/s, loss=1.07]\n"
     ]
    },
    {
     "name": "stdout",
     "output_type": "stream",
     "text": [
      "Epoch [257/10], Avg Loss: 1.2576\n",
      "Epoch [257/10], Avg Validation Loss: 1.2656\n"
     ]
    },
    {
     "name": "stderr",
     "output_type": "stream",
     "text": [
      "Epoch 258/350 (SSAE): 100%|██████████| 782/782 [00:29<00:00, 26.20it/s, loss=1.21]\n"
     ]
    },
    {
     "name": "stdout",
     "output_type": "stream",
     "text": [
      "Epoch [258/10], Avg Loss: 1.2579\n",
      "Epoch [258/10], Avg Validation Loss: 1.2633\n"
     ]
    },
    {
     "name": "stderr",
     "output_type": "stream",
     "text": [
      "Epoch 259/350 (SSAE): 100%|██████████| 782/782 [00:25<00:00, 30.12it/s, loss=1.11]\n"
     ]
    },
    {
     "name": "stdout",
     "output_type": "stream",
     "text": [
      "Epoch [259/10], Avg Loss: 1.2579\n",
      "Epoch [259/10], Avg Validation Loss: 1.2640\n"
     ]
    },
    {
     "name": "stderr",
     "output_type": "stream",
     "text": [
      "Epoch 260/350 (SSAE): 100%|██████████| 782/782 [00:25<00:00, 30.77it/s, loss=1.12]\n"
     ]
    },
    {
     "name": "stdout",
     "output_type": "stream",
     "text": [
      "Epoch [260/10], Avg Loss: 1.2570\n",
      "Epoch [260/10], Avg Validation Loss: 1.2668\n"
     ]
    },
    {
     "name": "stderr",
     "output_type": "stream",
     "text": [
      "Epoch 261/350 (SSAE): 100%|██████████| 782/782 [00:26<00:00, 28.96it/s, loss=1.2] \n"
     ]
    },
    {
     "name": "stdout",
     "output_type": "stream",
     "text": [
      "Epoch [261/10], Avg Loss: 1.2571\n",
      "Epoch [261/10], Avg Validation Loss: 1.2663\n"
     ]
    },
    {
     "name": "stderr",
     "output_type": "stream",
     "text": [
      "Epoch 262/350 (SSAE): 100%|██████████| 782/782 [00:30<00:00, 25.66it/s, loss=1.07]\n"
     ]
    },
    {
     "name": "stdout",
     "output_type": "stream",
     "text": [
      "Epoch [262/10], Avg Loss: 1.2569\n",
      "Epoch [262/10], Avg Validation Loss: 1.2629\n"
     ]
    },
    {
     "name": "stderr",
     "output_type": "stream",
     "text": [
      "Epoch 263/350 (SSAE): 100%|██████████| 782/782 [00:30<00:00, 25.67it/s, loss=1.42]\n"
     ]
    },
    {
     "name": "stdout",
     "output_type": "stream",
     "text": [
      "Epoch [263/10], Avg Loss: 1.2586\n",
      "Epoch [263/10], Avg Validation Loss: 1.2667\n"
     ]
    },
    {
     "name": "stderr",
     "output_type": "stream",
     "text": [
      "Epoch 264/350 (SSAE): 100%|██████████| 782/782 [00:29<00:00, 26.67it/s, loss=1.18] \n"
     ]
    },
    {
     "name": "stdout",
     "output_type": "stream",
     "text": [
      "Epoch [264/10], Avg Loss: 1.2573\n",
      "Epoch [264/10], Avg Validation Loss: 1.2637\n"
     ]
    },
    {
     "name": "stderr",
     "output_type": "stream",
     "text": [
      "Epoch 265/350 (SSAE): 100%|██████████| 782/782 [00:26<00:00, 29.21it/s, loss=1.26]\n"
     ]
    },
    {
     "name": "stdout",
     "output_type": "stream",
     "text": [
      "Epoch [265/10], Avg Loss: 1.2589\n",
      "Epoch [265/10], Avg Validation Loss: 1.2635\n",
      "Validation loss improved. Saving the best model at epoch 265.\n"
     ]
    },
    {
     "name": "stderr",
     "output_type": "stream",
     "text": [
      "Epoch 266/350 (SSAE): 100%|██████████| 782/782 [00:28<00:00, 27.72it/s, loss=1.33] \n"
     ]
    },
    {
     "name": "stdout",
     "output_type": "stream",
     "text": [
      "Epoch [266/10], Avg Loss: 1.2577\n",
      "Epoch [266/10], Avg Validation Loss: 1.2654\n"
     ]
    },
    {
     "name": "stderr",
     "output_type": "stream",
     "text": [
      "Epoch 267/350 (SSAE): 100%|██████████| 782/782 [00:26<00:00, 30.03it/s, loss=1.36] \n"
     ]
    },
    {
     "name": "stdout",
     "output_type": "stream",
     "text": [
      "Epoch [267/10], Avg Loss: 1.2574\n",
      "Epoch [267/10], Avg Validation Loss: 1.2614\n"
     ]
    },
    {
     "name": "stderr",
     "output_type": "stream",
     "text": [
      "Epoch 268/350 (SSAE): 100%|██████████| 782/782 [00:30<00:00, 25.69it/s, loss=1.28]\n"
     ]
    },
    {
     "name": "stdout",
     "output_type": "stream",
     "text": [
      "Epoch [268/10], Avg Loss: 1.2574\n",
      "Epoch [268/10], Avg Validation Loss: 1.2656\n"
     ]
    },
    {
     "name": "stderr",
     "output_type": "stream",
     "text": [
      "Epoch 269/350 (SSAE): 100%|██████████| 782/782 [00:27<00:00, 28.60it/s, loss=0.996]\n"
     ]
    },
    {
     "name": "stdout",
     "output_type": "stream",
     "text": [
      "Epoch [269/10], Avg Loss: 1.2585\n",
      "Epoch [269/10], Avg Validation Loss: 1.2659\n"
     ]
    },
    {
     "name": "stderr",
     "output_type": "stream",
     "text": [
      "Epoch 270/350 (SSAE): 100%|██████████| 782/782 [00:25<00:00, 30.60it/s, loss=1.3] \n"
     ]
    },
    {
     "name": "stdout",
     "output_type": "stream",
     "text": [
      "Epoch [270/10], Avg Loss: 1.2578\n",
      "Epoch [270/10], Avg Validation Loss: 1.2640\n"
     ]
    },
    {
     "name": "stderr",
     "output_type": "stream",
     "text": [
      "Epoch 271/350 (SSAE): 100%|██████████| 782/782 [00:27<00:00, 28.69it/s, loss=1.14]\n"
     ]
    },
    {
     "name": "stdout",
     "output_type": "stream",
     "text": [
      "Epoch [271/10], Avg Loss: 1.2574\n",
      "Epoch [271/10], Avg Validation Loss: 1.2648\n"
     ]
    },
    {
     "name": "stderr",
     "output_type": "stream",
     "text": [
      "Epoch 272/350 (SSAE): 100%|██████████| 782/782 [00:30<00:00, 25.84it/s, loss=1.65] \n"
     ]
    },
    {
     "name": "stdout",
     "output_type": "stream",
     "text": [
      "Epoch [272/10], Avg Loss: 1.2581\n",
      "Epoch [272/10], Avg Validation Loss: 1.2667\n"
     ]
    },
    {
     "name": "stderr",
     "output_type": "stream",
     "text": [
      "Epoch 273/350 (SSAE): 100%|██████████| 782/782 [00:30<00:00, 25.82it/s, loss=1.52]\n"
     ]
    },
    {
     "name": "stdout",
     "output_type": "stream",
     "text": [
      "Epoch [273/10], Avg Loss: 1.2565\n",
      "Epoch [273/10], Avg Validation Loss: 1.2641\n"
     ]
    },
    {
     "name": "stderr",
     "output_type": "stream",
     "text": [
      "Epoch 274/350 (SSAE): 100%|██████████| 782/782 [00:29<00:00, 26.33it/s, loss=1.4] \n"
     ]
    },
    {
     "name": "stdout",
     "output_type": "stream",
     "text": [
      "Epoch [274/10], Avg Loss: 1.2575\n",
      "Epoch [274/10], Avg Validation Loss: 1.2624\n"
     ]
    },
    {
     "name": "stderr",
     "output_type": "stream",
     "text": [
      "Epoch 275/350 (SSAE): 100%|██████████| 782/782 [00:27<00:00, 28.64it/s, loss=0.946]\n"
     ]
    },
    {
     "name": "stdout",
     "output_type": "stream",
     "text": [
      "Epoch [275/10], Avg Loss: 1.2564\n",
      "Epoch [275/10], Avg Validation Loss: 1.2626\n",
      "Validation loss improved. Saving the best model at epoch 275.\n"
     ]
    },
    {
     "name": "stderr",
     "output_type": "stream",
     "text": [
      "Epoch 276/350 (SSAE): 100%|██████████| 782/782 [00:27<00:00, 28.12it/s, loss=1.17]\n"
     ]
    },
    {
     "name": "stdout",
     "output_type": "stream",
     "text": [
      "Epoch [276/10], Avg Loss: 1.2573\n",
      "Epoch [276/10], Avg Validation Loss: 1.2627\n"
     ]
    },
    {
     "name": "stderr",
     "output_type": "stream",
     "text": [
      "Epoch 277/350 (SSAE): 100%|██████████| 782/782 [00:26<00:00, 29.10it/s, loss=1.65]\n"
     ]
    },
    {
     "name": "stdout",
     "output_type": "stream",
     "text": [
      "Epoch [277/10], Avg Loss: 1.2570\n",
      "Epoch [277/10], Avg Validation Loss: 1.2630\n"
     ]
    },
    {
     "name": "stderr",
     "output_type": "stream",
     "text": [
      "Epoch 278/350 (SSAE): 100%|██████████| 782/782 [00:30<00:00, 25.86it/s, loss=1.18]\n"
     ]
    },
    {
     "name": "stdout",
     "output_type": "stream",
     "text": [
      "Epoch [278/10], Avg Loss: 1.2567\n",
      "Epoch [278/10], Avg Validation Loss: 1.2653\n"
     ]
    },
    {
     "name": "stderr",
     "output_type": "stream",
     "text": [
      "Epoch 279/350 (SSAE): 100%|██████████| 782/782 [00:26<00:00, 29.95it/s, loss=1.14]\n"
     ]
    },
    {
     "name": "stdout",
     "output_type": "stream",
     "text": [
      "Epoch [279/10], Avg Loss: 1.2551\n",
      "Epoch [279/10], Avg Validation Loss: 1.2659\n"
     ]
    },
    {
     "name": "stderr",
     "output_type": "stream",
     "text": [
      "Epoch 280/350 (SSAE): 100%|██████████| 782/782 [00:25<00:00, 31.15it/s, loss=1.02]\n"
     ]
    },
    {
     "name": "stdout",
     "output_type": "stream",
     "text": [
      "Epoch [280/10], Avg Loss: 1.2567\n",
      "Epoch [280/10], Avg Validation Loss: 1.2640\n"
     ]
    },
    {
     "name": "stderr",
     "output_type": "stream",
     "text": [
      "Epoch 281/350 (SSAE): 100%|██████████| 782/782 [00:27<00:00, 28.37it/s, loss=1.48] \n"
     ]
    },
    {
     "name": "stdout",
     "output_type": "stream",
     "text": [
      "Epoch [281/10], Avg Loss: 1.2566\n",
      "Epoch [281/10], Avg Validation Loss: 1.2644\n"
     ]
    },
    {
     "name": "stderr",
     "output_type": "stream",
     "text": [
      "Epoch 282/350 (SSAE): 100%|██████████| 782/782 [00:30<00:00, 25.95it/s, loss=1.26]\n"
     ]
    },
    {
     "name": "stdout",
     "output_type": "stream",
     "text": [
      "Epoch [282/10], Avg Loss: 1.2574\n",
      "Epoch [282/10], Avg Validation Loss: 1.2617\n"
     ]
    },
    {
     "name": "stderr",
     "output_type": "stream",
     "text": [
      "Epoch 283/350 (SSAE): 100%|██████████| 782/782 [00:30<00:00, 25.99it/s, loss=1.26]\n"
     ]
    },
    {
     "name": "stdout",
     "output_type": "stream",
     "text": [
      "Epoch [283/10], Avg Loss: 1.2564\n",
      "Epoch [283/10], Avg Validation Loss: 1.2621\n"
     ]
    },
    {
     "name": "stderr",
     "output_type": "stream",
     "text": [
      "Epoch 284/350 (SSAE): 100%|██████████| 782/782 [00:29<00:00, 26.28it/s, loss=1.3]  \n"
     ]
    },
    {
     "name": "stdout",
     "output_type": "stream",
     "text": [
      "Epoch [284/10], Avg Loss: 1.2568\n",
      "Epoch [284/10], Avg Validation Loss: 1.2646\n"
     ]
    },
    {
     "name": "stderr",
     "output_type": "stream",
     "text": [
      "Epoch 285/350 (SSAE): 100%|██████████| 782/782 [00:24<00:00, 31.53it/s, loss=1.37]\n"
     ]
    },
    {
     "name": "stdout",
     "output_type": "stream",
     "text": [
      "Epoch [285/10], Avg Loss: 1.2568\n",
      "Epoch [285/10], Avg Validation Loss: 1.2646\n"
     ]
    },
    {
     "name": "stderr",
     "output_type": "stream",
     "text": [
      "Epoch 286/350 (SSAE): 100%|██████████| 782/782 [00:29<00:00, 26.75it/s, loss=1.12]\n"
     ]
    },
    {
     "name": "stdout",
     "output_type": "stream",
     "text": [
      "Epoch [286/10], Avg Loss: 1.2567\n",
      "Epoch [286/10], Avg Validation Loss: 1.2634\n"
     ]
    },
    {
     "name": "stderr",
     "output_type": "stream",
     "text": [
      "Epoch 287/350 (SSAE): 100%|██████████| 782/782 [00:28<00:00, 27.41it/s, loss=1.47]\n"
     ]
    },
    {
     "name": "stdout",
     "output_type": "stream",
     "text": [
      "Epoch [287/10], Avg Loss: 1.2569\n",
      "Epoch [287/10], Avg Validation Loss: 1.2635\n"
     ]
    },
    {
     "name": "stderr",
     "output_type": "stream",
     "text": [
      "Epoch 288/350 (SSAE): 100%|██████████| 782/782 [00:28<00:00, 27.25it/s, loss=1.32]\n"
     ]
    },
    {
     "name": "stdout",
     "output_type": "stream",
     "text": [
      "Epoch [288/10], Avg Loss: 1.2565\n",
      "Epoch [288/10], Avg Validation Loss: 1.2607\n"
     ]
    },
    {
     "name": "stderr",
     "output_type": "stream",
     "text": [
      "Epoch 289/350 (SSAE): 100%|██████████| 782/782 [00:24<00:00, 31.66it/s, loss=1.36]\n"
     ]
    },
    {
     "name": "stdout",
     "output_type": "stream",
     "text": [
      "Epoch [289/10], Avg Loss: 1.2568\n",
      "Epoch [289/10], Avg Validation Loss: 1.2670\n"
     ]
    },
    {
     "name": "stderr",
     "output_type": "stream",
     "text": [
      "Epoch 290/350 (SSAE): 100%|██████████| 782/782 [00:25<00:00, 30.66it/s, loss=1.15] \n"
     ]
    },
    {
     "name": "stdout",
     "output_type": "stream",
     "text": [
      "Epoch [290/10], Avg Loss: 1.2584\n",
      "Epoch [290/10], Avg Validation Loss: 1.2606\n",
      "Validation loss improved. Saving the best model at epoch 290.\n"
     ]
    },
    {
     "name": "stderr",
     "output_type": "stream",
     "text": [
      "Epoch 291/350 (SSAE): 100%|██████████| 782/782 [00:28<00:00, 27.24it/s, loss=1.01] \n"
     ]
    },
    {
     "name": "stdout",
     "output_type": "stream",
     "text": [
      "Epoch [291/10], Avg Loss: 1.2556\n",
      "Epoch [291/10], Avg Validation Loss: 1.2598\n"
     ]
    },
    {
     "name": "stderr",
     "output_type": "stream",
     "text": [
      "Epoch 292/350 (SSAE): 100%|██████████| 782/782 [00:31<00:00, 25.20it/s, loss=1.28] \n"
     ]
    },
    {
     "name": "stdout",
     "output_type": "stream",
     "text": [
      "Epoch [292/10], Avg Loss: 1.2563\n",
      "Epoch [292/10], Avg Validation Loss: 1.2644\n"
     ]
    },
    {
     "name": "stderr",
     "output_type": "stream",
     "text": [
      "Epoch 293/350 (SSAE): 100%|██████████| 782/782 [00:30<00:00, 25.98it/s, loss=1.58]\n"
     ]
    },
    {
     "name": "stdout",
     "output_type": "stream",
     "text": [
      "Epoch [293/10], Avg Loss: 1.2570\n",
      "Epoch [293/10], Avg Validation Loss: 1.2645\n"
     ]
    },
    {
     "name": "stderr",
     "output_type": "stream",
     "text": [
      "Epoch 294/350 (SSAE): 100%|██████████| 782/782 [00:26<00:00, 29.81it/s, loss=0.988]\n"
     ]
    },
    {
     "name": "stdout",
     "output_type": "stream",
     "text": [
      "Epoch [294/10], Avg Loss: 1.2558\n",
      "Epoch [294/10], Avg Validation Loss: 1.2634\n"
     ]
    },
    {
     "name": "stderr",
     "output_type": "stream",
     "text": [
      "Epoch 295/350 (SSAE): 100%|██████████| 782/782 [00:27<00:00, 28.00it/s, loss=0.967]\n"
     ]
    },
    {
     "name": "stdout",
     "output_type": "stream",
     "text": [
      "Epoch [295/10], Avg Loss: 1.2551\n",
      "Epoch [295/10], Avg Validation Loss: 1.2616\n"
     ]
    },
    {
     "name": "stderr",
     "output_type": "stream",
     "text": [
      "Epoch 296/350 (SSAE): 100%|██████████| 782/782 [00:27<00:00, 28.09it/s, loss=0.944]\n"
     ]
    },
    {
     "name": "stdout",
     "output_type": "stream",
     "text": [
      "Epoch [296/10], Avg Loss: 1.2583\n",
      "Epoch [296/10], Avg Validation Loss: 1.2648\n"
     ]
    },
    {
     "name": "stderr",
     "output_type": "stream",
     "text": [
      "Epoch 297/350 (SSAE): 100%|██████████| 782/782 [00:28<00:00, 27.15it/s, loss=1.23]\n"
     ]
    },
    {
     "name": "stdout",
     "output_type": "stream",
     "text": [
      "Epoch [297/10], Avg Loss: 1.2557\n",
      "Epoch [297/10], Avg Validation Loss: 1.2623\n"
     ]
    },
    {
     "name": "stderr",
     "output_type": "stream",
     "text": [
      "Epoch 298/350 (SSAE): 100%|██████████| 782/782 [00:27<00:00, 28.21it/s, loss=1.24]\n"
     ]
    },
    {
     "name": "stdout",
     "output_type": "stream",
     "text": [
      "Epoch [298/10], Avg Loss: 1.2565\n",
      "Epoch [298/10], Avg Validation Loss: 1.2631\n"
     ]
    },
    {
     "name": "stderr",
     "output_type": "stream",
     "text": [
      "Epoch 299/350 (SSAE): 100%|██████████| 782/782 [00:25<00:00, 30.97it/s, loss=1.42] \n"
     ]
    },
    {
     "name": "stdout",
     "output_type": "stream",
     "text": [
      "Epoch [299/10], Avg Loss: 1.2566\n",
      "Epoch [299/10], Avg Validation Loss: 1.2646\n"
     ]
    },
    {
     "name": "stderr",
     "output_type": "stream",
     "text": [
      "Epoch 300/350 (SSAE): 100%|██████████| 782/782 [00:28<00:00, 27.62it/s, loss=1.48] \n"
     ]
    },
    {
     "name": "stdout",
     "output_type": "stream",
     "text": [
      "Epoch [300/10], Avg Loss: 1.2575\n",
      "Epoch [300/10], Avg Validation Loss: 1.2646\n"
     ]
    },
    {
     "name": "stderr",
     "output_type": "stream",
     "text": [
      "Epoch 301/350 (SSAE): 100%|██████████| 782/782 [00:30<00:00, 25.76it/s, loss=1.27] \n"
     ]
    },
    {
     "name": "stdout",
     "output_type": "stream",
     "text": [
      "Epoch [301/10], Avg Loss: 1.2554\n",
      "Epoch [301/10], Avg Validation Loss: 1.2650\n"
     ]
    },
    {
     "name": "stderr",
     "output_type": "stream",
     "text": [
      "Epoch 302/350 (SSAE): 100%|██████████| 782/782 [00:30<00:00, 25.35it/s, loss=1.23]\n"
     ]
    },
    {
     "name": "stdout",
     "output_type": "stream",
     "text": [
      "Epoch [302/10], Avg Loss: 1.2563\n",
      "Epoch [302/10], Avg Validation Loss: 1.2632\n"
     ]
    },
    {
     "name": "stderr",
     "output_type": "stream",
     "text": [
      "Epoch 303/350 (SSAE): 100%|██████████| 782/782 [00:28<00:00, 27.08it/s, loss=1.15]\n"
     ]
    },
    {
     "name": "stdout",
     "output_type": "stream",
     "text": [
      "Epoch [303/10], Avg Loss: 1.2562\n",
      "Epoch [303/10], Avg Validation Loss: 1.2673\n"
     ]
    },
    {
     "name": "stderr",
     "output_type": "stream",
     "text": [
      "Epoch 304/350 (SSAE): 100%|██████████| 782/782 [00:26<00:00, 29.97it/s, loss=0.94]\n"
     ]
    },
    {
     "name": "stdout",
     "output_type": "stream",
     "text": [
      "Epoch [304/10], Avg Loss: 1.2559\n",
      "Epoch [304/10], Avg Validation Loss: 1.2626\n"
     ]
    },
    {
     "name": "stderr",
     "output_type": "stream",
     "text": [
      "Epoch 305/350 (SSAE): 100%|██████████| 782/782 [00:29<00:00, 26.94it/s, loss=1.49]\n"
     ]
    },
    {
     "name": "stdout",
     "output_type": "stream",
     "text": [
      "Epoch [305/10], Avg Loss: 1.2568\n",
      "Epoch [305/10], Avg Validation Loss: 1.2627\n"
     ]
    },
    {
     "name": "stderr",
     "output_type": "stream",
     "text": [
      "Epoch 306/350 (SSAE): 100%|██████████| 782/782 [00:29<00:00, 26.84it/s, loss=1.26]\n"
     ]
    },
    {
     "name": "stdout",
     "output_type": "stream",
     "text": [
      "Epoch [306/10], Avg Loss: 1.2557\n",
      "Epoch [306/10], Avg Validation Loss: 1.2622\n"
     ]
    },
    {
     "name": "stderr",
     "output_type": "stream",
     "text": [
      "Epoch 307/350 (SSAE): 100%|██████████| 782/782 [00:27<00:00, 28.86it/s, loss=1.57]\n"
     ]
    },
    {
     "name": "stdout",
     "output_type": "stream",
     "text": [
      "Epoch [307/10], Avg Loss: 1.2568\n",
      "Epoch [307/10], Avg Validation Loss: 1.2640\n"
     ]
    },
    {
     "name": "stderr",
     "output_type": "stream",
     "text": [
      "Epoch 308/350 (SSAE): 100%|██████████| 782/782 [00:24<00:00, 32.06it/s, loss=1.11] \n"
     ]
    },
    {
     "name": "stdout",
     "output_type": "stream",
     "text": [
      "Epoch [308/10], Avg Loss: 1.2556\n",
      "Epoch [308/10], Avg Validation Loss: 1.2645\n"
     ]
    },
    {
     "name": "stderr",
     "output_type": "stream",
     "text": [
      "Epoch 309/350 (SSAE): 100%|██████████| 782/782 [00:29<00:00, 26.45it/s, loss=1.26] \n"
     ]
    },
    {
     "name": "stdout",
     "output_type": "stream",
     "text": [
      "Epoch [309/10], Avg Loss: 1.2554\n",
      "Epoch [309/10], Avg Validation Loss: 1.2626\n"
     ]
    },
    {
     "name": "stderr",
     "output_type": "stream",
     "text": [
      "Epoch 310/350 (SSAE): 100%|██████████| 782/782 [00:27<00:00, 28.19it/s, loss=1.13] \n"
     ]
    },
    {
     "name": "stdout",
     "output_type": "stream",
     "text": [
      "Epoch [310/10], Avg Loss: 1.2550\n",
      "Epoch [310/10], Avg Validation Loss: 1.2613\n"
     ]
    },
    {
     "name": "stderr",
     "output_type": "stream",
     "text": [
      "Epoch 311/350 (SSAE): 100%|██████████| 782/782 [00:29<00:00, 26.41it/s, loss=1.26]\n"
     ]
    },
    {
     "name": "stdout",
     "output_type": "stream",
     "text": [
      "Epoch [311/10], Avg Loss: 1.2560\n",
      "Epoch [311/10], Avg Validation Loss: 1.2592\n"
     ]
    },
    {
     "name": "stderr",
     "output_type": "stream",
     "text": [
      "Epoch 312/350 (SSAE): 100%|██████████| 782/782 [00:26<00:00, 29.80it/s, loss=1.27]\n"
     ]
    },
    {
     "name": "stdout",
     "output_type": "stream",
     "text": [
      "Epoch [312/10], Avg Loss: 1.2561\n",
      "Epoch [312/10], Avg Validation Loss: 1.2642\n"
     ]
    },
    {
     "name": "stderr",
     "output_type": "stream",
     "text": [
      "Epoch 313/350 (SSAE): 100%|██████████| 782/782 [00:29<00:00, 26.53it/s, loss=1.39]\n"
     ]
    },
    {
     "name": "stdout",
     "output_type": "stream",
     "text": [
      "Epoch [313/10], Avg Loss: 1.2552\n",
      "Epoch [313/10], Avg Validation Loss: 1.2637\n"
     ]
    },
    {
     "name": "stderr",
     "output_type": "stream",
     "text": [
      "Epoch 314/350 (SSAE): 100%|██████████| 782/782 [00:27<00:00, 28.08it/s, loss=1.26]\n"
     ]
    },
    {
     "name": "stdout",
     "output_type": "stream",
     "text": [
      "Epoch [314/10], Avg Loss: 1.2572\n",
      "Epoch [314/10], Avg Validation Loss: 1.2638\n"
     ]
    },
    {
     "name": "stderr",
     "output_type": "stream",
     "text": [
      "Epoch 315/350 (SSAE): 100%|██████████| 782/782 [00:28<00:00, 27.64it/s, loss=1.43]\n"
     ]
    },
    {
     "name": "stdout",
     "output_type": "stream",
     "text": [
      "Epoch [315/10], Avg Loss: 1.2566\n",
      "Epoch [315/10], Avg Validation Loss: 1.2626\n"
     ]
    },
    {
     "name": "stderr",
     "output_type": "stream",
     "text": [
      "Epoch 316/350 (SSAE): 100%|██████████| 782/782 [00:27<00:00, 28.81it/s, loss=1.29]\n"
     ]
    },
    {
     "name": "stdout",
     "output_type": "stream",
     "text": [
      "Epoch [316/10], Avg Loss: 1.2571\n",
      "Epoch [316/10], Avg Validation Loss: 1.2608\n"
     ]
    },
    {
     "name": "stderr",
     "output_type": "stream",
     "text": [
      "Epoch 317/350 (SSAE): 100%|██████████| 782/782 [00:27<00:00, 28.14it/s, loss=1.23]\n"
     ]
    },
    {
     "name": "stdout",
     "output_type": "stream",
     "text": [
      "Epoch [317/10], Avg Loss: 1.2559\n",
      "Epoch [317/10], Avg Validation Loss: 1.2643\n"
     ]
    },
    {
     "name": "stderr",
     "output_type": "stream",
     "text": [
      "Epoch 318/350 (SSAE): 100%|██████████| 782/782 [00:29<00:00, 26.10it/s, loss=1.14]\n"
     ]
    },
    {
     "name": "stdout",
     "output_type": "stream",
     "text": [
      "Epoch [318/10], Avg Loss: 1.2557\n",
      "Epoch [318/10], Avg Validation Loss: 1.2642\n"
     ]
    },
    {
     "name": "stderr",
     "output_type": "stream",
     "text": [
      "Epoch 319/350 (SSAE): 100%|██████████| 782/782 [00:27<00:00, 28.51it/s, loss=1.06]\n"
     ]
    },
    {
     "name": "stdout",
     "output_type": "stream",
     "text": [
      "Epoch [319/10], Avg Loss: 1.2556\n",
      "Epoch [319/10], Avg Validation Loss: 1.2630\n"
     ]
    },
    {
     "name": "stderr",
     "output_type": "stream",
     "text": [
      "Epoch 320/350 (SSAE): 100%|██████████| 782/782 [00:28<00:00, 26.99it/s, loss=1.51]\n"
     ]
    },
    {
     "name": "stdout",
     "output_type": "stream",
     "text": [
      "Epoch [320/10], Avg Loss: 1.2557\n",
      "Epoch [320/10], Avg Validation Loss: 1.2645\n"
     ]
    },
    {
     "name": "stderr",
     "output_type": "stream",
     "text": [
      "Epoch 321/350 (SSAE): 100%|██████████| 782/782 [00:25<00:00, 31.24it/s, loss=1.42] \n"
     ]
    },
    {
     "name": "stdout",
     "output_type": "stream",
     "text": [
      "Epoch [321/10], Avg Loss: 1.2563\n",
      "Epoch [321/10], Avg Validation Loss: 1.2656\n"
     ]
    },
    {
     "name": "stderr",
     "output_type": "stream",
     "text": [
      "Epoch 322/350 (SSAE): 100%|██████████| 782/782 [00:28<00:00, 27.31it/s, loss=1.53]\n"
     ]
    },
    {
     "name": "stdout",
     "output_type": "stream",
     "text": [
      "Epoch [322/10], Avg Loss: 1.2559\n",
      "Epoch [322/10], Avg Validation Loss: 1.2642\n"
     ]
    },
    {
     "name": "stderr",
     "output_type": "stream",
     "text": [
      "Epoch 323/350 (SSAE): 100%|██████████| 782/782 [00:29<00:00, 26.48it/s, loss=1.36] \n"
     ]
    },
    {
     "name": "stdout",
     "output_type": "stream",
     "text": [
      "Epoch [323/10], Avg Loss: 1.2563\n",
      "Epoch [323/10], Avg Validation Loss: 1.2629\n"
     ]
    },
    {
     "name": "stderr",
     "output_type": "stream",
     "text": [
      "Epoch 324/350 (SSAE): 100%|██████████| 782/782 [00:27<00:00, 28.08it/s, loss=1.28] \n"
     ]
    },
    {
     "name": "stdout",
     "output_type": "stream",
     "text": [
      "Epoch [324/10], Avg Loss: 1.2561\n",
      "Epoch [324/10], Avg Validation Loss: 1.2624\n"
     ]
    },
    {
     "name": "stderr",
     "output_type": "stream",
     "text": [
      "Epoch 325/350 (SSAE): 100%|██████████| 782/782 [00:26<00:00, 29.18it/s, loss=1.57]\n"
     ]
    },
    {
     "name": "stdout",
     "output_type": "stream",
     "text": [
      "Epoch [325/10], Avg Loss: 1.2578\n",
      "Epoch [325/10], Avg Validation Loss: 1.2640\n"
     ]
    },
    {
     "name": "stderr",
     "output_type": "stream",
     "text": [
      "Epoch 326/350 (SSAE): 100%|██████████| 782/782 [00:27<00:00, 28.76it/s, loss=1.05]\n"
     ]
    },
    {
     "name": "stdout",
     "output_type": "stream",
     "text": [
      "Epoch [326/10], Avg Loss: 1.2557\n",
      "Epoch [326/10], Avg Validation Loss: 1.2636\n"
     ]
    },
    {
     "name": "stderr",
     "output_type": "stream",
     "text": [
      "Epoch 327/350 (SSAE): 100%|██████████| 782/782 [00:27<00:00, 28.39it/s, loss=1.56] \n"
     ]
    },
    {
     "name": "stdout",
     "output_type": "stream",
     "text": [
      "Epoch [327/10], Avg Loss: 1.2563\n",
      "Epoch [327/10], Avg Validation Loss: 1.2622\n"
     ]
    },
    {
     "name": "stderr",
     "output_type": "stream",
     "text": [
      "Epoch 328/350 (SSAE): 100%|██████████| 782/782 [00:30<00:00, 26.03it/s, loss=1.17] \n"
     ]
    },
    {
     "name": "stdout",
     "output_type": "stream",
     "text": [
      "Epoch [328/10], Avg Loss: 1.2555\n",
      "Epoch [328/10], Avg Validation Loss: 1.2659\n"
     ]
    },
    {
     "name": "stderr",
     "output_type": "stream",
     "text": [
      "Epoch 329/350 (SSAE): 100%|██████████| 782/782 [00:29<00:00, 26.11it/s, loss=1.12] \n"
     ]
    },
    {
     "name": "stdout",
     "output_type": "stream",
     "text": [
      "Epoch [329/10], Avg Loss: 1.2560\n",
      "Epoch [329/10], Avg Validation Loss: 1.2644\n"
     ]
    },
    {
     "name": "stderr",
     "output_type": "stream",
     "text": [
      "Epoch 330/350 (SSAE): 100%|██████████| 782/782 [00:27<00:00, 28.29it/s, loss=1.55]\n"
     ]
    },
    {
     "name": "stdout",
     "output_type": "stream",
     "text": [
      "Epoch [330/10], Avg Loss: 1.2559\n",
      "Epoch [330/10], Avg Validation Loss: 1.2641\n"
     ]
    },
    {
     "name": "stderr",
     "output_type": "stream",
     "text": [
      "Epoch 331/350 (SSAE): 100%|██████████| 782/782 [00:27<00:00, 28.09it/s, loss=1.12]\n"
     ]
    },
    {
     "name": "stdout",
     "output_type": "stream",
     "text": [
      "Epoch [331/10], Avg Loss: 1.2547\n",
      "Epoch [331/10], Avg Validation Loss: 1.2642\n"
     ]
    },
    {
     "name": "stderr",
     "output_type": "stream",
     "text": [
      "Epoch 332/350 (SSAE): 100%|██████████| 782/782 [00:26<00:00, 29.67it/s, loss=1.33]\n"
     ]
    },
    {
     "name": "stdout",
     "output_type": "stream",
     "text": [
      "Epoch [332/10], Avg Loss: 1.2555\n",
      "Epoch [332/10], Avg Validation Loss: 1.2621\n"
     ]
    },
    {
     "name": "stderr",
     "output_type": "stream",
     "text": [
      "Epoch 333/350 (SSAE): 100%|██████████| 782/782 [00:27<00:00, 28.18it/s, loss=1.29]\n"
     ]
    },
    {
     "name": "stdout",
     "output_type": "stream",
     "text": [
      "Epoch [333/10], Avg Loss: 1.2567\n",
      "Epoch [333/10], Avg Validation Loss: 1.2665\n"
     ]
    },
    {
     "name": "stderr",
     "output_type": "stream",
     "text": [
      "Epoch 334/350 (SSAE): 100%|██████████| 782/782 [00:29<00:00, 26.67it/s, loss=1.22]\n"
     ]
    },
    {
     "name": "stdout",
     "output_type": "stream",
     "text": [
      "Epoch [334/10], Avg Loss: 1.2555\n",
      "Epoch [334/10], Avg Validation Loss: 1.2603\n"
     ]
    },
    {
     "name": "stderr",
     "output_type": "stream",
     "text": [
      "Epoch 335/350 (SSAE): 100%|██████████| 782/782 [00:30<00:00, 25.39it/s, loss=1.34]\n"
     ]
    },
    {
     "name": "stdout",
     "output_type": "stream",
     "text": [
      "Epoch [335/10], Avg Loss: 1.2559\n",
      "Epoch [335/10], Avg Validation Loss: 1.2619\n"
     ]
    },
    {
     "name": "stderr",
     "output_type": "stream",
     "text": [
      "Epoch 336/350 (SSAE): 100%|██████████| 782/782 [00:25<00:00, 30.27it/s, loss=1.11] \n"
     ]
    },
    {
     "name": "stdout",
     "output_type": "stream",
     "text": [
      "Epoch [336/10], Avg Loss: 1.2555\n",
      "Epoch [336/10], Avg Validation Loss: 1.2647\n"
     ]
    },
    {
     "name": "stderr",
     "output_type": "stream",
     "text": [
      "Epoch 337/350 (SSAE): 100%|██████████| 782/782 [00:28<00:00, 27.32it/s, loss=1.15]\n"
     ]
    },
    {
     "name": "stdout",
     "output_type": "stream",
     "text": [
      "Epoch [337/10], Avg Loss: 1.2554\n",
      "Epoch [337/10], Avg Validation Loss: 1.2626\n"
     ]
    },
    {
     "name": "stderr",
     "output_type": "stream",
     "text": [
      "Epoch 338/350 (SSAE): 100%|██████████| 782/782 [00:27<00:00, 28.12it/s, loss=1.62]\n"
     ]
    },
    {
     "name": "stdout",
     "output_type": "stream",
     "text": [
      "Epoch [338/10], Avg Loss: 1.2575\n",
      "Epoch [338/10], Avg Validation Loss: 1.2621\n"
     ]
    },
    {
     "name": "stderr",
     "output_type": "stream",
     "text": [
      "Epoch 339/350 (SSAE): 100%|██████████| 782/782 [00:24<00:00, 32.01it/s, loss=1.08] \n"
     ]
    },
    {
     "name": "stdout",
     "output_type": "stream",
     "text": [
      "Epoch [339/10], Avg Loss: 1.2565\n",
      "Epoch [339/10], Avg Validation Loss: 1.2640\n"
     ]
    },
    {
     "name": "stderr",
     "output_type": "stream",
     "text": [
      "Epoch 340/350 (SSAE): 100%|██████████| 782/782 [00:30<00:00, 25.34it/s, loss=1.29]\n"
     ]
    },
    {
     "name": "stdout",
     "output_type": "stream",
     "text": [
      "Epoch [340/10], Avg Loss: 1.2564\n",
      "Epoch [340/10], Avg Validation Loss: 1.2591\n",
      "Validation loss improved. Saving the best model at epoch 340.\n"
     ]
    },
    {
     "name": "stderr",
     "output_type": "stream",
     "text": [
      "Epoch 341/350 (SSAE): 100%|██████████| 782/782 [00:28<00:00, 27.11it/s, loss=1]    \n"
     ]
    },
    {
     "name": "stdout",
     "output_type": "stream",
     "text": [
      "Epoch [341/10], Avg Loss: 1.2549\n",
      "Epoch [341/10], Avg Validation Loss: 1.2595\n"
     ]
    },
    {
     "name": "stderr",
     "output_type": "stream",
     "text": [
      "Epoch 342/350 (SSAE): 100%|██████████| 782/782 [00:29<00:00, 26.55it/s, loss=1.31]\n"
     ]
    },
    {
     "name": "stdout",
     "output_type": "stream",
     "text": [
      "Epoch [342/10], Avg Loss: 1.2558\n",
      "Epoch [342/10], Avg Validation Loss: 1.2642\n"
     ]
    },
    {
     "name": "stderr",
     "output_type": "stream",
     "text": [
      "Epoch 343/350 (SSAE): 100%|██████████| 782/782 [00:28<00:00, 27.55it/s, loss=1.24]\n"
     ]
    },
    {
     "name": "stdout",
     "output_type": "stream",
     "text": [
      "Epoch [343/10], Avg Loss: 1.2556\n",
      "Epoch [343/10], Avg Validation Loss: 1.2614\n"
     ]
    },
    {
     "name": "stderr",
     "output_type": "stream",
     "text": [
      "Epoch 344/350 (SSAE): 100%|██████████| 782/782 [00:28<00:00, 27.52it/s, loss=0.876]\n"
     ]
    },
    {
     "name": "stdout",
     "output_type": "stream",
     "text": [
      "Epoch [344/10], Avg Loss: 1.2546\n",
      "Epoch [344/10], Avg Validation Loss: 1.2638\n"
     ]
    },
    {
     "name": "stderr",
     "output_type": "stream",
     "text": [
      "Epoch 345/350 (SSAE): 100%|██████████| 782/782 [00:26<00:00, 29.72it/s, loss=0.906]\n"
     ]
    },
    {
     "name": "stdout",
     "output_type": "stream",
     "text": [
      "Epoch [345/10], Avg Loss: 1.2552\n",
      "Epoch [345/10], Avg Validation Loss: 1.2600\n"
     ]
    },
    {
     "name": "stderr",
     "output_type": "stream",
     "text": [
      "Epoch 346/350 (SSAE): 100%|██████████| 782/782 [00:25<00:00, 30.32it/s, loss=1.24] \n"
     ]
    },
    {
     "name": "stdout",
     "output_type": "stream",
     "text": [
      "Epoch [346/10], Avg Loss: 1.2562\n",
      "Epoch [346/10], Avg Validation Loss: 1.2618\n"
     ]
    },
    {
     "name": "stderr",
     "output_type": "stream",
     "text": [
      "Epoch 347/350 (SSAE): 100%|██████████| 782/782 [00:29<00:00, 26.52it/s, loss=1.22] \n"
     ]
    },
    {
     "name": "stdout",
     "output_type": "stream",
     "text": [
      "Epoch [347/10], Avg Loss: 1.2557\n",
      "Epoch [347/10], Avg Validation Loss: 1.2615\n"
     ]
    },
    {
     "name": "stderr",
     "output_type": "stream",
     "text": [
      "Epoch 348/350 (SSAE): 100%|██████████| 782/782 [00:30<00:00, 25.56it/s, loss=1.56] \n"
     ]
    },
    {
     "name": "stdout",
     "output_type": "stream",
     "text": [
      "Epoch [348/10], Avg Loss: 1.2545\n",
      "Epoch [348/10], Avg Validation Loss: 1.2647\n"
     ]
    },
    {
     "name": "stderr",
     "output_type": "stream",
     "text": [
      "Epoch 349/350 (SSAE): 100%|██████████| 782/782 [00:27<00:00, 28.42it/s, loss=1.11]\n"
     ]
    },
    {
     "name": "stdout",
     "output_type": "stream",
     "text": [
      "Epoch [349/10], Avg Loss: 1.2564\n",
      "Epoch [349/10], Avg Validation Loss: 1.2619\n"
     ]
    },
    {
     "name": "stderr",
     "output_type": "stream",
     "text": [
      "Epoch 350/350 (SSAE): 100%|██████████| 782/782 [00:27<00:00, 28.06it/s, loss=1.15]\n"
     ]
    },
    {
     "name": "stdout",
     "output_type": "stream",
     "text": [
      "Epoch [350/10], Avg Loss: 1.2547\n",
      "Epoch [350/10], Avg Validation Loss: 1.2620\n"
     ]
    }
   ],
   "source": [
    "# List to store loss values for plotting\n",
    "loss_values = []\n",
    "val_loss_values = []\n",
    "\n",
    "# variable initialization to store the best validation loss\n",
    "best_val_loss = float('inf')\n",
    "\n",
    "for epoch in range(350):\n",
    "    model.train()  # model in training mode\n",
    "    total_loss = 0\n",
    "    \n",
    "    # tqdm progress bar\n",
    "    progress_bar = tqdm(train_loader, desc=f\"Epoch {epoch+1}/350 (SSAE)\")\n",
    "    \n",
    "    for images, labels in progress_bar:\n",
    "        images, labels = images.to(device), labels.to(device)\n",
    "        # Flatten the images for the autoencoder\n",
    "        images = images.view(-1, 3*32*32)\n",
    "        \n",
    "        # Forward pass\n",
    "        outputs = model(images)\n",
    "        \n",
    "        # Calculate loss\n",
    "        loss = model.semi_supervised_loss(images, outputs, labels)\n",
    "        \n",
    "        # Backward pass and optimize\n",
    "        optimizer.zero_grad()\n",
    "        loss.backward()\n",
    "        optimizer.step()\n",
    "        \n",
    "        total_loss += loss.item()\n",
    "        \n",
    "        # Update tqdm progress bar with the current loss\n",
    "        progress_bar.set_postfix(loss=loss.item())\n",
    "    \n",
    "    # Calculate the average loss for this epoch\n",
    "    avg_loss = total_loss / len(train_loader)\n",
    "    loss_values.append(avg_loss)\n",
    "    \n",
    "    # Print the average loss for the current epoch\n",
    "    print(f\"Epoch [{epoch+1}/10], Avg Loss: {avg_loss:.4f}\")\n",
    "    \n",
    "    \n",
    "    # --- Validation loop ---\n",
    "    model.eval()  # Set the model to evaluation mode\n",
    "    total_val_loss = 0\n",
    "    \n",
    "    with torch.no_grad():  # Disable gradient calculations during validation\n",
    "        for val_images, val_labels in val_loader:\n",
    "\n",
    "            val_images, val_labels = val_images.to(device), val_labels.to(device)\n",
    "            \n",
    "            # Flatten the validation images\n",
    "            val_images = val_images.view(-1, 3*32*32)\n",
    "            \n",
    "            # Forward pass\n",
    "            val_outputs = model(val_images)\n",
    "            \n",
    "            # Calculate validation loss\n",
    "            val_loss = model.semi_supervised_loss(val_images, val_outputs, val_labels)\n",
    "            total_val_loss += val_loss.item()\n",
    "    \n",
    "    # Calculate the average validation loss for this epoch\n",
    "    avg_val_loss = total_val_loss / len(val_loader)\n",
    "    val_loss_values.append(avg_val_loss)\n",
    "\n",
    "    # Print the average validation loss for the current epoch\n",
    "    print(f\"Epoch [{epoch+1}/10], Avg Validation Loss: {avg_val_loss:.4f}\")\n",
    "    \n",
    "    # --- Model selection based on validation loss ---\n",
    "    if avg_val_loss < best_val_loss and (epoch+1) % 5 == 0 :\n",
    "        best_val_loss = avg_val_loss\n",
    "        print(f\"Validation loss improved. Saving the best model at epoch {epoch+1}.\")\n",
    "        torch.save(model.state_dict(), f'model_ssae_cifar100/best_model_epoch_{epoch+1}.pth')\n",
    "    \n",
    "    # Save the model after each epoch\n",
    "    # torch.save(model.state_dict(), f'model_ssae_cifar100/ssae_cifar_epoch_{epoch+1}.pth')\n"
   ]
  },
  {
   "cell_type": "code",
   "execution_count": 14,
   "metadata": {},
   "outputs": [
    {
     "data": {
      "image/png": "[encoded data removed]",
      "text/plain": [
       "<Figure size 640x480 with 1 Axes>"
      ]
     },
     "metadata": {},
     "output_type": "display_data"
    }
   ],
   "source": [
    "# Plot both training and validation losses\n",
    "plt.plot(loss_values, label=\"Training Loss\")\n",
    "plt.plot(val_loss_values, label=\"Validation Loss\")\n",
    "plt.xlabel('Epochs')\n",
    "plt.ylabel('Loss')\n",
    "plt.title('Training and Validation Loss over Time')\n",
    "plt.legend()\n",
    "plt.show()"
   ]
  },
  {
   "cell_type": "markdown",
   "metadata": {},
   "source": [
    "Checking Model's Performance and Visualizing Reconstruction"
   ]
  },
  {
   "cell_type": "code",
   "execution_count": 27,
   "metadata": {},
   "outputs": [],
   "source": [
    "def visualize_reconstruction(model, dataset, num_samples=10, device='cuda'):\n",
    "    # model.eval()  # Set the model to evaluation mode\n",
    "    model.load_state_dict(torch.load('model_ssae_cifar100/best_model_epoch_340.pth'))\n",
    "    model.eval()\n",
    "\n",
    "    model.to(device)\n",
    "    \n",
    "    fig, axes = plt.subplots(2, num_samples, figsize=(20, 5))\n",
    "    \n",
    "    for i in range(num_samples):\n",
    "        # Get a sample from the dataset\n",
    "        img, label = dataset[i]\n",
    "        # img, label = img.to(device), label.to(device)\n",
    "        img = img.view(1, -1).to(device)  # Flatten image\n",
    "        \n",
    "        # Forward pass to get the reconstruction\n",
    "        with torch.no_grad():\n",
    "            img = img.to(device)\n",
    "            reconstructed_img = model(img)\n",
    "\n",
    "        # Reshape images back to 28x28 for visualization\n",
    "        # img = img.view(28, 28)\n",
    "        # reconstructed_img = reconstructed_img.view(28, 28)\n",
    "        \n",
    "        # Reshape images back to 32x32 with 3 channels for visualization\n",
    "        img = img.view(3, 32, 32).permute(1, 2, 0).cpu().numpy()  # Convert from (C, H, W) to (H, W, C) format\n",
    "        reconstructed_img = reconstructed_img.view(3, 32, 32).permute(1, 2, 0).cpu().numpy()  # Reshape and permute back\n",
    "\n",
    "        \n",
    "        # Plot original image\n",
    "        axes[0, i].imshow(img, cmap='gray')\n",
    "        axes[0, i].set_title(f\"Original: {'Normal' if label == 0 else 'Abnormal'}\")\n",
    "        axes[0, i].axis('off')\n",
    "        \n",
    "        # Plot reconstructed image\n",
    "        axes[1, i].imshow(reconstructed_img, cmap='gray')\n",
    "        axes[1, i].set_title(\"Reconstructed\")\n",
    "        axes[1, i].axis('off')\n",
    "    \n",
    "    plt.show()"
   ]
  },
  {
   "cell_type": "code",
   "execution_count": 28,
   "metadata": {},
   "outputs": [
    {
     "data": {
      "image/png": "[encoded data removed]",
      "text/plain": [
       "<Figure size 2000x500 with 20 Axes>"
      ]
     },
     "metadata": {},
     "output_type": "display_data"
    },
    {
     "ename": "",
     "evalue": "",
     "output_type": "error",
     "traceback": [
      "\u001b[1;31mThe Kernel crashed while executing code in the current cell or a previous cell. \n",
      "\u001b[1;31mPlease review the code in the cell(s) to identify a possible cause of the failure. \n",
      "\u001b[1;31mClick <a href='https://aka.ms/vscodeJupyterKernelCrash'>here</a> for more info. \n",
      "\u001b[1;31mView Jupyter <a href='command:jupyter.viewOutput'>log</a> for further details."
     ]
    }
   ],
   "source": [
    "visualize_reconstruction(model, train_dataset, device=device)"
   ]
  },
  {
   "cell_type": "code",
   "execution_count": null,
   "metadata": {},
   "outputs": [],
   "source": []
  }
 ],
 "metadata": {
  "kernelspec": {
   "display_name": "test",
   "language": "python",
   "name": "python3"
  },
  "language_info": {
   "codemirror_mode": {
    "name": "ipython",
    "version": 3
   },
   "file_extension": ".py",
   "mimetype": "text/x-python",
   "name": "python",
   "nbconvert_exporter": "python",
   "pygments_lexer": "ipython3",
   "version": "3.10.13"
  }
 },
 "nbformat": 4,
 "nbformat_minor": 2
}
