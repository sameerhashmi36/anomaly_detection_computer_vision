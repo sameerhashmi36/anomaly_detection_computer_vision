{
 "cells": [
  {
   "cell_type": "code",
   "execution_count": 1,
   "metadata": {},
   "outputs": [],
   "source": [
    "import torch\n",
    "import torch.nn as nn\n",
    "import torch.nn.functional as F\n",
    "import torch.optim as optim\n",
    "from torchvision import datasets, transforms\n",
    "from torch.utils.data import DataLoader, Dataset\n",
    "import numpy as np\n",
    "from tqdm import tqdm\n",
    "import matplotlib.pyplot as plt"
   ]
  },
  {
   "cell_type": "markdown",
   "metadata": {},
   "source": [
    "Custom dataset class to label T-shirts (class 0) as normal, other classes as abnormal"
   ]
  },
  {
   "cell_type": "code",
   "execution_count": 2,
   "metadata": {},
   "outputs": [],
   "source": [
    "class FashionMNISTCustom(Dataset):\n",
    "    def __init__(self, root='./data', train=True, transform=None, normal_class=0):\n",
    "        \"\"\"\n",
    "            Custom FashionMNIST dataset with normal and abnormal labels.\n",
    "            Normal class will be labeled as 0, all other classes as 1.\n",
    "        \"\"\"\n",
    "        self.dataset = datasets.FashionMNIST(root=root, train=train, download=True)\n",
    "        self.normal_class = normal_class  # Set the normal class (e.g., T-shirts)\n",
    "        self.transform = transform\n",
    "\n",
    "    def __len__(self):\n",
    "        return len(self.dataset)\n",
    "\n",
    "    def __getitem__(self, idx):\n",
    "        img, label = self.dataset[idx]\n",
    "        # Label normal (T-shirt) as 0, abnormal (other) as 1\n",
    "        label = 0 if label == self.normal_class else 1\n",
    "        if self.transform:\n",
    "            img = self.transform(img)\n",
    "        return img, label"
   ]
  },
  {
   "cell_type": "markdown",
   "metadata": {},
   "source": [
    "SSAE Model Definition"
   ]
  },
  {
   "cell_type": "code",
   "execution_count": 3,
   "metadata": {},
   "outputs": [],
   "source": [
    "class SSAE(nn.Module):\n",
    "    def __init__(self):\n",
    "        super(SSAE, self).__init__()\n",
    "        # Encoder network: compresses image to 64 dimensions\n",
    "        self.encoder = nn.Sequential(\n",
    "            nn.Linear(28*28, 256),  # Input layer (28*28 image size)\n",
    "            nn.ReLU(),\n",
    "            nn.Linear(256, 128),\n",
    "            nn.ReLU(),\n",
    "            nn.Linear(128, 64)\n",
    "        )\n",
    "        # Decoder network: reconstructs the image from 64 dimensions\n",
    "        self.decoder = nn.Sequential(\n",
    "            nn.Linear(64, 128),\n",
    "            nn.ReLU(),\n",
    "            nn.Linear(128, 256),\n",
    "            nn.ReLU(),\n",
    "            nn.Linear(256, 28*28),\n",
    "            nn.Sigmoid()  # Sigmoid to ensure pixel values are between 0 and 1\n",
    "        )\n",
    "\n",
    "    def forward(self, x):\n",
    "        # Forward pass through encoder and decoder\n",
    "        x = self.encoder(x)\n",
    "        x = self.decoder(x)\n",
    "        return x\n",
    "    \n",
    "    def semi_supervised_loss(self, inputs, outputs, labels, margin=0.2):\n",
    "        # Standard reconstruction loss (Mean Squared Error)\n",
    "        reconstruction_loss = F.mse_loss(outputs, inputs, reduction='none').mean(dim=1)\n",
    "\n",
    "        # Separate normal and abnormal samples\n",
    "        abnormal = labels > 0  # True for abnormal samples\n",
    "\n",
    "        # Calculate additional abnormal loss\n",
    "        abnormal_loss = reconstruction_loss[abnormal].mean() if abnormal.any() else torch.tensor(0.0)\n",
    "\n",
    "        # Combine normal reconstruction loss and abnormal loss\n",
    "        return reconstruction_loss.mean() + abnormal_loss"
   ]
  },
  {
   "cell_type": "markdown",
   "metadata": {},
   "source": [
    "Data preparation"
   ]
  },
  {
   "cell_type": "code",
   "execution_count": 4,
   "metadata": {},
   "outputs": [],
   "source": [
    "transform = transforms.Compose([transforms.ToTensor()])\n",
    "train_dataset = FashionMNISTCustom(train=True, transform=transform, normal_class=0)  # T-shirts as normal\n",
    "train_loader = DataLoader(train_dataset, batch_size=64, shuffle=True)"
   ]
  },
  {
   "cell_type": "markdown",
   "metadata": {},
   "source": [
    "View samples from the dataset with labels (Normal: 0, Abnormal: 1)"
   ]
  },
  {
   "cell_type": "code",
   "execution_count": 5,
   "metadata": {},
   "outputs": [],
   "source": [
    "def show_samples(dataset, num_samples=5):\n",
    "    fig, axes = plt.subplots(1, num_samples, figsize=(15, 3))\n",
    "\n",
    "    for i in range(num_samples):\n",
    "        img, label = dataset[i]  # Get image and label\n",
    "        \n",
    "        # Convert tensor to numpy array for displaying\n",
    "        if isinstance(img, torch.Tensor):\n",
    "            img = img.numpy().squeeze()  # Convert to numpy and squeeze to remove extra dimensions\n",
    "        \n",
    "        axes[i].imshow(img, cmap='gray')  # Display the image\n",
    "        axes[i].set_title(f\"Label: {'Normal' if label == 0 else 'Abnormal'}\")\n",
    "        axes[i].axis('off')\n",
    "    \n",
    "    plt.show()"
   ]
  },
  {
   "cell_type": "code",
   "execution_count": 6,
   "metadata": {},
   "outputs": [
    {
     "name": "stdout",
     "output_type": "stream",
     "text": [
      "Total number of samples in the dataset: 60000\n"
     ]
    },
    {
     "data": {
      "image/png": "[encoded data removed]",
      "text/plain": [
       "<Figure size 1500x300 with 5 Axes>"
      ]
     },
     "metadata": {},
     "output_type": "display_data"
    }
   ],
   "source": [
    "# Dataset with T-shirts (class 0) as normal and others as abnormal\n",
    "train_dataset = FashionMNISTCustom(train=True, transform=transforms.ToTensor(), normal_class=0)\n",
    "\n",
    "# Check the length of the dataset\n",
    "print(f\"Total number of samples in the dataset: {len(train_dataset)}\")\n",
    "\n",
    "# Show a few samples with their labels\n",
    "show_samples(train_dataset, num_samples=5)"
   ]
  },
  {
   "cell_type": "code",
   "execution_count": 7,
   "metadata": {},
   "outputs": [],
   "source": [
    "model = SSAE()\n",
    "optimizer = optim.Adam(model.parameters(), lr=0.0001)"
   ]
  },
  {
   "cell_type": "code",
   "execution_count": 8,
   "metadata": {},
   "outputs": [
    {
     "data": {
      "text/plain": [
       "SSAE(\n",
       "  (encoder): Sequential(\n",
       "    (0): Linear(in_features=784, out_features=256, bias=True)\n",
       "    (1): ReLU()\n",
       "    (2): Linear(in_features=256, out_features=128, bias=True)\n",
       "    (3): ReLU()\n",
       "    (4): Linear(in_features=128, out_features=64, bias=True)\n",
       "  )\n",
       "  (decoder): Sequential(\n",
       "    (0): Linear(in_features=64, out_features=128, bias=True)\n",
       "    (1): ReLU()\n",
       "    (2): Linear(in_features=128, out_features=256, bias=True)\n",
       "    (3): ReLU()\n",
       "    (4): Linear(in_features=256, out_features=784, bias=True)\n",
       "    (5): Sigmoid()\n",
       "  )\n",
       ")"
      ]
     },
     "execution_count": 8,
     "metadata": {},
     "output_type": "execute_result"
    }
   ],
   "source": [
    "model"
   ]
  },
  {
   "cell_type": "markdown",
   "metadata": {},
   "source": [
    "Training loop"
   ]
  },
  {
   "cell_type": "code",
   "execution_count": 9,
   "metadata": {},
   "outputs": [
    {
     "name": "stderr",
     "output_type": "stream",
     "text": [
      "Epoch 1/10 (SSAE):   0%|          | 0/938 [00:00<?, ?it/s]"
     ]
    },
    {
     "name": "stderr",
     "output_type": "stream",
     "text": [
      "Epoch 1/10 (SSAE): 100%|██████████| 938/938 [00:34<00:00, 27.49it/s, loss=0.066] \n"
     ]
    },
    {
     "name": "stdout",
     "output_type": "stream",
     "text": [
      "Epoch [1/10], Avg Loss: 0.1176\n"
     ]
    },
    {
     "name": "stderr",
     "output_type": "stream",
     "text": [
      "Epoch 2/10 (SSAE): 100%|██████████| 938/938 [00:35<00:00, 26.58it/s, loss=0.055] \n"
     ]
    },
    {
     "name": "stdout",
     "output_type": "stream",
     "text": [
      "Epoch [2/10], Avg Loss: 0.0571\n"
     ]
    },
    {
     "name": "stderr",
     "output_type": "stream",
     "text": [
      "Epoch 3/10 (SSAE): 100%|██████████| 938/938 [00:28<00:00, 33.23it/s, loss=0.0559]\n"
     ]
    },
    {
     "name": "stdout",
     "output_type": "stream",
     "text": [
      "Epoch [3/10], Avg Loss: 0.0483\n"
     ]
    },
    {
     "name": "stderr",
     "output_type": "stream",
     "text": [
      "Epoch 4/10 (SSAE): 100%|██████████| 938/938 [00:30<00:00, 30.93it/s, loss=0.043] \n"
     ]
    },
    {
     "name": "stdout",
     "output_type": "stream",
     "text": [
      "Epoch [4/10], Avg Loss: 0.0450\n"
     ]
    },
    {
     "name": "stderr",
     "output_type": "stream",
     "text": [
      "Epoch 5/10 (SSAE): 100%|██████████| 938/938 [00:32<00:00, 29.10it/s, loss=0.0413]\n"
     ]
    },
    {
     "name": "stdout",
     "output_type": "stream",
     "text": [
      "Epoch [5/10], Avg Loss: 0.0426\n"
     ]
    },
    {
     "name": "stderr",
     "output_type": "stream",
     "text": [
      "Epoch 6/10 (SSAE): 100%|██████████| 938/938 [00:32<00:00, 28.82it/s, loss=0.041] \n"
     ]
    },
    {
     "name": "stdout",
     "output_type": "stream",
     "text": [
      "Epoch [6/10], Avg Loss: 0.0405\n"
     ]
    },
    {
     "name": "stderr",
     "output_type": "stream",
     "text": [
      "Epoch 7/10 (SSAE): 100%|██████████| 938/938 [00:48<00:00, 19.45it/s, loss=0.039] \n"
     ]
    },
    {
     "name": "stdout",
     "output_type": "stream",
     "text": [
      "Epoch [7/10], Avg Loss: 0.0387\n"
     ]
    },
    {
     "name": "stderr",
     "output_type": "stream",
     "text": [
      "Epoch 8/10 (SSAE): 100%|██████████| 938/938 [00:46<00:00, 20.03it/s, loss=0.0385]\n"
     ]
    },
    {
     "name": "stdout",
     "output_type": "stream",
     "text": [
      "Epoch [8/10], Avg Loss: 0.0372\n"
     ]
    },
    {
     "name": "stderr",
     "output_type": "stream",
     "text": [
      "Epoch 9/10 (SSAE): 100%|██████████| 938/938 [00:47<00:00, 19.89it/s, loss=0.0394]\n"
     ]
    },
    {
     "name": "stdout",
     "output_type": "stream",
     "text": [
      "Epoch [9/10], Avg Loss: 0.0360\n"
     ]
    },
    {
     "name": "stderr",
     "output_type": "stream",
     "text": [
      "Epoch 10/10 (SSAE): 100%|██████████| 938/938 [00:49<00:00, 19.14it/s, loss=0.0392]\n"
     ]
    },
    {
     "name": "stdout",
     "output_type": "stream",
     "text": [
      "Epoch [10/10], Avg Loss: 0.0350\n"
     ]
    }
   ],
   "source": [
    "# List to store loss values for plotting\n",
    "loss_values = []\n",
    "\n",
    "for epoch in range(10):\n",
    "    total_loss = 0\n",
    "    \n",
    "    # Use tqdm for a nice progress bar\n",
    "    progress_bar = tqdm(train_loader, desc=f\"Epoch {epoch+1}/10 (SSAE)\")\n",
    "    \n",
    "    for images, labels in progress_bar:\n",
    "        # Flatten the images for the autoencoder\n",
    "        images = images.view(-1, 28*28)\n",
    "        \n",
    "        # Forward pass\n",
    "        outputs = model(images)\n",
    "        \n",
    "        # Calculate loss\n",
    "        loss = model.semi_supervised_loss(images, outputs, labels)\n",
    "        \n",
    "        # Backward pass and optimize\n",
    "        optimizer.zero_grad()\n",
    "        loss.backward()\n",
    "        optimizer.step()\n",
    "        \n",
    "        total_loss += loss.item()\n",
    "        \n",
    "        # Update tqdm progress bar with the current loss\n",
    "        progress_bar.set_postfix(loss=loss.item())\n",
    "    \n",
    "    # Calculate the average loss for this epoch\n",
    "    avg_loss = total_loss / len(train_loader)\n",
    "    loss_values.append(avg_loss)\n",
    "    \n",
    "    # Print the average loss for the current epoch\n",
    "    print(f\"Epoch [{epoch+1}/10], Avg Loss: {avg_loss:.4f}\")\n",
    "    \n",
    "    # Save the model after each epoch\n",
    "    torch.save(model.state_dict(), f'ssae_models/ssae_fashion_mnist_epoch_{epoch+1}.pth')"
   ]
  },
  {
   "cell_type": "code",
   "execution_count": 10,
   "metadata": {},
   "outputs": [
    {
     "data": {
      "image/png": "[encoded data removed]",
      "text/plain": [
       "<Figure size 640x480 with 1 Axes>"
      ]
     },
     "metadata": {},
     "output_type": "display_data"
    }
   ],
   "source": [
    "plt.plot(loss_values, label=\"Training Loss\")\n",
    "plt.xlabel('Epochs')\n",
    "plt.ylabel('Loss')\n",
    "plt.title('Loss over Time')\n",
    "plt.legend()\n",
    "plt.show()"
   ]
  },
  {
   "cell_type": "markdown",
   "metadata": {},
   "source": [
    "Checking Model's Performance and Visualizing Reconstruction"
   ]
  },
  {
   "cell_type": "code",
   "execution_count": 11,
   "metadata": {},
   "outputs": [],
   "source": [
    "def visualize_reconstruction(model, dataset, num_samples=5):\n",
    "    # model.eval()  # Set the model to evaluation mode\n",
    "    model.load_state_dict(torch.load('ssae_models/ssae_fashion_mnist_epoch_10.pth'))\n",
    "    model.eval()\n",
    "    fig, axes = plt.subplots(2, num_samples, figsize=(12, 4))\n",
    "    \n",
    "    for i in range(num_samples):\n",
    "        # Get a sample from the dataset\n",
    "        img, label = dataset[i]\n",
    "        img = img.view(1, -1)  # Flatten image\n",
    "        \n",
    "        # Forward pass to get the reconstruction\n",
    "        with torch.no_grad():\n",
    "            reconstructed_img = model(img)\n",
    "        \n",
    "        # Reshape images back to 28x28 for visualization\n",
    "        img = img.view(28, 28)\n",
    "        reconstructed_img = reconstructed_img.view(28, 28)\n",
    "        \n",
    "        # Plot original image\n",
    "        axes[0, i].imshow(img.numpy(), cmap='gray')\n",
    "        axes[0, i].set_title(f\"Original: {'Normal' if label == 0 else 'Abnormal'}\")\n",
    "        axes[0, i].axis('off')\n",
    "        \n",
    "        # Plot reconstructed image\n",
    "        axes[1, i].imshow(reconstructed_img.numpy(), cmap='gray')\n",
    "        axes[1, i].set_title(\"Reconstructed\")\n",
    "        axes[1, i].axis('off')\n",
    "    \n",
    "    plt.show()"
   ]
  },
  {
   "cell_type": "code",
   "execution_count": 12,
   "metadata": {},
   "outputs": [
    {
     "data": {
      "image/png": "[encoded data removed]",
      "text/plain": [
       "<Figure size 1200x400 with 10 Axes>"
      ]
     },
     "metadata": {},
     "output_type": "display_data"
    }
   ],
   "source": [
    "visualize_reconstruction(model, train_dataset)"
   ]
  },
  {
   "cell_type": "code",
   "execution_count": null,
   "metadata": {},
   "outputs": [],
   "source": []
  }
 ],
 "metadata": {
  "kernelspec": {
   "display_name": "test",
   "language": "python",
   "name": "python3"
  },
  "language_info": {
   "codemirror_mode": {
    "name": "ipython",
    "version": 3
   },
   "file_extension": ".py",
   "mimetype": "text/x-python",
   "name": "python",
   "nbconvert_exporter": "python",
   "pygments_lexer": "ipython3",
   "version": "3.10.13"
  }
 },
 "nbformat": 4,
 "nbformat_minor": 2
}
