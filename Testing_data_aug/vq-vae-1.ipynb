{
 "cells": [
  {
   "cell_type": "code",
   "execution_count": 3,
   "metadata": {},
   "outputs": [],
   "source": [
    "import torch\n",
    "import torch.nn as nn\n",
    "import torch.nn.functional as F\n",
    "import torch.optim as optim\n",
    "from torchvision import datasets, transforms\n",
    "from torch.utils.data import DataLoader, Dataset\n",
    "import numpy as np\n",
    "from tqdm import tqdm\n",
    "import matplotlib.pyplot as plt\n",
    "import random\n",
    "from PIL import Image\n",
    "\n",
    "device = torch.device('cuda')"
   ]
  },
  {
   "cell_type": "code",
   "execution_count": 4,
   "metadata": {},
   "outputs": [],
   "source": [
    "class CIFAR100CustomDataset(Dataset):\n",
    "    def __init__(self, root, train=True, transform=None):\n",
    "        # Load the CIFAR-100 dataset\n",
    "        self.data = datasets.CIFAR100(root=root, train=train, download=True)\n",
    "        self.transform = transform\n",
    "\n",
    "    def __len__(self):\n",
    "        # Return the total number of samples in the dataset\n",
    "        return len(self.data)\n",
    "\n",
    "    def __getitem__(self, idx):\n",
    "        # Get an image and its label\n",
    "        img, label = self.data[idx]\n",
    "\n",
    "        # Apply the transformations if provided\n",
    "        if self.transform:\n",
    "            img = self.transform(img)\n",
    "\n",
    "        return img, label"
   ]
  },
  {
   "cell_type": "code",
   "execution_count": 5,
   "metadata": {},
   "outputs": [],
   "source": [
    "transform = transforms.Compose([\n",
    "    # transforms.Resize((64, 64)),  # Resize to 64x64 for VQ-VAE input\n",
    "    transforms.ToTensor(),          # Convert to tensor\n",
    "    transforms.Normalize((0.5, 0.5, 0.5), (0.5, 0.5, 0.5))  # Normalize\n",
    "])"
   ]
  },
  {
   "cell_type": "code",
   "execution_count": 6,
   "metadata": {},
   "outputs": [
    {
     "name": "stdout",
     "output_type": "stream",
     "text": [
      "Files already downloaded and verified\n",
      "Files already downloaded and verified\n"
     ]
    }
   ],
   "source": [
    "train_dataset = CIFAR100CustomDataset(root='./data', train=True, transform=transform)\n",
    "test_dataset = CIFAR100CustomDataset(root='./data', train=False, transform=transform)"
   ]
  },
  {
   "cell_type": "code",
   "execution_count": 7,
   "metadata": {},
   "outputs": [],
   "source": [
    "train_loader = torch.utils.data.DataLoader(train_dataset, batch_size=64, shuffle=True)\n",
    "val_loader = torch.utils.data.DataLoader(test_dataset, batch_size=64, shuffle=False)"
   ]
  },
  {
   "cell_type": "code",
   "execution_count": 8,
   "metadata": {},
   "outputs": [],
   "source": [
    "data_iter = iter(train_loader)\n",
    "images, labels = next(data_iter)"
   ]
  },
  {
   "cell_type": "code",
   "execution_count": 9,
   "metadata": {},
   "outputs": [
    {
     "data": {
      "image/png": "[encoded data removed]",
      "text/plain": [
       "<Figure size 640x480 with 1 Axes>"
      ]
     },
     "metadata": {},
     "output_type": "display_data"
    }
   ],
   "source": [
    "def show_single_image(image, label):\n",
    "    plt.imshow(image.permute(1, 2, 0) * 0.5 + 0.5)  # Unnormalize and permute to HWC\n",
    "    plt.title(label)\n",
    "    plt.axis('off')\n",
    "    plt.show()\n",
    "\n",
    "show_single_image(images[10], labels[10])"
   ]
  },
  {
   "cell_type": "code",
   "execution_count": 10,
   "metadata": {},
   "outputs": [],
   "source": [
    "# Encoder\n",
    "\n",
    "class Encoder(nn.Module):\n",
    "    def __init__(self, in_channels=3, hidden_channels=128, out_channels=64):\n",
    "        super(Encoder, self).__init__()\n",
    "        self.encoder = nn.Sequential(\n",
    "            nn.Conv2d(in_channels, hidden_channels, kernel_size=4, stride=2, padding=1),\n",
    "            nn.ReLU(),\n",
    "            nn.Conv2d(hidden_channels, hidden_channels, kernel_size=4, stride=2, padding=1),\n",
    "            nn.ReLU(),\n",
    "            nn.Conv2d(hidden_channels, out_channels, kernel_size=3, stride=1, padding=1)\n",
    "        )\n",
    "\n",
    "    def forward(self, x):\n",
    "        return self.encoder(x)"
   ]
  },
  {
   "cell_type": "code",
   "execution_count": 11,
   "metadata": {},
   "outputs": [],
   "source": [
    "# Decoder\n",
    "\n",
    "class Decoder(nn.Module):\n",
    "    def __init__(self, in_channels=64, hidden_channels=128, out_channels=3):\n",
    "        super(Decoder, self).__init__()\n",
    "        self.decoder = nn.Sequential(\n",
    "            nn.ConvTranspose2d(in_channels, hidden_channels, kernel_size=4, stride=2, padding=1),\n",
    "            nn.ReLU(),\n",
    "            nn.ConvTranspose2d(hidden_channels, hidden_channels, kernel_size=4, stride=2, padding=1),\n",
    "            nn.ReLU(),\n",
    "            nn.ConvTranspose2d(hidden_channels, out_channels, kernel_size=3, stride=1, padding=1)\n",
    "        )\n",
    "\n",
    "    def forward(self, x):\n",
    "        return self.decoder(x)"
   ]
  },
  {
   "cell_type": "code",
   "execution_count": 12,
   "metadata": {},
   "outputs": [],
   "source": [
    "# VQ\n",
    "\n",
    "class VectorQuantizer(nn.Module):\n",
    "    def __init__(self, num_embeddings, embedding_dim, commitment_cost):\n",
    "        super(VectorQuantizer, self).__init__()\n",
    "        self.embedding_dim = embedding_dim\n",
    "        self.num_embeddings = num_embeddings\n",
    "        self.commitment_cost = commitment_cost\n",
    "        \n",
    "        # Create embedding table\n",
    "        self.embeddings = nn.Embedding(self.num_embeddings, self.embedding_dim)\n",
    "        self.embeddings.weight.data.uniform_(-1/self.num_embeddings, 1/self.num_embeddings)\n",
    "\n",
    "    def forward(self, z_e):\n",
    "        # Flatten the input feature maps\n",
    "        z_e_flattened = z_e.view(-1, self.embedding_dim)\n",
    "        \n",
    "        # Calculate distances between z_e and embeddings\n",
    "        distances = (torch.sum(z_e_flattened**2, dim=1, keepdim=True) \n",
    "                     + torch.sum(self.embeddings.weight**2, dim=1)\n",
    "                     - 2 * torch.matmul(z_e_flattened, self.embeddings.weight.t()))\n",
    "        \n",
    "        # Get the encoding indices (nearest embeddings)\n",
    "        encoding_indices = torch.argmin(distances, dim=1).unsqueeze(1)\n",
    "        \n",
    "        # Quantize z_e by looking up the embedding vectors\n",
    "        z_q = torch.index_select(self.embeddings.weight, dim=0, index=encoding_indices.view(-1))\n",
    "        z_q = z_q.view(z_e.shape)\n",
    "        \n",
    "        # Compute the commitment loss\n",
    "        commitment_loss = self.commitment_cost * torch.mean((z_q.detach() - z_e)**2)\n",
    "        \n",
    "        # Add the embedding loss\n",
    "        embedding_loss = torch.mean((z_q - z_e.detach())**2)\n",
    "        \n",
    "        # Straight-through gradient\n",
    "        z_q = z_e + (z_q - z_e).detach()\n",
    "        \n",
    "        return z_q, commitment_loss + embedding_loss"
   ]
  },
  {
   "cell_type": "code",
   "execution_count": 13,
   "metadata": {},
   "outputs": [],
   "source": [
    "class ResidualBlock(nn.Module):\n",
    "    def __init__(self, channels):\n",
    "        super(ResidualBlock, self).__init__()\n",
    "        self.block = nn.Sequential(\n",
    "            nn.Conv2d(channels, channels, kernel_size=3, stride=1, padding=1),\n",
    "            nn.ReLU(),\n",
    "            nn.Conv2d(channels, channels, kernel_size=1, stride=1)\n",
    "        )\n",
    "\n",
    "    def forward(self, x):\n",
    "        return x + self.block(x)"
   ]
  },
  {
   "cell_type": "code",
   "execution_count": 14,
   "metadata": {},
   "outputs": [],
   "source": [
    "class VQVAE(nn.Module):\n",
    "    def __init__(self, num_embeddings=512, embedding_dim=64, commitment_cost=0.25):\n",
    "        super(VQVAE, self).__init__()\n",
    "        \n",
    "        # Encoder\n",
    "        self.encoder = Encoder(in_channels=3, hidden_channels=128, out_channels=embedding_dim)\n",
    "        \n",
    "        # Vector Quantizer\n",
    "        self.vq_layer = VectorQuantizer(num_embeddings=num_embeddings, \n",
    "                                        embedding_dim=embedding_dim, \n",
    "                                        commitment_cost=commitment_cost)\n",
    "        \n",
    "        # Decoder with Residual Blocks\n",
    "        self.decoder = nn.Sequential(\n",
    "            ResidualBlock(embedding_dim),\n",
    "            ResidualBlock(embedding_dim),\n",
    "            Decoder(in_channels=embedding_dim, hidden_channels=128, out_channels=3)\n",
    "        )\n",
    "\n",
    "    def forward(self, x):\n",
    "        # Encode the input\n",
    "        z_e = self.encoder(x)  # Output: [batch_size, embedding_dim, height, width]\n",
    "        \n",
    "        # Quantize the latent vectors\n",
    "        z_q, vq_loss = self.vq_layer(z_e)\n",
    "        \n",
    "        # Decode the quantized vectors\n",
    "        x_reconstructed = self.decoder(z_q)\n",
    "        \n",
    "        return x_reconstructed, vq_loss"
   ]
  },
  {
   "cell_type": "code",
   "execution_count": 15,
   "metadata": {},
   "outputs": [],
   "source": [
    "model = VQVAE(num_embeddings=512, embedding_dim=64, commitment_cost=0.25).to(device)\n",
    "optimizer = optim.Adam(model.parameters(), lr=1e-4)"
   ]
  },
  {
   "cell_type": "code",
   "execution_count": 20,
   "metadata": {},
   "outputs": [
    {
     "data": {
      "text/plain": [
       "VQVAE(\n",
       "  (encoder): Encoder(\n",
       "    (encoder): Sequential(\n",
       "      (0): Conv2d(3, 128, kernel_size=(4, 4), stride=(2, 2), padding=(1, 1))\n",
       "      (1): ReLU()\n",
       "      (2): Conv2d(128, 128, kernel_size=(4, 4), stride=(2, 2), padding=(1, 1))\n",
       "      (3): ReLU()\n",
       "      (4): Conv2d(128, 64, kernel_size=(3, 3), stride=(1, 1), padding=(1, 1))\n",
       "    )\n",
       "  )\n",
       "  (vq_layer): VectorQuantizer(\n",
       "    (embeddings): Embedding(512, 64)\n",
       "  )\n",
       "  (decoder): Sequential(\n",
       "    (0): ResidualBlock(\n",
       "      (block): Sequential(\n",
       "        (0): Conv2d(64, 64, kernel_size=(3, 3), stride=(1, 1), padding=(1, 1))\n",
       "        (1): ReLU()\n",
       "        (2): Conv2d(64, 64, kernel_size=(1, 1), stride=(1, 1))\n",
       "      )\n",
       "    )\n",
       "    (1): ResidualBlock(\n",
       "      (block): Sequential(\n",
       "        (0): Conv2d(64, 64, kernel_size=(3, 3), stride=(1, 1), padding=(1, 1))\n",
       "        (1): ReLU()\n",
       "        (2): Conv2d(64, 64, kernel_size=(1, 1), stride=(1, 1))\n",
       "      )\n",
       "    )\n",
       "    (2): Decoder(\n",
       "      (decoder): Sequential(\n",
       "        (0): ConvTranspose2d(64, 128, kernel_size=(4, 4), stride=(2, 2), padding=(1, 1))\n",
       "        (1): ReLU()\n",
       "        (2): ConvTranspose2d(128, 128, kernel_size=(4, 4), stride=(2, 2), padding=(1, 1))\n",
       "        (3): ReLU()\n",
       "        (4): ConvTranspose2d(128, 3, kernel_size=(3, 3), stride=(1, 1), padding=(1, 1))\n",
       "      )\n",
       "    )\n",
       "  )\n",
       ")"
      ]
     },
     "execution_count": 20,
     "metadata": {},
     "output_type": "execute_result"
    }
   ],
   "source": [
    "model.to(device)"
   ]
  },
  {
   "cell_type": "code",
   "execution_count": 15,
   "metadata": {},
   "outputs": [
    {
     "name": "stderr",
     "output_type": "stream",
     "text": [
      "Epoch 1/50 (VQ-VAE): 100%|██████████| 782/782 [01:04<00:00, 12.13it/s, loss=23.4]\n"
     ]
    },
    {
     "name": "stdout",
     "output_type": "stream",
     "text": [
      "Epoch [1/50], Avg Loss: 48.4637\n",
      "Epoch [1/50], Avg Validation Loss: 21.4068\n"
     ]
    },
    {
     "name": "stderr",
     "output_type": "stream",
     "text": [
      "Epoch 2/50 (VQ-VAE): 100%|██████████| 782/782 [01:11<00:00, 10.86it/s, loss=11.7]\n"
     ]
    },
    {
     "name": "stdout",
     "output_type": "stream",
     "text": [
      "Epoch [2/50], Avg Loss: 15.7814\n",
      "Epoch [2/50], Avg Validation Loss: 13.8941\n"
     ]
    },
    {
     "name": "stderr",
     "output_type": "stream",
     "text": [
      "Epoch 3/50 (VQ-VAE): 100%|██████████| 782/782 [00:56<00:00, 13.89it/s, loss=7.65]\n"
     ]
    },
    {
     "name": "stdout",
     "output_type": "stream",
     "text": [
      "Epoch [3/50], Avg Loss: 10.2498\n",
      "Epoch [3/50], Avg Validation Loss: 8.0735\n"
     ]
    },
    {
     "name": "stderr",
     "output_type": "stream",
     "text": [
      "Epoch 4/50 (VQ-VAE): 100%|██████████| 782/782 [01:13<00:00, 10.64it/s, loss=8.06]\n"
     ]
    },
    {
     "name": "stdout",
     "output_type": "stream",
     "text": [
      "Epoch [4/50], Avg Loss: 7.0883\n",
      "Epoch [4/50], Avg Validation Loss: 6.4826\n"
     ]
    },
    {
     "name": "stderr",
     "output_type": "stream",
     "text": [
      "Epoch 5/50 (VQ-VAE): 100%|██████████| 782/782 [00:39<00:00, 19.65it/s, loss=4.41]\n"
     ]
    },
    {
     "name": "stdout",
     "output_type": "stream",
     "text": [
      "Epoch [5/50], Avg Loss: 5.2973\n",
      "Epoch [5/50], Avg Validation Loss: 4.1538\n",
      "Validation loss improved. Saving the best model at epoch 5.\n"
     ]
    },
    {
     "name": "stderr",
     "output_type": "stream",
     "text": [
      "Epoch 6/50 (VQ-VAE): 100%|██████████| 782/782 [00:41<00:00, 18.75it/s, loss=3.58]\n"
     ]
    },
    {
     "name": "stdout",
     "output_type": "stream",
     "text": [
      "Epoch [6/50], Avg Loss: 3.3917\n",
      "Epoch [6/50], Avg Validation Loss: 3.0184\n"
     ]
    },
    {
     "name": "stderr",
     "output_type": "stream",
     "text": [
      "Epoch 7/50 (VQ-VAE): 100%|██████████| 782/782 [00:42<00:00, 18.37it/s, loss=2.63]\n"
     ]
    },
    {
     "name": "stdout",
     "output_type": "stream",
     "text": [
      "Epoch [7/50], Avg Loss: 2.7316\n",
      "Epoch [7/50], Avg Validation Loss: 2.5894\n"
     ]
    },
    {
     "name": "stderr",
     "output_type": "stream",
     "text": [
      "Epoch 8/50 (VQ-VAE): 100%|██████████| 782/782 [00:39<00:00, 19.57it/s, loss=2.14]\n"
     ]
    },
    {
     "name": "stdout",
     "output_type": "stream",
     "text": [
      "Epoch [8/50], Avg Loss: 2.3582\n",
      "Epoch [8/50], Avg Validation Loss: 2.2091\n"
     ]
    },
    {
     "name": "stderr",
     "output_type": "stream",
     "text": [
      "Epoch 9/50 (VQ-VAE): 100%|██████████| 782/782 [00:41<00:00, 19.04it/s, loss=1.9] \n"
     ]
    },
    {
     "name": "stdout",
     "output_type": "stream",
     "text": [
      "Epoch [9/50], Avg Loss: 2.0889\n",
      "Epoch [9/50], Avg Validation Loss: 2.0220\n"
     ]
    },
    {
     "name": "stderr",
     "output_type": "stream",
     "text": [
      "Epoch 10/50 (VQ-VAE): 100%|██████████| 782/782 [00:40<00:00, 19.19it/s, loss=1.76]\n"
     ]
    },
    {
     "name": "stdout",
     "output_type": "stream",
     "text": [
      "Epoch [10/50], Avg Loss: 1.8089\n",
      "Epoch [10/50], Avg Validation Loss: 1.7022\n",
      "Validation loss improved. Saving the best model at epoch 10.\n"
     ]
    },
    {
     "name": "stderr",
     "output_type": "stream",
     "text": [
      "Epoch 11/50 (VQ-VAE): 100%|██████████| 782/782 [00:40<00:00, 19.27it/s, loss=1.34]\n"
     ]
    },
    {
     "name": "stdout",
     "output_type": "stream",
     "text": [
      "Epoch [11/50], Avg Loss: 1.5886\n",
      "Epoch [11/50], Avg Validation Loss: 1.5587\n"
     ]
    },
    {
     "name": "stderr",
     "output_type": "stream",
     "text": [
      "Epoch 12/50 (VQ-VAE): 100%|██████████| 782/782 [00:40<00:00, 19.28it/s, loss=1.44]\n"
     ]
    },
    {
     "name": "stdout",
     "output_type": "stream",
     "text": [
      "Epoch [12/50], Avg Loss: 1.4565\n",
      "Epoch [12/50], Avg Validation Loss: 1.4757\n"
     ]
    },
    {
     "name": "stderr",
     "output_type": "stream",
     "text": [
      "Epoch 13/50 (VQ-VAE): 100%|██████████| 782/782 [00:48<00:00, 16.29it/s, loss=1.6] \n"
     ]
    },
    {
     "name": "stdout",
     "output_type": "stream",
     "text": [
      "Epoch [13/50], Avg Loss: 1.3708\n",
      "Epoch [13/50], Avg Validation Loss: 1.3640\n"
     ]
    },
    {
     "name": "stderr",
     "output_type": "stream",
     "text": [
      "Epoch 14/50 (VQ-VAE): 100%|██████████| 782/782 [00:50<00:00, 15.64it/s, loss=1.57]\n"
     ]
    },
    {
     "name": "stdout",
     "output_type": "stream",
     "text": [
      "Epoch [14/50], Avg Loss: 1.2955\n",
      "Epoch [14/50], Avg Validation Loss: 1.3272\n"
     ]
    },
    {
     "name": "stderr",
     "output_type": "stream",
     "text": [
      "Epoch 15/50 (VQ-VAE): 100%|██████████| 782/782 [00:49<00:00, 15.82it/s, loss=1.27] \n"
     ]
    },
    {
     "name": "stdout",
     "output_type": "stream",
     "text": [
      "Epoch [15/50], Avg Loss: 1.2363\n",
      "Epoch [15/50], Avg Validation Loss: 1.2471\n",
      "Validation loss improved. Saving the best model at epoch 15.\n"
     ]
    },
    {
     "name": "stderr",
     "output_type": "stream",
     "text": [
      "Epoch 16/50 (VQ-VAE): 100%|██████████| 782/782 [00:48<00:00, 16.00it/s, loss=1.18] \n"
     ]
    },
    {
     "name": "stdout",
     "output_type": "stream",
     "text": [
      "Epoch [16/50], Avg Loss: 1.1849\n",
      "Epoch [16/50], Avg Validation Loss: 1.1852\n"
     ]
    },
    {
     "name": "stderr",
     "output_type": "stream",
     "text": [
      "Epoch 17/50 (VQ-VAE): 100%|██████████| 782/782 [00:50<00:00, 15.50it/s, loss=1.09] \n"
     ]
    },
    {
     "name": "stdout",
     "output_type": "stream",
     "text": [
      "Epoch [17/50], Avg Loss: 1.1511\n",
      "Epoch [17/50], Avg Validation Loss: 1.1491\n"
     ]
    },
    {
     "name": "stderr",
     "output_type": "stream",
     "text": [
      "Epoch 18/50 (VQ-VAE): 100%|██████████| 782/782 [00:48<00:00, 15.99it/s, loss=1]    \n"
     ]
    },
    {
     "name": "stdout",
     "output_type": "stream",
     "text": [
      "Epoch [18/50], Avg Loss: 1.1152\n",
      "Epoch [18/50], Avg Validation Loss: 1.1145\n"
     ]
    },
    {
     "name": "stderr",
     "output_type": "stream",
     "text": [
      "Epoch 19/50 (VQ-VAE): 100%|██████████| 782/782 [00:48<00:00, 16.02it/s, loss=0.975]\n"
     ]
    },
    {
     "name": "stdout",
     "output_type": "stream",
     "text": [
      "Epoch [19/50], Avg Loss: 1.0712\n",
      "Epoch [19/50], Avg Validation Loss: 1.0761\n"
     ]
    },
    {
     "name": "stderr",
     "output_type": "stream",
     "text": [
      "Epoch 20/50 (VQ-VAE): 100%|██████████| 782/782 [00:49<00:00, 15.90it/s, loss=1.06] \n"
     ]
    },
    {
     "name": "stdout",
     "output_type": "stream",
     "text": [
      "Epoch [20/50], Avg Loss: 1.0226\n",
      "Epoch [20/50], Avg Validation Loss: 1.0138\n",
      "Validation loss improved. Saving the best model at epoch 20.\n"
     ]
    },
    {
     "name": "stderr",
     "output_type": "stream",
     "text": [
      "Epoch 21/50 (VQ-VAE): 100%|██████████| 782/782 [00:48<00:00, 16.04it/s, loss=1.05] \n"
     ]
    },
    {
     "name": "stdout",
     "output_type": "stream",
     "text": [
      "Epoch [21/50], Avg Loss: 0.9877\n",
      "Epoch [21/50], Avg Validation Loss: 0.9886\n"
     ]
    },
    {
     "name": "stderr",
     "output_type": "stream",
     "text": [
      "Epoch 22/50 (VQ-VAE): 100%|██████████| 782/782 [00:49<00:00, 15.91it/s, loss=1.06] \n"
     ]
    },
    {
     "name": "stdout",
     "output_type": "stream",
     "text": [
      "Epoch [22/50], Avg Loss: 0.9582\n",
      "Epoch [22/50], Avg Validation Loss: 0.9606\n"
     ]
    },
    {
     "name": "stderr",
     "output_type": "stream",
     "text": [
      "Epoch 23/50 (VQ-VAE): 100%|██████████| 782/782 [00:50<00:00, 15.62it/s, loss=0.845]\n"
     ]
    },
    {
     "name": "stdout",
     "output_type": "stream",
     "text": [
      "Epoch [23/50], Avg Loss: 0.9290\n",
      "Epoch [23/50], Avg Validation Loss: 0.9565\n"
     ]
    },
    {
     "name": "stderr",
     "output_type": "stream",
     "text": [
      "Epoch 24/50 (VQ-VAE): 100%|██████████| 782/782 [00:49<00:00, 15.83it/s, loss=1.02] \n"
     ]
    },
    {
     "name": "stdout",
     "output_type": "stream",
     "text": [
      "Epoch [24/50], Avg Loss: 0.9030\n",
      "Epoch [24/50], Avg Validation Loss: 0.9157\n"
     ]
    },
    {
     "name": "stderr",
     "output_type": "stream",
     "text": [
      "Epoch 25/50 (VQ-VAE): 100%|██████████| 782/782 [00:48<00:00, 16.01it/s, loss=0.83] \n"
     ]
    },
    {
     "name": "stdout",
     "output_type": "stream",
     "text": [
      "Epoch [25/50], Avg Loss: 0.8798\n",
      "Epoch [25/50], Avg Validation Loss: 0.8951\n",
      "Validation loss improved. Saving the best model at epoch 25.\n"
     ]
    },
    {
     "name": "stderr",
     "output_type": "stream",
     "text": [
      "Epoch 26/50 (VQ-VAE): 100%|██████████| 782/782 [00:48<00:00, 16.11it/s, loss=0.71] \n"
     ]
    },
    {
     "name": "stdout",
     "output_type": "stream",
     "text": [
      "Epoch [26/50], Avg Loss: 0.8599\n",
      "Epoch [26/50], Avg Validation Loss: 0.8711\n"
     ]
    },
    {
     "name": "stderr",
     "output_type": "stream",
     "text": [
      "Epoch 27/50 (VQ-VAE): 100%|██████████| 782/782 [00:50<00:00, 15.63it/s, loss=0.76] \n"
     ]
    },
    {
     "name": "stdout",
     "output_type": "stream",
     "text": [
      "Epoch [27/50], Avg Loss: 0.8366\n",
      "Epoch [27/50], Avg Validation Loss: 0.8613\n"
     ]
    },
    {
     "name": "stderr",
     "output_type": "stream",
     "text": [
      "Epoch 28/50 (VQ-VAE): 100%|██████████| 782/782 [00:49<00:00, 15.69it/s, loss=0.851]\n"
     ]
    },
    {
     "name": "stdout",
     "output_type": "stream",
     "text": [
      "Epoch [28/50], Avg Loss: 0.8204\n",
      "Epoch [28/50], Avg Validation Loss: 0.8499\n"
     ]
    },
    {
     "name": "stderr",
     "output_type": "stream",
     "text": [
      "Epoch 29/50 (VQ-VAE): 100%|██████████| 782/782 [00:49<00:00, 15.79it/s, loss=0.689]\n"
     ]
    },
    {
     "name": "stdout",
     "output_type": "stream",
     "text": [
      "Epoch [29/50], Avg Loss: 0.8046\n",
      "Epoch [29/50], Avg Validation Loss: 0.8019\n"
     ]
    },
    {
     "name": "stderr",
     "output_type": "stream",
     "text": [
      "Epoch 30/50 (VQ-VAE): 100%|██████████| 782/782 [00:50<00:00, 15.35it/s, loss=0.93] \n"
     ]
    },
    {
     "name": "stdout",
     "output_type": "stream",
     "text": [
      "Epoch [30/50], Avg Loss: 0.7875\n",
      "Epoch [30/50], Avg Validation Loss: 0.7999\n",
      "Validation loss improved. Saving the best model at epoch 30.\n"
     ]
    },
    {
     "name": "stderr",
     "output_type": "stream",
     "text": [
      "Epoch 31/50 (VQ-VAE): 100%|██████████| 782/782 [00:49<00:00, 15.69it/s, loss=0.669]\n"
     ]
    },
    {
     "name": "stdout",
     "output_type": "stream",
     "text": [
      "Epoch [31/50], Avg Loss: 0.7721\n",
      "Epoch [31/50], Avg Validation Loss: 0.7804\n"
     ]
    },
    {
     "name": "stderr",
     "output_type": "stream",
     "text": [
      "Epoch 32/50 (VQ-VAE): 100%|██████████| 782/782 [00:49<00:00, 15.82it/s, loss=0.808]\n"
     ]
    },
    {
     "name": "stdout",
     "output_type": "stream",
     "text": [
      "Epoch [32/50], Avg Loss: 0.7579\n",
      "Epoch [32/50], Avg Validation Loss: 0.7517\n"
     ]
    },
    {
     "name": "stderr",
     "output_type": "stream",
     "text": [
      "Epoch 33/50 (VQ-VAE): 100%|██████████| 782/782 [00:48<00:00, 16.00it/s, loss=0.763]\n"
     ]
    },
    {
     "name": "stdout",
     "output_type": "stream",
     "text": [
      "Epoch [33/50], Avg Loss: 0.7460\n",
      "Epoch [33/50], Avg Validation Loss: 0.7540\n"
     ]
    },
    {
     "name": "stderr",
     "output_type": "stream",
     "text": [
      "Epoch 34/50 (VQ-VAE): 100%|██████████| 782/782 [00:50<00:00, 15.56it/s, loss=0.847]\n"
     ]
    },
    {
     "name": "stdout",
     "output_type": "stream",
     "text": [
      "Epoch [34/50], Avg Loss: 0.7322\n",
      "Epoch [34/50], Avg Validation Loss: 0.7606\n"
     ]
    },
    {
     "name": "stderr",
     "output_type": "stream",
     "text": [
      "Epoch 35/50 (VQ-VAE): 100%|██████████| 782/782 [00:47<00:00, 16.30it/s, loss=0.828]\n"
     ]
    },
    {
     "name": "stdout",
     "output_type": "stream",
     "text": [
      "Epoch [35/50], Avg Loss: 0.7220\n",
      "Epoch [35/50], Avg Validation Loss: 0.7314\n",
      "Validation loss improved. Saving the best model at epoch 35.\n"
     ]
    },
    {
     "name": "stderr",
     "output_type": "stream",
     "text": [
      "Epoch 36/50 (VQ-VAE): 100%|██████████| 782/782 [00:49<00:00, 15.71it/s, loss=0.815]\n"
     ]
    },
    {
     "name": "stdout",
     "output_type": "stream",
     "text": [
      "Epoch [36/50], Avg Loss: 0.7112\n",
      "Epoch [36/50], Avg Validation Loss: 0.7162\n"
     ]
    },
    {
     "name": "stderr",
     "output_type": "stream",
     "text": [
      "Epoch 37/50 (VQ-VAE): 100%|██████████| 782/782 [00:50<00:00, 15.57it/s, loss=0.662]\n"
     ]
    },
    {
     "name": "stdout",
     "output_type": "stream",
     "text": [
      "Epoch [37/50], Avg Loss: 0.7004\n",
      "Epoch [37/50], Avg Validation Loss: 0.7119\n"
     ]
    },
    {
     "name": "stderr",
     "output_type": "stream",
     "text": [
      "Epoch 38/50 (VQ-VAE): 100%|██████████| 782/782 [00:48<00:00, 16.05it/s, loss=0.51] \n"
     ]
    },
    {
     "name": "stdout",
     "output_type": "stream",
     "text": [
      "Epoch [38/50], Avg Loss: 0.6897\n",
      "Epoch [38/50], Avg Validation Loss: 0.7074\n"
     ]
    },
    {
     "name": "stderr",
     "output_type": "stream",
     "text": [
      "Epoch 39/50 (VQ-VAE): 100%|██████████| 782/782 [00:49<00:00, 15.87it/s, loss=0.732]\n"
     ]
    },
    {
     "name": "stdout",
     "output_type": "stream",
     "text": [
      "Epoch [39/50], Avg Loss: 0.6782\n",
      "Epoch [39/50], Avg Validation Loss: 0.6866\n"
     ]
    },
    {
     "name": "stderr",
     "output_type": "stream",
     "text": [
      "Epoch 40/50 (VQ-VAE): 100%|██████████| 782/782 [00:50<00:00, 15.63it/s, loss=0.598]\n"
     ]
    },
    {
     "name": "stdout",
     "output_type": "stream",
     "text": [
      "Epoch [40/50], Avg Loss: 0.6695\n",
      "Epoch [40/50], Avg Validation Loss: 0.7040\n",
      "Validation loss improved. Saving the best model at epoch 40.\n"
     ]
    },
    {
     "name": "stderr",
     "output_type": "stream",
     "text": [
      "Epoch 41/50 (VQ-VAE): 100%|██████████| 782/782 [00:49<00:00, 15.70it/s, loss=0.765]\n"
     ]
    },
    {
     "name": "stdout",
     "output_type": "stream",
     "text": [
      "Epoch [41/50], Avg Loss: 0.6597\n",
      "Epoch [41/50], Avg Validation Loss: 0.6860\n"
     ]
    },
    {
     "name": "stderr",
     "output_type": "stream",
     "text": [
      "Epoch 42/50 (VQ-VAE): 100%|██████████| 782/782 [00:49<00:00, 15.87it/s, loss=0.523]\n"
     ]
    },
    {
     "name": "stdout",
     "output_type": "stream",
     "text": [
      "Epoch [42/50], Avg Loss: 0.6520\n",
      "Epoch [42/50], Avg Validation Loss: 0.6616\n"
     ]
    },
    {
     "name": "stderr",
     "output_type": "stream",
     "text": [
      "Epoch 43/50 (VQ-VAE): 100%|██████████| 782/782 [00:49<00:00, 15.96it/s, loss=0.605]\n"
     ]
    },
    {
     "name": "stdout",
     "output_type": "stream",
     "text": [
      "Epoch [43/50], Avg Loss: 0.6439\n",
      "Epoch [43/50], Avg Validation Loss: 0.6383\n"
     ]
    },
    {
     "name": "stderr",
     "output_type": "stream",
     "text": [
      "Epoch 44/50 (VQ-VAE): 100%|██████████| 782/782 [00:49<00:00, 15.76it/s, loss=0.654]\n"
     ]
    },
    {
     "name": "stdout",
     "output_type": "stream",
     "text": [
      "Epoch [44/50], Avg Loss: 0.6349\n",
      "Epoch [44/50], Avg Validation Loss: 0.6443\n"
     ]
    },
    {
     "name": "stderr",
     "output_type": "stream",
     "text": [
      "Epoch 45/50 (VQ-VAE): 100%|██████████| 782/782 [00:50<00:00, 15.53it/s, loss=0.758]\n"
     ]
    },
    {
     "name": "stdout",
     "output_type": "stream",
     "text": [
      "Epoch [45/50], Avg Loss: 0.6279\n",
      "Epoch [45/50], Avg Validation Loss: 0.6423\n",
      "Validation loss improved. Saving the best model at epoch 45.\n"
     ]
    },
    {
     "name": "stderr",
     "output_type": "stream",
     "text": [
      "Epoch 46/50 (VQ-VAE): 100%|██████████| 782/782 [00:49<00:00, 15.71it/s, loss=0.56] \n"
     ]
    },
    {
     "name": "stdout",
     "output_type": "stream",
     "text": [
      "Epoch [46/50], Avg Loss: 0.6206\n",
      "Epoch [46/50], Avg Validation Loss: 0.6290\n"
     ]
    },
    {
     "name": "stderr",
     "output_type": "stream",
     "text": [
      "Epoch 47/50 (VQ-VAE): 100%|██████████| 782/782 [00:48<00:00, 16.25it/s, loss=0.588]\n"
     ]
    },
    {
     "name": "stdout",
     "output_type": "stream",
     "text": [
      "Epoch [47/50], Avg Loss: 0.6143\n",
      "Epoch [47/50], Avg Validation Loss: 0.6267\n"
     ]
    },
    {
     "name": "stderr",
     "output_type": "stream",
     "text": [
      "Epoch 48/50 (VQ-VAE): 100%|██████████| 782/782 [00:49<00:00, 15.85it/s, loss=0.629]\n"
     ]
    },
    {
     "name": "stdout",
     "output_type": "stream",
     "text": [
      "Epoch [48/50], Avg Loss: 0.6081\n",
      "Epoch [48/50], Avg Validation Loss: 0.6407\n"
     ]
    },
    {
     "name": "stderr",
     "output_type": "stream",
     "text": [
      "Epoch 49/50 (VQ-VAE): 100%|██████████| 782/782 [00:48<00:00, 15.97it/s, loss=0.568]\n"
     ]
    },
    {
     "name": "stdout",
     "output_type": "stream",
     "text": [
      "Epoch [49/50], Avg Loss: 0.6014\n",
      "Epoch [49/50], Avg Validation Loss: 0.6169\n"
     ]
    },
    {
     "name": "stderr",
     "output_type": "stream",
     "text": [
      "Epoch 50/50 (VQ-VAE): 100%|██████████| 782/782 [00:49<00:00, 15.80it/s, loss=0.623]\n"
     ]
    },
    {
     "name": "stdout",
     "output_type": "stream",
     "text": [
      "Epoch [50/50], Avg Loss: 0.5975\n",
      "Epoch [50/50], Avg Validation Loss: 0.5996\n",
      "Validation loss improved. Saving the best model at epoch 50.\n"
     ]
    }
   ],
   "source": [
    "import torch\n",
    "import torch.nn.functional as F\n",
    "from tqdm import tqdm  # For progress bar\n",
    "\n",
    "# List to store loss values for plotting\n",
    "loss_values = []\n",
    "val_loss_values = []\n",
    "\n",
    "# Variable to store the best validation loss\n",
    "best_val_loss = float('inf')\n",
    "\n",
    "for epoch in range(50):  # 50 epochs\n",
    "    model.train()  # Set the model to training mode\n",
    "    total_loss = 0\n",
    "\n",
    "    # TQDM progress bar for training\n",
    "    progress_bar = tqdm(train_loader, desc=f\"Epoch {epoch+1}/50 (VQ-VAE)\")\n",
    "\n",
    "    for images, labels in progress_bar:\n",
    "        images, labels = images.to(device), labels.to(device)\n",
    "\n",
    "        # Forward pass\n",
    "        reconstructed, vq_loss = model(images)  # Get reconstructed outputs and VQ loss\n",
    "\n",
    "        # Calculate loss\n",
    "        # 1. Reconstruction loss (MSE loss between input images and reconstructed images)\n",
    "        reconstruction_loss = F.mse_loss(reconstructed, images)\n",
    "\n",
    "        # Total loss (reconstruction + VQ)\n",
    "        loss = reconstruction_loss + vq_loss\n",
    "\n",
    "        # Backward pass and optimization\n",
    "        optimizer.zero_grad()\n",
    "        loss.backward()\n",
    "        optimizer.step()\n",
    "\n",
    "        total_loss += loss.item()\n",
    "\n",
    "        # Update TQDM progress bar with the current loss\n",
    "        progress_bar.set_postfix(loss=loss.item())\n",
    "\n",
    "    # Calculate the average loss for this epoch\n",
    "    avg_loss = total_loss / len(train_loader)\n",
    "    loss_values.append(avg_loss)\n",
    "\n",
    "    # Print the average loss for the current epoch\n",
    "    print(f\"Epoch [{epoch+1}/50], Avg Loss: {avg_loss:.4f}\")\n",
    "\n",
    "    # --- Validation loop ---\n",
    "    model.eval()  # Set the model to evaluation mode\n",
    "    total_val_loss = 0\n",
    "\n",
    "    with torch.no_grad():  # Disable gradient calculations during validation\n",
    "        for val_images, val_labels in val_loader:\n",
    "            val_images, val_labels = val_images.to(device), val_labels.to(device)\n",
    "\n",
    "            # Forward pass\n",
    "            val_reconstructed, val_vq_loss = model(val_images)\n",
    "\n",
    "            # Calculate validation loss\n",
    "            val_reconstruction_loss = F.mse_loss(val_reconstructed, val_images)\n",
    "            val_loss = val_reconstruction_loss + val_vq_loss\n",
    "\n",
    "            total_val_loss += val_loss.item()\n",
    "\n",
    "    # Calculate the average validation loss for this epoch\n",
    "    avg_val_loss = total_val_loss / len(val_loader)\n",
    "    val_loss_values.append(avg_val_loss)\n",
    "\n",
    "    # Print the average validation loss for the current epoch\n",
    "    print(f\"Epoch [{epoch+1}/50], Avg Validation Loss: {avg_val_loss:.4f}\")\n",
    "\n",
    "    # --- Model selection based on validation loss ---\n",
    "    if avg_val_loss < best_val_loss and (epoch+1) % 5 == 0:\n",
    "        best_val_loss = avg_val_loss\n",
    "        print(f\"Validation loss improved. Saving the best model at epoch {epoch+1}.\")\n",
    "        torch.save(model.state_dict(), f'model_vqvae_cifar100/best_model_epoch_{epoch+1}.pth')\n"
   ]
  },
  {
   "cell_type": "code",
   "execution_count": 16,
   "metadata": {},
   "outputs": [
    {
     "data": {
      "image/png": "[encoded data removed]",
      "text/plain": [
       "<Figure size 640x480 with 1 Axes>"
      ]
     },
     "metadata": {},
     "output_type": "display_data"
    }
   ],
   "source": [
    "# Plot both training and validation losses\n",
    "plt.plot(loss_values, label=\"Training Loss\")\n",
    "plt.plot(val_loss_values, label=\"Validation Loss\")\n",
    "plt.xlabel('Epochs')\n",
    "plt.ylabel('Loss')\n",
    "plt.title('Training and Validation Loss over Time')\n",
    "plt.legend()\n",
    "plt.show()"
   ]
  },
  {
   "cell_type": "code",
   "execution_count": 18,
   "metadata": {},
   "outputs": [],
   "source": [
    "def visualize_reconstruction(model, dataset, num_samples=10, device='cuda'):\n",
    "    # Load the best model weights\n",
    "    model.load_state_dict(torch.load('model_vqvae_cifar100/best_model_epoch_50.pth'))\n",
    "    model.eval()  # Set the model to evaluation mode\n",
    "    model.to(device)\n",
    "\n",
    "    # Create a figure for plotting the original and reconstructed images\n",
    "    fig, axes = plt.subplots(2, num_samples, figsize=(20, 5))\n",
    "\n",
    "    for i in range(num_samples):\n",
    "        # Get a sample from the dataset (image, label)\n",
    "        img, label = dataset[i]\n",
    "        \n",
    "        # Add batch dimension and move image to the correct device\n",
    "        img = img.unsqueeze(0).to(device)  # Shape: [1, 3, 32, 32]\n",
    "\n",
    "        # Forward pass to get the reconstruction\n",
    "        with torch.no_grad():\n",
    "            reconstructed_img = model(img)[0]  # Model outputs [reconstructed_image, VQ loss]\n",
    "\n",
    "        # Move images back to the CPU and reshape for visualization\n",
    "        img = img.squeeze(0).permute(1, 2, 0).cpu().numpy()  # Original image (H, W, C)\n",
    "        reconstructed_img = reconstructed_img.squeeze(0).permute(1, 2, 0).cpu().numpy()  # Reconstructed image (H, W, C)\n",
    "\n",
    "        # Plot original image\n",
    "        axes[0, i].imshow(img)\n",
    "        axes[0, i].set_title(f\"Original\")\n",
    "        axes[0, i].axis('off')\n",
    "\n",
    "        # Plot reconstructed image\n",
    "        axes[1, i].imshow(reconstructed_img)\n",
    "        axes[1, i].set_title(\"Reconstructed\")\n",
    "        axes[1, i].axis('off')\n",
    "\n",
    "    plt.show()"
   ]
  },
  {
   "cell_type": "code",
   "execution_count": 19,
   "metadata": {},
   "outputs": [
    {
     "name": "stderr",
     "output_type": "stream",
     "text": [
      "Clipping input data to the valid range for imshow with RGB data ([0..1] for floats or [0..255] for integers). Got range [-0.99215686..1.0].\n",
      "Clipping input data to the valid range for imshow with RGB data ([0..1] for floats or [0..255] for integers). Got range [-0.8493455..1.076241].\n",
      "Clipping input data to the valid range for imshow with RGB data ([0..1] for floats or [0..255] for integers). Got range [-0.70980394..1.0].\n",
      "Clipping input data to the valid range for imshow with RGB data ([0..1] for floats or [0..255] for integers). Got range [-0.58193964..1.1193287].\n",
      "Clipping input data to the valid range for imshow with RGB data ([0..1] for floats or [0..255] for integers). Got range [-0.81960785..0.9764706].\n",
      "Clipping input data to the valid range for imshow with RGB data ([0..1] for floats or [0..255] for integers). Got range [-0.8003142..0.9603262].\n",
      "Clipping input data to the valid range for imshow with RGB data ([0..1] for floats or [0..255] for integers). Got range [-1.0..1.0].\n",
      "Clipping input data to the valid range for imshow with RGB data ([0..1] for floats or [0..255] for integers). Got range [-1.0698615..1.0817397].\n",
      "Clipping input data to the valid range for imshow with RGB data ([0..1] for floats or [0..255] for integers). Got range [-0.88235295..0.7019608].\n",
      "Clipping input data to the valid range for imshow with RGB data ([0..1] for floats or [0..255] for integers). Got range [-0.81349194..0.7029825].\n",
      "Clipping input data to the valid range for imshow with RGB data ([0..1] for floats or [0..255] for integers). Got range [-1.0..1.0].\n",
      "Clipping input data to the valid range for imshow with RGB data ([0..1] for floats or [0..255] for integers). Got range [-0.8697546..0.77662075].\n",
      "Clipping input data to the valid range for imshow with RGB data ([0..1] for floats or [0..255] for integers). Got range [-0.62352943..0.9843137].\n",
      "Clipping input data to the valid range for imshow with RGB data ([0..1] for floats or [0..255] for integers). Got range [-0.6485167..0.8986308].\n",
      "Clipping input data to the valid range for imshow with RGB data ([0..1] for floats or [0..255] for integers). Got range [-0.019607842..0.9529412].\n",
      "Clipping input data to the valid range for imshow with RGB data ([0..1] for floats or [0..255] for integers). Got range [-0.7254902..1.0].\n",
      "Clipping input data to the valid range for imshow with RGB data ([0..1] for floats or [0..255] for integers). Got range [-0.7923766..0.8428754].\n",
      "Clipping input data to the valid range for imshow with RGB data ([0..1] for floats or [0..255] for integers). Got range [-0.8117647..1.0].\n",
      "Clipping input data to the valid range for imshow with RGB data ([0..1] for floats or [0..255] for integers). Got range [-0.8207435..1.1420994].\n"
     ]
    },
    {
     "data": {
      "image/png": "[encoded data removed]",
      "text/plain": [
       "<Figure size 2000x500 with 20 Axes>"
      ]
     },
     "metadata": {},
     "output_type": "display_data"
    }
   ],
   "source": [
    "visualize_reconstruction(model, train_dataset, device=device)"
   ]
  },
  {
   "cell_type": "code",
   "execution_count": null,
   "metadata": {},
   "outputs": [],
   "source": []
  }
 ],
 "metadata": {
  "kernelspec": {
   "display_name": "test",
   "language": "python",
   "name": "python3"
  },
  "language_info": {
   "codemirror_mode": {
    "name": "ipython",
    "version": 3
   },
   "file_extension": ".py",
   "mimetype": "text/x-python",
   "name": "python",
   "nbconvert_exporter": "python",
   "pygments_lexer": "ipython3",
   "version": "3.10.13"
  }
 },
 "nbformat": 4,
 "nbformat_minor": 2
}
