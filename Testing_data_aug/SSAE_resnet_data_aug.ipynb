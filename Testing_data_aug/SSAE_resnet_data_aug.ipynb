{
 "cells": [
  {
   "cell_type": "code",
   "execution_count": 1,
   "metadata": {},
   "outputs": [],
   "source": [
    "import torch\n",
    "import torch.nn as nn\n",
    "import torch.nn.functional as F\n",
    "import torch.optim as optim\n",
    "from torchvision import datasets, transforms\n",
    "from torch.utils.data import DataLoader, Dataset\n",
    "import numpy as np\n",
    "from tqdm import tqdm\n",
    "import matplotlib.pyplot as plt\n",
    "import random\n",
    "from PIL import Image\n",
    "from torchvision import models\n",
    "\n",
    "device = torch.device('cuda')"
   ]
  },
  {
   "cell_type": "code",
   "execution_count": 2,
   "metadata": {},
   "outputs": [],
   "source": [
    "import random\n",
    "\n",
    "def random_erasing(image, probability=0.5, sl=0.02, sh=0.33, r1=0.3):\n",
    "    \"\"\"\n",
    "    Randomly erases a rectangular region of the image.\n",
    "    \n",
    "    Args:\n",
    "        image (PIL Image or Tensor): The input image.\n",
    "        probability (float): Probability of applying random erasing.\n",
    "        sl (float): Minimum proportion of erased area against the original area.\n",
    "        sh (float): Maximum proportion of erased area against the original area.\n",
    "        r1 (float): Aspect ratio of the erased area.\n",
    "        \n",
    "    Returns:\n",
    "        The modified image with a random erasure applied.\n",
    "    \"\"\"\n",
    "    if random.random() > probability:\n",
    "        return image  # Do nothing if not applying random erasing\n",
    "\n",
    "    # Get dimensions\n",
    "    h, w = image.size if isinstance(image, Image.Image) else image.shape[1:3]\n",
    "    area = h * w\n",
    "\n",
    "    # Calculate the target area of the erasure\n",
    "    target_area = random.uniform(sl, sh) * area\n",
    "    aspect_ratio = random.uniform(r1, 1/r1)\n",
    "\n",
    "    # Calculate the height and width of the rectangle\n",
    "    h_eraser = int(round((target_area * aspect_ratio) ** 0.5))\n",
    "    w_eraser = int(round((target_area / aspect_ratio) ** 0.5))\n",
    "\n",
    "    # Ensure the rectangle fits within the image\n",
    "    if h_eraser > h or w_eraser > w:\n",
    "        return image\n",
    "\n",
    "    # Randomly choose the top left corner of the rectangle\n",
    "    x = random.randint(0, w - w_eraser)\n",
    "    y = random.randint(0, h - h_eraser)\n",
    "\n",
    "    # Create a random erasing mask\n",
    "    if isinstance(image, Image.Image):\n",
    "        # Convert image to numpy array for erasing\n",
    "        image = np.array(image)\n",
    "    else:\n",
    "        image = image.numpy()  # If tensor, convert to numpy\n",
    "\n",
    "    image[y:y + h_eraser, x:x + w_eraser, :] = np.random.randint(0, 256, (h_eraser, w_eraser, 3), dtype=np.uint8)\n",
    "\n",
    "    return image\n"
   ]
  },
  {
   "cell_type": "code",
   "execution_count": 3,
   "metadata": {},
   "outputs": [],
   "source": [
    "class Cifar100Custom(Dataset):\n",
    "    def __init__(self, root='./data', train=True, transform=None, normal_class=0):\n",
    "        \"\"\"\n",
    "            Custom Cifar100 dataset with normal and abnormal labels.\n",
    "            Normal class will be labeled as 0, all other classes as 1.\n",
    "            Parameters:\n",
    "            - root: Path to the dataset.\n",
    "            - train: Boolean indicating whether to load the training set (default is True).\n",
    "            - transform: Transformations to be applied to the images (default is None).\n",
    "            - normal_class: Class index to be labeled as normal (default is 0).\n",
    "            - apply_erasing: Boolean indicating whether to apply random erasing (default is False).\n",
    "        \"\"\"\n",
    "        self.dataset = datasets.CIFAR100(root=root, train=train, download=True)\n",
    "        self.normal_class = normal_class  # Set the normal class (e.g., apple)\n",
    "        self.transform = transform\n",
    "\n",
    "    def __len__(self):\n",
    "        return len(self.dataset)\n",
    "\n",
    "    def __getitem__(self, idx):\n",
    "        img, label = self.dataset[idx]\n",
    "        # Label normal (apple) as 0, abnormal (other) as 1\n",
    "        label = 0 if label == self.normal_class else 1\n",
    "\n",
    "        img = random_erasing(img)  # Apply random erasing\n",
    "\n",
    "        if self.transform:\n",
    "            img = self.transform(img)\n",
    "        return img, label"
   ]
  },
  {
   "cell_type": "code",
   "execution_count": 4,
   "metadata": {},
   "outputs": [],
   "source": [
    "# class SSAE_ResNet(nn.Module):\n",
    "#     def __init__(self, latent_dim=64):\n",
    "#         super(SSAE_ResNet, self).__init__()\n",
    "\n",
    "#         # Use a pre-trained ResNet18 as the encoder\n",
    "#         resnet = models.resnet18(pretrained=True)\n",
    "#         self.encoder = nn.Sequential(*list(resnet.children())[:-1])  # Remove the classification layer (fc)\n",
    "        \n",
    "#         # Add a fully connected layer to reduce the ResNet output to latent dimensions\n",
    "#         self.fc_encoder = nn.Linear(resnet.fc.in_features, latent_dim)\n",
    "        \n",
    "#         # Decoder network: reconstruct the image from the latent dimensions\n",
    "#         self.decoder = nn.Sequential(\n",
    "#             nn.Linear(latent_dim, 128),\n",
    "#             nn.ReLU(),\n",
    "#             nn.Linear(128, 256),\n",
    "#             nn.ReLU(),\n",
    "#             nn.Linear(256, 32 * 32 * 3),\n",
    "#             nn.Sigmoid()  # Sigmoid to ensure pixel values are between 0 and 1\n",
    "#         )\n",
    "\n",
    "#     def forward(self, x):\n",
    "#         # Pass through the ResNet-based encoder (without the classification layer)\n",
    "#         x = self.encoder(x)\n",
    "        \n",
    "#         # Flatten the output from the encoder\n",
    "#         x = x.view(x.size(0), -1)\n",
    "        \n",
    "#         # Reduce to the latent dimension\n",
    "#         x = self.fc_encoder(x)\n",
    "        \n",
    "#         # Pass through the decoder\n",
    "#         x = self.decoder(x)\n",
    "        \n",
    "#         # Reshape to (batch_size, 3, 32, 32)\n",
    "#         x = x.view(x.size(0), 3, 32, 32)\n",
    "        \n",
    "#         return x\n",
    "    \n",
    "#     def semi_supervised_loss(self, inputs, outputs, labels, margin=0.2):\n",
    "#         # Flatten the inputs and outputs for loss calculation\n",
    "#         inputs = inputs.view(inputs.size(0), -1)\n",
    "#         outputs = outputs.view(outputs.size(0), -1)\n",
    "\n",
    "#         # Standard reconstruction loss (Mean Squared Error)\n",
    "#         reconstruction_loss = F.mse_loss(outputs, inputs, reduction='none').mean(dim=1)\n",
    "\n",
    "#         # Separate normal and abnormal samples\n",
    "#         abnormal = labels > 0  # True for abnormal samples\n",
    "\n",
    "#         # Calculate additional abnormal loss\n",
    "#         abnormal_loss = reconstruction_loss[abnormal].mean() if abnormal.any() else torch.tensor(0.0)\n",
    "\n",
    "#         # Combine normal reconstruction loss and abnormal loss\n",
    "#         return reconstruction_loss.mean() + abnormal_loss"
   ]
  },
  {
   "cell_type": "code",
   "execution_count": 5,
   "metadata": {},
   "outputs": [],
   "source": [
    "class SSAE_ResNet(nn.Module):\n",
    "    def __init__(self, latent_dim=64):\n",
    "        super(SSAE_ResNet, self).__init__()\n",
    "\n",
    "        # Use a pre-trained ResNet18 as the encoder\n",
    "        resnet = models.resnet18(pretrained=True)\n",
    "        self.encoder = nn.Sequential(*list(resnet.children())[:-1])  # Remove the classification layer (fc)\n",
    "        \n",
    "        # Add a fully connected layer to reduce the ResNet output to latent dimensions\n",
    "        self.fc_encoder = nn.Linear(resnet.fc.in_features, latent_dim)\n",
    "        \n",
    "        # Decoder network: reconstruct the image from the latent dimensions\n",
    "        self.fc_decoder = nn.Linear(latent_dim, 512*4*4)   # Adjusted to produce a 512x4x4 feature map\n",
    "\n",
    "        # Using a ResNet-like architecture in the decoder (with transposed convolutions)\n",
    "        self.decoder = nn.Sequential(\n",
    "            nn.ConvTranspose2d(512, 256, kernel_size=4, stride=2, padding=1),  # 16x16\n",
    "            nn.BatchNorm2d(256),\n",
    "            nn.ReLU(),\n",
    "            nn.ConvTranspose2d(256, 128, kernel_size=4, stride=2, padding=1),  # 32x32\n",
    "            nn.BatchNorm2d(128),\n",
    "            nn.ReLU(),\n",
    "            nn.ConvTranspose2d(128, 64, kernel_size=4, stride=2, padding=1),   # 64x64\n",
    "            nn.BatchNorm2d(64),\n",
    "            nn.ReLU(),\n",
    "            nn.ConvTranspose2d(64, 3, kernel_size=3, stride=1, padding=1),     # 128x128\n",
    "            nn.Sigmoid()  # Sigmoid to ensure pixel values are between 0 and 1\n",
    "        )\n",
    "\n",
    "    def forward(self, x):\n",
    "        # Pass through the ResNet-based encoder (without the classification layer)\n",
    "        x = self.encoder(x)\n",
    "        # print(\"Encoder output shape: \", x.shape)\n",
    "        \n",
    "        # Flatten the output from the encoder\n",
    "        x = x.view(x.size(0), -1)\n",
    "        # print(\"Flattened shape: \",x.shape)\n",
    "        \n",
    "        # Reduce to the latent dimension\n",
    "        x = self.fc_encoder(x)\n",
    "        # print(\"Latent dimension shape: \",x.shape)\n",
    "\n",
    "        \n",
    "        # Pass through the first fully connected layer for the decoder\n",
    "        x = self.fc_decoder(x)\n",
    "        # print(\"Shape before reshaping for decoder: \",x.shape)\n",
    "        \n",
    "        # Dynamically calculate the reshape size for the decoder\n",
    "        batch_size = x.size(0)\n",
    "        feature_map_size = int((x.size(1) // 512) ** 0.5)  # Assuming the decoder starts with 512 channels\n",
    "        # print(f\"Feature map size: {feature_map_size}x{feature_map_size}\")\n",
    "        \n",
    "        # Reshape to start decoding (batch_size, 512, feature_map_size, feature_map_size)\n",
    "        x = x.view(batch_size, 512, feature_map_size, feature_map_size)\n",
    "        # print(\"Reshaped for decoder:\", x.shape)  # Shape ready for the decoder\n",
    "\n",
    "        # Pass through the ResNet-like decoder\n",
    "        x = self.decoder(x)\n",
    "        # print(\"Decoder output shape: \",x.shape)\n",
    "\n",
    "        \n",
    "        return x\n",
    "    \n",
    "    def semi_supervised_loss(self, inputs, outputs, labels, margin=0.2):\n",
    "        # Flatten the inputs and outputs for loss calculation\n",
    "        inputs = inputs.view(inputs.size(0), -1)\n",
    "        outputs = outputs.view(outputs.size(0), -1)\n",
    "\n",
    "        # Standard reconstruction loss (Mean Squared Error)\n",
    "        reconstruction_loss = F.mse_loss(outputs, inputs, reduction='none').mean(dim=1)\n",
    "\n",
    "        # Separate normal and abnormal samples\n",
    "        abnormal = labels > 0  # True for abnormal samples\n",
    "\n",
    "        # Calculate additional abnormal loss\n",
    "        abnormal_loss = reconstruction_loss[abnormal].mean() if abnormal.any() else torch.tensor(0.0)\n",
    "\n",
    "        # Combine normal reconstruction loss and abnormal loss\n",
    "        return reconstruction_loss.mean() + abnormal_loss"
   ]
  },
  {
   "cell_type": "code",
   "execution_count": 6,
   "metadata": {},
   "outputs": [
    {
     "name": "stdout",
     "output_type": "stream",
     "text": [
      "Files already downloaded and verified\n",
      "Files already downloaded and verified\n"
     ]
    }
   ],
   "source": [
    "transform = transforms.Compose([transforms.ToTensor(),\n",
    "                                # Normalization according to CIFAR-100 mean and std\n",
    "                                transforms.Normalize((0.5071, 0.4867, 0.4408), (0.2675, 0.2565, 0.2761))])\n",
    "train_dataset = Cifar100Custom(train=True, transform=transform, normal_class=0)  # apple as normal\n",
    "train_loader = DataLoader(train_dataset, batch_size=512, shuffle=True)\n",
    "val_dataset = Cifar100Custom(train=False, transform=transform, normal_class=0)\n",
    "val_loader = DataLoader(val_dataset, batch_size=512, shuffle=False)"
   ]
  },
  {
   "cell_type": "code",
   "execution_count": 7,
   "metadata": {},
   "outputs": [],
   "source": [
    "def show_samples(dataset, num_samples=5):\n",
    "    fig, axes = plt.subplots(1, num_samples, figsize=(15, 3))\n",
    "\n",
    "    for i in range(num_samples):\n",
    "        img, label = dataset[i]  # Get image and label\n",
    "        \n",
    "        # Convert tensor to numpy array for displaying\n",
    "        if isinstance(img, torch.Tensor):\n",
    "            # img = img.numpy().squeeze()  # Convert to numpy and squeeze to remove extra dimensions\n",
    "\n",
    "             img = img.permute(1, 2, 0).numpy()  # Convert to (H, W, C) format\n",
    "\n",
    "        axes[i].imshow(img, cmap='gray')  # Display the image\n",
    "        axes[i].set_title(f\"Label: {'Normal' if label == 0 else 'Abnormal'}\")\n",
    "        axes[i].axis('off')\n",
    "    \n",
    "    plt.show()"
   ]
  },
  {
   "cell_type": "code",
   "execution_count": 8,
   "metadata": {},
   "outputs": [
    {
     "name": "stdout",
     "output_type": "stream",
     "text": [
      "Files already downloaded and verified\n",
      "Total number of samples in the dataset: 50000\n"
     ]
    },
    {
     "data": {
      "image/png": "[encoded data removed]",
      "text/plain": [
       "<Figure size 1500x300 with 5 Axes>"
      ]
     },
     "metadata": {},
     "output_type": "display_data"
    }
   ],
   "source": [
    "# Dataset with T-shirts (class 0) as normal and others as abnormal\n",
    "train_dataset = Cifar100Custom(train=True, transform=transforms.ToTensor(), normal_class=0)\n",
    "\n",
    "# Check the length of the dataset\n",
    "print(f\"Total number of samples in the dataset: {len(train_dataset)}\")\n",
    "\n",
    "# Show a few samples with their labels\n",
    "show_samples(train_dataset, num_samples=5)"
   ]
  },
  {
   "cell_type": "code",
   "execution_count": 9,
   "metadata": {},
   "outputs": [
    {
     "name": "stderr",
     "output_type": "stream",
     "text": [
      "/home/sameerhashmi36/miniconda3/envs/test/lib/python3.10/site-packages/torchvision/models/_utils.py:208: UserWarning: The parameter 'pretrained' is deprecated since 0.13 and may be removed in the future, please use 'weights' instead.\n",
      "  warnings.warn(\n",
      "/home/sameerhashmi36/miniconda3/envs/test/lib/python3.10/site-packages/torchvision/models/_utils.py:223: UserWarning: Arguments other than a weight enum or `None` for 'weights' are deprecated since 0.13 and may be removed in the future. The current behavior is equivalent to passing `weights=ResNet18_Weights.IMAGENET1K_V1`. You can also use `weights=ResNet18_Weights.DEFAULT` to get the most up-to-date weights.\n",
      "  warnings.warn(msg)\n"
     ]
    }
   ],
   "source": [
    "model = SSAE_ResNet()\n",
    "optimizer = optim.Adam(model.parameters(), lr=0.0001)\n",
    "\n",
    "# Initialize the ReduceLROnPlateau scheduler\n",
    "scheduler = torch.optim.lr_scheduler.ReduceLROnPlateau(\n",
    "    optimizer, mode='min', patience=5, factor=0.5, min_lr=1e-6\n",
    ")"
   ]
  },
  {
   "cell_type": "code",
   "execution_count": 10,
   "metadata": {},
   "outputs": [
    {
     "data": {
      "text/plain": [
       "SSAE_ResNet(\n",
       "  (encoder): Sequential(\n",
       "    (0): Conv2d(3, 64, kernel_size=(7, 7), stride=(2, 2), padding=(3, 3), bias=False)\n",
       "    (1): BatchNorm2d(64, eps=1e-05, momentum=0.1, affine=True, track_running_stats=True)\n",
       "    (2): ReLU(inplace=True)\n",
       "    (3): MaxPool2d(kernel_size=3, stride=2, padding=1, dilation=1, ceil_mode=False)\n",
       "    (4): Sequential(\n",
       "      (0): BasicBlock(\n",
       "        (conv1): Conv2d(64, 64, kernel_size=(3, 3), stride=(1, 1), padding=(1, 1), bias=False)\n",
       "        (bn1): BatchNorm2d(64, eps=1e-05, momentum=0.1, affine=True, track_running_stats=True)\n",
       "        (relu): ReLU(inplace=True)\n",
       "        (conv2): Conv2d(64, 64, kernel_size=(3, 3), stride=(1, 1), padding=(1, 1), bias=False)\n",
       "        (bn2): BatchNorm2d(64, eps=1e-05, momentum=0.1, affine=True, track_running_stats=True)\n",
       "      )\n",
       "      (1): BasicBlock(\n",
       "        (conv1): Conv2d(64, 64, kernel_size=(3, 3), stride=(1, 1), padding=(1, 1), bias=False)\n",
       "        (bn1): BatchNorm2d(64, eps=1e-05, momentum=0.1, affine=True, track_running_stats=True)\n",
       "        (relu): ReLU(inplace=True)\n",
       "        (conv2): Conv2d(64, 64, kernel_size=(3, 3), stride=(1, 1), padding=(1, 1), bias=False)\n",
       "        (bn2): BatchNorm2d(64, eps=1e-05, momentum=0.1, affine=True, track_running_stats=True)\n",
       "      )\n",
       "    )\n",
       "    (5): Sequential(\n",
       "      (0): BasicBlock(\n",
       "        (conv1): Conv2d(64, 128, kernel_size=(3, 3), stride=(2, 2), padding=(1, 1), bias=False)\n",
       "        (bn1): BatchNorm2d(128, eps=1e-05, momentum=0.1, affine=True, track_running_stats=True)\n",
       "        (relu): ReLU(inplace=True)\n",
       "        (conv2): Conv2d(128, 128, kernel_size=(3, 3), stride=(1, 1), padding=(1, 1), bias=False)\n",
       "        (bn2): BatchNorm2d(128, eps=1e-05, momentum=0.1, affine=True, track_running_stats=True)\n",
       "        (downsample): Sequential(\n",
       "          (0): Conv2d(64, 128, kernel_size=(1, 1), stride=(2, 2), bias=False)\n",
       "          (1): BatchNorm2d(128, eps=1e-05, momentum=0.1, affine=True, track_running_stats=True)\n",
       "        )\n",
       "      )\n",
       "      (1): BasicBlock(\n",
       "        (conv1): Conv2d(128, 128, kernel_size=(3, 3), stride=(1, 1), padding=(1, 1), bias=False)\n",
       "        (bn1): BatchNorm2d(128, eps=1e-05, momentum=0.1, affine=True, track_running_stats=True)\n",
       "        (relu): ReLU(inplace=True)\n",
       "        (conv2): Conv2d(128, 128, kernel_size=(3, 3), stride=(1, 1), padding=(1, 1), bias=False)\n",
       "        (bn2): BatchNorm2d(128, eps=1e-05, momentum=0.1, affine=True, track_running_stats=True)\n",
       "      )\n",
       "    )\n",
       "    (6): Sequential(\n",
       "      (0): BasicBlock(\n",
       "        (conv1): Conv2d(128, 256, kernel_size=(3, 3), stride=(2, 2), padding=(1, 1), bias=False)\n",
       "        (bn1): BatchNorm2d(256, eps=1e-05, momentum=0.1, affine=True, track_running_stats=True)\n",
       "        (relu): ReLU(inplace=True)\n",
       "        (conv2): Conv2d(256, 256, kernel_size=(3, 3), stride=(1, 1), padding=(1, 1), bias=False)\n",
       "        (bn2): BatchNorm2d(256, eps=1e-05, momentum=0.1, affine=True, track_running_stats=True)\n",
       "        (downsample): Sequential(\n",
       "          (0): Conv2d(128, 256, kernel_size=(1, 1), stride=(2, 2), bias=False)\n",
       "          (1): BatchNorm2d(256, eps=1e-05, momentum=0.1, affine=True, track_running_stats=True)\n",
       "        )\n",
       "      )\n",
       "      (1): BasicBlock(\n",
       "        (conv1): Conv2d(256, 256, kernel_size=(3, 3), stride=(1, 1), padding=(1, 1), bias=False)\n",
       "        (bn1): BatchNorm2d(256, eps=1e-05, momentum=0.1, affine=True, track_running_stats=True)\n",
       "        (relu): ReLU(inplace=True)\n",
       "        (conv2): Conv2d(256, 256, kernel_size=(3, 3), stride=(1, 1), padding=(1, 1), bias=False)\n",
       "        (bn2): BatchNorm2d(256, eps=1e-05, momentum=0.1, affine=True, track_running_stats=True)\n",
       "      )\n",
       "    )\n",
       "    (7): Sequential(\n",
       "      (0): BasicBlock(\n",
       "        (conv1): Conv2d(256, 512, kernel_size=(3, 3), stride=(2, 2), padding=(1, 1), bias=False)\n",
       "        (bn1): BatchNorm2d(512, eps=1e-05, momentum=0.1, affine=True, track_running_stats=True)\n",
       "        (relu): ReLU(inplace=True)\n",
       "        (conv2): Conv2d(512, 512, kernel_size=(3, 3), stride=(1, 1), padding=(1, 1), bias=False)\n",
       "        (bn2): BatchNorm2d(512, eps=1e-05, momentum=0.1, affine=True, track_running_stats=True)\n",
       "        (downsample): Sequential(\n",
       "          (0): Conv2d(256, 512, kernel_size=(1, 1), stride=(2, 2), bias=False)\n",
       "          (1): BatchNorm2d(512, eps=1e-05, momentum=0.1, affine=True, track_running_stats=True)\n",
       "        )\n",
       "      )\n",
       "      (1): BasicBlock(\n",
       "        (conv1): Conv2d(512, 512, kernel_size=(3, 3), stride=(1, 1), padding=(1, 1), bias=False)\n",
       "        (bn1): BatchNorm2d(512, eps=1e-05, momentum=0.1, affine=True, track_running_stats=True)\n",
       "        (relu): ReLU(inplace=True)\n",
       "        (conv2): Conv2d(512, 512, kernel_size=(3, 3), stride=(1, 1), padding=(1, 1), bias=False)\n",
       "        (bn2): BatchNorm2d(512, eps=1e-05, momentum=0.1, affine=True, track_running_stats=True)\n",
       "      )\n",
       "    )\n",
       "    (8): AdaptiveAvgPool2d(output_size=(1, 1))\n",
       "  )\n",
       "  (fc_encoder): Linear(in_features=512, out_features=64, bias=True)\n",
       "  (fc_decoder): Linear(in_features=64, out_features=8192, bias=True)\n",
       "  (decoder): Sequential(\n",
       "    (0): ConvTranspose2d(512, 256, kernel_size=(4, 4), stride=(2, 2), padding=(1, 1))\n",
       "    (1): BatchNorm2d(256, eps=1e-05, momentum=0.1, affine=True, track_running_stats=True)\n",
       "    (2): ReLU()\n",
       "    (3): ConvTranspose2d(256, 128, kernel_size=(4, 4), stride=(2, 2), padding=(1, 1))\n",
       "    (4): BatchNorm2d(128, eps=1e-05, momentum=0.1, affine=True, track_running_stats=True)\n",
       "    (5): ReLU()\n",
       "    (6): ConvTranspose2d(128, 64, kernel_size=(4, 4), stride=(2, 2), padding=(1, 1))\n",
       "    (7): BatchNorm2d(64, eps=1e-05, momentum=0.1, affine=True, track_running_stats=True)\n",
       "    (8): ReLU()\n",
       "    (9): ConvTranspose2d(64, 3, kernel_size=(3, 3), stride=(1, 1), padding=(1, 1))\n",
       "    (10): Sigmoid()\n",
       "  )\n",
       ")"
      ]
     },
     "execution_count": 10,
     "metadata": {},
     "output_type": "execute_result"
    }
   ],
   "source": [
    "model.to(device)"
   ]
  },
  {
   "cell_type": "code",
   "execution_count": 11,
   "metadata": {},
   "outputs": [
    {
     "name": "stderr",
     "output_type": "stream",
     "text": [
      "Epoch 1/100 (SSAE): 100%|██████████| 98/98 [00:59<00:00,  1.64it/s, loss=1.57]\n"
     ]
    },
    {
     "name": "stdout",
     "output_type": "stream",
     "text": [
      "Epoch [1/100], Avg Loss: 1.7503\n",
      "Epoch [1/100], Avg Validation Loss: 1.5677\n"
     ]
    },
    {
     "name": "stderr",
     "output_type": "stream",
     "text": [
      "Epoch 2/100 (SSAE): 100%|██████████| 98/98 [01:07<00:00,  1.45it/s, loss=1.51]\n"
     ]
    },
    {
     "name": "stdout",
     "output_type": "stream",
     "text": [
      "Epoch [2/100], Avg Loss: 1.5090\n",
      "Epoch [2/100], Avg Validation Loss: 1.4788\n"
     ]
    },
    {
     "name": "stderr",
     "output_type": "stream",
     "text": [
      "Epoch 3/100 (SSAE): 100%|██████████| 98/98 [01:09<00:00,  1.40it/s, loss=1.4] \n"
     ]
    },
    {
     "name": "stdout",
     "output_type": "stream",
     "text": [
      "Epoch [3/100], Avg Loss: 1.4484\n",
      "Epoch [3/100], Avg Validation Loss: 1.4386\n"
     ]
    },
    {
     "name": "stderr",
     "output_type": "stream",
     "text": [
      "Epoch 4/100 (SSAE): 100%|██████████| 98/98 [01:05<00:00,  1.49it/s, loss=1.43]\n"
     ]
    },
    {
     "name": "stdout",
     "output_type": "stream",
     "text": [
      "Epoch [4/100], Avg Loss: 1.4198\n",
      "Epoch [4/100], Avg Validation Loss: 1.4173\n"
     ]
    },
    {
     "name": "stderr",
     "output_type": "stream",
     "text": [
      "Epoch 5/100 (SSAE): 100%|██████████| 98/98 [01:11<00:00,  1.36it/s, loss=1.39]\n"
     ]
    },
    {
     "name": "stdout",
     "output_type": "stream",
     "text": [
      "Epoch [5/100], Avg Loss: 1.3986\n",
      "Epoch [5/100], Avg Validation Loss: 1.3988\n",
      "Validation loss improved. Saving the best model at epoch 5.\n"
     ]
    },
    {
     "name": "stderr",
     "output_type": "stream",
     "text": [
      "Epoch 6/100 (SSAE): 100%|██████████| 98/98 [01:07<00:00,  1.46it/s, loss=1.39]\n"
     ]
    },
    {
     "name": "stdout",
     "output_type": "stream",
     "text": [
      "Epoch [6/100], Avg Loss: 1.3835\n",
      "Epoch [6/100], Avg Validation Loss: 1.3813\n"
     ]
    },
    {
     "name": "stderr",
     "output_type": "stream",
     "text": [
      "Epoch 7/100 (SSAE): 100%|██████████| 98/98 [01:08<00:00,  1.43it/s, loss=1.33]\n"
     ]
    },
    {
     "name": "stdout",
     "output_type": "stream",
     "text": [
      "Epoch [7/100], Avg Loss: 1.3716\n",
      "Epoch [7/100], Avg Validation Loss: 1.3720\n"
     ]
    },
    {
     "name": "stderr",
     "output_type": "stream",
     "text": [
      "Epoch 8/100 (SSAE): 100%|██████████| 98/98 [01:05<00:00,  1.48it/s, loss=1.38]\n"
     ]
    },
    {
     "name": "stdout",
     "output_type": "stream",
     "text": [
      "Epoch [8/100], Avg Loss: 1.3632\n",
      "Epoch [8/100], Avg Validation Loss: 1.3679\n"
     ]
    },
    {
     "name": "stderr",
     "output_type": "stream",
     "text": [
      "Epoch 9/100 (SSAE): 100%|██████████| 98/98 [01:11<00:00,  1.37it/s, loss=1.39]\n"
     ]
    },
    {
     "name": "stdout",
     "output_type": "stream",
     "text": [
      "Epoch [9/100], Avg Loss: 1.3566\n",
      "Epoch [9/100], Avg Validation Loss: 1.3615\n"
     ]
    },
    {
     "name": "stderr",
     "output_type": "stream",
     "text": [
      "Epoch 10/100 (SSAE): 100%|██████████| 98/98 [01:07<00:00,  1.46it/s, loss=1.34]\n"
     ]
    },
    {
     "name": "stdout",
     "output_type": "stream",
     "text": [
      "Epoch [10/100], Avg Loss: 1.3490\n",
      "Epoch [10/100], Avg Validation Loss: 1.3542\n",
      "Validation loss improved. Saving the best model at epoch 10.\n"
     ]
    },
    {
     "name": "stderr",
     "output_type": "stream",
     "text": [
      "Epoch 11/100 (SSAE): 100%|██████████| 98/98 [01:07<00:00,  1.45it/s, loss=1.3] \n"
     ]
    },
    {
     "name": "stdout",
     "output_type": "stream",
     "text": [
      "Epoch [11/100], Avg Loss: 1.3452\n",
      "Epoch [11/100], Avg Validation Loss: 1.3520\n"
     ]
    },
    {
     "name": "stderr",
     "output_type": "stream",
     "text": [
      "Epoch 12/100 (SSAE): 100%|██████████| 98/98 [01:10<00:00,  1.39it/s, loss=1.36]\n"
     ]
    },
    {
     "name": "stdout",
     "output_type": "stream",
     "text": [
      "Epoch [12/100], Avg Loss: 1.3412\n",
      "Epoch [12/100], Avg Validation Loss: 1.3457\n"
     ]
    },
    {
     "name": "stderr",
     "output_type": "stream",
     "text": [
      "Epoch 13/100 (SSAE): 100%|██████████| 98/98 [01:07<00:00,  1.45it/s, loss=1.33]\n"
     ]
    },
    {
     "name": "stdout",
     "output_type": "stream",
     "text": [
      "Epoch [13/100], Avg Loss: 1.3356\n",
      "Epoch [13/100], Avg Validation Loss: 1.3453\n"
     ]
    },
    {
     "name": "stderr",
     "output_type": "stream",
     "text": [
      "Epoch 14/100 (SSAE): 100%|██████████| 98/98 [01:08<00:00,  1.43it/s, loss=1.36]\n"
     ]
    },
    {
     "name": "stdout",
     "output_type": "stream",
     "text": [
      "Epoch [14/100], Avg Loss: 1.3331\n",
      "Epoch [14/100], Avg Validation Loss: 1.3409\n"
     ]
    },
    {
     "name": "stderr",
     "output_type": "stream",
     "text": [
      "Epoch 15/100 (SSAE): 100%|██████████| 98/98 [01:09<00:00,  1.42it/s, loss=1.36]\n"
     ]
    },
    {
     "name": "stdout",
     "output_type": "stream",
     "text": [
      "Epoch [15/100], Avg Loss: 1.3319\n",
      "Epoch [15/100], Avg Validation Loss: 1.3353\n",
      "Validation loss improved. Saving the best model at epoch 15.\n"
     ]
    },
    {
     "name": "stderr",
     "output_type": "stream",
     "text": [
      "Epoch 16/100 (SSAE): 100%|██████████| 98/98 [01:08<00:00,  1.42it/s, loss=1.38]\n"
     ]
    },
    {
     "name": "stdout",
     "output_type": "stream",
     "text": [
      "Epoch [16/100], Avg Loss: 1.3285\n",
      "Epoch [16/100], Avg Validation Loss: 1.3365\n"
     ]
    },
    {
     "name": "stderr",
     "output_type": "stream",
     "text": [
      "Epoch 17/100 (SSAE): 100%|██████████| 98/98 [01:08<00:00,  1.44it/s, loss=1.29]\n"
     ]
    },
    {
     "name": "stdout",
     "output_type": "stream",
     "text": [
      "Epoch [17/100], Avg Loss: 1.3244\n",
      "Epoch [17/100], Avg Validation Loss: 1.3343\n"
     ]
    },
    {
     "name": "stderr",
     "output_type": "stream",
     "text": [
      "Epoch 18/100 (SSAE): 100%|██████████| 98/98 [01:06<00:00,  1.48it/s, loss=1.33]\n"
     ]
    },
    {
     "name": "stdout",
     "output_type": "stream",
     "text": [
      "Epoch [18/100], Avg Loss: 1.3213\n",
      "Epoch [18/100], Avg Validation Loss: 1.3279\n"
     ]
    },
    {
     "name": "stderr",
     "output_type": "stream",
     "text": [
      "Epoch 19/100 (SSAE): 100%|██████████| 98/98 [01:11<00:00,  1.37it/s, loss=1.33]\n"
     ]
    },
    {
     "name": "stdout",
     "output_type": "stream",
     "text": [
      "Epoch [19/100], Avg Loss: 1.3194\n",
      "Epoch [19/100], Avg Validation Loss: 1.3255\n"
     ]
    },
    {
     "name": "stderr",
     "output_type": "stream",
     "text": [
      "Epoch 20/100 (SSAE): 100%|██████████| 98/98 [01:03<00:00,  1.55it/s, loss=1.33]\n"
     ]
    },
    {
     "name": "stdout",
     "output_type": "stream",
     "text": [
      "Epoch [20/100], Avg Loss: 1.3162\n",
      "Epoch [20/100], Avg Validation Loss: 1.3232\n",
      "Validation loss improved. Saving the best model at epoch 20.\n"
     ]
    },
    {
     "name": "stderr",
     "output_type": "stream",
     "text": [
      "Epoch 21/100 (SSAE): 100%|██████████| 98/98 [01:11<00:00,  1.36it/s, loss=1.34]\n"
     ]
    },
    {
     "name": "stdout",
     "output_type": "stream",
     "text": [
      "Epoch [21/100], Avg Loss: 1.3146\n",
      "Epoch [21/100], Avg Validation Loss: 1.3168\n"
     ]
    },
    {
     "name": "stderr",
     "output_type": "stream",
     "text": [
      "Epoch 22/100 (SSAE): 100%|██████████| 98/98 [01:02<00:00,  1.57it/s, loss=1.34]\n"
     ]
    },
    {
     "name": "stdout",
     "output_type": "stream",
     "text": [
      "Epoch [22/100], Avg Loss: 1.3122\n",
      "Epoch [22/100], Avg Validation Loss: 1.3186\n"
     ]
    },
    {
     "name": "stderr",
     "output_type": "stream",
     "text": [
      "Epoch 23/100 (SSAE): 100%|██████████| 98/98 [01:10<00:00,  1.39it/s, loss=1.22]\n"
     ]
    },
    {
     "name": "stdout",
     "output_type": "stream",
     "text": [
      "Epoch [23/100], Avg Loss: 1.3088\n",
      "Epoch [23/100], Avg Validation Loss: 1.3181\n"
     ]
    },
    {
     "name": "stderr",
     "output_type": "stream",
     "text": [
      "Epoch 24/100 (SSAE): 100%|██████████| 98/98 [01:07<00:00,  1.45it/s, loss=1.25]\n"
     ]
    },
    {
     "name": "stdout",
     "output_type": "stream",
     "text": [
      "Epoch [24/100], Avg Loss: 1.3065\n",
      "Epoch [24/100], Avg Validation Loss: 1.3120\n"
     ]
    },
    {
     "name": "stderr",
     "output_type": "stream",
     "text": [
      "Epoch 25/100 (SSAE): 100%|██████████| 98/98 [01:09<00:00,  1.41it/s, loss=1.28]\n"
     ]
    },
    {
     "name": "stdout",
     "output_type": "stream",
     "text": [
      "Epoch [25/100], Avg Loss: 1.3043\n",
      "Epoch [25/100], Avg Validation Loss: 1.3144\n",
      "Validation loss improved. Saving the best model at epoch 25.\n"
     ]
    },
    {
     "name": "stderr",
     "output_type": "stream",
     "text": [
      "Epoch 26/100 (SSAE): 100%|██████████| 98/98 [01:07<00:00,  1.45it/s, loss=1.25]\n"
     ]
    },
    {
     "name": "stdout",
     "output_type": "stream",
     "text": [
      "Epoch [26/100], Avg Loss: 1.3023\n",
      "Epoch [26/100], Avg Validation Loss: 1.3115\n"
     ]
    },
    {
     "name": "stderr",
     "output_type": "stream",
     "text": [
      "Epoch 27/100 (SSAE): 100%|██████████| 98/98 [01:07<00:00,  1.45it/s, loss=1.37]\n"
     ]
    },
    {
     "name": "stdout",
     "output_type": "stream",
     "text": [
      "Epoch [27/100], Avg Loss: 1.3010\n",
      "Epoch [27/100], Avg Validation Loss: 1.3113\n"
     ]
    },
    {
     "name": "stderr",
     "output_type": "stream",
     "text": [
      "Epoch 28/100 (SSAE): 100%|██████████| 98/98 [01:05<00:00,  1.50it/s, loss=1.33]\n"
     ]
    },
    {
     "name": "stdout",
     "output_type": "stream",
     "text": [
      "Epoch [28/100], Avg Loss: 1.2998\n",
      "Epoch [28/100], Avg Validation Loss: 1.3070\n"
     ]
    },
    {
     "name": "stderr",
     "output_type": "stream",
     "text": [
      "Epoch 29/100 (SSAE): 100%|██████████| 98/98 [01:09<00:00,  1.42it/s, loss=1.33]\n"
     ]
    },
    {
     "name": "stdout",
     "output_type": "stream",
     "text": [
      "Epoch [29/100], Avg Loss: 1.2984\n",
      "Epoch [29/100], Avg Validation Loss: 1.3071\n"
     ]
    },
    {
     "name": "stderr",
     "output_type": "stream",
     "text": [
      "Epoch 30/100 (SSAE): 100%|██████████| 98/98 [01:07<00:00,  1.46it/s, loss=1.33]\n"
     ]
    },
    {
     "name": "stdout",
     "output_type": "stream",
     "text": [
      "Epoch [30/100], Avg Loss: 1.2968\n",
      "Epoch [30/100], Avg Validation Loss: 1.3043\n",
      "Validation loss improved. Saving the best model at epoch 30.\n"
     ]
    },
    {
     "name": "stderr",
     "output_type": "stream",
     "text": [
      "Epoch 31/100 (SSAE): 100%|██████████| 98/98 [01:08<00:00,  1.44it/s, loss=1.35]\n"
     ]
    },
    {
     "name": "stdout",
     "output_type": "stream",
     "text": [
      "Epoch [31/100], Avg Loss: 1.2956\n",
      "Epoch [31/100], Avg Validation Loss: 1.3065\n"
     ]
    },
    {
     "name": "stderr",
     "output_type": "stream",
     "text": [
      "Epoch 32/100 (SSAE): 100%|██████████| 98/98 [01:08<00:00,  1.43it/s, loss=1.35]\n"
     ]
    },
    {
     "name": "stdout",
     "output_type": "stream",
     "text": [
      "Epoch [32/100], Avg Loss: 1.2937\n",
      "Epoch [32/100], Avg Validation Loss: 1.3066\n"
     ]
    },
    {
     "name": "stderr",
     "output_type": "stream",
     "text": [
      "Epoch 33/100 (SSAE): 100%|██████████| 98/98 [01:06<00:00,  1.47it/s, loss=1.32]\n"
     ]
    },
    {
     "name": "stdout",
     "output_type": "stream",
     "text": [
      "Epoch [33/100], Avg Loss: 1.2937\n",
      "Epoch [33/100], Avg Validation Loss: 1.3013\n"
     ]
    },
    {
     "name": "stderr",
     "output_type": "stream",
     "text": [
      "Epoch 34/100 (SSAE): 100%|██████████| 98/98 [01:04<00:00,  1.51it/s, loss=1.3] \n"
     ]
    },
    {
     "name": "stdout",
     "output_type": "stream",
     "text": [
      "Epoch [34/100], Avg Loss: 1.2929\n",
      "Epoch [34/100], Avg Validation Loss: 1.3054\n"
     ]
    },
    {
     "name": "stderr",
     "output_type": "stream",
     "text": [
      "Epoch 35/100 (SSAE): 100%|██████████| 98/98 [01:08<00:00,  1.44it/s, loss=1.26]\n"
     ]
    },
    {
     "name": "stdout",
     "output_type": "stream",
     "text": [
      "Epoch [35/100], Avg Loss: 1.2897\n",
      "Epoch [35/100], Avg Validation Loss: 1.2991\n",
      "Validation loss improved. Saving the best model at epoch 35.\n"
     ]
    },
    {
     "name": "stderr",
     "output_type": "stream",
     "text": [
      "Epoch 36/100 (SSAE): 100%|██████████| 98/98 [01:05<00:00,  1.49it/s, loss=1.22]\n"
     ]
    },
    {
     "name": "stdout",
     "output_type": "stream",
     "text": [
      "Epoch [36/100], Avg Loss: 1.2883\n",
      "Epoch [36/100], Avg Validation Loss: 1.3002\n"
     ]
    },
    {
     "name": "stderr",
     "output_type": "stream",
     "text": [
      "Epoch 37/100 (SSAE): 100%|██████████| 98/98 [01:08<00:00,  1.43it/s, loss=1.23]\n"
     ]
    },
    {
     "name": "stdout",
     "output_type": "stream",
     "text": [
      "Epoch [37/100], Avg Loss: 1.2874\n",
      "Epoch [37/100], Avg Validation Loss: 1.2976\n"
     ]
    },
    {
     "name": "stderr",
     "output_type": "stream",
     "text": [
      "Epoch 38/100 (SSAE): 100%|██████████| 98/98 [01:06<00:00,  1.48it/s, loss=1.24]\n"
     ]
    },
    {
     "name": "stdout",
     "output_type": "stream",
     "text": [
      "Epoch [38/100], Avg Loss: 1.2870\n",
      "Epoch [38/100], Avg Validation Loss: 1.2952\n"
     ]
    },
    {
     "name": "stderr",
     "output_type": "stream",
     "text": [
      "Epoch 39/100 (SSAE): 100%|██████████| 98/98 [01:07<00:00,  1.45it/s, loss=1.27]\n"
     ]
    },
    {
     "name": "stdout",
     "output_type": "stream",
     "text": [
      "Epoch [39/100], Avg Loss: 1.2874\n",
      "Epoch [39/100], Avg Validation Loss: 1.2985\n"
     ]
    },
    {
     "name": "stderr",
     "output_type": "stream",
     "text": [
      "Epoch 40/100 (SSAE): 100%|██████████| 98/98 [01:05<00:00,  1.50it/s, loss=1.26]\n"
     ]
    },
    {
     "name": "stdout",
     "output_type": "stream",
     "text": [
      "Epoch [40/100], Avg Loss: 1.2847\n",
      "Epoch [40/100], Avg Validation Loss: 1.2972\n",
      "Validation loss improved. Saving the best model at epoch 40.\n"
     ]
    },
    {
     "name": "stderr",
     "output_type": "stream",
     "text": [
      "Epoch 41/100 (SSAE): 100%|██████████| 98/98 [01:07<00:00,  1.45it/s, loss=1.27]\n"
     ]
    },
    {
     "name": "stdout",
     "output_type": "stream",
     "text": [
      "Epoch [41/100], Avg Loss: 1.2851\n",
      "Epoch [41/100], Avg Validation Loss: 1.2961\n"
     ]
    },
    {
     "name": "stderr",
     "output_type": "stream",
     "text": [
      "Epoch 42/100 (SSAE): 100%|██████████| 98/98 [01:06<00:00,  1.47it/s, loss=1.35]\n"
     ]
    },
    {
     "name": "stdout",
     "output_type": "stream",
     "text": [
      "Epoch [42/100], Avg Loss: 1.2856\n",
      "Epoch [42/100], Avg Validation Loss: 1.2966\n"
     ]
    },
    {
     "name": "stderr",
     "output_type": "stream",
     "text": [
      "Epoch 43/100 (SSAE): 100%|██████████| 98/98 [01:08<00:00,  1.43it/s, loss=1.25]\n"
     ]
    },
    {
     "name": "stdout",
     "output_type": "stream",
     "text": [
      "Epoch [43/100], Avg Loss: 1.2829\n",
      "Epoch [43/100], Avg Validation Loss: 1.2955\n"
     ]
    },
    {
     "name": "stderr",
     "output_type": "stream",
     "text": [
      "Epoch 44/100 (SSAE): 100%|██████████| 98/98 [01:04<00:00,  1.52it/s, loss=1.33]\n"
     ]
    },
    {
     "name": "stdout",
     "output_type": "stream",
     "text": [
      "Epoch [44/100], Avg Loss: 1.2838\n",
      "Epoch [44/100], Avg Validation Loss: 1.2979\n"
     ]
    },
    {
     "name": "stderr",
     "output_type": "stream",
     "text": [
      "Epoch 45/100 (SSAE): 100%|██████████| 98/98 [01:10<00:00,  1.40it/s, loss=1.3] \n"
     ]
    },
    {
     "name": "stdout",
     "output_type": "stream",
     "text": [
      "Epoch [45/100], Avg Loss: 1.2820\n",
      "Epoch [45/100], Avg Validation Loss: 1.2961\n",
      "Validation loss improved. Saving the best model at epoch 45.\n"
     ]
    },
    {
     "name": "stderr",
     "output_type": "stream",
     "text": [
      "Epoch 46/100 (SSAE): 100%|██████████| 98/98 [01:04<00:00,  1.52it/s, loss=1.26]\n"
     ]
    },
    {
     "name": "stdout",
     "output_type": "stream",
     "text": [
      "Epoch [46/100], Avg Loss: 1.2819\n",
      "Epoch [46/100], Avg Validation Loss: 1.2946\n"
     ]
    },
    {
     "name": "stderr",
     "output_type": "stream",
     "text": [
      "Epoch 47/100 (SSAE): 100%|██████████| 98/98 [01:10<00:00,  1.39it/s, loss=1.32]\n"
     ]
    },
    {
     "name": "stdout",
     "output_type": "stream",
     "text": [
      "Epoch [47/100], Avg Loss: 1.2809\n",
      "Epoch [47/100], Avg Validation Loss: 1.2947\n"
     ]
    },
    {
     "name": "stderr",
     "output_type": "stream",
     "text": [
      "Epoch 48/100 (SSAE): 100%|██████████| 98/98 [01:04<00:00,  1.52it/s, loss=1.3] \n"
     ]
    },
    {
     "name": "stdout",
     "output_type": "stream",
     "text": [
      "Epoch [48/100], Avg Loss: 1.2804\n",
      "Epoch [48/100], Avg Validation Loss: 1.2923\n"
     ]
    },
    {
     "name": "stderr",
     "output_type": "stream",
     "text": [
      "Epoch 49/100 (SSAE): 100%|██████████| 98/98 [01:09<00:00,  1.40it/s, loss=1.3] \n"
     ]
    },
    {
     "name": "stdout",
     "output_type": "stream",
     "text": [
      "Epoch [49/100], Avg Loss: 1.2812\n",
      "Epoch [49/100], Avg Validation Loss: 1.2945\n"
     ]
    },
    {
     "name": "stderr",
     "output_type": "stream",
     "text": [
      "Epoch 50/100 (SSAE): 100%|██████████| 98/98 [01:04<00:00,  1.53it/s, loss=1.27]\n"
     ]
    },
    {
     "name": "stdout",
     "output_type": "stream",
     "text": [
      "Epoch [50/100], Avg Loss: 1.2806\n",
      "Epoch [50/100], Avg Validation Loss: 1.2885\n",
      "Validation loss improved. Saving the best model at epoch 50.\n"
     ]
    },
    {
     "name": "stderr",
     "output_type": "stream",
     "text": [
      "Epoch 51/100 (SSAE): 100%|██████████| 98/98 [01:10<00:00,  1.40it/s, loss=1.3] \n"
     ]
    },
    {
     "name": "stdout",
     "output_type": "stream",
     "text": [
      "Epoch [51/100], Avg Loss: 1.2795\n",
      "Epoch [51/100], Avg Validation Loss: 1.2919\n"
     ]
    },
    {
     "name": "stderr",
     "output_type": "stream",
     "text": [
      "Epoch 52/100 (SSAE): 100%|██████████| 98/98 [01:04<00:00,  1.52it/s, loss=1.28]\n"
     ]
    },
    {
     "name": "stdout",
     "output_type": "stream",
     "text": [
      "Epoch [52/100], Avg Loss: 1.2801\n",
      "Epoch [52/100], Avg Validation Loss: 1.2942\n"
     ]
    },
    {
     "name": "stderr",
     "output_type": "stream",
     "text": [
      "Epoch 53/100 (SSAE): 100%|██████████| 98/98 [01:09<00:00,  1.41it/s, loss=1.27]\n"
     ]
    },
    {
     "name": "stdout",
     "output_type": "stream",
     "text": [
      "Epoch [53/100], Avg Loss: 1.2797\n",
      "Epoch [53/100], Avg Validation Loss: 1.2899\n"
     ]
    },
    {
     "name": "stderr",
     "output_type": "stream",
     "text": [
      "Epoch 54/100 (SSAE): 100%|██████████| 98/98 [01:02<00:00,  1.57it/s, loss=1.27]\n"
     ]
    },
    {
     "name": "stdout",
     "output_type": "stream",
     "text": [
      "Epoch [54/100], Avg Loss: 1.2784\n",
      "Epoch [54/100], Avg Validation Loss: 1.2946\n"
     ]
    },
    {
     "name": "stderr",
     "output_type": "stream",
     "text": [
      "Epoch 55/100 (SSAE): 100%|██████████| 98/98 [01:12<00:00,  1.35it/s, loss=1.26]\n"
     ]
    },
    {
     "name": "stdout",
     "output_type": "stream",
     "text": [
      "Epoch [55/100], Avg Loss: 1.2798\n",
      "Epoch [55/100], Avg Validation Loss: 1.2891\n"
     ]
    },
    {
     "name": "stderr",
     "output_type": "stream",
     "text": [
      "Epoch 56/100 (SSAE): 100%|██████████| 98/98 [01:04<00:00,  1.52it/s, loss=1.27]\n"
     ]
    },
    {
     "name": "stdout",
     "output_type": "stream",
     "text": [
      "Epoch [56/100], Avg Loss: 1.2774\n",
      "Epoch [56/100], Avg Validation Loss: 1.2917\n"
     ]
    },
    {
     "name": "stderr",
     "output_type": "stream",
     "text": [
      "Epoch 57/100 (SSAE): 100%|██████████| 98/98 [01:11<00:00,  1.37it/s, loss=1.26]\n"
     ]
    },
    {
     "name": "stdout",
     "output_type": "stream",
     "text": [
      "Epoch [57/100], Avg Loss: 1.2798\n",
      "Epoch [57/100], Avg Validation Loss: 1.2915\n"
     ]
    },
    {
     "name": "stderr",
     "output_type": "stream",
     "text": [
      "Epoch 58/100 (SSAE): 100%|██████████| 98/98 [01:03<00:00,  1.54it/s, loss=1.23]\n"
     ]
    },
    {
     "name": "stdout",
     "output_type": "stream",
     "text": [
      "Epoch [58/100], Avg Loss: 1.2792\n",
      "Epoch [58/100], Avg Validation Loss: 1.2919\n"
     ]
    },
    {
     "name": "stderr",
     "output_type": "stream",
     "text": [
      "Epoch 59/100 (SSAE): 100%|██████████| 98/98 [01:10<00:00,  1.39it/s, loss=1.31]\n"
     ]
    },
    {
     "name": "stdout",
     "output_type": "stream",
     "text": [
      "Epoch [59/100], Avg Loss: 1.2797\n",
      "Epoch [59/100], Avg Validation Loss: 1.2931\n"
     ]
    },
    {
     "name": "stderr",
     "output_type": "stream",
     "text": [
      "Epoch 60/100 (SSAE): 100%|██████████| 98/98 [01:04<00:00,  1.53it/s, loss=1.31]\n"
     ]
    },
    {
     "name": "stdout",
     "output_type": "stream",
     "text": [
      "Epoch [60/100], Avg Loss: 1.2797\n",
      "Epoch [60/100], Avg Validation Loss: 1.2924\n"
     ]
    },
    {
     "name": "stderr",
     "output_type": "stream",
     "text": [
      "Epoch 61/100 (SSAE): 100%|██████████| 98/98 [01:08<00:00,  1.43it/s, loss=1.31]\n"
     ]
    },
    {
     "name": "stdout",
     "output_type": "stream",
     "text": [
      "Epoch [61/100], Avg Loss: 1.2794\n",
      "Epoch [61/100], Avg Validation Loss: 1.2945\n"
     ]
    },
    {
     "name": "stderr",
     "output_type": "stream",
     "text": [
      "Epoch 62/100 (SSAE): 100%|██████████| 98/98 [01:04<00:00,  1.52it/s, loss=1.3] \n"
     ]
    },
    {
     "name": "stdout",
     "output_type": "stream",
     "text": [
      "Epoch [62/100], Avg Loss: 1.2774\n",
      "Epoch [62/100], Avg Validation Loss: 1.2906\n"
     ]
    },
    {
     "name": "stderr",
     "output_type": "stream",
     "text": [
      "Epoch 63/100 (SSAE): 100%|██████████| 98/98 [01:08<00:00,  1.42it/s, loss=1.27]\n"
     ]
    },
    {
     "name": "stdout",
     "output_type": "stream",
     "text": [
      "Epoch [63/100], Avg Loss: 1.2761\n",
      "Epoch [63/100], Avg Validation Loss: 1.2924\n"
     ]
    },
    {
     "name": "stderr",
     "output_type": "stream",
     "text": [
      "Epoch 64/100 (SSAE): 100%|██████████| 98/98 [01:05<00:00,  1.50it/s, loss=1.31]\n"
     ]
    },
    {
     "name": "stdout",
     "output_type": "stream",
     "text": [
      "Epoch [64/100], Avg Loss: 1.2778\n",
      "Epoch [64/100], Avg Validation Loss: 1.2888\n"
     ]
    },
    {
     "name": "stderr",
     "output_type": "stream",
     "text": [
      "Epoch 65/100 (SSAE): 100%|██████████| 98/98 [01:10<00:00,  1.39it/s, loss=1.34]\n"
     ]
    },
    {
     "name": "stdout",
     "output_type": "stream",
     "text": [
      "Epoch [65/100], Avg Loss: 1.2775\n",
      "Epoch [65/100], Avg Validation Loss: 1.2937\n"
     ]
    },
    {
     "name": "stderr",
     "output_type": "stream",
     "text": [
      "Epoch 66/100 (SSAE): 100%|██████████| 98/98 [01:03<00:00,  1.55it/s, loss=1.27]\n"
     ]
    },
    {
     "name": "stdout",
     "output_type": "stream",
     "text": [
      "Epoch [66/100], Avg Loss: 1.2779\n",
      "Epoch [66/100], Avg Validation Loss: 1.2908\n"
     ]
    },
    {
     "name": "stderr",
     "output_type": "stream",
     "text": [
      "Epoch 67/100 (SSAE): 100%|██████████| 98/98 [01:11<00:00,  1.37it/s, loss=1.31]\n"
     ]
    },
    {
     "name": "stdout",
     "output_type": "stream",
     "text": [
      "Epoch [67/100], Avg Loss: 1.2780\n",
      "Epoch [67/100], Avg Validation Loss: 1.2909\n"
     ]
    },
    {
     "name": "stderr",
     "output_type": "stream",
     "text": [
      "Epoch 68/100 (SSAE): 100%|██████████| 98/98 [01:03<00:00,  1.55it/s, loss=1.27]\n"
     ]
    },
    {
     "name": "stdout",
     "output_type": "stream",
     "text": [
      "Epoch [68/100], Avg Loss: 1.2778\n",
      "Epoch [68/100], Avg Validation Loss: 1.2912\n"
     ]
    },
    {
     "name": "stderr",
     "output_type": "stream",
     "text": [
      "Epoch 69/100 (SSAE): 100%|██████████| 98/98 [01:10<00:00,  1.39it/s, loss=1.2] \n"
     ]
    },
    {
     "name": "stdout",
     "output_type": "stream",
     "text": [
      "Epoch [69/100], Avg Loss: 1.2771\n",
      "Epoch [69/100], Avg Validation Loss: 1.2943\n"
     ]
    },
    {
     "name": "stderr",
     "output_type": "stream",
     "text": [
      "Epoch 70/100 (SSAE): 100%|██████████| 98/98 [01:05<00:00,  1.50it/s, loss=1.32]\n"
     ]
    },
    {
     "name": "stdout",
     "output_type": "stream",
     "text": [
      "Epoch [70/100], Avg Loss: 1.2774\n",
      "Epoch [70/100], Avg Validation Loss: 1.2914\n"
     ]
    },
    {
     "name": "stderr",
     "output_type": "stream",
     "text": [
      "Epoch 71/100 (SSAE): 100%|██████████| 98/98 [01:10<00:00,  1.40it/s, loss=1.27]\n"
     ]
    },
    {
     "name": "stdout",
     "output_type": "stream",
     "text": [
      "Epoch [71/100], Avg Loss: 1.2759\n",
      "Epoch [71/100], Avg Validation Loss: 1.2919\n"
     ]
    },
    {
     "name": "stderr",
     "output_type": "stream",
     "text": [
      "Epoch 72/100 (SSAE): 100%|██████████| 98/98 [01:03<00:00,  1.55it/s, loss=1.29]\n"
     ]
    },
    {
     "name": "stdout",
     "output_type": "stream",
     "text": [
      "Epoch [72/100], Avg Loss: 1.2780\n",
      "Epoch [72/100], Avg Validation Loss: 1.2920\n"
     ]
    },
    {
     "name": "stderr",
     "output_type": "stream",
     "text": [
      "Epoch 73/100 (SSAE): 100%|██████████| 98/98 [01:11<00:00,  1.38it/s, loss=1.25]\n"
     ]
    },
    {
     "name": "stdout",
     "output_type": "stream",
     "text": [
      "Epoch [73/100], Avg Loss: 1.2785\n",
      "Epoch [73/100], Avg Validation Loss: 1.2898\n"
     ]
    },
    {
     "name": "stderr",
     "output_type": "stream",
     "text": [
      "Epoch 74/100 (SSAE): 100%|██████████| 98/98 [01:03<00:00,  1.53it/s, loss=1.29]\n"
     ]
    },
    {
     "name": "stdout",
     "output_type": "stream",
     "text": [
      "Epoch [74/100], Avg Loss: 1.2762\n",
      "Epoch [74/100], Avg Validation Loss: 1.2910\n"
     ]
    },
    {
     "name": "stderr",
     "output_type": "stream",
     "text": [
      "Epoch 75/100 (SSAE): 100%|██████████| 98/98 [01:13<00:00,  1.34it/s, loss=1.22]\n"
     ]
    },
    {
     "name": "stdout",
     "output_type": "stream",
     "text": [
      "Epoch [75/100], Avg Loss: 1.2766\n",
      "Epoch [75/100], Avg Validation Loss: 1.2911\n"
     ]
    },
    {
     "name": "stderr",
     "output_type": "stream",
     "text": [
      "Epoch 76/100 (SSAE): 100%|██████████| 98/98 [01:03<00:00,  1.55it/s, loss=1.28]\n"
     ]
    },
    {
     "name": "stdout",
     "output_type": "stream",
     "text": [
      "Epoch [76/100], Avg Loss: 1.2766\n",
      "Epoch [76/100], Avg Validation Loss: 1.2935\n"
     ]
    },
    {
     "name": "stderr",
     "output_type": "stream",
     "text": [
      "Epoch 77/100 (SSAE): 100%|██████████| 98/98 [01:10<00:00,  1.39it/s, loss=1.28]\n"
     ]
    },
    {
     "name": "stdout",
     "output_type": "stream",
     "text": [
      "Epoch [77/100], Avg Loss: 1.2768\n",
      "Epoch [77/100], Avg Validation Loss: 1.2901\n"
     ]
    },
    {
     "name": "stderr",
     "output_type": "stream",
     "text": [
      "Epoch 78/100 (SSAE): 100%|██████████| 98/98 [01:05<00:00,  1.50it/s, loss=1.23]\n"
     ]
    },
    {
     "name": "stdout",
     "output_type": "stream",
     "text": [
      "Epoch [78/100], Avg Loss: 1.2753\n",
      "Epoch [78/100], Avg Validation Loss: 1.2905\n"
     ]
    },
    {
     "name": "stderr",
     "output_type": "stream",
     "text": [
      "Epoch 79/100 (SSAE): 100%|██████████| 98/98 [01:10<00:00,  1.39it/s, loss=1.26]\n"
     ]
    },
    {
     "name": "stdout",
     "output_type": "stream",
     "text": [
      "Epoch [79/100], Avg Loss: 1.2770\n",
      "Epoch [79/100], Avg Validation Loss: 1.2905\n"
     ]
    },
    {
     "name": "stderr",
     "output_type": "stream",
     "text": [
      "Epoch 80/100 (SSAE): 100%|██████████| 98/98 [01:05<00:00,  1.50it/s, loss=1.32]\n"
     ]
    },
    {
     "name": "stdout",
     "output_type": "stream",
     "text": [
      "Epoch [80/100], Avg Loss: 1.2784\n",
      "Epoch [80/100], Avg Validation Loss: 1.2887\n"
     ]
    },
    {
     "name": "stderr",
     "output_type": "stream",
     "text": [
      "Epoch 81/100 (SSAE): 100%|██████████| 98/98 [01:07<00:00,  1.44it/s, loss=1.26]\n"
     ]
    },
    {
     "name": "stdout",
     "output_type": "stream",
     "text": [
      "Epoch [81/100], Avg Loss: 1.2755\n",
      "Epoch [81/100], Avg Validation Loss: 1.2914\n"
     ]
    },
    {
     "name": "stderr",
     "output_type": "stream",
     "text": [
      "Epoch 82/100 (SSAE): 100%|██████████| 98/98 [01:06<00:00,  1.47it/s, loss=1.29]\n"
     ]
    },
    {
     "name": "stdout",
     "output_type": "stream",
     "text": [
      "Epoch [82/100], Avg Loss: 1.2755\n",
      "Epoch [82/100], Avg Validation Loss: 1.2894\n"
     ]
    },
    {
     "name": "stderr",
     "output_type": "stream",
     "text": [
      "Epoch 83/100 (SSAE): 100%|██████████| 98/98 [01:11<00:00,  1.38it/s, loss=1.24]\n"
     ]
    },
    {
     "name": "stdout",
     "output_type": "stream",
     "text": [
      "Epoch [83/100], Avg Loss: 1.2764\n",
      "Epoch [83/100], Avg Validation Loss: 1.2881\n"
     ]
    },
    {
     "name": "stderr",
     "output_type": "stream",
     "text": [
      "Epoch 84/100 (SSAE): 100%|██████████| 98/98 [01:06<00:00,  1.47it/s, loss=1.33]\n"
     ]
    },
    {
     "name": "stdout",
     "output_type": "stream",
     "text": [
      "Epoch [84/100], Avg Loss: 1.2773\n",
      "Epoch [84/100], Avg Validation Loss: 1.2912\n"
     ]
    },
    {
     "name": "stderr",
     "output_type": "stream",
     "text": [
      "Epoch 85/100 (SSAE): 100%|██████████| 98/98 [01:09<00:00,  1.41it/s, loss=1.26]\n"
     ]
    },
    {
     "name": "stdout",
     "output_type": "stream",
     "text": [
      "Epoch [85/100], Avg Loss: 1.2767\n",
      "Epoch [85/100], Avg Validation Loss: 1.2908\n"
     ]
    },
    {
     "name": "stderr",
     "output_type": "stream",
     "text": [
      "Epoch 86/100 (SSAE): 100%|██████████| 98/98 [01:05<00:00,  1.49it/s, loss=1.32]\n"
     ]
    },
    {
     "name": "stdout",
     "output_type": "stream",
     "text": [
      "Epoch [86/100], Avg Loss: 1.2756\n",
      "Epoch [86/100], Avg Validation Loss: 1.2905\n"
     ]
    },
    {
     "name": "stderr",
     "output_type": "stream",
     "text": [
      "Epoch 87/100 (SSAE): 100%|██████████| 98/98 [01:08<00:00,  1.44it/s, loss=1.33]\n"
     ]
    },
    {
     "name": "stdout",
     "output_type": "stream",
     "text": [
      "Epoch [87/100], Avg Loss: 1.2764\n",
      "Epoch [87/100], Avg Validation Loss: 1.2943\n"
     ]
    },
    {
     "name": "stderr",
     "output_type": "stream",
     "text": [
      "Epoch 88/100 (SSAE): 100%|██████████| 98/98 [01:06<00:00,  1.48it/s, loss=1.28]\n"
     ]
    },
    {
     "name": "stdout",
     "output_type": "stream",
     "text": [
      "Epoch [88/100], Avg Loss: 1.2766\n",
      "Epoch [88/100], Avg Validation Loss: 1.2887\n"
     ]
    },
    {
     "name": "stderr",
     "output_type": "stream",
     "text": [
      "Epoch 89/100 (SSAE): 100%|██████████| 98/98 [01:08<00:00,  1.44it/s, loss=1.29]\n"
     ]
    },
    {
     "name": "stdout",
     "output_type": "stream",
     "text": [
      "Epoch [89/100], Avg Loss: 1.2771\n",
      "Epoch [89/100], Avg Validation Loss: 1.2903\n"
     ]
    },
    {
     "name": "stderr",
     "output_type": "stream",
     "text": [
      "Epoch 90/100 (SSAE): 100%|██████████| 98/98 [01:08<00:00,  1.44it/s, loss=1.27]\n"
     ]
    },
    {
     "name": "stdout",
     "output_type": "stream",
     "text": [
      "Epoch [90/100], Avg Loss: 1.2764\n",
      "Epoch [90/100], Avg Validation Loss: 1.2919\n"
     ]
    },
    {
     "name": "stderr",
     "output_type": "stream",
     "text": [
      "Epoch 91/100 (SSAE): 100%|██████████| 98/98 [01:05<00:00,  1.51it/s, loss=1.26]\n"
     ]
    },
    {
     "name": "stdout",
     "output_type": "stream",
     "text": [
      "Epoch [91/100], Avg Loss: 1.2762\n",
      "Epoch [91/100], Avg Validation Loss: 1.2889\n"
     ]
    },
    {
     "name": "stderr",
     "output_type": "stream",
     "text": [
      "Epoch 92/100 (SSAE): 100%|██████████| 98/98 [01:09<00:00,  1.41it/s, loss=1.18]\n"
     ]
    },
    {
     "name": "stdout",
     "output_type": "stream",
     "text": [
      "Epoch [92/100], Avg Loss: 1.2758\n",
      "Epoch [92/100], Avg Validation Loss: 1.2929\n"
     ]
    },
    {
     "name": "stderr",
     "output_type": "stream",
     "text": [
      "Epoch 93/100 (SSAE): 100%|██████████| 98/98 [01:05<00:00,  1.49it/s, loss=1.27]\n"
     ]
    },
    {
     "name": "stdout",
     "output_type": "stream",
     "text": [
      "Epoch [93/100], Avg Loss: 1.2766\n",
      "Epoch [93/100], Avg Validation Loss: 1.2890\n"
     ]
    },
    {
     "name": "stderr",
     "output_type": "stream",
     "text": [
      "Epoch 94/100 (SSAE): 100%|██████████| 98/98 [01:07<00:00,  1.45it/s, loss=1.33]\n"
     ]
    },
    {
     "name": "stdout",
     "output_type": "stream",
     "text": [
      "Epoch [94/100], Avg Loss: 1.2762\n",
      "Epoch [94/100], Avg Validation Loss: 1.2896\n"
     ]
    },
    {
     "name": "stderr",
     "output_type": "stream",
     "text": [
      "Epoch 95/100 (SSAE): 100%|██████████| 98/98 [01:07<00:00,  1.45it/s, loss=1.22]\n"
     ]
    },
    {
     "name": "stdout",
     "output_type": "stream",
     "text": [
      "Epoch [95/100], Avg Loss: 1.2768\n",
      "Epoch [95/100], Avg Validation Loss: 1.2870\n",
      "Validation loss improved. Saving the best model at epoch 95.\n"
     ]
    },
    {
     "name": "stderr",
     "output_type": "stream",
     "text": [
      "Epoch 96/100 (SSAE): 100%|██████████| 98/98 [01:09<00:00,  1.42it/s, loss=1.28]\n"
     ]
    },
    {
     "name": "stdout",
     "output_type": "stream",
     "text": [
      "Epoch [96/100], Avg Loss: 1.2769\n",
      "Epoch [96/100], Avg Validation Loss: 1.2945\n"
     ]
    },
    {
     "name": "stderr",
     "output_type": "stream",
     "text": [
      "Epoch 97/100 (SSAE): 100%|██████████| 98/98 [01:03<00:00,  1.55it/s, loss=1.24]\n"
     ]
    },
    {
     "name": "stdout",
     "output_type": "stream",
     "text": [
      "Epoch [97/100], Avg Loss: 1.2774\n",
      "Epoch [97/100], Avg Validation Loss: 1.2941\n"
     ]
    },
    {
     "name": "stderr",
     "output_type": "stream",
     "text": [
      "Epoch 98/100 (SSAE): 100%|██████████| 98/98 [01:12<00:00,  1.34it/s, loss=1.32]\n"
     ]
    },
    {
     "name": "stdout",
     "output_type": "stream",
     "text": [
      "Epoch [98/100], Avg Loss: 1.2774\n",
      "Epoch [98/100], Avg Validation Loss: 1.2928\n"
     ]
    },
    {
     "name": "stderr",
     "output_type": "stream",
     "text": [
      "Epoch 99/100 (SSAE): 100%|██████████| 98/98 [01:04<00:00,  1.53it/s, loss=1.28]\n"
     ]
    },
    {
     "name": "stdout",
     "output_type": "stream",
     "text": [
      "Epoch [99/100], Avg Loss: 1.2775\n",
      "Epoch [99/100], Avg Validation Loss: 1.2896\n"
     ]
    },
    {
     "name": "stderr",
     "output_type": "stream",
     "text": [
      "Epoch 100/100 (SSAE): 100%|██████████| 98/98 [01:09<00:00,  1.42it/s, loss=1.24]\n"
     ]
    },
    {
     "name": "stdout",
     "output_type": "stream",
     "text": [
      "Epoch [100/100], Avg Loss: 1.2779\n",
      "Epoch [100/100], Avg Validation Loss: 1.2895\n"
     ]
    }
   ],
   "source": [
    "# List to store loss values for plotting\n",
    "loss_values = []\n",
    "val_loss_values = []\n",
    "\n",
    "# variable initialization to store the best validation loss\n",
    "best_val_loss = float('inf')\n",
    "\n",
    "for epoch in range(100):\n",
    "    model.train()  # model in training mode\n",
    "    total_loss = 0\n",
    "    \n",
    "    # tqdm progress bar\n",
    "    progress_bar = tqdm(train_loader, desc=f\"Epoch {epoch+1}/100 (SSAE)\")\n",
    "    \n",
    "    for images, labels in progress_bar:\n",
    "        images, labels = images.to(device), labels.to(device)\n",
    "        # Flatten the images for the autoencoder\n",
    "        # images = images.view(-1, 3*32*32)\n",
    "        \n",
    "        # Forward pass\n",
    "        outputs = model(images)\n",
    "        \n",
    "        # Calculate loss\n",
    "        loss = model.semi_supervised_loss(images, outputs, labels)\n",
    "        \n",
    "        # Backward pass and optimize\n",
    "        optimizer.zero_grad()\n",
    "        loss.backward()\n",
    "        optimizer.step()\n",
    "        \n",
    "        total_loss += loss.item()\n",
    "        \n",
    "        # Update tqdm progress bar with the current loss\n",
    "        progress_bar.set_postfix(loss=loss.item())\n",
    "    \n",
    "    # Calculate the average loss for this epoch\n",
    "    avg_loss = total_loss / len(train_loader)\n",
    "    loss_values.append(avg_loss)\n",
    "    \n",
    "    # Print the average loss for the current epoch\n",
    "    print(f\"Epoch [{epoch+1}/100], Avg Loss: {avg_loss:.4f}\")\n",
    "    \n",
    "    \n",
    "    # --- Validation loop ---\n",
    "    model.eval()  # Set the model to evaluation mode\n",
    "    total_val_loss = 0\n",
    "    \n",
    "    with torch.no_grad():  # Disable gradient calculations during validation\n",
    "        for val_images, val_labels in val_loader:\n",
    "\n",
    "            val_images, val_labels = val_images.to(device), val_labels.to(device)\n",
    "            \n",
    "            # Flatten the validation images\n",
    "            # val_images = val_images.view(-1, 3*32*32)\n",
    "            \n",
    "            # Forward pass\n",
    "            val_outputs = model(val_images)\n",
    "            \n",
    "            # Calculate validation loss\n",
    "            val_loss = model.semi_supervised_loss(val_images, val_outputs, val_labels)\n",
    "            total_val_loss += val_loss.item()\n",
    "    \n",
    "    # Calculate the average validation loss for this epoch\n",
    "    avg_val_loss = total_val_loss / len(val_loader)\n",
    "    val_loss_values.append(avg_val_loss)\n",
    "\n",
    "    # Print the average validation loss for the current epoch\n",
    "    print(f\"Epoch [{epoch+1}/100], Avg Validation Loss: {avg_val_loss:.4f}\")\n",
    "\n",
    "    # Step the scheduler with the validation loss\n",
    "    scheduler.step(val_loss)\n",
    "    \n",
    "    # --- Model selection based on validation loss ---\n",
    "    if avg_val_loss < best_val_loss and (epoch+1) % 5 == 0:\n",
    "        best_val_loss = avg_val_loss\n",
    "        print(f\"Validation loss improved. Saving the best model at epoch {epoch+1}.\")\n",
    "        torch.save(model.state_dict(), f'model_ssae_resnet_cifar100/best_model_epoch_{epoch+1}.pth')\n",
    "    \n",
    "    # Save the model after each epoch\n",
    "    # torch.save(model.state_dict(), f'model_ssae_cifar100/ssae_cifar_epoch_{epoch+1}.pth')\n"
   ]
  },
  {
   "cell_type": "code",
   "execution_count": 13,
   "metadata": {},
   "outputs": [
    {
     "data": {
      "image/png": "[encoded data removed]",
      "text/plain": [
       "<Figure size 640x480 with 1 Axes>"
      ]
     },
     "metadata": {},
     "output_type": "display_data"
    }
   ],
   "source": [
    "# Plot both training and validation losses\n",
    "plt.plot(loss_values, label=\"Training Loss\")\n",
    "plt.plot(val_loss_values, label=\"Validation Loss\")\n",
    "plt.xlabel('Epochs')\n",
    "plt.ylabel('Loss')\n",
    "plt.title('Training and Validation Loss over Time')\n",
    "plt.legend()\n",
    "plt.show()"
   ]
  },
  {
   "cell_type": "code",
   "execution_count": 14,
   "metadata": {},
   "outputs": [],
   "source": [
    "def visualize_reconstruction(model, dataset, num_samples=10, device='cuda'):\n",
    "    # model.eval()  # Set the model to evaluation mode\n",
    "    model.load_state_dict(torch.load('model_ssae_resnet_cifar100/best_model_epoch_95.pth'))\n",
    "    model.eval()\n",
    "\n",
    "    model.to(device)\n",
    "    \n",
    "    fig, axes = plt.subplots(2, num_samples, figsize=(20, 5))\n",
    "    \n",
    "    for i in range(num_samples):\n",
    "        # Get a sample from the dataset\n",
    "        img, label = dataset[i]\n",
    "        # img, label = img.to(device), label.to(device)\n",
    "        # img = img.view(1, -1).to(device)  # Flatten image\n",
    "        img = img.unsqueeze(0).to(device)  # Add a batch dimension (1, 3, 32, 32)\n",
    "        \n",
    "        # Forward pass to get the reconstruction\n",
    "        with torch.no_grad():\n",
    "            img = img.to(device)\n",
    "            reconstructed_img = model(img)\n",
    "\n",
    "        # Reshape images back to 28x28 for visualization\n",
    "        # img = img.view(28, 28)\n",
    "        # reconstructed_img = reconstructed_img.view(28, 28)\n",
    "        \n",
    "        # Reshape images back to 32x32 with 3 channels for visualization\n",
    "        img = img.squeeze().permute(1, 2, 0).cpu().numpy()  # Convert from (C, H, W) to (H, W, C) format\n",
    "        reconstructed_img = reconstructed_img.squeeze().permute(1, 2, 0).cpu().numpy()  # Reshape and permute back\n",
    "\n",
    "        \n",
    "        # Plot original image\n",
    "        axes[0, i].imshow(img, cmap='gray')\n",
    "        axes[0, i].set_title(f\"Original: {'Normal' if label == 0 else 'Abnormal'}\")\n",
    "        axes[0, i].axis('off')\n",
    "        \n",
    "        # Plot reconstructed image\n",
    "        axes[1, i].imshow(reconstructed_img, cmap='gray')\n",
    "        axes[1, i].set_title(\"Reconstructed\")\n",
    "        axes[1, i].axis('off')\n",
    "    \n",
    "    plt.show()"
   ]
  },
  {
   "cell_type": "code",
   "execution_count": 15,
   "metadata": {},
   "outputs": [
    {
     "data": {
      "image/png": "[encoded data removed]",
      "text/plain": [
       "<Figure size 2000x500 with 20 Axes>"
      ]
     },
     "metadata": {},
     "output_type": "display_data"
    }
   ],
   "source": [
    "visualize_reconstruction(model, train_dataset, device=device)"
   ]
  },
  {
   "cell_type": "code",
   "execution_count": null,
   "metadata": {},
   "outputs": [],
   "source": []
  }
 ],
 "metadata": {
  "kernelspec": {
   "display_name": "test",
   "language": "python",
   "name": "python3"
  },
  "language_info": {
   "codemirror_mode": {
    "name": "ipython",
    "version": 3
   },
   "file_extension": ".py",
   "mimetype": "text/x-python",
   "name": "python",
   "nbconvert_exporter": "python",
   "pygments_lexer": "ipython3",
   "version": "3.10.13"
  }
 },
 "nbformat": 4,
 "nbformat_minor": 2
}
