{
 "cells": [
  {
   "cell_type": "code",
   "execution_count": 5,
   "metadata": {},
   "outputs": [
    {
     "name": "stdout",
     "output_type": "stream",
     "text": [
      "/home/sameerhashmi36/Documents/AVS7/ipcv_mini_project_avs7/mvtec_anomaly_detection_scipt/testing\n"
     ]
    }
   ],
   "source": [
    "import os\n",
    "import sys\n",
    "from tqdm import tqdm\n",
    "\n",
    "sys.path.append(os.path.abspath(os.path.join(os.getcwd(), \"..\")))\n",
    "\n",
    "print(os.getcwd())\n",
    "\n",
    "import torch\n",
    "import torch.nn as nn\n",
    "import torchvision.transforms as T\n",
    "from model.resnet_enc_dec_model import ResNetEncDec\n",
    "from datasets_utils.dataset_class import DynamicMVTecDataset\n",
    "from datasets_utils.dataset_split import split_dataset\n",
    "from datasets_utils.dataset_transform import get_transforms\n",
    "from torch.utils.data import DataLoader\n",
    "import matplotlib.pylab as plt\n",
    "import random\n",
    "from torch.utils.data import Dataset\n",
    "from PIL import Image\n",
    "\n",
    "device = \"cuda\" if torch.cuda.is_available() else \"cpu\""
   ]
  },
  {
   "cell_type": "code",
   "execution_count": 6,
   "metadata": {},
   "outputs": [],
   "source": [
    "# Data transform\n",
    "transform = T.Compose([\n",
    "    T.Resize((256, 256)),\n",
    "    T.ToTensor(),\n",
    "])"
   ]
  },
  {
   "cell_type": "code",
   "execution_count": 7,
   "metadata": {},
   "outputs": [],
   "source": [
    "dataset = DynamicMVTecDataset(good_image_dir=\"../../datasets/mvtec/bottle/train/good/\", transform=transform)\n",
    "_, val_data = split_dataset(dataset=dataset)"
   ]
  },
  {
   "cell_type": "code",
   "execution_count": 8,
   "metadata": {},
   "outputs": [],
   "source": [
    "val_loader = DataLoader(val_data, batch_size=32, shuffle=False, num_workers=4)"
   ]
  },
  {
   "cell_type": "code",
   "execution_count": 9,
   "metadata": {},
   "outputs": [],
   "source": [
    "\n",
    "def load_trained_model(checkpoint_path, device):\n",
    "    \"\"\"\n",
    "    Load the trained model from a checkpoint.\n",
    "\n",
    "    Parameters:\n",
    "    - checkpoint_path: Path to the saved model checkpoint.\n",
    "    - device: The device to map the model to.\n",
    "\n",
    "    Returns:\n",
    "    - model: The trained model in evaluation mode.\n",
    "    \"\"\"\n",
    "    model = ResNetEncDec().to(device)\n",
    "    checkpoint = torch.load(checkpoint_path, map_location=device)\n",
    "    model.load_state_dict(checkpoint['model_state_dict'])\n",
    "    model.eval()  # Set the model to evaluation mode\n",
    "    return model"
   ]
  },
  {
   "cell_type": "code",
   "execution_count": 10,
   "metadata": {},
   "outputs": [],
   "source": [
    "def test_model(model, test_loader, criterion, device):\n",
    "    \"\"\"\n",
    "    Evaluate the model on a test dataset.\n",
    "\n",
    "    Parameters:\n",
    "    - model: The trained model.\n",
    "    - test_loader: DataLoader for the test dataset.\n",
    "    - criterion: Loss function (e.g., BCE loss).\n",
    "    - device: The device to perform evaluation on.\n",
    "\n",
    "    Returns:\n",
    "    - avg_loss: Average test loss.\n",
    "    \"\"\"\n",
    "    model.eval()\n",
    "    total_loss = 0.0\n",
    "    with torch.no_grad():\n",
    "        for images, masks, labels in tqdm(test_loader, desc=\"Testing\"):\n",
    "            images, masks = images.to(device), masks.to(device)\n",
    "\n",
    "            # Forward pass\n",
    "            decoded, _ = model(images)\n",
    "            decoded = torch.sigmoid(decoded)\n",
    "\n",
    "            # Compute loss\n",
    "            loss = criterion(decoded, masks)\n",
    "            total_loss += loss.item()\n",
    "    \n",
    "    avg_loss = total_loss / len(test_loader)\n",
    "    print(f\"Average Test Loss: {avg_loss:.4f}\")\n",
    "    return avg_loss"
   ]
  },
  {
   "cell_type": "code",
   "execution_count": 11,
   "metadata": {},
   "outputs": [],
   "source": [
    "def visualize_samples(model, test_loader, device, num_samples=10):\n",
    "    \"\"\"\n",
    "    Visualize random samples from the test dataset with predictions and ground truth masks.\n",
    "\n",
    "    Parameters:\n",
    "    - model: The trained model.\n",
    "    - test_loader: DataLoader for the test dataset.\n",
    "    - device: The device to perform inference on.\n",
    "    - num_samples: Number of samples to visualize.\n",
    "    \"\"\"\n",
    "    model.eval()\n",
    "    samples = random.sample(list(test_loader), num_samples)\n",
    "    # samples_count = 0\n",
    "\n",
    "    for images, masks, labels in samples:\n",
    "        images, masks = images.to(device), masks.to(device)\n",
    "\n",
    "        # Forward pass\n",
    "        with torch.no_grad():\n",
    "            decoded, _ = model(images)\n",
    "            decoded = torch.sigmoid(decoded)\n",
    "\n",
    "        # Convert tensors to numpy arrays\n",
    "        images = images.cpu().permute(0, 2, 3, 1).numpy()  # Rearrange dimensions for visualization\n",
    "        decoded = decoded.cpu().squeeze(1).numpy()\n",
    "        masks = masks.cpu().squeeze(1).numpy()\n",
    "\n",
    "        # Plot images, predictions, and masks\n",
    "        for i in range(len(images)):\n",
    "            plt.figure(figsize=(12, 4))\n",
    "            plt.subplot(1, 3, 1)\n",
    "            plt.imshow(images[i], cmap='gray')\n",
    "            plt.title(\"Input Image\")\n",
    "            plt.axis(\"off\")\n",
    "\n",
    "            plt.subplot(1, 3, 2)\n",
    "            plt.imshow(decoded[i], cmap='gray')\n",
    "            plt.title(\"Predicted Mask\")\n",
    "            plt.axis(\"off\")\n",
    "\n",
    "            plt.subplot(1, 3, 3)\n",
    "            plt.imshow(masks[i], cmap='gray')\n",
    "            plt.title(\"Ground Truth Mask\")\n",
    "            plt.axis(\"off\")\n",
    "\n",
    "            plt.tight_layout()\n",
    "            plt.show()\n",
    "\n",
    "            # samples_count += 1\n",
    "            # if samples_count >= num_samples:\n",
    "            #     return\n"
   ]
  },
  {
   "cell_type": "code",
   "execution_count": 12,
   "metadata": {},
   "outputs": [],
   "source": [
    "# Load trained model\n",
    "checkpoint_path = \"../experiments/experiment_01/checkpoints/model_epoch_20_valloss_0.1822.pth\"\n",
    "model = load_trained_model(checkpoint_path, device)"
   ]
  },
  {
   "cell_type": "code",
   "execution_count": 13,
   "metadata": {},
   "outputs": [],
   "source": [
    "# Criterion for loss calculation\n",
    "criterion = nn.BCELoss()"
   ]
  },
  {
   "cell_type": "code",
   "execution_count": 14,
   "metadata": {},
   "outputs": [
    {
     "name": "stderr",
     "output_type": "stream",
     "text": [
      "Testing: 100%|██████████| 4/4 [00:03<00:00,  1.19it/s]"
     ]
    },
    {
     "name": "stdout",
     "output_type": "stream",
     "text": [
      "Average Test Loss: 0.1707\n"
     ]
    },
    {
     "name": "stderr",
     "output_type": "stream",
     "text": [
      "\n"
     ]
    },
    {
     "data": {
      "text/plain": [
       "0.1706552505493164"
      ]
     },
     "execution_count": 14,
     "metadata": {},
     "output_type": "execute_result"
    }
   ],
   "source": [
    "# Test the model\n",
    "test_model(model, val_loader, criterion, device)"
   ]
  },
  {
   "cell_type": "code",
   "execution_count": null,
   "metadata": {},
   "outputs": [],
   "source": [
    "\n",
    "# Visualize random samples\n",
    "visualize_samples(model, val_loader, device, num_samples=1)"
   ]
  },
  {
   "cell_type": "code",
   "execution_count": 15,
   "metadata": {},
   "outputs": [],
   "source": [
    "class TestingMVTecDataset(Dataset):\n",
    "    def __init__(self, test_dir, ground_truth_dir, transform=None):\n",
    "        \"\"\"\n",
    "        Custom dataset for testing MVTec data.\n",
    "\n",
    "        Parameters:\n",
    "        - test_dir: Path to the test images folder.\n",
    "        - ground_truth_dir: Path to the ground truth masks folder.\n",
    "        - transform: Transformations to apply to the test images.\n",
    "        \"\"\"\n",
    "        self.test_dir = test_dir\n",
    "        self.ground_truth_dir = ground_truth_dir\n",
    "        self.transform = transform\n",
    "        self.data = []\n",
    "\n",
    "        # Iterate through all subfolders (broken_large, broken_small, contamination)\n",
    "        for subfolder in os.listdir(test_dir):\n",
    "            test_subfolder = os.path.join(test_dir, subfolder)\n",
    "            gt_subfolder = os.path.join(ground_truth_dir, subfolder)\n",
    "\n",
    "            if os.path.isdir(test_subfolder) and os.path.isdir(gt_subfolder):\n",
    "                for img_file in os.listdir(test_subfolder):\n",
    "                    if img_file.endswith(\".png\"):\n",
    "                        test_img_path = os.path.join(test_subfolder, img_file)\n",
    "                        gt_mask_path = os.path.join(gt_subfolder, img_file.replace(\".png\", \"_mask.png\"))\n",
    "                        \n",
    "                        # Only add entries where both test image and ground truth mask exist\n",
    "                        if os.path.isfile(test_img_path) and os.path.isfile(gt_mask_path):\n",
    "                            self.data.append((test_img_path, gt_mask_path))\n",
    "\n",
    "    def __len__(self):\n",
    "        return len(self.data)\n",
    "\n",
    "    def __getitem__(self, idx):\n",
    "        test_img_path, gt_mask_path = self.data[idx]\n",
    "\n",
    "        # Load test image\n",
    "        test_image = Image.open(test_img_path).convert(\"RGB\")\n",
    "\n",
    "        # Load ground truth mask\n",
    "        ground_truth_mask = Image.open(gt_mask_path).convert(\"L\")  # Grayscale for mask\n",
    "\n",
    "        # Apply transformations\n",
    "        if self.transform:\n",
    "            test_image = self.transform(test_image)\n",
    "            ground_truth_mask = self.transform(ground_truth_mask)\n",
    "\n",
    "        return test_image, ground_truth_mask, test_img_path\n"
   ]
  },
  {
   "cell_type": "code",
   "execution_count": 16,
   "metadata": {},
   "outputs": [
    {
     "name": "stdout",
     "output_type": "stream",
     "text": [
      "Number of test samples: 63\n"
     ]
    }
   ],
   "source": [
    "test_image_dir = \"../../datasets/mvtec/bottle/test/\"\n",
    "ground_truth_dir = \"../../datasets/mvtec/bottle/ground_truth\"\n",
    "\n",
    "test_dataset = TestingMVTecDataset(test_dir=test_image_dir, ground_truth_dir=ground_truth_dir, transform=transform)\n",
    "test_loader = DataLoader(test_dataset, batch_size=1, shuffle=False)\n",
    "\n",
    "print(f\"Number of test samples: {len(test_dataset)}\")"
   ]
  },
  {
   "cell_type": "code",
   "execution_count": 17,
   "metadata": {},
   "outputs": [
    {
     "name": "stderr",
     "output_type": "stream",
     "text": [
      "Testing: 100%|██████████| 63/63 [00:02<00:00, 21.17it/s]"
     ]
    },
    {
     "name": "stdout",
     "output_type": "stream",
     "text": [
      "Average Test Loss: 0.2000\n"
     ]
    },
    {
     "name": "stderr",
     "output_type": "stream",
     "text": [
      "\n"
     ]
    },
    {
     "data": {
      "text/plain": [
       "0.20003796345184718"
      ]
     },
     "execution_count": 17,
     "metadata": {},
     "output_type": "execute_result"
    }
   ],
   "source": [
    "# Test the model\n",
    "test_model(model, test_loader, criterion, device)"
   ]
  },
  {
   "cell_type": "code",
   "execution_count": null,
   "metadata": {},
   "outputs": [],
   "source": [
    "# Visualize random samples\n",
    "visualize_samples(model, test_loader, device, num_samples=4)"
   ]
  },
  {
   "cell_type": "code",
   "execution_count": 23,
   "metadata": {},
   "outputs": [],
   "source": [
    "import numpy as np\n",
    "from sklearn.metrics import roc_auc_score, confusion_matrix\n",
    "from sklearn.metrics import roc_curve"
   ]
  },
  {
   "cell_type": "code",
   "execution_count": 24,
   "metadata": {},
   "outputs": [],
   "source": [
    "def calculate_threshold(model, normal_loader, device):\n",
    "    \"\"\"\n",
    "    Calculate the white pixel threshold using Gaussian distribution or max pixel value.\n",
    "    \"\"\"\n",
    "    model.eval()\n",
    "    white_pixel_ratios = []\n",
    "\n",
    "    with torch.no_grad():\n",
    "        for images, masks, labels in tqdm(normal_loader, desc=\"Calculating Threshold\"):\n",
    "            images = images.to(device)\n",
    "\n",
    "            # Forward pass\n",
    "            decoded, _ = model(images)\n",
    "            decoded = torch.sigmoid(decoded)\n",
    "\n",
    "            # Convert the mask to binary and count white pixels\n",
    "            binary_mask = (decoded > 0.5).float()\n",
    "            white_pixel_ratio = binary_mask.mean().item()\n",
    "            white_pixel_ratios.append(white_pixel_ratio)\n",
    "\n",
    "    # Use Gaussian distribution to calculate threshold\n",
    "    white_pixel_ratios = np.array(white_pixel_ratios)\n",
    "    mean = np.mean(white_pixel_ratios)\n",
    "    std = np.std(white_pixel_ratios)\n",
    "    threshold = mean + 3 * std  # Set threshold to 3 standard deviations above the mean\n",
    "    print(f\"Threshold (Gaussian): {threshold:.4f}\")\n",
    "\n",
    "    return threshold\n"
   ]
  },
  {
   "cell_type": "code",
   "execution_count": 25,
   "metadata": {},
   "outputs": [],
   "source": [
    "def test_model_and_evaluate(model, test_loader, threshold, device):\n",
    "    \"\"\"\n",
    "    Evaluate the model on test data and calculate AUROC and confusion matrix.\n",
    "    \"\"\"\n",
    "    model.eval()\n",
    "    y_true = []  # Ground truth labels\n",
    "    y_scores = []  # Predicted scores (white pixel ratios)\n",
    "\n",
    "    with torch.no_grad():\n",
    "        for images, masks, labels in tqdm(test_loader, desc=\"Testing\"):\n",
    "            images = images.to(device)\n",
    "            masks = masks.to(device)\n",
    "\n",
    "            # Forward pass\n",
    "            decoded, _ = model(images)\n",
    "            decoded = torch.sigmoid(decoded)\n",
    "\n",
    "            # Convert predicted mask to binary and calculate white pixel ratio\n",
    "            binary_mask = (decoded > 0.5).float()\n",
    "            white_pixel_ratios = binary_mask.mean(dim=(1, 2, 3)).cpu().tolist()  # Mean white pixels per image\n",
    "\n",
    "            y_true.extend(labels.cpu().tolist())  # Append all labels in the batch\n",
    "            y_scores.extend(white_pixel_ratios)  # Append white pixel ratios for all images in the batch\n",
    "\n",
    "    # Calculate AUROC\n",
    "    auc_score = roc_auc_score(y_true, y_scores)\n",
    "    print(f\"AUROC: {auc_score:.4f}\")\n",
    "\n",
    "    # Calculate confusion matrix\n",
    "    y_pred = [1 if score > threshold else 0 for score in y_scores]\n",
    "    cm = confusion_matrix(y_true, y_pred)\n",
    "    print(\"Confusion Matrix:\")\n",
    "    print(cm)\n",
    "\n",
    "    # Plot ROC curve\n",
    "    from sklearn.metrics import roc_curve\n",
    "    fpr, tpr, _ = roc_curve(y_true, y_scores)\n",
    "\n",
    "    plt.figure(figsize=(8, 6))\n",
    "    plt.plot(fpr, tpr, label=f\"ROC Curve (AUC = {auc_score:.4f})\")\n",
    "    plt.plot([0, 1], [0, 1], \"k--\", label=\"Random Guess\")\n",
    "    plt.xlabel(\"False Positive Rate\")\n",
    "    plt.ylabel(\"True Positive Rate\")\n",
    "    plt.title(\"ROC Curve\")\n",
    "    plt.legend()\n",
    "    plt.grid()\n",
    "    plt.show()\n",
    "\n",
    "    return auc_score, cm\n"
   ]
  },
  {
   "cell_type": "code",
   "execution_count": 26,
   "metadata": {},
   "outputs": [
    {
     "name": "stderr",
     "output_type": "stream",
     "text": [
      "Calculating Threshold: 100%|██████████| 418/418 [00:10<00:00, 41.52it/s]"
     ]
    },
    {
     "name": "stdout",
     "output_type": "stream",
     "text": [
      "Threshold (Gaussian): 0.3072\n"
     ]
    },
    {
     "name": "stderr",
     "output_type": "stream",
     "text": [
      "\n"
     ]
    }
   ],
   "source": [
    "# Calculate threshold using normal samples\n",
    "normal_loader = DataLoader(dataset, batch_size=1, shuffle=False, num_workers=4)\n",
    "threshold = calculate_threshold(model, normal_loader, device)"
   ]
  },
  {
   "cell_type": "code",
   "execution_count": 27,
   "metadata": {},
   "outputs": [
    {
     "name": "stderr",
     "output_type": "stream",
     "text": [
      "Testing: 100%|██████████| 4/4 [00:02<00:00,  1.75it/s]\n"
     ]
    },
    {
     "name": "stdout",
     "output_type": "stream",
     "text": [
      "AUROC: 0.9694\n",
      "Confusion Matrix:\n",
      "[[56  0]\n",
      " [49  0]]\n"
     ]
    },
    {
     "data": {
      "image/png": "[encoded data removed]",
      "text/plain": [
       "<Figure size 800x600 with 1 Axes>"
      ]
     },
     "metadata": {},
     "output_type": "display_data"
    }
   ],
   "source": [
    "auc_score, cm = test_model_and_evaluate(model, val_loader, threshold, device)"
   ]
  },
  {
   "cell_type": "code",
   "execution_count": null,
   "metadata": {},
   "outputs": [],
   "source": []
  }
 ],
 "metadata": {
  "kernelspec": {
   "display_name": "test",
   "language": "python",
   "name": "python3"
  },
  "language_info": {
   "codemirror_mode": {
    "name": "ipython",
    "version": 3
   },
   "file_extension": ".py",
   "mimetype": "text/x-python",
   "name": "python",
   "nbconvert_exporter": "python",
   "pygments_lexer": "ipython3",
   "version": "3.10.13"
  }
 },
 "nbformat": 4,
 "nbformat_minor": 2
}
